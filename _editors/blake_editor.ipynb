{
 "cells": [
  {
   "cell_type": "code",
   "execution_count": 1,
   "id": "d1875133-6d21-4cea-b817-e8bf4b8dab41",
   "metadata": {},
   "outputs": [],
   "source": [
    "import regex as re"
   ]
  },
  {
   "cell_type": "code",
   "execution_count": 2,
   "id": "22ea1653-e183-4add-b2af-f502f0697830",
   "metadata": {},
   "outputs": [],
   "source": [
    "file_name = '/users/thomas/desktop/repos/poetry/_raw/blake_raw.txt'"
   ]
  },
  {
   "cell_type": "code",
   "execution_count": 3,
   "id": "5cdb34ad-8e42-417f-b9a2-e38163a2d794",
   "metadata": {},
   "outputs": [],
   "source": [
    "with open(file_name,'r+') as f:\n",
    "    text = f.read()"
   ]
  },
  {
   "cell_type": "code",
   "execution_count": 4,
   "id": "496c5b95-94b7-4d6a-a606-3388c6bd5daa",
   "metadata": {},
   "outputs": [],
   "source": [
    "#text"
   ]
  },
  {
   "cell_type": "code",
   "execution_count": 5,
   "id": "d5a84e3a-1b3c-4b47-ae41-52c00eae969f",
   "metadata": {},
   "outputs": [],
   "source": [
    "capture_title_expr = r'\\n\\ *([A-Z][A-ZÀ-Ú, ,\\',\\-]{2,})\\n'\n",
    "\n",
    "title_expr = r'\\n\\ *[A-Z][A-ZÀ-Ú, ,\\',\\-]{2,}\\n'\n",
    "\n",
    "front_matter, body = text.split('\\n###\\n')\n",
    "body = re.sub(capture_title_expr,r'\\n\\1\\n',body)"
   ]
  },
  {
   "cell_type": "code",
   "execution_count": 6,
   "id": "5599cf66-9e6d-4097-81d8-22785c686f37",
   "metadata": {},
   "outputs": [],
   "source": [
    "body = re.sub('\\n(.)',r'\\n    \\1',body)"
   ]
  },
  {
   "cell_type": "code",
   "execution_count": 7,
   "id": "a98b5bab-b161-418a-996e-71f7e3d73a3c",
   "metadata": {},
   "outputs": [
    {
     "name": "stdout",
     "output_type": "stream",
     "text": [
      "\n",
      "\n",
      "    SONGS OF INNOCENCE\n",
      "\n",
      "       Piping down the valleys wild,\n",
      "         Piping songs of pleasant gle\n"
     ]
    }
   ],
   "source": [
    "print(body[:100])"
   ]
  },
  {
   "cell_type": "code",
   "execution_count": 8,
   "id": "83864c6d-2e63-405b-b5ec-0bb143e55bce",
   "metadata": {},
   "outputs": [],
   "source": [
    "#body = re.sub(r'[\\[,\\]]','',body)"
   ]
  },
  {
   "cell_type": "code",
   "execution_count": 9,
   "id": "be95f36c-25c5-46d9-a15d-47d7582fbdfb",
   "metadata": {},
   "outputs": [],
   "source": [
    "#body = re.sub(r'\\nPoems.*\\n',r'',body)\n",
    "#body = re.sub(r'\\n\\ *\\(?[A-Z]*\\.\\ [0-9]*\\)?\\.\\n',r'',body)"
   ]
  },
  {
   "cell_type": "code",
   "execution_count": null,
   "id": "caaca143-258f-4454-9df4-b61eddd3b58e",
   "metadata": {},
   "outputs": [],
   "source": []
  },
  {
   "cell_type": "code",
   "execution_count": 10,
   "id": "6d795ae2-cd72-4162-a181-0706f374b04c",
   "metadata": {},
   "outputs": [
    {
     "data": {
      "text/plain": [
       "(54, 54)"
      ]
     },
     "execution_count": 10,
     "metadata": {},
     "output_type": "execute_result"
    }
   ],
   "source": [
    "import numpy as np\n",
    "\n",
    "titles = np.array([s.upper() for s in re.findall(capture_title_expr, body)])\n",
    "poems = re.split(title_expr,body)[1:] # the first one is an empty string\n",
    "\n",
    "len(titles), len(poems)"
   ]
  },
  {
   "cell_type": "code",
   "execution_count": 11,
   "id": "1762959b-54b7-443d-aea0-8066274c765a",
   "metadata": {},
   "outputs": [],
   "source": [
    "for unique_title in np.unique(titles):\n",
    "    \n",
    "    title_index = np.where(titles==unique_title)[0]\n",
    "    \n",
    "    if len(title_index) > 1:\n",
    "        for ii,i in enumerate(title_index):\n",
    "            titles[i] += ' ' + f'_{ii+1}_'"
   ]
  },
  {
   "cell_type": "code",
   "execution_count": null,
   "id": "831d3818-58bc-42fc-a74b-0ad4b00e57cf",
   "metadata": {},
   "outputs": [],
   "source": []
  },
  {
   "cell_type": "code",
   "execution_count": 12,
   "id": "8639e150-aa29-4c3f-8b3e-b879c3141dbd",
   "metadata": {},
   "outputs": [],
   "source": [
    "#titles"
   ]
  },
  {
   "cell_type": "code",
   "execution_count": 13,
   "id": "3fc6af65-676e-4478-ba6c-1bb70914dc32",
   "metadata": {},
   "outputs": [],
   "source": [
    "final  = ''\n",
    "final += front_matter + '\\n###\\n\\n'\n",
    "\n",
    "poems_dict = {}\n",
    "\n",
    "for i, (title, poem) in enumerate(zip(titles,poems)):\n",
    "        \n",
    "    poem = poem.strip('\\n')\n",
    "    poems_dict[title.upper()] = poem"
   ]
  },
  {
   "cell_type": "code",
   "execution_count": 41,
   "id": "870b60d4-0695-4436-9c87-3d70e4d988bd",
   "metadata": {},
   "outputs": [
    {
     "name": "stdout",
     "output_type": "stream",
     "text": [
      "THE ARGUMENT\n",
      "        Rintrah roars and shakes his fires in the burden'd air,\n",
      "        Hungry clouds swag on the deep.\n",
      "\n",
      "        Once meek, and in a perilous path\n",
      "        The just man kept his course along\n",
      "        The Vale of Death.\n",
      "        Roses are planted where thorns grow,\n",
      "        And on the barren heath\n",
      "        Sing the honey bees.\n",
      "\n",
      "        Then the perilous path was planted,\n",
      "        And a river and a spring\n",
      "        On every cliff and tomb;\n",
      "        And on the bleached bones\n",
      "        Red clay brought forth:\n",
      "        Till the villain left the paths of ease\n",
      "        To walk in perilous paths, and drive\n",
      "        The just man into barren climes.\n",
      "\n",
      "        Now the sneaking serpent walks\n",
      "        In mild humility;\n",
      "        And the just man rages in the wilds\n",
      "        Where lions roam.\n",
      "\n",
      "        Rintrah roars and shakes his fires in the burden'd air,\n",
      "        Hungry clouds swag on the deep.\n"
     ]
    },
    {
     "data": {
      "text/plain": [
       "(None, None)"
      ]
     },
     "execution_count": 41,
     "metadata": {},
     "output_type": "execute_result"
    }
   ],
   "source": [
    "import numpy as np\n",
    "title = np.random.choice(titles)\n",
    "print(title),print(poems_dict[title])\n"
   ]
  },
  {
   "cell_type": "code",
   "execution_count": 15,
   "id": "550c6562-fff6-4a98-be78-3463cf11a5ec",
   "metadata": {},
   "outputs": [
    {
     "data": {
      "text/plain": [
       "'       In futurity\\n       I prophetic see\\n       That the earth from sleep\\n       (Grave the sentence deep)\\n\\n       Shall arise, and seek\\n       for her Maker meek;\\n       And the desert wild\\n       Become a garden mild.\\n\\n       In the southern clime,\\n       Where the summer\\'s prime\\n       Never fades away,\\n       Lovely Lyca lay.\\n\\n       Seven summers old\\n       Lovely Lyca told.\\n       She had wandered long,\\n       Hearing wild birds\\' song.\\n\\n       \"Sweet sleep, come to me\\n       Underneath this tree;\\n       Do father, mother, weep?\\n       Where can Lyca sleep?\\n\\n       \"Lost in desert wild\\n       Is your little child.\\n       How can Lyca sleep\\n       If her mother weep?\\n\\n       \"If her heart does ache,\\n       Then let Lyca wake;\\n       If my mother sleep,\\n       Lyca shall not weep.\\n\\n       \"Frowning, frowning night,\\n       O\\'er this desert bright\\n       Let thy moon arise,\\n       While I close my eyes.\"\\n\\n       Sleeping Lyca lay\\n       While the beasts of prey,\\n       Come from caverns deep,\\n       Viewed the maid asleep.\\n\\n       The kingly lion stood,\\n       And the virgin viewed:\\n       Then he gambolled round\\n       O\\'er the hallowed ground.\\n\\n       Leopards, tigers, play\\n       Round her as she lay;\\n       While the lion old\\n       Bowed his mane of gold,\\n\\n       And her breast did lick\\n       And upon her neck,\\n       From his eyes of flame,\\n       Ruby tears there came;\\n\\n       While the lioness\\n       Loosed her slender dress,\\n       And naked they conveyed\\n       To caves the sleeping maid.'"
      ]
     },
     "execution_count": 15,
     "metadata": {},
     "output_type": "execute_result"
    }
   ],
   "source": [
    "poems_dict[title]"
   ]
  },
  {
   "cell_type": "code",
   "execution_count": 16,
   "id": "5e0fa9fe-b564-4577-b35d-78f6f179cfd1",
   "metadata": {},
   "outputs": [],
   "source": [
    "text = ''\n",
    "\n",
    "text += 'William Blake (1757-1827) [https://en.wikipedia.org/wiki/William_Blake]'\n",
    "text += '\\n\\n###\\n\\n'\n",
    "\n",
    "for title in titles:\n",
    "    text += '~' + title + '~'\n",
    "    text += '\\n\\n'\n",
    "    text += poems_dict[title]\n",
    "    text += '\\n\\n\\n'\n",
    "        \n",
    "#print(text[:2000])"
   ]
  },
  {
   "cell_type": "code",
   "execution_count": 17,
   "id": "f59e720d-d781-4dba-9245-49d1c6b07bec",
   "metadata": {},
   "outputs": [],
   "source": [
    "import json\n",
    "\n",
    "with open('../_text/blake.txt','w+') as f:\n",
    "    f.write(text)"
   ]
  },
  {
   "cell_type": "code",
   "execution_count": null,
   "id": "408764b4-d40e-451e-b0b7-db8210158086",
   "metadata": {},
   "outputs": [],
   "source": []
  }
 ],
 "metadata": {
  "kernelspec": {
   "display_name": "Python 3",
   "language": "python",
   "name": "python3"
  },
  "language_info": {
   "codemirror_mode": {
    "name": "ipython",
    "version": 3
   },
   "file_extension": ".py",
   "mimetype": "text/x-python",
   "name": "python",
   "nbconvert_exporter": "python",
   "pygments_lexer": "ipython3",
   "version": "3.9.1"
  }
 },
 "nbformat": 4,
 "nbformat_minor": 5
}
