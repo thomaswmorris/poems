{
 "cells": [
  {
   "cell_type": "code",
   "execution_count": 1,
   "id": "d1875133-6d21-4cea-b817-e8bf4b8dab41",
   "metadata": {},
   "outputs": [],
   "source": [
    "import regex as re"
   ]
  },
  {
   "cell_type": "code",
   "execution_count": 2,
   "id": "22ea1653-e183-4add-b2af-f502f0697830",
   "metadata": {},
   "outputs": [],
   "source": [
    "file_name = '/users/thomas/desktop/packages/poetry/_raw/blake_raw.txt'"
   ]
  },
  {
   "cell_type": "code",
   "execution_count": 3,
   "id": "5cdb34ad-8e42-417f-b9a2-e38163a2d794",
   "metadata": {},
   "outputs": [],
   "source": [
    "with open(file_name,'r+') as f:\n",
    "    text = f.read()"
   ]
  },
  {
   "cell_type": "code",
   "execution_count": 4,
   "id": "496c5b95-94b7-4d6a-a606-3388c6bd5daa",
   "metadata": {},
   "outputs": [],
   "source": [
    "#text"
   ]
  },
  {
   "cell_type": "code",
   "execution_count": 5,
   "id": "d5a84e3a-1b3c-4b47-ae41-52c00eae969f",
   "metadata": {},
   "outputs": [],
   "source": [
    "capture_title_expr = r'\\n\\ *([A-Z][A-ZÀ-Ú, ,\\',\\-]{2,})\\n'\n",
    "\n",
    "title_expr = r'\\n\\ *[A-Z][A-ZÀ-Ú, ,\\',\\-]{2,}\\n'\n",
    "\n",
    "front_matter, body = text.split('\\n###\\n')\n",
    "body = re.sub(capture_title_expr,r'\\n\\1\\n',body)"
   ]
  },
  {
   "cell_type": "code",
   "execution_count": 6,
   "id": "5599cf66-9e6d-4097-81d8-22785c686f37",
   "metadata": {},
   "outputs": [],
   "source": [
    "body = re.sub('\\n(.)',r'\\n    \\1',body)"
   ]
  },
  {
   "cell_type": "code",
   "execution_count": 7,
   "id": "a98b5bab-b161-418a-996e-71f7e3d73a3c",
   "metadata": {},
   "outputs": [
    {
     "name": "stdout",
     "output_type": "stream",
     "text": [
      "\n",
      "\n",
      "    SONGS OF INNOCENCE\n",
      "\n",
      "       Piping down the valleys wild,\n",
      "         Piping songs of pleasant gle\n"
     ]
    }
   ],
   "source": [
    "print(body[:100])"
   ]
  },
  {
   "cell_type": "code",
   "execution_count": 8,
   "id": "83864c6d-2e63-405b-b5ec-0bb143e55bce",
   "metadata": {},
   "outputs": [],
   "source": [
    "#body = re.sub(r'[\\[,\\]]','',body)"
   ]
  },
  {
   "cell_type": "code",
   "execution_count": 9,
   "id": "be95f36c-25c5-46d9-a15d-47d7582fbdfb",
   "metadata": {},
   "outputs": [],
   "source": [
    "#body = re.sub(r'\\nPoems.*\\n',r'',body)\n",
    "#body = re.sub(r'\\n\\ *\\(?[A-Z]*\\.\\ [0-9]*\\)?\\.\\n',r'',body)"
   ]
  },
  {
   "cell_type": "code",
   "execution_count": null,
   "id": "caaca143-258f-4454-9df4-b61eddd3b58e",
   "metadata": {},
   "outputs": [],
   "source": []
  },
  {
   "cell_type": "code",
   "execution_count": 10,
   "id": "6d795ae2-cd72-4162-a181-0706f374b04c",
   "metadata": {},
   "outputs": [
    {
     "data": {
      "text/plain": [
       "(58, 58)"
      ]
     },
     "execution_count": 10,
     "metadata": {},
     "output_type": "execute_result"
    }
   ],
   "source": [
    "import numpy as np\n",
    "\n",
    "titles = np.array([s.upper() for s in re.findall(capture_title_expr, body)])\n",
    "poems = re.split(title_expr,body)[1:] # the first one is an empty string\n",
    "\n",
    "len(titles), len(poems)"
   ]
  },
  {
   "cell_type": "code",
   "execution_count": 11,
   "id": "1762959b-54b7-443d-aea0-8066274c765a",
   "metadata": {},
   "outputs": [],
   "source": [
    "for unique_title in np.unique(titles):\n",
    "    \n",
    "    title_index = np.where(titles==unique_title)[0]\n",
    "    \n",
    "    if len(title_index) > 1:\n",
    "        for ii,i in enumerate(title_index):\n",
    "            titles[i] += ' ' + f'_{ii+1}_'"
   ]
  },
  {
   "cell_type": "code",
   "execution_count": null,
   "id": "831d3818-58bc-42fc-a74b-0ad4b00e57cf",
   "metadata": {},
   "outputs": [],
   "source": []
  },
  {
   "cell_type": "code",
   "execution_count": 12,
   "id": "8639e150-aa29-4c3f-8b3e-b879c3141dbd",
   "metadata": {},
   "outputs": [],
   "source": [
    "#titles"
   ]
  },
  {
   "cell_type": "code",
   "execution_count": 13,
   "id": "3fc6af65-676e-4478-ba6c-1bb70914dc32",
   "metadata": {},
   "outputs": [],
   "source": [
    "final  = ''\n",
    "final += front_matter + '\\n###\\n\\n'\n",
    "\n",
    "poems_dict = {}\n",
    "\n",
    "for i, (title, poem) in enumerate(zip(titles,poems)):\n",
    "        \n",
    "    poem = poem.strip('\\n')\n",
    "    poems_dict[title.upper()] = poem"
   ]
  },
  {
   "cell_type": "code",
   "execution_count": 14,
   "id": "870b60d4-0695-4436-9c87-3d70e4d988bd",
   "metadata": {},
   "outputs": [
    {
     "name": "stdout",
     "output_type": "stream",
     "text": [
      "THE VOICE OF THE ANCIENT BARD\n",
      "       Youth of delight!  come hither\n",
      "       And see the opening morn,\n",
      "       Image of Truth new-born.\n",
      "       Doubt is fled, and clouds of reason,\n",
      "       Dark disputes and artful teazing.\n",
      "       Folly is an endless maze;\n",
      "       Tangled roots perplex her ways;\n",
      "       How many have fallen there!\n",
      "       They stumble all night over bones of the dead;\n",
      "       And feel--they know not what but care;\n",
      "       And wish to lead others, when they should be led.\n"
     ]
    },
    {
     "data": {
      "text/plain": [
       "(None, None)"
      ]
     },
     "execution_count": 14,
     "metadata": {},
     "output_type": "execute_result"
    }
   ],
   "source": [
    "import numpy as np\n",
    "title = np.random.choice(titles)\n",
    "print(title),print(poems_dict[title])\n"
   ]
  },
  {
   "cell_type": "code",
   "execution_count": 15,
   "id": "550c6562-fff6-4a98-be78-3463cf11a5ec",
   "metadata": {},
   "outputs": [
    {
     "data": {
      "text/plain": [
       "'       Youth of delight!  come hither\\n       And see the opening morn,\\n       Image of Truth new-born.\\n       Doubt is fled, and clouds of reason,\\n       Dark disputes and artful teazing.\\n       Folly is an endless maze;\\n       Tangled roots perplex her ways;\\n       How many have fallen there!\\n       They stumble all night over bones of the dead;\\n       And feel--they know not what but care;\\n       And wish to lead others, when they should be led.'"
      ]
     },
     "execution_count": 15,
     "metadata": {},
     "output_type": "execute_result"
    }
   ],
   "source": [
    "poems_dict[title]"
   ]
  },
  {
   "cell_type": "code",
   "execution_count": 16,
   "id": "5e0fa9fe-b564-4577-b35d-78f6f179cfd1",
   "metadata": {},
   "outputs": [],
   "source": [
    "text = ''\n",
    "\n",
    "text += 'William Blake (1757-1827) [https://en.wikipedia.org/wiki/William_Blake]'\n",
    "text += '\\n\\n###\\n\\n'\n",
    "\n",
    "for title in titles:\n",
    "    text += '~' + title + '~'\n",
    "    text += '\\n\\n'\n",
    "    text += poems_dict[title]\n",
    "    text += '\\n\\n\\n'\n",
    "        \n",
    "#print(text[:2000])"
   ]
  },
  {
   "cell_type": "code",
   "execution_count": 17,
   "id": "f59e720d-d781-4dba-9245-49d1c6b07bec",
   "metadata": {},
   "outputs": [],
   "source": [
    "import json\n",
    "\n",
    "with open('../_text/blake.txt','w+') as f:\n",
    "    f.write(text)"
   ]
  },
  {
   "cell_type": "code",
   "execution_count": null,
   "id": "408764b4-d40e-451e-b0b7-db8210158086",
   "metadata": {},
   "outputs": [],
   "source": []
  }
 ],
 "metadata": {
  "kernelspec": {
   "display_name": "Python 3",
   "language": "python",
   "name": "python3"
  },
  "language_info": {
   "codemirror_mode": {
    "name": "ipython",
    "version": 3
   },
   "file_extension": ".py",
   "mimetype": "text/x-python",
   "name": "python",
   "nbconvert_exporter": "python",
   "pygments_lexer": "ipython3",
   "version": "3.9.1"
  }
 },
 "nbformat": 4,
 "nbformat_minor": 5
}
