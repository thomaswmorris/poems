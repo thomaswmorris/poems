{
 "cells": [
  {
   "cell_type": "code",
   "execution_count": 1,
   "id": "d1875133-6d21-4cea-b817-e8bf4b8dab41",
   "metadata": {},
   "outputs": [],
   "source": [
    "import regex as re"
   ]
  },
  {
   "cell_type": "code",
   "execution_count": 2,
   "id": "22ea1653-e183-4add-b2af-f502f0697830",
   "metadata": {},
   "outputs": [],
   "source": [
    "file_name = '/users/thomas/desktop/poetry/_raw/lowell_raw.txt'"
   ]
  },
  {
   "cell_type": "code",
   "execution_count": 3,
   "id": "5cdb34ad-8e42-417f-b9a2-e38163a2d794",
   "metadata": {},
   "outputs": [],
   "source": [
    "with open(file_name,'r+') as f:\n",
    "    text = f.read()"
   ]
  },
  {
   "cell_type": "code",
   "execution_count": 20,
   "id": "d5a84e3a-1b3c-4b47-ae41-52c00eae969f",
   "metadata": {},
   "outputs": [],
   "source": [
    "capture_title_expr = r'\\n(\\_[0-9][.,\\n]+\\_)'\n",
    "\n",
    "title_expr = r'\\n[A-Z, ]{2,}\\n'\n",
    "\n",
    "capture_title_expr = r'\\n([A-Z,\\ ,\\',\\:,\\-,\\?,\\\"]{2,})\\.\\n'\n",
    "title_expr = r'\\n[A-Z,\\ ,\\',\\:,\\-,\\?,\\\"]{2,}\\.\\n'\n",
    "\n",
    "front_matter, body = text.split('\\n###\\n')\n",
    "#body = re.sub(capture_title_expr,r'\\n\\1\\n',body)\n",
    "\n",
    "#body = re.sub('\\n(.)',r'\\n    \\1',body)"
   ]
  },
  {
   "cell_type": "code",
   "execution_count": 21,
   "id": "a98b5bab-b161-418a-996e-71f7e3d73a3c",
   "metadata": {},
   "outputs": [
    {
     "name": "stdout",
     "output_type": "stream",
     "text": [
      "\n",
      "WATER.\n",
      "\n",
      "It was a Maine lobster town—-\n",
      "each morning boatloads of hands\n",
      "pushed off for granite\n",
      "quarri\n"
     ]
    }
   ],
   "source": [
    "print(body[:100])"
   ]
  },
  {
   "cell_type": "code",
   "execution_count": 22,
   "id": "6d795ae2-cd72-4162-a181-0706f374b04c",
   "metadata": {},
   "outputs": [
    {
     "name": "stdout",
     "output_type": "stream",
     "text": [
      "11 11\n",
      "['WATER' 'AFTER THE SURPRISING CONVERSIONS' 'HOMECOMING'\n",
      " 'WAKING IN THE BLUE' 'THE DRUNKEN FISHERMAN' 'CHILDREN OF LIGHT'\n",
      " '\"TO SPEAK OF WOE THAT IS IN MARRIAGE\"' 'HISTORY' 'THE OLD FLAME'\n",
      " 'SKUNK HOUR' 'EPILOGUE']\n"
     ]
    }
   ],
   "source": [
    "import numpy as np\n",
    "\n",
    "titles = np.array([s.upper() for s in re.findall(capture_title_expr, body)])\n",
    "poems = re.split(title_expr,body)[1:] # the first one is an empty string\n",
    "\n",
    "\n",
    "print(len(titles), len(poems))\n",
    "\n",
    "print(titles)"
   ]
  },
  {
   "cell_type": "code",
   "execution_count": 23,
   "id": "1762959b-54b7-443d-aea0-8066274c765a",
   "metadata": {},
   "outputs": [],
   "source": [
    "for unique_title in np.unique(titles):\n",
    "    \n",
    "    title_index = np.where(titles==unique_title)[0]\n",
    "    \n",
    "    if unique_title.isdigit():\n",
    "        for ii,i in enumerate(title_index):\n",
    "            titles[i] += ' UNTITLED'\n",
    "            \n",
    "    title_index = np.where(titles==unique_title)[0]\n",
    "    \n",
    "    if len(title_index) > 1:\n",
    "        for ii,i in enumerate(title_index):\n",
    "            titles[i] += ' ' + f'_{ii+1}_'"
   ]
  },
  {
   "cell_type": "code",
   "execution_count": 24,
   "id": "56a4a0f7-5b2d-4037-9230-5b298e62841c",
   "metadata": {},
   "outputs": [
    {
     "data": {
      "text/plain": [
       "<regex.Match object; span=(0, 2), match='71'>"
      ]
     },
     "execution_count": 24,
     "metadata": {},
     "output_type": "execute_result"
    }
   ],
   "source": [
    "re.match(r'[0-9]+','71')"
   ]
  },
  {
   "cell_type": "code",
   "execution_count": 25,
   "id": "c597eb6c-52f6-4916-95bf-17b9c6995482",
   "metadata": {},
   "outputs": [
    {
     "data": {
      "text/plain": [
       "'\\nIt was a Maine lobster town—-\\neach morning boatloads of hands\\npushed off for granite\\nquarries on the islands,\\n\\nand left dozens of bleak \\nwhite frame houses stuck\\nlike oyster shells\\non a hill of rock,\\n\\nand below us, the sea lapped\\nthe raw little match-stick \\nmazes of a weir,\\nwhere the fish for bait were trapped.\\n\\nRemember? We sat on a slab of rock.\\nFrom this distance in time\\nit seems the color\\nof iris, rotting and turning purpler,\\n\\nbut it was only \\nthe usual gray rock\\nturning the usual green\\nwhen drenched by the sea.\\n\\nThe sea drenched the rock\\nat our feet all day,\\nand kept tearing away \\nflake after flake.\\n\\nOne night you dreamed\\nyou were a mermaid clinging to a wharf-pile,\\nand trying to pull\\noff the barnacles with your hands.\\n\\nWe wished our two souls \\nmight return like gulls\\nto the rock. In the end, \\nthe water was too cold for us.\\n\\n\\n'"
      ]
     },
     "execution_count": 25,
     "metadata": {},
     "output_type": "execute_result"
    }
   ],
   "source": [
    "poems[0]"
   ]
  },
  {
   "cell_type": "code",
   "execution_count": 26,
   "id": "3fc6af65-676e-4478-ba6c-1bb70914dc32",
   "metadata": {},
   "outputs": [],
   "source": [
    "final  = ''\n",
    "final += front_matter + '\\n###\\n\\n'\n",
    "\n",
    "poems_dict = {}\n",
    "\n",
    "for i, (title, poem) in enumerate(zip(titles,poems)):\n",
    "        \n",
    "    #poem = re.sub('\\_','',poem)\n",
    "    poem = re.sub('\\n(.)',r'\\n    \\1',poem)\n",
    "    poems_dict[title.upper()] = poem\n",
    "    \n",
    "    final += f'\\n{title.upper()}\\n'\n",
    "    final += re.sub(r'\\n{4,}','\\n\\n\\n',poem)[:-1]"
   ]
  },
  {
   "cell_type": "code",
   "execution_count": 27,
   "id": "7d2b0690-5396-4f76-9aa2-d1b12bd7b0cd",
   "metadata": {},
   "outputs": [],
   "source": [
    "#final"
   ]
  },
  {
   "cell_type": "code",
   "execution_count": 35,
   "id": "870b60d4-0695-4436-9c87-3d70e4d988bd",
   "metadata": {},
   "outputs": [
    {
     "name": "stdout",
     "output_type": "stream",
     "text": [
      "\"TO SPEAK OF WOE THAT IS IN MARRIAGE\"\n",
      "\n",
      "\n",
      "    \"It is the future generation that presses into being by means of\n",
      "    these exuberant feelings and supersensible soap bubbles of ours.\"\n",
      "    - _Schopenhauer_\n",
      "\n",
      "    \"The hot night makes us keep our bedroom windows open.\n",
      "    Our magnolia blossoms.  Life begins to happen.\n",
      "    My hopped up husband drops his home disputes,\n",
      "    and hits the streets to cruise for prostitutes,\n",
      "    free-lancing out along the razor's edge.\n",
      "    This screwball might kill his wife, then take the pledge.\n",
      "    Oh the monotonous meanness of his lust...\n",
      "    It's the injustice... he is so unjust—-\n",
      "    whiskey-blind, swaggering home at five.\n",
      "    My only thought is how to keep alive.\n",
      "    What makes him tick?  Each night now I tie\n",
      "    ten dollars and his car key to my thigh....\n",
      "    Gored by the climacteric of his want,\n",
      "    he stalls above me like an elephant.\"\n",
      "\n",
      "\n",
      "\n"
     ]
    },
    {
     "data": {
      "text/plain": [
       "(None, None)"
      ]
     },
     "execution_count": 35,
     "metadata": {},
     "output_type": "execute_result"
    }
   ],
   "source": [
    "import numpy as np\n",
    "title = np.random.choice(titles)\n",
    "print(title),print(poems_dict[title])\n"
   ]
  },
  {
   "cell_type": "code",
   "execution_count": 13,
   "id": "51228d36-9128-440c-a842-58c0162ef247",
   "metadata": {},
   "outputs": [],
   "source": [
    "poems_dict['poet_name']   = 'Robert Lowell'\n",
    "poems_dict['poet_birth']  = 1917\n",
    "poems_dict['poet_death']  = 199\n",
    "poems_dict['poet_link']   = 'https://en.wikipedia.org/wiki/Czesław_Miłosz'"
   ]
  },
  {
   "cell_type": "code",
   "execution_count": 15,
   "id": "e4341cea-8079-45b3-a2ee-06d076e9006e",
   "metadata": {},
   "outputs": [],
   "source": [
    "import json\n",
    "\n",
    "with open('/users/thomas/desktop/poetry/poemsfromtom/poems/milosz.json', 'w+') as f:\n",
    "    json.dump(poems_dict, f)\n",
    "\n",
    "with open('/users/thomas/desktop/poetry/milosz.txt','w+') as f:\n",
    "    f.write(final)"
   ]
  },
  {
   "cell_type": "code",
   "execution_count": null,
   "id": "492a0a22-c1a1-4cfc-bc97-47e12660390a",
   "metadata": {},
   "outputs": [],
   "source": []
  }
 ],
 "metadata": {
  "kernelspec": {
   "display_name": "Python 3",
   "language": "python",
   "name": "python3"
  },
  "language_info": {
   "codemirror_mode": {
    "name": "ipython",
    "version": 3
   },
   "file_extension": ".py",
   "mimetype": "text/x-python",
   "name": "python",
   "nbconvert_exporter": "python",
   "pygments_lexer": "ipython3",
   "version": "3.9.1"
  }
 },
 "nbformat": 4,
 "nbformat_minor": 5
}
