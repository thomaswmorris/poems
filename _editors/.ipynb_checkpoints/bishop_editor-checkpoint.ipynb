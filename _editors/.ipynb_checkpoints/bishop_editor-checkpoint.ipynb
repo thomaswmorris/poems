{
 "cells": [
  {
   "cell_type": "code",
   "execution_count": 5,
   "id": "d1875133-6d21-4cea-b817-e8bf4b8dab41",
   "metadata": {},
   "outputs": [],
   "source": [
    "import regex as re"
   ]
  },
  {
   "cell_type": "code",
   "execution_count": 6,
   "id": "22ea1653-e183-4add-b2af-f502f0697830",
   "metadata": {},
   "outputs": [],
   "source": [
    "file_name = '/users/thomas/desktop/poetry/_raw/bishop_raw.txt'"
   ]
  },
  {
   "cell_type": "code",
   "execution_count": 7,
   "id": "5cdb34ad-8e42-417f-b9a2-e38163a2d794",
   "metadata": {},
   "outputs": [],
   "source": [
    "with open(file_name,'r+') as f:\n",
    "    text = f.read()"
   ]
  },
  {
   "cell_type": "code",
   "execution_count": 8,
   "id": "d5a84e3a-1b3c-4b47-ae41-52c00eae969f",
   "metadata": {},
   "outputs": [],
   "source": [
    "capture_title_expr = r'\\n(\\_[0-9][.,\\n]+\\_)'\n",
    "\n",
    "title_expr = r'\\n[A-Z, ]{2,}\\n'\n",
    "\n",
    "capture_title_expr = r'\\n([A-ZÀ-Ú,0-9,\\ ,\\',\\:,\\-,\\.]{2,})\\.\\n'\n",
    "title_expr = r'\\n[A-ZÀ-Ú,0-9,\\ ,\\',\\:,\\-,\\.]{2,}\\.\\n'\n",
    "\n",
    "front_matter, body = text.split('\\n###\\n')\n",
    "#body = re.sub(capture_title_expr,r'\\n\\1\\n',body)\n",
    "\n",
    "#body = re.sub('\\n(.)',r'\\n    \\1',body)"
   ]
  },
  {
   "cell_type": "code",
   "execution_count": 9,
   "id": "a98b5bab-b161-418a-996e-71f7e3d73a3c",
   "metadata": {},
   "outputs": [
    {
     "name": "stdout",
     "output_type": "stream",
     "text": [
      "\n",
      "VISITS TO ST. ELIZABETHS.\n",
      "\n",
      "This is the house of Bedlam.\n",
      "\n",
      "This is the man\n",
      "that lies in the house of \n"
     ]
    }
   ],
   "source": [
    "print(body[:100])"
   ]
  },
  {
   "cell_type": "code",
   "execution_count": 10,
   "id": "6d795ae2-cd72-4162-a181-0706f374b04c",
   "metadata": {},
   "outputs": [
    {
     "name": "stdout",
     "output_type": "stream",
     "text": [
      "8 8\n",
      "['VISITS TO ST. ELIZABETHS' 'ARRIVAL AT SANTOS' 'IN THE WAITING ROOM'\n",
      " 'THE MOOSE' 'ONE ART' 'SESTINA' 'PARIS, 7 A.M.' 'THE MAP']\n"
     ]
    }
   ],
   "source": [
    "import numpy as np\n",
    "\n",
    "titles = np.array([s.upper() for s in re.findall(capture_title_expr, body)])\n",
    "poems = re.split(title_expr,body)[1:] # the first one is an empty string\n",
    "\n",
    "\n",
    "print(len(titles), len(poems))\n",
    "\n",
    "print(titles)"
   ]
  },
  {
   "cell_type": "code",
   "execution_count": 11,
   "id": "1762959b-54b7-443d-aea0-8066274c765a",
   "metadata": {},
   "outputs": [],
   "source": [
    "for unique_title in np.unique(titles):\n",
    "    \n",
    "    title_index = np.where(titles==unique_title)[0]\n",
    "    \n",
    "    if unique_title.isdigit():\n",
    "        for ii,i in enumerate(title_index):\n",
    "            titles[i] += ' UNTITLED'\n",
    "            \n",
    "    title_index = np.where(titles==unique_title)[0]\n",
    "    \n",
    "    if len(title_index) > 1:\n",
    "        for ii,i in enumerate(title_index):\n",
    "            titles[i] += ' ' + f'_{ii+1}_'"
   ]
  },
  {
   "cell_type": "code",
   "execution_count": 12,
   "id": "56a4a0f7-5b2d-4037-9230-5b298e62841c",
   "metadata": {},
   "outputs": [
    {
     "data": {
      "text/plain": [
       "<regex.Match object; span=(0, 2), match='71'>"
      ]
     },
     "execution_count": 12,
     "metadata": {},
     "output_type": "execute_result"
    }
   ],
   "source": [
    "re.match(r'[0-9]+','71')"
   ]
  },
  {
   "cell_type": "code",
   "execution_count": 13,
   "id": "c597eb6c-52f6-4916-95bf-17b9c6995482",
   "metadata": {},
   "outputs": [
    {
     "data": {
      "text/plain": [
       "'\\nThis is the house of Bedlam.\\n\\nThis is the man\\nthat lies in the house of Bedlam.\\n\\nThis is the time\\nof the tragic man\\nthat lies in the house of Bedlam.\\n\\nThis is a wristwatch\\ntelling the time\\nof the talkative man\\nthat lies in the house of Bedlam.\\n\\nThis is a sailor\\nwearing the watch\\nthat tells the time\\nof the honored man\\nthat lies in the house of Bedlam.\\n\\nThis is the roadstead all of board\\nreached by the sailor\\nwearing the watch\\nthat tells the time\\nof the old, brave man\\nthat lies in the house of Bedlam.\\n\\nThese are the years and the walls of the ward,\\nthe winds and clouds of the sea of board\\nsailed by the sailor\\nwearing the watch\\nthat tells the time\\nof the cranky man\\nthat lies in the house of Bedlam.\\n\\nThis is a Jew in a newspaper hat\\nthat dances weeping down the ward\\nover the creaking sea of board\\nbeyond the sailor\\nwinding his watch\\nthat tells the time\\nof the cruel man\\nthat lies in the house of Bedlam.\\n\\nThis is a world of books gone flat.\\nThis is a Jew in a newspaper hat\\nthat dances weeping down the ward\\nover the creaking sea of board\\nof the batty sailor\\nthat winds his watch\\nthat tells the time\\nof the busy man\\nthat lies in the house of Bedlam.\\n\\nThis is a boy that pats the floor\\nto see if the world is there, is flat,\\nfor the widowed Jew in the newspaper hat\\nthat dances weeping down the ward\\nwaltzing the length of a weaving board\\nby the silent sailor\\nthat hears his watch\\nthat ticks the time\\nof the tedious man\\nthat lies in the house of Bedlam.\\n\\nThese are the years and the walls and the door\\nthat shut on a boy that pats the floor\\nto feel if the world is there and flat.\\nThis is a Jew in a newspaper hat\\nthat dances joyfully down the ward\\ninto the parting seas of board\\npast the staring sailor\\nthat shakes his watch\\nthat tells the time\\nof the poet, the man\\nthat lies in the house of Bedlam.\\n\\nThis is the soldier home from the war.\\nThese are the years and the walls and the door\\nthat shut on a boy that pats the floor\\nto see if the world is round or flat.\\nThis is a Jew in a newspaper hat\\nthat dances carefully down the ward,\\nwalking the plank of a coffin board\\nwith the crazy sailor\\nthat shows his watch\\nthat tells the time\\nof the wretched man\\nthat lies in the house of Bedlam.\\n\\n'"
      ]
     },
     "execution_count": 13,
     "metadata": {},
     "output_type": "execute_result"
    }
   ],
   "source": [
    "poems[0]"
   ]
  },
  {
   "cell_type": "code",
   "execution_count": 72,
   "id": "3fc6af65-676e-4478-ba6c-1bb70914dc32",
   "metadata": {},
   "outputs": [],
   "source": [
    "final  = ''\n",
    "final += front_matter + '\\n###\\n\\n'\n",
    "\n",
    "poems_dict = {}\n",
    "\n",
    "for i, (title, poem) in enumerate(zip(titles,poems)):\n",
    "        \n",
    "    #poem = re.sub('\\_','',poem)\n",
    "    poem = re.sub('\\n(.)',r'\\n    \\1',poem)\n",
    "    poems_dict[title.upper()] = poem\n",
    "    \n",
    "    final += f'\\n{title.upper()}\\n'\n",
    "    final += re.sub(r'\\n{4,}','\\n\\n\\n',poem)[:-1]"
   ]
  },
  {
   "cell_type": "code",
   "execution_count": 73,
   "id": "7d2b0690-5396-4f76-9aa2-d1b12bd7b0cd",
   "metadata": {},
   "outputs": [],
   "source": [
    "#final"
   ]
  },
  {
   "cell_type": "code",
   "execution_count": 86,
   "id": "870b60d4-0695-4436-9c87-3d70e4d988bd",
   "metadata": {},
   "outputs": [
    {
     "name": "stdout",
     "output_type": "stream",
     "text": [
      "PARIS, 7 A.M.\n",
      "\n",
      "    I make a trip to each clock in the apartment:\n",
      "    Some hands point histrionically one way\n",
      "    And some point others, from the ignorant faces.\n",
      "    Time is an Etoile; the hours diverge\n",
      "    So much that days are journeys round the suburbs,\n",
      "    Circles surrounding stars, overlapping circles.\n",
      "    The short, half-tone scale of winter weathers\n",
      "    Is a spread pigeon's wing.\n",
      "    Winter lives under a pigeon's wing, a dead wing with damp feathers.\n",
      "\n",
      "    Look down into the courtyard. All the houses\n",
      "    Are built that way, with ornamental urns\n",
      "    Set on the mansard roof-tops where the pigeons\n",
      "    Take their walks. It is like introspection\n",
      "    To stare inside, or retrospection,\n",
      "    A star inside a rectangle, a recollection:\n",
      "    This hollow square could easily have been there.\n",
      "    --The childish snow-forts, built in flashier winters,\n",
      "    Could have reached these proportions and been houses;\n",
      "    The mighty snow-forts, four, five, stories high,\n",
      "    Withstanding spring as sand-forts do the tide,\n",
      "    Their walls, their shape, could not dissolve and die,\n",
      "    Only be overlapping in a strong chain, turned to stone,\n",
      "    And grayed and yellowed now like these.\n",
      "\n",
      "    Where is the ammunition, the piled-up balls\n",
      "    With the star-splintered hearts of ice?\n",
      "    This sky is no carrier-warrior-pigeon\n",
      "    Escaping endless intersecting circles.\n",
      "    It is a dead one, or the sky from which a dead one fell.\n",
      "    The urns have caught his ashes or his feathers.\n",
      "    When did the star dissolve, or was it captured\n",
      "    By the sequence of squares and squares and circles, circles?\n",
      "    Can the clocks say; is it there below,\n",
      "    About to tumble in snow?\n",
      "\n",
      "\n"
     ]
    },
    {
     "data": {
      "text/plain": [
       "(None, None)"
      ]
     },
     "execution_count": 86,
     "metadata": {},
     "output_type": "execute_result"
    }
   ],
   "source": [
    "import numpy as np\n",
    "title = np.random.choice(titles)\n",
    "print(title),print(poems_dict[title])\n"
   ]
  },
  {
   "cell_type": "code",
   "execution_count": 52,
   "id": "7c6d5a82-71ff-4646-913d-0241d26990a7",
   "metadata": {},
   "outputs": [],
   "source": [
    "text = ''\n",
    "\n",
    "text += 'Elizabeth Bishop (1911-1979) [https://en.wikipedia.org/wiki/Elizabeth_Bishop]'\n",
    "text += '\\n\\n###\\n\\n'\n",
    "\n",
    "for title in titles:\n",
    "    text += '~' + title + '~'\n",
    "    text += '\\n\\n'\n",
    "    text += poems_dict[title]\n",
    "    text += '\\n\\n\\n'\n",
    "        \n",
    "#print(text)"
   ]
  },
  {
   "cell_type": "code",
   "execution_count": 56,
   "id": "0e20f5b6-45b2-41bb-b126-f18d191a7085",
   "metadata": {},
   "outputs": [],
   "source": [
    "import json\n",
    "\n",
    "with open('../_text/bishop.txt','w+') as f:\n",
    "    f.write(text)"
   ]
  },
  {
   "cell_type": "code",
   "execution_count": 87,
   "id": "51228d36-9128-440c-a842-58c0162ef247",
   "metadata": {},
   "outputs": [],
   "source": [
    "poems_dict['poet_name']   = 'Elizabeth Bishop'\n",
    "poems_dict['poet_birth']  = 1911\n",
    "poems_dict['poet_death']  = 1979\n",
    "poems_dict['poet_link']   = 'https://en.wikipedia.org/wiki/Elizabeth_Bishop'"
   ]
  }
 ],
 "metadata": {
  "kernelspec": {
   "display_name": "Python 3",
   "language": "python",
   "name": "python3"
  },
  "language_info": {
   "codemirror_mode": {
    "name": "ipython",
    "version": 3
   },
   "file_extension": ".py",
   "mimetype": "text/x-python",
   "name": "python",
   "nbconvert_exporter": "python",
   "pygments_lexer": "ipython3",
   "version": "3.9.1"
  }
 },
 "nbformat": 4,
 "nbformat_minor": 5
}
