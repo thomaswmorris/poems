{
 "cells": [
  {
   "cell_type": "code",
   "execution_count": 84,
   "id": "d1875133-6d21-4cea-b817-e8bf4b8dab41",
   "metadata": {},
   "outputs": [],
   "source": [
    "import regex as re"
   ]
  },
  {
   "cell_type": "code",
   "execution_count": 85,
   "id": "22ea1653-e183-4add-b2af-f502f0697830",
   "metadata": {},
   "outputs": [],
   "source": [
    "file_name = '/users/thomas/desktop/poetry/_raw/heine_raw.txt'\n",
    "with open(file_name,'r+') as f:\n",
    "    text = f.read()"
   ]
  },
  {
   "cell_type": "code",
   "execution_count": 86,
   "id": "af9a5b4b-4d01-4ceb-ada3-ade28cfe44ad",
   "metadata": {},
   "outputs": [],
   "source": [
    "#text"
   ]
  },
  {
   "cell_type": "code",
   "execution_count": 87,
   "id": "1594f2b6-ec8f-4f94-9b6d-c08b90213ecd",
   "metadata": {},
   "outputs": [],
   "source": [
    "capture_title_expr = r'\\n[0-9,\\.]*\\ *([^a-z\\n]{4,})\\.\\n'\n",
    "\n",
    "title_expr = r'\\n[0-9,\\.]*\\ *[^a-z\\n]{4,}\\.\\n'\n",
    "\n",
    "front_matter, body = text.split('\\n###\\n')\n",
    "#body = re.sub(capture_title_expr,r'\\n\\1\\n',body)"
   ]
  },
  {
   "cell_type": "code",
   "execution_count": null,
   "id": "37e45ea7-70ff-4207-a011-40da40f830f9",
   "metadata": {},
   "outputs": [],
   "source": []
  },
  {
   "cell_type": "code",
   "execution_count": 88,
   "id": "ad6d5ac3-fd9f-4cdb-bf24-d163df6e08d5",
   "metadata": {},
   "outputs": [],
   "source": [
    "body = re.sub('\\[[0-9]+\\]','',body)"
   ]
  },
  {
   "cell_type": "code",
   "execution_count": 89,
   "id": "43d209e1-dc37-41dc-8c40-b635aeccb1f4",
   "metadata": {},
   "outputs": [
    {
     "data": {
      "text/plain": [
       "(249, 249)"
      ]
     },
     "execution_count": 89,
     "metadata": {},
     "output_type": "execute_result"
    }
   ],
   "source": [
    "import numpy as np\n",
    "\n",
    "titles = np.array([s.upper() for s in re.findall(capture_title_expr, body)])\n",
    "poems = re.split(title_expr,body)[1:] # the first one is an empty string\n",
    "\n",
    "len(titles), len(poems)"
   ]
  },
  {
   "cell_type": "code",
   "execution_count": 90,
   "id": "492f75e1-f6a2-4f4e-a5e1-23fe1b9d8164",
   "metadata": {},
   "outputs": [],
   "source": [
    "#poems"
   ]
  },
  {
   "cell_type": "code",
   "execution_count": 91,
   "id": "de265a3a-3fe4-4913-a68b-895959163c4a",
   "metadata": {},
   "outputs": [
    {
     "data": {
      "text/plain": [
       "array(['LOVE’S SALUTATION', 'LOVE’S LAMENT', 'YEARNING', 'PRESENTIMENT',\n",
       "       'DREAM', 'THE CONSECRATION', 'THE MOOR’S SERENADE',\n",
       "       'DREAM AND LIFE', 'THE LESSON', 'TO FRANCIS V. Z----',\n",
       "       'A PROLOGUE TO THE HARTZ-JOURNEY', 'DEFEND NOT', 'A PARODY',\n",
       "       'WALKING FLOWERS AT BERLIN', 'EVENING SONGS',\n",
       "       'TO AUGUSTUS WILLIAM VON SCHLEGEL', 'TO J. B. ROUSSEAU',\n",
       "       'IN FRITZ STEINMANN’S ALBUM', 'TO HER', 'DRESDEN POETRY',\n",
       "       'BREADLESS ART', 'I. VISIONS', 'SONGS', 'THE MOURNFUL ONE',\n",
       "       'THE MOUNTAIN ECHO', 'THE TWO BROTHERS', 'POOR PETER',\n",
       "       'THE PRISONER’S SONG', 'THE MESSAGE', 'TAKING THE BRIDE HOME',\n",
       "       'DON RAMIRO', 'BELSHAZZAR', 'THE MINNESINGERS',\n",
       "       'LOOKING FROM THE WINDOW', 'THE WOUNDED KNIGHT', 'THE SEA-VOYAGE',\n",
       "       'THE SONG OF REPENTANCE',\n",
       "       'TO A SINGER, ON HER SINGING AN OLD ROMANCE',\n",
       "       'THE SONG OF THE DUCATS', 'DIALOGUE ON PADERBORN HEATH',\n",
       "       'QUITE TRUE', 'TO A. W. VON SCHLEGEL', 'TO H. S',\n",
       "       'FRESCO-SONNETS TO CHRISTIAN S--', 'PROLOGUE',\n",
       "       'THE GODS’ TWILIGHT', 'RATCLIFF', 'DONNA CLARA', 'ALMANSOR',\n",
       "       'THE DREAM', 'SERAPHINA', 'ANGELICA', 'DIANA', 'HORTENSE',\n",
       "       'CLARISSA', 'YOLANTE AND MARY', 'EMMA', 'FREDERICA', 'CATHERINE',\n",
       "       'SONGS OF CREATION', 'ABROAD', 'THE TANNHAUSER', 'A LEGEND',\n",
       "       'A WOMAN', 'CELEBRATION OF SPRING', 'CHILDE HAROLD',\n",
       "       'THE EXORCISM', 'EXTRACT FROM A LETTER', 'THE EVIL STAR',\n",
       "       'ANNO 1829', 'ANNO 1839', 'AT DAWN', 'SIR OLAVE',\n",
       "       'THE WATER NYMPHS', 'BERTRAND DE BORN', 'SPRING', 'ALI BEY',\n",
       "       'PSYCHE', 'THE UNKNOWN ONE', 'THE CHANGE', 'FORTUNE',\n",
       "       'LAMENTATION OF AN OLD-GERMAN YOUTH', 'MADAM METTE', 'THE MEETING',\n",
       "       'KING HAROLD HARFAGAR', 'THE LOWER WORLD', 'MULEDOM',\n",
       "       'THE SYMBOL OF MADNESS', 'PRIDE', 'WINTER', 'THE OLD CHIMNEYPIECE',\n",
       "       'LONGING', 'HELENA', 'THE WISE STARS', 'THE ANGELS',\n",
       "       'SOUND DOCTRINE', 'ADAM THE FIRST', 'WARNING',\n",
       "       'TO A QUONDAM FOLLOWER OF GOETHE', 'THE SECRET',\n",
       "       'ON THE WATCHMAN’S ARRIVAL IN PARIS', 'THE DRUM-MAJOR',\n",
       "       'DEGENERACY', 'HENRY', 'LIFE’S JOURNEY',\n",
       "       'THE NEW JEWISH HOSPITAL AT HAMBURG', 'GEORGE HERWEGH',\n",
       "       'THE TENDENCY', 'THE CHILD', 'THE PROMISE', 'THE CHANGELING',\n",
       "       'THE EMPEROR OF CHINA', 'CHURCH-COUNSELLOR PROMETHEUS',\n",
       "       'TO THE WATCHMAN', 'CONSOLING THOUGHTS',\n",
       "       'THE WORLD TURNED UPSIDE DOWN', 'ENLIGHTENMENT', 'WAIT AWHILE!',\n",
       "       'NIGHT THOUGHTS', 'NEW SPRING', '23-4', 'THE HARTZ-JOURNEY',\n",
       "       'PART I. 1825', 'EVENING TWILIGHT', 'SUNSET',\n",
       "       'THE NIGHT ON THE STRAND', 'POSEIDON', 'HOMAGE', 'DECLARATION',\n",
       "       'IN THE CABIN AT NIGHT', 'STORM', 'CALM AT SEA',\n",
       "       'THE OCEAN SPECTRE', 'PURIFICATION', 'PEACE', 'PART II. 1826',\n",
       "       'SEA SALUTATION', 'THUNDERSTORM', 'THE SHIPWRECKED ONE', 'SUNSET',\n",
       "       'THE SONG OF THE OCEANIDES', 'THE GODS OF GREECE', 'QUESTIONS',\n",
       "       'THE PHŒNIX', 'ECHO', 'SEA-SICKNESS', 'IN HARBOUR', 'EPILOGUE',\n",
       "       'MONOLOGUE', 'ROMANCERO', 'RHAMPSENITUS', 'THE WHITE ELEPHANT',\n",
       "       'KNAVE OF BERGEN', 'THE VALKYRES', 'HASTINGS BATTLE-FIELD',\n",
       "       'CHARLES I', 'MARIE ANTOINETTE', 'THE SILESIAN WEAVERS', 'POMARE',\n",
       "       'THE APOLLO GOD', 'HYMN TO KING LOUIS', 'TWO KNIGHTS',\n",
       "       'OUR MARINE', 'THE GOLDEN CALF', 'KING DAVID', 'KING RICHARD',\n",
       "       'THE ASRA', 'THE NUNS', 'PALSGRAVINE JUTTA', 'THE MOORISH KING',\n",
       "       'GEOFFRY RUDÈL AND MELISANDA OF TRIPOLI', 'THE POET FERDUSI',\n",
       "       '   2', 'VOYAGE BY NIGHT', 'THE PRELUDE', 'VITZLIPUTZLI',\n",
       "       'WOOD SOLITUDE', 'SPANISH LYRICS', 'THE EX-LIVING ONE',\n",
       "       'THE EX-WATCHMAN', 'MYTHOLOGY', 'IN MATILDA’S ALBUM',\n",
       "       'TO THE YOUNG', 'THE UNBELIEVER', 'AN OLD SONG', 'READY MONEY',\n",
       "       'THE OLD ROSE', 'AUTO-DA-FÉ', 'LAZARUS', 'THE WAY OF THE WORLD',\n",
       "       'RETROSPECT', 'RESURRECTION', 'THE DYING ONE', 'RASCALITY',\n",
       "       'RETROSPECT', 'IMPERFECTION', 'PIOUS WARNING',\n",
       "       'THE COOLED-DOWN ONE', 'SOLOMON', 'LOST WISHES', 'THE ANNIVERSARY',\n",
       "       'MEETING AGAIN', 'MRS. CARE', 'TO THE ANGELS', 'IN OCTOBER 1849',\n",
       "       'EVIL DREAMS', 'IT GOES OUT', 'THE WILL', 'ENFANT PERDU',\n",
       "       'PRINCESS SABBATH', 'A FRAGMENT', 'DISPUTATION', 'LATEST POEMS',\n",
       "       'PEACE-YEARNING', 'IN MAY', 'BODY AND SOUL', 'RED SLIPPERS',\n",
       "       'MORAL', 'BABYLONIAN SORROWS', 'THE SLAVE SHIP', 'PART I',\n",
       "       'PART II', 'AFFRONTENBURG', 'VIII', 'THE DRAGONFLY', 'ASCENSION',\n",
       "       'THE AFFIANCED ONES', 'THE PHILANTHROPIST',\n",
       "       'THE WHIMS OF THE AMOROUS', 'MIMI', 'GOOD ADVICE',\n",
       "       'REMINISCENCES OF HAMMONIA', 'THE ROBBERS', 'HANS LACK-LAND',\n",
       "       'RECOLLECTIONS FROM KRÄHWINKEL’S DAYS OF TERROR', 'THE AUDIENCE',\n",
       "       'KOBES I', 'EPILOGUE', 'THE SONG OF SONGS', 'THE SUTTLER’S SONG',\n",
       "       'HORSE AND ASS', 'MORAL', 'THE ASS-ELECTION', 'BERTHA',\n",
       "       'IN THE CATHEDRAL', 'THE DRAGONFLY', 'OLD SCENTS', 'MISERERE',\n",
       "       'TO MATILDA'], dtype='<U46')"
      ]
     },
     "execution_count": 91,
     "metadata": {},
     "output_type": "execute_result"
    }
   ],
   "source": [
    "titles"
   ]
  },
  {
   "cell_type": "code",
   "execution_count": 77,
   "id": "49d6d31a-833c-4fef-bb8d-7963a43c2e7b",
   "metadata": {},
   "outputs": [
    {
     "data": {
      "text/plain": [
       "['The thing']"
      ]
     },
     "execution_count": 77,
     "metadata": {},
     "output_type": "execute_result"
    }
   ],
   "source": [
    "re.findall('[0-9]*\\. (.*)','1919. The thing')"
   ]
  },
  {
   "cell_type": "code",
   "execution_count": 78,
   "id": "a98b5bab-b161-418a-996e-71f7e3d73a3c",
   "metadata": {},
   "outputs": [
    {
     "data": {
      "text/plain": [
       "'\\n\\n1. LOVE’S SALUTATION.\\n\\n    Darling maiden, who can be\\n      Ever found to equal thee?\\n    To thy s'"
      ]
     },
     "execution_count": 78,
     "metadata": {},
     "output_type": "execute_result"
    }
   ],
   "source": [
    "body[:100]"
   ]
  },
  {
   "cell_type": "code",
   "execution_count": 79,
   "id": "13384232-079d-471e-b93e-ad961904ab57",
   "metadata": {},
   "outputs": [],
   "source": [
    "#titles"
   ]
  },
  {
   "cell_type": "code",
   "execution_count": 80,
   "id": "83864c6d-2e63-405b-b5ec-0bb143e55bce",
   "metadata": {},
   "outputs": [],
   "source": [
    "#body = re.sub(r'[\\[.*\\]]','',body)"
   ]
  },
  {
   "cell_type": "code",
   "execution_count": 81,
   "id": "be95f36c-25c5-46d9-a15d-47d7582fbdfb",
   "metadata": {},
   "outputs": [],
   "source": [
    "#body = re.sub(r'\\nPoems.*\\n',r'',body)\n",
    "#body = re.sub(r'\\n\\ *\\(?[A-Z]*\\.\\ [0-9]*\\)?\\.\\n',r'',body)"
   ]
  },
  {
   "cell_type": "code",
   "execution_count": 82,
   "id": "1762959b-54b7-443d-aea0-8066274c765a",
   "metadata": {},
   "outputs": [
    {
     "name": "stdout",
     "output_type": "stream",
     "text": [
      "EPILOGUE\n",
      "MORAL\n",
      "RETROSPECT\n",
      "SUNSET\n",
      "THE DRAGONFLY\n"
     ]
    }
   ],
   "source": [
    "for unique_title in np.unique(titles):\n",
    "    \n",
    "    title_index = np.where(titles==unique_title)[0]\n",
    "    \n",
    "    if not len(title_index) > 1:\n",
    "        continue\n",
    "        \n",
    "    print(unique_title)\n",
    "        \n",
    "    if len(title_index) > 1:\n",
    "        for ii,i in enumerate(title_index):\n",
    "            titles[i] += ' ' + f'_{ii+1}_'"
   ]
  },
  {
   "cell_type": "code",
   "execution_count": 83,
   "id": "771edba7-2527-44aa-9b57-2f93e3029fb2",
   "metadata": {},
   "outputs": [
    {
     "name": "stdout",
     "output_type": "stream",
     "text": [
      "SONNETS \n",
      "THE TANNHAUSER \n",
      "PART I. 1825 \n",
      "PART II. 1826 \n",
      "LAZARUS \n",
      "LATEST POEMS (1853-4.)\n",
      "THE SLAVE SHIP \n"
     ]
    }
   ],
   "source": [
    "final  = ''\n",
    "final += front_matter + '\\n###\\n\\n'\n",
    "\n",
    "poems_dict = {}\n",
    "\n",
    "for i, (title, poem) in enumerate(zip(titles,poems)):\n",
    "        \n",
    "    poem = poem.strip('\\n')\n",
    "    poems_dict[title.upper()] = poem\n",
    "    \n",
    "    if len(poem) < 10:\n",
    "        print(title,poem)"
   ]
  },
  {
   "cell_type": "code",
   "execution_count": 137,
   "id": "df149d60-bcd8-46ec-aab9-700f584accf3",
   "metadata": {},
   "outputs": [
    {
     "name": "stdout",
     "output_type": "stream",
     "text": [
      "Heinrich Heine (1797-1856) [https://en.wikipedia.org/wiki/Heinrich_Heine]\n",
      "\n",
      "###\n",
      "\n",
      "~LOVE’S SALUTATION~\n",
      "\n",
      "    Darling maiden, who can be\n",
      "      Ever found to equal thee?\n",
      "    To thy service joyfully\n",
      "      Shall my life be pledged by me.\n",
      "\n",
      "    Thy sweet eyes gleam tenderly,\n",
      "      Like soft moonbeams o’er the sea;\n",
      "    Lights of rosy harmony\n",
      "      O’er thy red cheeks wander free.\n",
      "\n",
      "    From thy small mouth, f\n"
     ]
    }
   ],
   "source": [
    "text = ''\n",
    "\n",
    "text += 'Heinrich Heine (1797-1856) [https://en.wikipedia.org/wiki/Heinrich_Heine]'\n",
    "text += '\\n\\n###\\n\\n'\n",
    "\n",
    "for title in titles:\n",
    "    text += '~' + title + '~'\n",
    "    text += '\\n\\n'\n",
    "    text += poems_dict[title]\n",
    "    text += '\\n\\n\\n'\n",
    "        \n",
    "print(text[:400])"
   ]
  },
  {
   "cell_type": "code",
   "execution_count": 138,
   "id": "66945cac-e0ed-4bc7-a62e-d77a1c6071f8",
   "metadata": {},
   "outputs": [],
   "source": [
    "import json\n",
    "\n",
    "with open('../_text/heine.txt','w+') as f:\n",
    "    f.write(text)"
   ]
  },
  {
   "cell_type": "code",
   "execution_count": null,
   "id": "32a9cc35-9377-42f0-b6e4-63d634a78244",
   "metadata": {},
   "outputs": [],
   "source": []
  },
  {
   "cell_type": "code",
   "execution_count": null,
   "id": "6bd33ab0-4ffb-404b-b155-6ce545188e74",
   "metadata": {},
   "outputs": [],
   "source": []
  }
 ],
 "metadata": {
  "kernelspec": {
   "display_name": "Python 3",
   "language": "python",
   "name": "python3"
  },
  "language_info": {
   "codemirror_mode": {
    "name": "ipython",
    "version": 3
   },
   "file_extension": ".py",
   "mimetype": "text/x-python",
   "name": "python",
   "nbconvert_exporter": "python",
   "pygments_lexer": "ipython3",
   "version": "3.9.1"
  }
 },
 "nbformat": 4,
 "nbformat_minor": 5
}
