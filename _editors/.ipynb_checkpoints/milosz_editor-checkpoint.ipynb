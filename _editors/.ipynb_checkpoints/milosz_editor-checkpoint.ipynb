{
 "cells": [
  {
   "cell_type": "code",
   "execution_count": 1,
   "id": "d1875133-6d21-4cea-b817-e8bf4b8dab41",
   "metadata": {},
   "outputs": [],
   "source": [
    "import regex as re"
   ]
  },
  {
   "cell_type": "code",
   "execution_count": 2,
   "id": "22ea1653-e183-4add-b2af-f502f0697830",
   "metadata": {},
   "outputs": [],
   "source": [
    "file_name = '/users/thomas/desktop/poetry/_raw/milosz_raw.txt'"
   ]
  },
  {
   "cell_type": "code",
   "execution_count": 3,
   "id": "5cdb34ad-8e42-417f-b9a2-e38163a2d794",
   "metadata": {},
   "outputs": [],
   "source": [
    "with open(file_name,'r+') as f:\n",
    "    text = f.read()"
   ]
  },
  {
   "cell_type": "code",
   "execution_count": 4,
   "id": "d5a84e3a-1b3c-4b47-ae41-52c00eae969f",
   "metadata": {},
   "outputs": [],
   "source": [
    "capture_title_expr = r'\\n(\\_[0-9][.,\\n]+\\_)'\n",
    "\n",
    "title_expr = r'\\n[A-Z, ]{2,}\\n'\n",
    "\n",
    "capture_title_expr = r'\\n([A-ZÀ-Ú,\\ ,\\',\\:,\\-,\\?]{2,})\\.\\n'\n",
    "title_expr = r'\\n[A-ZÀ-Ú,\\ ,\\',\\:,\\-,\\?]{2,}\\.\\n'\n",
    "\n",
    "front_matter, body = text.split('\\n###\\n')\n",
    "#body = re.sub(capture_title_expr,r'\\n\\1\\n',body)\n",
    "\n",
    "#body = re.sub('\\n(.)',r'\\n    \\1',body)"
   ]
  },
  {
   "cell_type": "code",
   "execution_count": 5,
   "id": "a98b5bab-b161-418a-996e-71f7e3d73a3c",
   "metadata": {},
   "outputs": [
    {
     "name": "stdout",
     "output_type": "stream",
     "text": [
      "\n",
      "ACCOUNT.\n",
      "\n",
      "The history of my stupidity would fill many volumes.\n",
      "\n",
      "Some would be devoted to acting aga\n"
     ]
    }
   ],
   "source": [
    "print(body[:100])"
   ]
  },
  {
   "cell_type": "code",
   "execution_count": 6,
   "id": "6d795ae2-cd72-4162-a181-0706f374b04c",
   "metadata": {},
   "outputs": [
    {
     "name": "stdout",
     "output_type": "stream",
     "text": [
      "10 10\n",
      "['ACCOUNT' 'ARS POETICA?' 'DEDICATION' 'ENCOUNTER' 'INCANTATION'\n",
      " 'LATE RIPENESS' 'A SONG ON THE END OF THE WORLD' 'THEODICY'\n",
      " 'VENI CREATOR' 'YOU WHO WRONGED']\n"
     ]
    }
   ],
   "source": [
    "import numpy as np\n",
    "\n",
    "titles = np.array([s.upper() for s in re.findall(capture_title_expr, body)])\n",
    "poems = re.split(title_expr,body)[1:] # the first one is an empty string\n",
    "\n",
    "\n",
    "print(len(titles), len(poems))\n",
    "\n",
    "print(titles)"
   ]
  },
  {
   "cell_type": "code",
   "execution_count": 7,
   "id": "1762959b-54b7-443d-aea0-8066274c765a",
   "metadata": {},
   "outputs": [],
   "source": [
    "for unique_title in np.unique(titles):\n",
    "    \n",
    "    title_index = np.where(titles==unique_title)[0]\n",
    "    \n",
    "    if unique_title.isdigit():\n",
    "        for ii,i in enumerate(title_index):\n",
    "            titles[i] += ' UNTITLED'\n",
    "            \n",
    "    title_index = np.where(titles==unique_title)[0]\n",
    "    \n",
    "    if len(title_index) > 1:\n",
    "        for ii,i in enumerate(title_index):\n",
    "            titles[i] += ' ' + f'_{ii+1}_'"
   ]
  },
  {
   "cell_type": "code",
   "execution_count": 8,
   "id": "56a4a0f7-5b2d-4037-9230-5b298e62841c",
   "metadata": {},
   "outputs": [
    {
     "data": {
      "text/plain": [
       "<regex.Match object; span=(0, 2), match='71'>"
      ]
     },
     "execution_count": 8,
     "metadata": {},
     "output_type": "execute_result"
    }
   ],
   "source": [
    "re.match(r'[0-9]+','71')"
   ]
  },
  {
   "cell_type": "code",
   "execution_count": 9,
   "id": "c597eb6c-52f6-4916-95bf-17b9c6995482",
   "metadata": {},
   "outputs": [
    {
     "data": {
      "text/plain": [
       "'\\nThe history of my stupidity would fill many volumes.\\n\\nSome would be devoted to acting against consciousness,\\nLike the flight of a moth which, had it known,\\nWould have tended nevertheless toward the candle’s flame.\\n\\nOthers would deal with ways to silence anxiety,\\nThe little whisper which, though it is a warning, is ignored.\\n\\nI would deal separately with satisfaction and pride,\\nThe time when I was among their adherents\\nWho strut victoriously, unsuspecting.\\n\\nBut all of them would have one subject, desire,\\nIf only my own—but no, not at all; alas,\\nI was driven because I wanted to be like others.\\nI was afraid of what was wild and indecent in me.\\n\\nThe history of my stupidity will not be written.\\nFor one thing, it’s late. And the truth is laborious.\\n\\n'"
      ]
     },
     "execution_count": 9,
     "metadata": {},
     "output_type": "execute_result"
    }
   ],
   "source": [
    "poems[0]"
   ]
  },
  {
   "cell_type": "code",
   "execution_count": 13,
   "id": "e018ab9b-410a-4d5f-a8c7-7779c6d44513",
   "metadata": {},
   "outputs": [],
   "source": [
    "final  = ''\n",
    "final += front_matter + '\\n###\\n\\n'\n",
    "\n",
    "poems_dict = {}\n",
    "\n",
    "for i, (title, poem) in enumerate(zip(titles,poems)):\n",
    "        \n",
    "    poem = poem.strip('\\n')\n",
    "    poems_dict[title.upper()] = poem\n",
    "    \n",
    "    if len(poem) < 100:\n",
    "        print(title)"
   ]
  },
  {
   "cell_type": "code",
   "execution_count": 14,
   "id": "c09c023a-0194-401d-9f3f-1e2eb10686ba",
   "metadata": {},
   "outputs": [
    {
     "name": "stdout",
     "output_type": "stream",
     "text": [
      "Czesław Miłosz (1911-2004) [https://en.wikipedia.org/wiki/Czesław_Miłosz]\n",
      "\n",
      "###\n",
      "\n",
      "~ACCOUNT~\n",
      "\n",
      "The history of my stupidity would fill many volumes.\n",
      "\n",
      "Some would be devoted to acting against consciousness,\n",
      "Like the flight of a moth which, had it known,\n",
      "Would have tended nevertheless toward the candle’s flame.\n",
      "\n",
      "Others would deal with ways to silence anxiety,\n",
      "The little whisper which, though it is a warni\n"
     ]
    }
   ],
   "source": [
    "text = ''\n",
    "\n",
    "text += 'Czesław Miłosz (1911-2004) [https://en.wikipedia.org/wiki/Czesław_Miłosz]'\n",
    "text += '\\n\\n###\\n\\n'\n",
    "\n",
    "for title in titles:\n",
    "    text += '~' + title + '~'\n",
    "    text += '\\n\\n'\n",
    "    text += poems_dict[title]\n",
    "    text += '\\n\\n\\n'\n",
    "        \n",
    "print(text[:400])"
   ]
  },
  {
   "cell_type": "code",
   "execution_count": 15,
   "id": "d945b566-6fa7-4314-ae46-dcba67b118dd",
   "metadata": {},
   "outputs": [],
   "source": [
    "import json\n",
    "\n",
    "with open('../_text/milosz.txt','w+') as f:\n",
    "    f.write(text)"
   ]
  },
  {
   "cell_type": "code",
   "execution_count": 23,
   "id": "870b60d4-0695-4436-9c87-3d70e4d988bd",
   "metadata": {},
   "outputs": [
    {
     "name": "stdout",
     "output_type": "stream",
     "text": [
      "A SONG ON THE END OF THE WORLD\n",
      "On the day the world ends\n",
      "A bee circles a clover,\n",
      "A fisherman mends a glimmering net.\n",
      "Happy porpoises jump in the sea,\n",
      "By the rainspout young sparrows are playing\n",
      "And the snake is gold-skinned as it should always be.\n",
      "         \n",
      "On the day the world ends\n",
      "Women walk through the fields under their umbrellas,\n",
      "A drunkard grows sleepy at the edge of a lawn,\n",
      "Vegetable peddlers shout in the street\n",
      "And a yellow-sailed boat comes nearer the island,\n",
      "The voice of a violin lasts in the air\n",
      "And leads into a starry night.\n",
      "\n",
      "And those who expected lightning and thunder\n",
      "Are disappointed.\n",
      "And those who expected signs and archangels’ trumps\n",
      "Do not believe it is happening now.\n",
      "As long as the sun and the moon are above,\n",
      "As long as the bumblebee visits a rose,\n",
      "As long as rosy infants are born\n",
      "No one believes it is happening now.\n",
      "\n",
      "Only a white-haired old man, who would be a prophet\n",
      "Yet is not a prophet, for he’s much too busy,\n",
      "Repeats while he binds his tomatoes:\n",
      "There will be no other end of the world,\n",
      "There will be no other end of the world.\n"
     ]
    },
    {
     "data": {
      "text/plain": [
       "(None, None)"
      ]
     },
     "execution_count": 23,
     "metadata": {},
     "output_type": "execute_result"
    }
   ],
   "source": [
    "import numpy as np\n",
    "title = np.random.choice(titles)\n",
    "print(title),print(poems_dict[title])\n"
   ]
  },
  {
   "cell_type": "code",
   "execution_count": 13,
   "id": "51228d36-9128-440c-a842-58c0162ef247",
   "metadata": {},
   "outputs": [],
   "source": [
    "poems_dict['poet_name']   = 'Czesław Miłosz'\n",
    "poems_dict['poet_birth']  = 1911\n",
    "poems_dict['poet_death']  = 2004\n",
    "poems_dict['poet_link']   = 'https://en.wikipedia.org/wiki/Czesław_Miłosz'"
   ]
  },
  {
   "cell_type": "code",
   "execution_count": 15,
   "id": "e4341cea-8079-45b3-a2ee-06d076e9006e",
   "metadata": {},
   "outputs": [],
   "source": [
    "import json\n",
    "\n",
    "with open('/users/thomas/desktop/poetry/poemsfromtom/poems/milosz.json', 'w+') as f:\n",
    "    json.dump(poems_dict, f)\n",
    "\n",
    "with open('/users/thomas/desktop/poetry/milosz.txt','w+') as f:\n",
    "    f.write(final)"
   ]
  },
  {
   "cell_type": "code",
   "execution_count": null,
   "id": "492a0a22-c1a1-4cfc-bc97-47e12660390a",
   "metadata": {},
   "outputs": [],
   "source": []
  }
 ],
 "metadata": {
  "kernelspec": {
   "display_name": "Python 3",
   "language": "python",
   "name": "python3"
  },
  "language_info": {
   "codemirror_mode": {
    "name": "ipython",
    "version": 3
   },
   "file_extension": ".py",
   "mimetype": "text/x-python",
   "name": "python",
   "nbconvert_exporter": "python",
   "pygments_lexer": "ipython3",
   "version": "3.9.1"
  }
 },
 "nbformat": 4,
 "nbformat_minor": 5
}
