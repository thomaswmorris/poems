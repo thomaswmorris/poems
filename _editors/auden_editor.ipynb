{
 "cells": [
  {
   "cell_type": "code",
   "execution_count": 40,
   "id": "d1875133-6d21-4cea-b817-e8bf4b8dab41",
   "metadata": {},
   "outputs": [],
   "source": [
    "import regex as re"
   ]
  },
  {
   "cell_type": "code",
   "execution_count": 41,
   "id": "22ea1653-e183-4add-b2af-f502f0697830",
   "metadata": {},
   "outputs": [],
   "source": [
    "file_name = '/users/thomas/desktop/poetry/_raw/auden_raw.txt'"
   ]
  },
  {
   "cell_type": "code",
   "execution_count": 42,
   "id": "5cdb34ad-8e42-417f-b9a2-e38163a2d794",
   "metadata": {},
   "outputs": [],
   "source": [
    "with open(file_name,'r+') as f:\n",
    "    text = f.read()"
   ]
  },
  {
   "cell_type": "code",
   "execution_count": 43,
   "id": "d5a84e3a-1b3c-4b47-ae41-52c00eae969f",
   "metadata": {},
   "outputs": [],
   "source": [
    "\n",
    "\n",
    "capture_title_expr = r'\\n([A-ZÀ-Ú,\\ ,\\',\\:,\\-]{2,})\\.\\n'\n",
    "title_expr = r'\\n[A-ZÀ-Ú,\\ ,\\',\\:,\\-]{2,}\\.\\n'\n",
    "\n",
    "front_matter, body = text.split('\\n###\\n')\n",
    "#body = re.sub(capture_title_expr,r'\\n\\1\\n',body)\n",
    "\n",
    "#body = re.sub('\\n(.)',r'\\n    \\1',body)"
   ]
  },
  {
   "cell_type": "code",
   "execution_count": null,
   "id": "0e77b0bc-5ab3-4607-851c-fcbfc041c142",
   "metadata": {},
   "outputs": [],
   "source": []
  },
  {
   "cell_type": "code",
   "execution_count": 44,
   "id": "a98b5bab-b161-418a-996e-71f7e3d73a3c",
   "metadata": {},
   "outputs": [
    {
     "name": "stdout",
     "output_type": "stream",
     "text": [
      "\n",
      "\n",
      "THE FALL OF ROME.\n",
      "\n",
      "The piers are pummelled by the waves;\n",
      "In a lonely field the rain\n",
      "Lashes an aban\n"
     ]
    }
   ],
   "source": [
    "print(body[:100])"
   ]
  },
  {
   "cell_type": "code",
   "execution_count": 45,
   "id": "6d795ae2-cd72-4162-a181-0706f374b04c",
   "metadata": {},
   "outputs": [
    {
     "name": "stdout",
     "output_type": "stream",
     "text": [
      "7 7\n",
      "['THE FALL OF ROME' 'MUSÉE DES BEAUX ARTS'\n",
      " 'STOP ALL THE CLOCKS, CUT OFF THE TELEPHONE' 'THE SHIELD OF ACHILLES'\n",
      " \"AFTER READING A CHILD'S GUIDE TO MODERN PHYSICS\" 'THE UNKNOWN CITIZEN'\n",
      " 'THE MORE LOVING ONE']\n"
     ]
    }
   ],
   "source": [
    "import numpy as np\n",
    "\n",
    "titles = np.array([s.upper() for s in re.findall(capture_title_expr, body)])\n",
    "poems = re.split(title_expr,body)[1:] # the first one is an empty string\n",
    "\n",
    "\n",
    "print(len(titles), len(poems))\n",
    "\n",
    "print(titles)"
   ]
  },
  {
   "cell_type": "code",
   "execution_count": 46,
   "id": "1762959b-54b7-443d-aea0-8066274c765a",
   "metadata": {},
   "outputs": [],
   "source": [
    "for unique_title in np.unique(titles):\n",
    "    \n",
    "    title_index = np.where(titles==unique_title)[0]\n",
    "    \n",
    "    if unique_title.isdigit():\n",
    "        for ii,i in enumerate(title_index):\n",
    "            titles[i] += ' UNTITLED'\n",
    "            \n",
    "    title_index = np.where(titles==unique_title)[0]\n",
    "    \n",
    "    if len(title_index) > 1:\n",
    "        for ii,i in enumerate(title_index):\n",
    "            titles[i] += ' ' + f'_{ii+1}_'"
   ]
  },
  {
   "cell_type": "code",
   "execution_count": 47,
   "id": "56a4a0f7-5b2d-4037-9230-5b298e62841c",
   "metadata": {},
   "outputs": [
    {
     "data": {
      "text/plain": [
       "<regex.Match object; span=(0, 2), match='71'>"
      ]
     },
     "execution_count": 47,
     "metadata": {},
     "output_type": "execute_result"
    }
   ],
   "source": [
    "re.match(r'[0-9]+','71')"
   ]
  },
  {
   "cell_type": "code",
   "execution_count": 48,
   "id": "c597eb6c-52f6-4916-95bf-17b9c6995482",
   "metadata": {},
   "outputs": [
    {
     "data": {
      "text/plain": [
       "\"\\nThe piers are pummelled by the waves;\\nIn a lonely field the rain\\nLashes an abandoned train;\\nOutlaws fill the mountain caves.\\n\\nFantastic grow the evening gowns;\\nAgents of the Fisc pursue\\nAbsconding tax-defaulters through\\nThe sewers of provincial towns.\\n\\nPrivate rites of magic send\\nThe temple prostitutes to sleep;\\nAll the literati keep\\nAn imaginary friend.\\n\\nCerebrotonic Cato may\\nExtol the Ancient Disciplines,\\nBut the muscle-bound Marines\\nMutiny for food and pay.\\n\\nCaesar's double-bed is warm\\nAs an unimportant clerk\\nWrites I DO NOT LIKE MY WORK\\nOn a pink official form.\\n\\nUnendowed with wealth or pity,\\nLittle birds with scarlet legs,\\nSitting on their speckled eggs,\\nEye each flu-infected city.\\n\\nAltogether elsewhere, vast\\nHerds of reindeer move across\\nMiles and miles of golden moss,\\nSilently and very fast.\\n\\n\""
      ]
     },
     "execution_count": 48,
     "metadata": {},
     "output_type": "execute_result"
    }
   ],
   "source": [
    "poems[0]"
   ]
  },
  {
   "cell_type": "code",
   "execution_count": 49,
   "id": "3fc6af65-676e-4478-ba6c-1bb70914dc32",
   "metadata": {},
   "outputs": [],
   "source": [
    "final  = ''\n",
    "final += front_matter + '\\n###\\n\\n'\n",
    "\n",
    "poems_dict = {}\n",
    "\n",
    "for i, (title, poem) in enumerate(zip(titles,poems)):\n",
    "        \n",
    "    poem = poem[::-1].rstrip()[::-1].rstrip()\n",
    "    #poem = re.sub('\\n(.)',r'\\n    \\1',poem)\n",
    "    poems_dict[title.upper()] = poem\n",
    "    \n",
    "    final += f'\\n{title.upper()}\\n'\n",
    "    final += re.sub(r'\\n{4,}','\\n\\n\\n',poem)[:-1]"
   ]
  },
  {
   "cell_type": "code",
   "execution_count": 50,
   "id": "7d2b0690-5396-4f76-9aa2-d1b12bd7b0cd",
   "metadata": {},
   "outputs": [],
   "source": [
    "#final"
   ]
  },
  {
   "cell_type": "code",
   "execution_count": 51,
   "id": "870b60d4-0695-4436-9c87-3d70e4d988bd",
   "metadata": {},
   "outputs": [
    {
     "name": "stdout",
     "output_type": "stream",
     "text": [
      "THE FALL OF ROME\n",
      "The piers are pummelled by the waves;\n",
      "In a lonely field the rain\n",
      "Lashes an abandoned train;\n",
      "Outlaws fill the mountain caves.\n",
      "\n",
      "Fantastic grow the evening gowns;\n",
      "Agents of the Fisc pursue\n",
      "Absconding tax-defaulters through\n",
      "The sewers of provincial towns.\n",
      "\n",
      "Private rites of magic send\n",
      "The temple prostitutes to sleep;\n",
      "All the literati keep\n",
      "An imaginary friend.\n",
      "\n",
      "Cerebrotonic Cato may\n",
      "Extol the Ancient Disciplines,\n",
      "But the muscle-bound Marines\n",
      "Mutiny for food and pay.\n",
      "\n",
      "Caesar's double-bed is warm\n",
      "As an unimportant clerk\n",
      "Writes I DO NOT LIKE MY WORK\n",
      "On a pink official form.\n",
      "\n",
      "Unendowed with wealth or pity,\n",
      "Little birds with scarlet legs,\n",
      "Sitting on their speckled eggs,\n",
      "Eye each flu-infected city.\n",
      "\n",
      "Altogether elsewhere, vast\n",
      "Herds of reindeer move across\n",
      "Miles and miles of golden moss,\n",
      "Silently and very fast.\n"
     ]
    },
    {
     "data": {
      "text/plain": [
       "(None, None)"
      ]
     },
     "execution_count": 51,
     "metadata": {},
     "output_type": "execute_result"
    }
   ],
   "source": [
    "import numpy as np\n",
    "title = np.random.choice(titles)\n",
    "print(title),print(poems_dict[title])\n"
   ]
  },
  {
   "cell_type": "code",
   "execution_count": 52,
   "id": "7850d2a3-1ed7-47ea-93b1-64fb17419d19",
   "metadata": {},
   "outputs": [],
   "source": [
    "text = ''\n",
    "\n",
    "text += 'W. H. Auden (1907-1973) [https://en.wikipedia.org/wiki/W._H._Auden]'\n",
    "text += '\\n\\n###\\n\\n'\n",
    "\n",
    "for title in titles:\n",
    "    text += '~' + title + '~'\n",
    "    text += '\\n\\n'\n",
    "    text += poems_dict[title]\n",
    "    text += '\\n\\n\\n'\n",
    "        \n",
    "#print(text)"
   ]
  },
  {
   "cell_type": "code",
   "execution_count": 56,
   "id": "e90b7084-8954-41ed-a853-9b19be46a2ed",
   "metadata": {},
   "outputs": [],
   "source": [
    "import json\n",
    "\n",
    "with open('../_text/auden.txt','w+') as f:\n",
    "    f.write(text)"
   ]
  },
  {
   "cell_type": "code",
   "execution_count": 29,
   "id": "51228d36-9128-440c-a842-58c0162ef247",
   "metadata": {},
   "outputs": [],
   "source": [
    "poems_dict['poet_name']   = 'W. H. Auden'\n",
    "poems_dict['poet_birth']  = 1907\n",
    "poems_dict['poet_death']  = 1973\n",
    "poems_dict['poet_link']   = 'https://en.wikipedia.org/wiki/W._H._Auden'"
   ]
  }
 ],
 "metadata": {
  "kernelspec": {
   "display_name": "Python 3",
   "language": "python",
   "name": "python3"
  },
  "language_info": {
   "codemirror_mode": {
    "name": "ipython",
    "version": 3
   },
   "file_extension": ".py",
   "mimetype": "text/x-python",
   "name": "python",
   "nbconvert_exporter": "python",
   "pygments_lexer": "ipython3",
   "version": "3.9.1"
  }
 },
 "nbformat": 4,
 "nbformat_minor": 5
}
