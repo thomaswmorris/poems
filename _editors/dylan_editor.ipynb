{
 "cells": [
  {
   "cell_type": "code",
   "execution_count": 23,
   "id": "d1875133-6d21-4cea-b817-e8bf4b8dab41",
   "metadata": {},
   "outputs": [],
   "source": [
    "import regex as re"
   ]
  },
  {
   "cell_type": "code",
   "execution_count": 24,
   "id": "22ea1653-e183-4add-b2af-f502f0697830",
   "metadata": {},
   "outputs": [],
   "source": [
    "file_name = '/users/thomas/desktop/packages/poetry/_raw/dylan_raw.txt'"
   ]
  },
  {
   "cell_type": "code",
   "execution_count": 25,
   "id": "5cdb34ad-8e42-417f-b9a2-e38163a2d794",
   "metadata": {},
   "outputs": [],
   "source": [
    "with open(file_name,'r+') as f:\n",
    "    text = f.read()"
   ]
  },
  {
   "cell_type": "code",
   "execution_count": 26,
   "id": "d5a84e3a-1b3c-4b47-ae41-52c00eae969f",
   "metadata": {},
   "outputs": [],
   "source": [
    "capture_title_expr = r'\\n(\\_[0-9][.,\\n]+\\_)'\n",
    "\n",
    "title_expr = r'\\n[A-Z, ]{2,}\\n'\n",
    "\n",
    "capture_title_expr = r'\\n([A-Z,\\ ,\\',\\:,\\-]{2,})\\n'\n",
    "title_expr = r'\\n[A-Z,\\ ,\\',\\:,\\-]{2,}\\n'\n",
    "\n",
    "front_matter, body = text.split('\\n###\\n')\n",
    "#body = re.sub(capture_title_expr,r'\\n\\1\\n',body)\n",
    "\n",
    "#body = re.sub('\\n(.)',r'\\n    \\1',body)"
   ]
  },
  {
   "cell_type": "code",
   "execution_count": 27,
   "id": "a98b5bab-b161-418a-996e-71f7e3d73a3c",
   "metadata": {},
   "outputs": [
    {
     "name": "stdout",
     "output_type": "stream",
     "text": [
      "\n",
      "\n",
      "TO RAMONA\n",
      "\n",
      "Ramona, come closer\n",
      "Shut softly your watery eyes\n",
      "The pangs of your sadness\n",
      "Will pass as\n"
     ]
    }
   ],
   "source": [
    "print(body[:100])"
   ]
  },
  {
   "cell_type": "code",
   "execution_count": 28,
   "id": "6d795ae2-cd72-4162-a181-0706f374b04c",
   "metadata": {},
   "outputs": [
    {
     "name": "stdout",
     "output_type": "stream",
     "text": [
      "12 12\n",
      "['TO RAMONA' 'LAST THOUGHTS ON WOODY GUTHRIE' 'DESOLATION ROW'\n",
      " 'EVERY GRAIN OF SAND' 'TANGLED UP IN BLUE'\n",
      " \"IT'S ALRIGHT MA, I'M ONLY BLEEDING\" 'WATERED DOWN LOVE'\n",
      " 'LOVE IS JUST A FOUR-LETTER WORD' 'CHANGING OF THE GUARD'\n",
      " 'VISIONS OF JOHANNA' 'MOST OF THE TIME' 'NOT DARK YET']\n"
     ]
    }
   ],
   "source": [
    "import numpy as np\n",
    "\n",
    "titles = np.array([s.upper() for s in re.findall(capture_title_expr, body)])\n",
    "poems = re.split(title_expr,body)[1:] # the first one is an empty string\n",
    "\n",
    "\n",
    "print(len(titles), len(poems))\n",
    "\n",
    "print(titles)"
   ]
  },
  {
   "cell_type": "code",
   "execution_count": 29,
   "id": "1762959b-54b7-443d-aea0-8066274c765a",
   "metadata": {},
   "outputs": [],
   "source": [
    "for unique_title in np.unique(titles):\n",
    "    \n",
    "    title_index = np.where(titles==unique_title)[0]\n",
    "    \n",
    "    if unique_title.isdigit():\n",
    "        for ii,i in enumerate(title_index):\n",
    "            titles[i] += ' UNTITLED'\n",
    "            \n",
    "    title_index = np.where(titles==unique_title)[0]\n",
    "    \n",
    "    if len(title_index) > 1:\n",
    "        for ii,i in enumerate(title_index):\n",
    "            titles[i] += ' ' + f'_{ii+1}_'"
   ]
  },
  {
   "cell_type": "code",
   "execution_count": 30,
   "id": "56a4a0f7-5b2d-4037-9230-5b298e62841c",
   "metadata": {},
   "outputs": [
    {
     "data": {
      "text/plain": [
       "<regex.Match object; span=(0, 2), match='71'>"
      ]
     },
     "execution_count": 30,
     "metadata": {},
     "output_type": "execute_result"
    }
   ],
   "source": [
    "re.match(r'[0-9]+','71')"
   ]
  },
  {
   "cell_type": "code",
   "execution_count": 31,
   "id": "c597eb6c-52f6-4916-95bf-17b9c6995482",
   "metadata": {},
   "outputs": [],
   "source": [
    "#poems[0]"
   ]
  },
  {
   "cell_type": "code",
   "execution_count": 32,
   "id": "3fc6af65-676e-4478-ba6c-1bb70914dc32",
   "metadata": {},
   "outputs": [],
   "source": [
    "final  = ''\n",
    "final += front_matter + '\\n###\\n\\n'\n",
    "\n",
    "poems_dict = {}\n",
    "\n",
    "for i, (title, poem) in enumerate(zip(titles,poems)):\n",
    "        \n",
    "    #poem = re.sub('\\_','',poem)\n",
    "    poem = re.sub('\\n(.)',r'\\n    \\1',poem)\n",
    "    poems_dict[title.upper()] = poem\n",
    "    \n",
    "    final += f'\\n{title.upper()}\\n'\n",
    "    final += re.sub(r'\\n{4,}','\\n\\n\\n',poem)[:-1]"
   ]
  },
  {
   "cell_type": "code",
   "execution_count": 33,
   "id": "141d1c22-800f-4e0f-84f7-4a6942deae66",
   "metadata": {},
   "outputs": [
    {
     "name": "stdout",
     "output_type": "stream",
     "text": [
      "Bob Dylan (1941-) [https://en.wikipedia.org/wiki/Bob_Dylan]\n",
      "\n",
      "###\n",
      "\n",
      "~TO RAMONA~\n",
      "\n",
      "\n",
      "    Ramona, come closer\n",
      "    Shut softly your watery eyes\n",
      "    The pangs of your sadness\n",
      "    Will pass as your senses will rise\n",
      "    The flowers of the city\n",
      "    Though breathlike, get deathlike sometimes\n",
      "    And there's no use in tryin'\n",
      "    To deal with the dyin'\n",
      "    Though I cannot explain that in lines.\n",
      "\n",
      "    Your cracke\n"
     ]
    }
   ],
   "source": [
    "text = ''\n",
    "\n",
    "text += 'Bob Dylan (1941-) [https://en.wikipedia.org/wiki/Bob_Dylan]'\n",
    "text += '\\n\\n###\\n\\n'\n",
    "\n",
    "for title in titles:\n",
    "    text += '~' + title + '~'\n",
    "    text += '\\n\\n'\n",
    "    text += poems_dict[title]\n",
    "    text += '\\n\\n\\n'\n",
    "        \n",
    "print(text[:400])"
   ]
  },
  {
   "cell_type": "code",
   "execution_count": 34,
   "id": "ab3919ac-040d-4662-b7ee-c2486c76bdac",
   "metadata": {},
   "outputs": [],
   "source": [
    "import json\n",
    "\n",
    "with open('../_text/dylan.txt','w+') as f:\n",
    "    f.write(text)"
   ]
  },
  {
   "cell_type": "code",
   "execution_count": 35,
   "id": "7d2b0690-5396-4f76-9aa2-d1b12bd7b0cd",
   "metadata": {},
   "outputs": [
    {
     "data": {
      "text/plain": [
       "['TO RAMONA',\n",
       " 'LAST THOUGHTS ON WOODY GUTHRIE',\n",
       " 'DESOLATION ROW',\n",
       " 'EVERY GRAIN OF SAND',\n",
       " 'TANGLED UP IN BLUE',\n",
       " \"IT'S ALRIGHT MA, I'M ONLY BLEEDING\",\n",
       " 'WATERED DOWN LOVE',\n",
       " 'LOVE IS JUST A FOUR-LETTER WORD',\n",
       " 'CHANGING OF THE GUARD',\n",
       " 'VISIONS OF JOHANNA',\n",
       " 'MOST OF THE TIME',\n",
       " 'NOT DARK YET']"
      ]
     },
     "execution_count": 35,
     "metadata": {},
     "output_type": "execute_result"
    }
   ],
   "source": [
    "list(poems_dict)"
   ]
  },
  {
   "cell_type": "code",
   "execution_count": 20,
   "id": "870b60d4-0695-4436-9c87-3d70e4d988bd",
   "metadata": {},
   "outputs": [],
   "source": [
    "import numpy as np\n",
    "title = np.random.choice(titles)\n",
    "#print(title),print(poems_dict[title])\n"
   ]
  },
  {
   "cell_type": "code",
   "execution_count": null,
   "id": "6c56b926-c588-4bd2-9101-e479ea01fae9",
   "metadata": {},
   "outputs": [],
   "source": []
  }
 ],
 "metadata": {
  "kernelspec": {
   "display_name": "Python 3",
   "language": "python",
   "name": "python3"
  },
  "language_info": {
   "codemirror_mode": {
    "name": "ipython",
    "version": 3
   },
   "file_extension": ".py",
   "mimetype": "text/x-python",
   "name": "python",
   "nbconvert_exporter": "python",
   "pygments_lexer": "ipython3",
   "version": "3.9.1"
  }
 },
 "nbformat": 4,
 "nbformat_minor": 5
}
