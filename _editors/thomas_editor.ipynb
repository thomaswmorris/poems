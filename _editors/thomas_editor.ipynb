{
 "cells": [
  {
   "cell_type": "code",
   "execution_count": 1,
   "id": "d1875133-6d21-4cea-b817-e8bf4b8dab41",
   "metadata": {},
   "outputs": [],
   "source": [
    "import regex as re"
   ]
  },
  {
   "cell_type": "code",
   "execution_count": 2,
   "id": "22ea1653-e183-4add-b2af-f502f0697830",
   "metadata": {},
   "outputs": [],
   "source": [
    "file_name = '/users/thomas/desktop/poetry/_raw/thomas_raw.txt'"
   ]
  },
  {
   "cell_type": "code",
   "execution_count": 3,
   "id": "5cdb34ad-8e42-417f-b9a2-e38163a2d794",
   "metadata": {},
   "outputs": [],
   "source": [
    "with open(file_name,'r+') as f:\n",
    "    text = f.read()"
   ]
  },
  {
   "cell_type": "code",
   "execution_count": 4,
   "id": "d5a84e3a-1b3c-4b47-ae41-52c00eae969f",
   "metadata": {},
   "outputs": [],
   "source": [
    "capture_title_expr = r'\\n(\\_[0-9][.,\\n]+\\_)'\n",
    "\n",
    "title_expr = r'\\n[A-Z, ]{2,}\\n'\n",
    "\n",
    "capture_title_expr = r'\\n([A-Z,\\ ,\\',\\:,\\-]{2,})\\.\\n'\n",
    "title_expr = r'\\n[A-Z,\\ ,\\',\\:,\\-]{2,}\\.\\n'\n",
    "\n",
    "front_matter, body = text.split('\\n###\\n')\n",
    "#body = re.sub(capture_title_expr,r'\\n\\1\\n',body)\n",
    "\n",
    "#body = re.sub('\\n(.)',r'\\n    \\1',body)"
   ]
  },
  {
   "cell_type": "code",
   "execution_count": 5,
   "id": "a98b5bab-b161-418a-996e-71f7e3d73a3c",
   "metadata": {},
   "outputs": [
    {
     "name": "stdout",
     "output_type": "stream",
     "text": [
      "\n",
      "\n",
      "ESPECIALLY WHEN THE OCTOBER WIND.\n",
      "\n",
      "Especially when the October wind \n",
      "With frosty fingers punishes \n"
     ]
    }
   ],
   "source": [
    "print(body[:100])"
   ]
  },
  {
   "cell_type": "code",
   "execution_count": 6,
   "id": "6d795ae2-cd72-4162-a181-0706f374b04c",
   "metadata": {},
   "outputs": [
    {
     "name": "stdout",
     "output_type": "stream",
     "text": [
      "8 8\n",
      "['ESPECIALLY WHEN THE OCTOBER WIND' 'FERN HILL'\n",
      " 'THE SONG OF THE MISCHIEVOUS DOG' 'OUR EUNUCH DREAMS'\n",
      " 'YOUR BREATH WAS SHED' 'I SEE THE BOYS OF SUMMER'\n",
      " 'MY HERO BARES HIS NERVES' 'DO NOT GO GENTLE INTO THAT GOOD NIGHT']\n"
     ]
    }
   ],
   "source": [
    "import numpy as np\n",
    "\n",
    "titles = np.array([s.upper() for s in re.findall(capture_title_expr, body)])\n",
    "poems = re.split(title_expr,body)[1:] # the first one is an empty string\n",
    "\n",
    "\n",
    "print(len(titles), len(poems))\n",
    "\n",
    "print(titles)"
   ]
  },
  {
   "cell_type": "code",
   "execution_count": 7,
   "id": "1762959b-54b7-443d-aea0-8066274c765a",
   "metadata": {},
   "outputs": [],
   "source": [
    "for unique_title in np.unique(titles):\n",
    "    \n",
    "    title_index = np.where(titles==unique_title)[0]\n",
    "    \n",
    "    if unique_title.isdigit():\n",
    "        for ii,i in enumerate(title_index):\n",
    "            titles[i] += ' UNTITLED'\n",
    "            \n",
    "    title_index = np.where(titles==unique_title)[0]\n",
    "    \n",
    "    if len(title_index) > 1:\n",
    "        for ii,i in enumerate(title_index):\n",
    "            titles[i] += ' ' + f'_{ii+1}_'"
   ]
  },
  {
   "cell_type": "code",
   "execution_count": 8,
   "id": "56a4a0f7-5b2d-4037-9230-5b298e62841c",
   "metadata": {},
   "outputs": [
    {
     "data": {
      "text/plain": [
       "<regex.Match object; span=(0, 2), match='71'>"
      ]
     },
     "execution_count": 8,
     "metadata": {},
     "output_type": "execute_result"
    }
   ],
   "source": [
    "re.match(r'[0-9]+','71')"
   ]
  },
  {
   "cell_type": "code",
   "execution_count": 9,
   "id": "c597eb6c-52f6-4916-95bf-17b9c6995482",
   "metadata": {},
   "outputs": [
    {
     "data": {
      "text/plain": [
       "\"\\nEspecially when the October wind \\nWith frosty fingers punishes my hair, \\nCaught by the crabbing sun I walk on fire \\nAnd cast a shadow crab upon the land, \\nBy the sea's side, hearing the noise of birds, \\nHearing the raven cough in winter sticks, \\nMy busy heart who shudders as she talks \\nSheds the syllabic blood and drains her words. \\n\\nShut, too, in a tower of words, I mark \\nOn the horizon walking like the trees \\nThe wordy shapes of women, and the rows \\nOf the star-gestured children in the park. \\nSome let me make you of the vowelled beeches, \\nSome of the oaken voices, from the roots \\nOf many a thorny shire tell you notes, \\nSome let me make you of the water's speeches. \\n\\nBehind a pot of ferns the wagging clock \\nTells me the hour's word, the neural meaning \\nFlies on the shafted disk, declaims the morning \\nAnd tells the windy weather in the cock. \\nSome let me make you of the meadow's signs; \\nThe signal grass that tells me all I know \\nBreaks with the wormy winter through the eye. \\nSome let me tell you of the raven's sins. \\n\\nEspecially when the October wind \\n(Some let me make you of autumnal spells, \\nThe spider-tongued, and the loud hill of Wales) \\nWith fists of turnips punishes the land, \\nSome let me make you of the heartless words. \\nThe heart is drained that, spelling in the scurry \\nOf chemic blood, warned of the coming fury. \\nBy the sea's side hear the dark-vowelled birds.\\n\\n\\n\""
      ]
     },
     "execution_count": 9,
     "metadata": {},
     "output_type": "execute_result"
    }
   ],
   "source": [
    "poems[0]"
   ]
  },
  {
   "cell_type": "code",
   "execution_count": 10,
   "id": "b494d561-4a77-444c-ad6b-3a4afcb8509e",
   "metadata": {},
   "outputs": [],
   "source": [
    "final  = ''\n",
    "final += front_matter + '\\n###\\n\\n'\n",
    "\n",
    "poems_dict = {}\n",
    "\n",
    "for i, (title, poem) in enumerate(zip(titles,poems)):\n",
    "        \n",
    "    poem = poem.strip('\\n')\n",
    "    poems_dict[title.upper()] = poem\n",
    "    \n",
    "    if len(poem) < 100:\n",
    "        print(title,poem)"
   ]
  },
  {
   "cell_type": "code",
   "execution_count": 11,
   "id": "a7f715b0-7d28-4903-8cc8-ec7e5c672f99",
   "metadata": {},
   "outputs": [],
   "source": [
    "#poems_dict"
   ]
  },
  {
   "cell_type": "code",
   "execution_count": 12,
   "id": "e3ad19aa-0e31-45ce-9b43-22e4b9fce7e1",
   "metadata": {},
   "outputs": [
    {
     "name": "stdout",
     "output_type": "stream",
     "text": [
      "Dylan Thomas (1915-1953) [https://en.wikipedia.org/wiki/Dylan_Thomas]\n",
      "\n",
      "###\n",
      "\n",
      "~ESPECIALLY WHEN THE OCTOBER WIND~\n",
      "\n",
      "Especially when the October wind \n",
      "With frosty fingers punishes my hair, \n",
      "Caught by the crabbing sun I walk on fire \n",
      "And cast a shadow crab upon the land, \n",
      "By the sea's side, hearing the noise of birds, \n",
      "Hearing the raven cough in winter sticks, \n",
      "My busy heart who shudders as she talks \n",
      "S\n"
     ]
    }
   ],
   "source": [
    "text = ''\n",
    "\n",
    "text += 'Dylan Thomas (1915-1953) [https://en.wikipedia.org/wiki/Dylan_Thomas]'\n",
    "text += '\\n\\n###\\n\\n'\n",
    "\n",
    "for title in titles:\n",
    "    text += '~' + title + '~'\n",
    "    text += '\\n\\n'\n",
    "    text += poems_dict[title]\n",
    "    text += '\\n\\n\\n'\n",
    "        \n",
    "print(text[:400])"
   ]
  },
  {
   "cell_type": "code",
   "execution_count": 13,
   "id": "e8a6a6fb-2a97-4084-a041-ef11aab06b3d",
   "metadata": {},
   "outputs": [],
   "source": [
    "import json\n",
    "\n",
    "with open('../_text/thomas.txt','w+') as f:\n",
    "    f.write(text)"
   ]
  },
  {
   "cell_type": "code",
   "execution_count": null,
   "id": "f00f3bc9-149d-4a73-a062-d4d4ac364992",
   "metadata": {},
   "outputs": [],
   "source": []
  }
 ],
 "metadata": {
  "kernelspec": {
   "display_name": "Python 3",
   "language": "python",
   "name": "python3"
  },
  "language_info": {
   "codemirror_mode": {
    "name": "ipython",
    "version": 3
   },
   "file_extension": ".py",
   "mimetype": "text/x-python",
   "name": "python",
   "nbconvert_exporter": "python",
   "pygments_lexer": "ipython3",
   "version": "3.9.1"
  }
 },
 "nbformat": 4,
 "nbformat_minor": 5
}
