{
 "cells": [
  {
   "cell_type": "code",
   "execution_count": 106,
   "id": "d1875133-6d21-4cea-b817-e8bf4b8dab41",
   "metadata": {},
   "outputs": [],
   "source": [
    "import regex as re"
   ]
  },
  {
   "cell_type": "code",
   "execution_count": 107,
   "id": "22ea1653-e183-4add-b2af-f502f0697830",
   "metadata": {},
   "outputs": [],
   "source": [
    "file_name = '/users/thomas/desktop/packages/poetry/_raw/heine_raw.txt'\n",
    "with open(file_name,'r+') as f:\n",
    "    text = f.read()"
   ]
  },
  {
   "cell_type": "code",
   "execution_count": 108,
   "id": "af9a5b4b-4d01-4ceb-ada3-ade28cfe44ad",
   "metadata": {},
   "outputs": [],
   "source": [
    "#text"
   ]
  },
  {
   "cell_type": "code",
   "execution_count": 109,
   "id": "1594f2b6-ec8f-4f94-9b6d-c08b90213ecd",
   "metadata": {},
   "outputs": [],
   "source": [
    "capture_title_expr = r'\\n[0-9,\\.]*\\ *([^a-z\\n]{4,})\\.\\n'\n",
    "\n",
    "title_expr = r'\\n[0-9,\\.]*\\ *[^a-z\\n]{4,}\\.\\n'\n",
    "\n",
    "front_matter, body = text.split('\\n###\\n')\n",
    "#body = re.sub(capture_title_expr,r'\\n\\1\\n',body)"
   ]
  },
  {
   "cell_type": "code",
   "execution_count": null,
   "id": "37e45ea7-70ff-4207-a011-40da40f830f9",
   "metadata": {},
   "outputs": [],
   "source": []
  },
  {
   "cell_type": "code",
   "execution_count": 110,
   "id": "ad6d5ac3-fd9f-4cdb-bf24-d163df6e08d5",
   "metadata": {},
   "outputs": [],
   "source": [
    "body = re.sub('\\[[0-9]+\\]','',body)"
   ]
  },
  {
   "cell_type": "code",
   "execution_count": 111,
   "id": "43d209e1-dc37-41dc-8c40-b635aeccb1f4",
   "metadata": {},
   "outputs": [
    {
     "data": {
      "text/plain": [
       "(238, 238)"
      ]
     },
     "execution_count": 111,
     "metadata": {},
     "output_type": "execute_result"
    }
   ],
   "source": [
    "import numpy as np\n",
    "\n",
    "titles = np.array([s.upper() for s in re.findall(capture_title_expr, body)])\n",
    "poems = re.split(title_expr,body)[1:] # the first one is an empty string\n",
    "\n",
    "len(titles), len(poems)"
   ]
  },
  {
   "cell_type": "code",
   "execution_count": 112,
   "id": "492f75e1-f6a2-4f4e-a5e1-23fe1b9d8164",
   "metadata": {},
   "outputs": [],
   "source": [
    "#poems"
   ]
  },
  {
   "cell_type": "code",
   "execution_count": 113,
   "id": "de265a3a-3fe4-4913-a68b-895959163c4a",
   "metadata": {},
   "outputs": [
    {
     "data": {
      "text/plain": [
       "array(['LOVE’S SALUTATION', 'LOVE’S LAMENT', 'YEARNING',\n",
       "       'THE WHITE FLOWER', 'GERMANY', 'DREAM', 'THE CONSECRATION',\n",
       "       'THE MOOR’S SERENADE', 'DREAM AND LIFE', 'THE LESSON',\n",
       "       'A PROLOGUE TO THE HARTZ-JOURNEY', 'DEFEND NOT', 'A PARODY',\n",
       "       'WALKING FLOWERS AT BERLIN', 'EVENING SONGS', 'TO HER',\n",
       "       'DRESDEN POETRY', 'BREADLESS ART', 'VISION', 'VISION', 'VISION',\n",
       "       'VISION', 'VISION', 'VISION', 'VISION', 'VISION', 'VISION',\n",
       "       'VISION', 'SONGS', 'THE MOURNFUL ONE', 'THE MOUNTAIN ECHO',\n",
       "       'THE TWO BROTHERS', 'POOR PETER', 'THE PRISONER’S SONG',\n",
       "       'THE GRENADIERS', 'THE MESSAGE', 'TAKING THE BRIDE HOME',\n",
       "       'DON RAMIRO', 'BELSHAZZAR', 'THE MINNESINGERS',\n",
       "       'LOOKING FROM THE WINDOW', 'THE WOUNDED KNIGHT', 'THE SEA-VOYAGE',\n",
       "       'THE SONG OF REPENTANCE',\n",
       "       'TO A SINGER, ON HER SINGING AN OLD ROMANCE',\n",
       "       'THE SONG OF THE DUCATS', 'DIALOGUE ON PADERBORN HEATH',\n",
       "       'QUITE TRUE', 'TO A. W. VON SCHLEGEL', 'TO MY MOTHER',\n",
       "       'THE GODS’ TWILIGHT', 'RATCLIFF', 'DONNA CLARA', 'ALMANSOR',\n",
       "       'THE PILGRIMAGE TO KEVLAAR', 'THE DREAM', 'ABROAD', 'TRAGEDY',\n",
       "       'THE TANNHAUSER', 'A WOMAN', 'CELEBRATION OF SPRING',\n",
       "       'CHILDE HAROLD', 'THE EXORCISM', 'EXTRACT FROM A LETTER',\n",
       "       'THE EVIL STAR', 'ANNO 1829', 'ANNO 1839', 'AT DAWN', 'SIR OLAVE',\n",
       "       'THE WATER NYMPHS', 'BERTRAND DE BORN', 'SPRING', 'ALI BEY',\n",
       "       'PSYCHE', 'THE UNKNOWN ONE', 'THE CHANGE', 'FORTUNE',\n",
       "       'LAMENTATION OF AN OLD-GERMAN YOUTH', 'AWAY!', 'MADAM METTE',\n",
       "       'THE MEETING', 'KING HAROLD HARFAGAR', 'THE LOWER WORLD',\n",
       "       'MULEDOM', 'THE SYMBOL OF MADNESS', 'PRIDE', 'AWAY!', 'WINTER',\n",
       "       'THE OLD CHIMNEYPIECE', 'LONGING', 'HELENA', 'THE WISE STARS',\n",
       "       'THE ANGELS', 'SOUND DOCTRINE', 'ADAM THE FIRST', 'WARNING',\n",
       "       'TO A QUONDAM FOLLOWER OF GOETHE', 'THE SECRET',\n",
       "       'ON THE WATCHMAN’S ARRIVAL IN PARIS', 'THE DRUM-MAJOR',\n",
       "       'DEGENERACY', 'HENRY', 'LIFE’S JOURNEY',\n",
       "       'THE NEW JEWISH HOSPITAL AT HAMBURG', 'GEORGE HERWEGH',\n",
       "       'THE TENDENCY', 'THE CHILD', 'THE PROMISE', 'THE CHANGELING',\n",
       "       'THE EMPEROR OF CHINA', 'CHURCH-COUNSELLOR PROMETHEUS',\n",
       "       'TO THE WATCHMAN', 'CONSOLING THOUGHTS',\n",
       "       'THE WORLD TURNED UPSIDE DOWN', 'ENLIGHTENMENT', 'WAIT AWHILE!',\n",
       "       'NIGHT THOUGHTS', 'EVENING TWILIGHT', 'SUNSET',\n",
       "       'THE NIGHT ON THE STRAND', 'POSEIDON', 'HOMAGE', 'DECLARATION',\n",
       "       'IN THE CABIN AT NIGHT', 'STORM', 'CALM AT SEA',\n",
       "       'THE OCEAN SPECTRE', 'PURIFICATION', 'PEACE', 'SEA SALUTATION',\n",
       "       'THUNDERSTORM', 'THE SHIPWRECKED ONE', 'SUNSET',\n",
       "       'THE SONG OF THE OCEANIDES', 'THE GODS OF GREECE', 'QUESTIONS',\n",
       "       'THE PHŒNIX', 'ECHO', 'SEA-SICKNESS', 'IN HARBOUR', 'EPILOGUE',\n",
       "       'MONOLOGUE', 'RHAMPSENITUS', 'THE WHITE ELEPHANT',\n",
       "       'KNAVE OF BERGEN', 'THE VALKYRES', 'HASTINGS BATTLE-FIELD',\n",
       "       'CHARLES I', 'MARIE ANTOINETTE', 'THE SILESIAN WEAVERS', 'POMARE',\n",
       "       'THE APOLLO GOD', 'HYMN TO KING LOUIS', 'TWO KNIGHTS',\n",
       "       'OUR MARINE', 'THE GOLDEN CALF', 'KING DAVID', 'KING RICHARD',\n",
       "       'THE ASRA', 'THE NUNS', 'PALSGRAVINE JUTTA', 'THE MOORISH KING',\n",
       "       'GEOFFRY RUDÈL AND MELISANDA OF TRIPOLI', 'THE POET FERDUSI',\n",
       "       'VOYAGE BY NIGHT', 'THE PRELUDE', 'VITZLIPUTZLI', 'WOOD SOLITUDE',\n",
       "       'SPANISH LYRICS', 'THE EX-LIVING ONE', 'THE EX-WATCHMAN',\n",
       "       'MYTHOLOGY', 'IN MATILDA’S ALBUM', 'TO THE YOUNG',\n",
       "       'THE UNBELIEVER', 'WHITHER NOW?', 'AN OLD SONG', 'READY MONEY',\n",
       "       'THE OLD ROSE', 'AUTO-DA-FÉ', 'THE WAY OF THE WORLD', 'RETROSPECT',\n",
       "       'RESURRECTION', 'THE DYING ONE', 'RASCALITY', 'RETROSPECT',\n",
       "       'IMPERFECTION', 'PIOUS WARNING', 'THE COOLED-DOWN ONE', 'SOLOMON',\n",
       "       'LOST WISHES', 'THE ANNIVERSARY', 'MEETING AGAIN', 'MRS. CARE',\n",
       "       'TO THE ANGELS', 'IN OCTOBER 1849', 'EVIL DREAMS', 'IT GOES OUT',\n",
       "       'THE WILL', 'ENFANT PERDU', 'PRINCESS SABBATH', 'A FRAGMENT',\n",
       "       'DISPUTATION', 'PEACE-YEARNING', 'IN MAY', 'BODY AND SOUL',\n",
       "       'RED SLIPPERS', 'MORAL', 'BABYLONIAN SORROWS', 'THE SLAVE SHIP',\n",
       "       'AFFRONTENBURG', 'THE DRAGONFLY', 'ASCENSION',\n",
       "       'THE AFFIANCED ONES', 'THE PHILANTHROPIST',\n",
       "       'THE WHIMS OF THE AMOROUS', 'MIMI', 'GOOD ADVICE',\n",
       "       'REMINISCENCES OF HAMMONIA', 'THE ROBBERS',\n",
       "       'THE YOUNG CATS’ CLUB FOR POETRY-MUSIC', 'HANS LACK-LAND',\n",
       "       'RECOLLECTIONS FROM KRÄHWINKEL’S DAYS OF TERROR', 'THE AUDIENCE',\n",
       "       'KOBES I', 'EPILOGUE', 'THE SONG OF SONGS', 'THE SUTTLER’S SONG',\n",
       "       'HORSE AND ASS', 'MORAL', 'THE ASS-ELECTION', 'BERTHA',\n",
       "       'IN THE CATHEDRAL', 'THE DRAGONFLY', 'OLD SCENTS', 'MISERERE',\n",
       "       'TO MATILDA', 'FOR THE “MOUCHE”'], dtype='<U46')"
      ]
     },
     "execution_count": 113,
     "metadata": {},
     "output_type": "execute_result"
    }
   ],
   "source": [
    "titles"
   ]
  },
  {
   "cell_type": "code",
   "execution_count": 114,
   "id": "49d6d31a-833c-4fef-bb8d-7963a43c2e7b",
   "metadata": {},
   "outputs": [
    {
     "data": {
      "text/plain": [
       "['The thing']"
      ]
     },
     "execution_count": 114,
     "metadata": {},
     "output_type": "execute_result"
    }
   ],
   "source": [
    "re.findall('[0-9]*\\. (.*)','1919. The thing')"
   ]
  },
  {
   "cell_type": "code",
   "execution_count": 115,
   "id": "a98b5bab-b161-418a-996e-71f7e3d73a3c",
   "metadata": {},
   "outputs": [
    {
     "data": {
      "text/plain": [
       "'\\n\\nLOVE’S SALUTATION.\\n\\n    Darling maiden, who can be\\n      Ever found to equal thee?\\n    To thy serv'"
      ]
     },
     "execution_count": 115,
     "metadata": {},
     "output_type": "execute_result"
    }
   ],
   "source": [
    "body[:100]"
   ]
  },
  {
   "cell_type": "code",
   "execution_count": 116,
   "id": "13384232-079d-471e-b93e-ad961904ab57",
   "metadata": {},
   "outputs": [],
   "source": [
    "#titles"
   ]
  },
  {
   "cell_type": "code",
   "execution_count": 117,
   "id": "83864c6d-2e63-405b-b5ec-0bb143e55bce",
   "metadata": {},
   "outputs": [],
   "source": [
    "#body = re.sub(r'[\\[.*\\]]','',body)"
   ]
  },
  {
   "cell_type": "code",
   "execution_count": 118,
   "id": "be95f36c-25c5-46d9-a15d-47d7582fbdfb",
   "metadata": {},
   "outputs": [],
   "source": [
    "#body = re.sub(r'\\nPoems.*\\n',r'',body)\n",
    "#body = re.sub(r'\\n\\ *\\(?[A-Z]*\\.\\ [0-9]*\\)?\\.\\n',r'',body)"
   ]
  },
  {
   "cell_type": "code",
   "execution_count": 119,
   "id": "1762959b-54b7-443d-aea0-8066274c765a",
   "metadata": {},
   "outputs": [
    {
     "name": "stdout",
     "output_type": "stream",
     "text": [
      "AWAY!\n",
      "EPILOGUE\n",
      "MORAL\n",
      "RETROSPECT\n",
      "SUNSET\n",
      "THE DRAGONFLY\n",
      "VISION\n"
     ]
    }
   ],
   "source": [
    "for unique_title in np.unique(titles):\n",
    "    \n",
    "    title_index = np.where(titles==unique_title)[0]\n",
    "    \n",
    "    if not len(title_index) > 1:\n",
    "        continue\n",
    "        \n",
    "    print(unique_title)\n",
    "        \n",
    "    if len(title_index) > 1:\n",
    "        for ii,i in enumerate(title_index):\n",
    "            titles[i] += ' ' + f'_{ii+1}_'"
   ]
  },
  {
   "cell_type": "code",
   "execution_count": 121,
   "id": "771edba7-2527-44aa-9b57-2f93e3029fb2",
   "metadata": {},
   "outputs": [],
   "source": [
    "final  = ''\n",
    "final += front_matter + '\\n###\\n\\n'\n",
    "\n",
    "poems_dict = {}\n",
    "\n",
    "for i, (title, poem) in enumerate(zip(titles,poems)):\n",
    "        \n",
    "    poem = poem.strip('\\n')\n",
    "    poems_dict[title.upper()] = poem\n",
    "    \n",
    "    if len(poem) < 10:\n",
    "        print(title,poem)\n",
    "        \n",
    "    #if len(re.findall(r'\\n[^a-z]{5,}\\n',poem)) > 0:\n",
    "    #    print(title)\n",
    "    #    print('\\n'+32*'-'+'\\n')\n",
    "    #    print(poem)\n",
    "    #    print('\\n'+32*'='+'\\n')"
   ]
  },
  {
   "cell_type": "code",
   "execution_count": null,
   "id": "db17d343-a1c0-4ac5-88dc-003ee40e02d8",
   "metadata": {},
   "outputs": [],
   "source": []
  },
  {
   "cell_type": "code",
   "execution_count": 122,
   "id": "df149d60-bcd8-46ec-aab9-700f584accf3",
   "metadata": {},
   "outputs": [
    {
     "name": "stdout",
     "output_type": "stream",
     "text": [
      "Heinrich Heine (1797-1856) [https://en.wikipedia.org/wiki/Heinrich_Heine]\n",
      "\n",
      "###\n",
      "\n",
      "~LOVE’S SALUTATION~\n",
      "\n",
      "    Darling maiden, who can be\n",
      "      Ever found to equal thee?\n",
      "    To thy service joyfully\n",
      "      Shall my life be pledged by me.\n",
      "\n",
      "    Thy sweet eyes gleam tenderly,\n",
      "      Like soft moonbeams o’er the sea;\n",
      "    Lights of rosy harmony\n",
      "      O’er thy red cheeks wander free.\n",
      "\n",
      "    From thy small mouth, f\n"
     ]
    }
   ],
   "source": [
    "text = ''\n",
    "\n",
    "text += 'Heinrich Heine (1797-1856) [https://en.wikipedia.org/wiki/Heinrich_Heine]'\n",
    "text += '\\n\\n###\\n\\n'\n",
    "\n",
    "for title in titles:\n",
    "    text += '~' + title + '~'\n",
    "    text += '\\n\\n'\n",
    "    text += poems_dict[title]\n",
    "    text += '\\n\\n\\n'\n",
    "        \n",
    "print(text[:400])"
   ]
  },
  {
   "cell_type": "code",
   "execution_count": 123,
   "id": "66945cac-e0ed-4bc7-a62e-d77a1c6071f8",
   "metadata": {},
   "outputs": [],
   "source": [
    "import json\n",
    "\n",
    "with open('../_text/heine.txt','w+') as f:\n",
    "    f.write(text)"
   ]
  },
  {
   "cell_type": "code",
   "execution_count": null,
   "id": "32a9cc35-9377-42f0-b6e4-63d634a78244",
   "metadata": {},
   "outputs": [],
   "source": []
  },
  {
   "cell_type": "code",
   "execution_count": 139,
   "id": "6bd33ab0-4ffb-404b-b155-6ce545188e74",
   "metadata": {},
   "outputs": [
    {
     "name": "stdout",
     "output_type": "stream",
     "text": [
      "PRINCESS SABBATH\n",
      "    In Arabia’s books of stories\n",
      "    Read we of enchanted princes,\n",
      "    Who from time to time recover’d\n",
      "    Their once handsome pristine features;\n",
      "\n",
      "    Or the whilome hairy monster\n",
      "    To a king’s son is converted,\n",
      "    Dress’d in gay and glittering garments,\n",
      "    And the flute divinely playing.\n",
      "\n",
      "    Yet the magic time expires,\n",
      "    And once more and of a sudden\n",
      "    We behold his royal highness\n",
      "    Changed into a shaggy monster.\n",
      "\n",
      "    Of a prince of such-like fortune\n",
      "    Sings my song. His name is Israel,\n",
      "    And a witch’s art has changed him\n",
      "    To the figure of a dog.\n",
      "\n",
      "    As a dog, with doggish notions,\n",
      "    All the week his time he muddles\n",
      "    Through life’s filthiness and sweepings,\n",
      "    To the scavengers’ derision.\n",
      "\n",
      "    But upon each Friday evening,\n",
      "    Just at twilight, the enchantment\n",
      "    Ceases suddenly,--the dog\n",
      "    Once more is a human being.\n",
      "\n",
      "    As a man, with human feelings,\n",
      "    With his head and breast raised proudly\n",
      "    Dress’d in festival attire,\n",
      "    His paternal halls he enters.\n",
      "\n",
      "    “Hail, all hail, ye halls belovèd\n",
      "    “Of my gracious regal father!\n",
      "    “Tents of Jacob, your all-holy\n",
      "    “Entrance posts my mouth thus kisses!”\n",
      "\n",
      "    Through the house mysteriously\n",
      "    Goes a whispering and buzzing,\n",
      "    And the unseen master of it\n",
      "    Shudd’ring breathes amid the silence,--\n",
      "\n",
      "    Silence, save the seneschal\n",
      "    (Vulgo Synagogue-Attendant)\n",
      "    Here and there with vigour springing,\n",
      "    As the lamps he seeks to kindle.\n",
      "\n",
      "    Golden lights so comfort-giving,\n",
      "    How they glitter, how they glimmer!\n",
      "    Proudly also flare the tapers\n",
      "    On the rails of the Almemor.\n",
      "\n",
      "    At the shrine wherein the Thora\n",
      "    Is preserved, and which is cover’d\n",
      "    With the costly silken cov’ring\n",
      "    That with precious jewels sparkles,--\n",
      "\n",
      "    There beside his post, already\n",
      "    Stands prepared the parish minstrel,\n",
      "    Dandy little man, who shoulders\n",
      "    His black cloak coquettishly.\n",
      "\n",
      "    His white hand to show the better,\n",
      "    At his neck he works, his finger\n",
      "    Pressing strangely to his temple,\n",
      "    And his thumb against his throat.\n",
      "\n",
      "    To himself then softly trills he,\n",
      "    Till at length his voice he raises\n",
      "    Joyfully, and loudly sings he\n",
      "    “Lecho Daudi Likras Kalle!\n",
      "\n",
      "    “Lecho Daudi Likras Kalle--\n",
      "    “Loved one, come! the bride already\n",
      "    “Waiteth for thee, to uncover\n",
      "    “To thy face her blushing features!”\n",
      "\n",
      "    This most charming marriage ditty\n",
      "    Was composed by the illustrious\n",
      "    Far and wide known Minnesinger\n",
      "    Don Jehuda ben Halevy.\n",
      "\n",
      "    In the song was celebrated\n",
      "    The espousals of Prince Israel\n",
      "    With the lovely Princess Sabbath,\n",
      "    Whom they call the silent princess.\n",
      "\n",
      "    Pearl and flower of perfect beauty\n",
      "    Is the Princess. Fairer never\n",
      "    Was the famous queen of Sheba,\n",
      "    Solomon’s old bosom-friend,\n",
      "\n",
      "    Ethiopian vain blue-stocking,\n",
      "    Who with her _esprit_ would dazzle,\n",
      "    And with all her clever riddles\n",
      "    Was, I fear, extremely tedious.\n",
      "\n",
      "    But our Princess Sabbath, who was\n",
      "    Peace itself personified,\n",
      "    Held in utter detestation\n",
      "    All debates and wit-encounters.\n",
      "\n",
      "    Equally abhorr’d she noisy\n",
      "    And declamatory passion,--\n",
      "    All that pathos which with flowing\n",
      "    And dishevell’d hair storms wildly.\n",
      "\n",
      "    Modestly the silent princess\n",
      "    In her hood conceals her tresses;\n",
      "    Soft as the gazelle’s her looks are,\n",
      "    Slender as an Addas blooms she.\n",
      "\n",
      "    She allows her lover all things\n",
      "    Save this one,--tobacco-smoking:\n",
      "    “Loved one! smoking is forbidden,\n",
      "    “For to-day the Sabbath is.\n",
      "\n",
      "    “But at noon, in compensation,\n",
      "    “Thou a steaming dish shalt taste of,\n",
      "    “Which is perfectly delicious--\n",
      "    “Thou shall eat to-day some Schalet!”\n",
      "\n",
      "    “Schalet, beauteous spark immortal,\n",
      "    “Daughter of Elysium!”\n",
      "    Thus would Schiller’s song have sung it,\n",
      "    Had he ever tasted Schalet.\n",
      "\n",
      "    Schalet is the food of heaven,\n",
      "    Which the Lord Himself taught Moses\n",
      "    How to cook, when on that visit\n",
      "    To the summit of Mount Sinai,\n",
      "\n",
      "    Where the Lord Almighty also\n",
      "    Every good religious doctrine\n",
      "    And the holy ten commandments\n",
      "    Publish’d in a storm of lightning.\n",
      "\n",
      "    Schalet is the pure ambrosia\n",
      "    That the food of heaven composes--\n",
      "    Is the bread of Paradise;\n",
      "    And compared with food so glorious,\n",
      "\n",
      "    The ambrosia of the spurious\n",
      "    Heathen gods whom Greece once worshipp’d\n",
      "    And were naught but muffled devils,\n",
      "    Was but wretched devil’s dung.\n",
      "\n",
      "    When the prince this food hath tasted,\n",
      "    Gleams his eye as if transfigured,\n",
      "    And his waistcoat he unbuttons,\n",
      "    And he speaks with smiles of rapture:\n",
      "\n",
      "    “Hear I not the Jordan murmuring?\n",
      "    “Is it not the gushing fountains\n",
      "    “In the palmy vale of Beth-El,\n",
      "    “Where the camels have their station?\n",
      "\n",
      "    “Hear I not the sheep-bells ringing?\n",
      "    “Is it not the well-fed wethers\n",
      "    “Whom the herdsman drives at evening\n",
      "    “Down from Gilead’s lofty mountain?”\n",
      "\n",
      "    Yet the beauteous day fades quickly;\n",
      "    As with long and shadowy legs\n",
      "    Hastens on the fell enchantment’s\n",
      "    Evil hour, the prince sighs sadly,\n",
      "\n",
      "    Feeling as though with his bosom\n",
      "    Icy witches’ fingers grappled;\n",
      "    He’s pervaded by the fear of\n",
      "    Canine metamorphosis.\n",
      "\n",
      "    To the prince then hands the princess\n",
      "    Her own golden box of spikenard;\n",
      "    Long he smells, once more desiring\n",
      "    To find comfort in sweet odours.\n",
      "\n",
      "    Next the parting drink the princess\n",
      "    Gives the prince--He hastily\n",
      "    Drinks, and in the goblet only\n",
      "    Some few drops are left untasted.\n",
      "\n",
      "    With them sprinkles he the table,\n",
      "    Then he takes a little waxlight,\n",
      "    And he dips it in the moisture\n",
      "    Till it crackles and goes out.\n"
     ]
    }
   ],
   "source": [
    "_title = np.random.choice(list(poems_dict))\n",
    "\n",
    "print(_title)\n",
    "print(poems_dict[_title])"
   ]
  },
  {
   "cell_type": "code",
   "execution_count": null,
   "id": "ffe12062-494c-43d3-92c8-a7e28633ad37",
   "metadata": {},
   "outputs": [],
   "source": []
  }
 ],
 "metadata": {
  "kernelspec": {
   "display_name": "Python 3",
   "language": "python",
   "name": "python3"
  },
  "language_info": {
   "codemirror_mode": {
    "name": "ipython",
    "version": 3
   },
   "file_extension": ".py",
   "mimetype": "text/x-python",
   "name": "python",
   "nbconvert_exporter": "python",
   "pygments_lexer": "ipython3",
   "version": "3.9.1"
  }
 },
 "nbformat": 4,
 "nbformat_minor": 5
}
