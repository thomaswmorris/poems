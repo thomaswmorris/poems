{
 "cells": [
  {
   "cell_type": "code",
   "execution_count": 1,
   "id": "d1875133-6d21-4cea-b817-e8bf4b8dab41",
   "metadata": {},
   "outputs": [],
   "source": [
    "import regex as re"
   ]
  },
  {
   "cell_type": "code",
   "execution_count": 32,
   "id": "22ea1653-e183-4add-b2af-f502f0697830",
   "metadata": {},
   "outputs": [],
   "source": [
    "file_name = '/users/thomas/desktop/poetry/_raw/frost_raw.txt'"
   ]
  },
  {
   "cell_type": "code",
   "execution_count": 33,
   "id": "5cdb34ad-8e42-417f-b9a2-e38163a2d794",
   "metadata": {},
   "outputs": [],
   "source": [
    "with open(file_name,'r+') as f:\n",
    "    text = f.read()"
   ]
  },
  {
   "cell_type": "code",
   "execution_count": 34,
   "id": "496c5b95-94b7-4d6a-a606-3388c6bd5daa",
   "metadata": {},
   "outputs": [],
   "source": [
    "#text"
   ]
  },
  {
   "cell_type": "code",
   "execution_count": 35,
   "id": "d5a84e3a-1b3c-4b47-ae41-52c00eae969f",
   "metadata": {},
   "outputs": [],
   "source": [
    "capture_title_expr = r'\\n([A-Z][A-ZÀ-Ú0-9,\\ ,\\-]{4,})\\n'\n",
    "\n",
    "title_expr = r'\\n[A-Z][A-ZÀ-Ú0-9,\\ ,\\-]{4,}\\n'\n",
    "\n",
    "front_matter, body = text.split('\\n###\\n')\n",
    "body = re.sub(capture_title_expr,r'\\n\\1\\n',body)"
   ]
  },
  {
   "cell_type": "code",
   "execution_count": 36,
   "id": "a98b5bab-b161-418a-996e-71f7e3d73a3c",
   "metadata": {},
   "outputs": [
    {
     "data": {
      "text/plain": [
       "\"\\n\\nTHE PASTURE\\n\\n\\nI'm going out to clean the pasture spring;\\nI'll only stop to rake the leaves away\\n(A\""
      ]
     },
     "execution_count": 36,
     "metadata": {},
     "output_type": "execute_result"
    }
   ],
   "source": [
    "body[:100]"
   ]
  },
  {
   "cell_type": "code",
   "execution_count": 37,
   "id": "83864c6d-2e63-405b-b5ec-0bb143e55bce",
   "metadata": {},
   "outputs": [],
   "source": [
    "body = re.sub(r'[\\[,\\]]','',body)"
   ]
  },
  {
   "cell_type": "code",
   "execution_count": 38,
   "id": "be95f36c-25c5-46d9-a15d-47d7582fbdfb",
   "metadata": {},
   "outputs": [],
   "source": [
    "body = re.sub(r'\\nPoems.*\\n',r'',body)\n",
    "body = re.sub(r'\\n\\ *\\(?[A-Z]*\\.\\ [0-9]*\\)?\\.\\n',r'',body)"
   ]
  },
  {
   "cell_type": "code",
   "execution_count": null,
   "id": "caaca143-258f-4454-9df4-b61eddd3b58e",
   "metadata": {},
   "outputs": [],
   "source": []
  },
  {
   "cell_type": "code",
   "execution_count": 39,
   "id": "6d795ae2-cd72-4162-a181-0706f374b04c",
   "metadata": {},
   "outputs": [
    {
     "data": {
      "text/plain": [
       "(43, 43)"
      ]
     },
     "execution_count": 39,
     "metadata": {},
     "output_type": "execute_result"
    }
   ],
   "source": [
    "import numpy as np\n",
    "\n",
    "titles = np.array([s.upper() for s in re.findall(capture_title_expr, body)])\n",
    "poems = re.split(title_expr,body)[1:] # the first one is an empty string\n",
    "\n",
    "len(titles), len(poems)"
   ]
  },
  {
   "cell_type": "code",
   "execution_count": 10,
   "id": "1762959b-54b7-443d-aea0-8066274c765a",
   "metadata": {},
   "outputs": [],
   "source": [
    "for unique_title in np.unique(titles):\n",
    "    \n",
    "    title_index = np.where(titles==unique_title)[0]\n",
    "    \n",
    "    if not len(title_index) > 1:\n",
    "        continue\n",
    "        \n",
    "    print(unique_title)\n",
    "        \n",
    "    if len(title_index) > 1:\n",
    "        for ii,i in enumerate(title_index):\n",
    "            titles[i] += ' ' + f'_{ii+1}_'"
   ]
  },
  {
   "cell_type": "code",
   "execution_count": 11,
   "id": "8639e150-aa29-4c3f-8b3e-b879c3141dbd",
   "metadata": {},
   "outputs": [
    {
     "data": {
      "text/plain": [
       "array(['THE PASTURE', 'THE COW IN APPLE-TIME', 'THE RUNAWAY',\n",
       "       'HOME BURIAL', 'THE DEATH OF THE HIRED MAN',\n",
       "       'A SERVANT TO SERVANTS', 'THE SELF-SEEKER', 'THE HILL WIFE',\n",
       "       'HOUSE FEAR', 'THE SMILE', 'THE OFT-REPEATED DREAM', 'THE IMPULSE',\n",
       "       'PUTTING IN THE SEED', 'GOING FOR WATER', 'MOWING',\n",
       "       'AFTER APPLE-PICKING', 'BIRCHES', 'THE GUM-GATHERER',\n",
       "       'THE MOUNTAIN', 'THE TUFT OF FLOWERS', 'MENDING WALL',\n",
       "       'AN ENCOUNTER', 'THE WOOD-PILE', 'IN THE HOME STRETCH',\n",
       "       'THE ROAD NOT TAKEN', 'THE OVEN BIRD', 'A VANTAGE POINT',\n",
       "       'THE SOUND OF TREES', 'HYLA BROOK', 'MY NOVEMBER GUEST',\n",
       "       'RANGE-FINDING', 'OCTOBER', 'TO THE THAWING WIND',\n",
       "       'A TIME TO TALK', 'THE CODE', 'A HUNDRED COLLARS', 'BLUEBERRIES',\n",
       "       'REVELATION', 'STORM-FEAR', 'BOND AND FREE', 'FLOWER-GATHERING',\n",
       "       'RELUCTANCE', 'INTO MY OWN'], dtype='<U26')"
      ]
     },
     "execution_count": 11,
     "metadata": {},
     "output_type": "execute_result"
    }
   ],
   "source": [
    "titles"
   ]
  },
  {
   "cell_type": "code",
   "execution_count": 12,
   "id": "add58b78-4f7f-4d4a-b2b0-8ece082b281a",
   "metadata": {},
   "outputs": [],
   "source": [
    "\n",
    "final  = ''\n",
    "final += front_matter + '\\n###\\n\\n'\n",
    "\n",
    "poems_dict = {}\n",
    "\n",
    "for i, (title, poem) in enumerate(zip(titles,poems)):\n",
    "        \n",
    "    poem = poem.strip('\\n')\n",
    "    poems_dict[title.upper()] = poem\n",
    "    \n",
    "    if len(poem) < 100:\n",
    "        print(title)\n",
    "\n",
    "\n"
   ]
  },
  {
   "cell_type": "code",
   "execution_count": 13,
   "id": "d4b1bf63-a62b-40aa-89a2-960b264362a9",
   "metadata": {},
   "outputs": [
    {
     "name": "stdout",
     "output_type": "stream",
     "text": [
      "Robert Frost (1874-1963) [https://en.wikipedia.org/wiki/Robert_Frost]\n",
      "\n",
      "###\n",
      "\n",
      "~THE PASTURE~\n",
      "\n",
      "I'm going out to clean the pasture spring;\n",
      "I'll only stop to rake the leaves away\n",
      "(And wait to watch the water clear I may):\n",
      "I shan't be gone long.—-You come too.\n",
      "\n",
      "I'm going out to fetch the little calf\n",
      "That's standing by the mother. It's so young\n",
      "It totters when she licks it with her tongue.\n",
      "I shan't be gon\n"
     ]
    }
   ],
   "source": [
    "text = ''\n",
    "\n",
    "text += 'Robert Frost (1874-1963) [https://en.wikipedia.org/wiki/Robert_Frost]'\n",
    "text += '\\n\\n###\\n\\n'\n",
    "\n",
    "for title in titles:\n",
    "    text += '~' + title + '~'\n",
    "    text += '\\n\\n'\n",
    "    text += poems_dict[title]\n",
    "    text += '\\n\\n\\n'\n",
    "        \n",
    "print(text[:400])"
   ]
  },
  {
   "cell_type": "code",
   "execution_count": 14,
   "id": "84e6d774-c707-49bf-8e21-9508949bcfc9",
   "metadata": {},
   "outputs": [],
   "source": [
    "import json\n",
    "\n",
    "with open('../_text/frost.txt','w+') as f:\n",
    "    f.write(text)"
   ]
  },
  {
   "cell_type": "code",
   "execution_count": null,
   "id": "c83b22d0-1f98-4ff6-a24e-55f77e1fb187",
   "metadata": {},
   "outputs": [],
   "source": []
  },
  {
   "cell_type": "code",
   "execution_count": 26,
   "id": "8b34d075-55ee-4e8b-8209-d92c41794c36",
   "metadata": {},
   "outputs": [
    {
     "name": "stdout",
     "output_type": "stream",
     "text": [
      "THE SOUND OF TREES\n",
      "I wonder about the trees.\n",
      "Why do we wish to bear\n",
      "Forever the noise of these\n",
      "More than another noise\n",
      "So close to our dwelling place?\n",
      "We suffer them by the day\n",
      "Till we lose all measure of pace\n",
      "And fixity in our joys\n",
      "And acquire a listening air.\n",
      "They are that that talks of going\n",
      "But never gets away;\n",
      "And that talks no less for knowing\n",
      "As it grows wiser and older\n",
      "That now it means to stay.\n",
      "My feet tug at the floor\n",
      "And my head sways to my shoulder\n",
      "Sometimes when I watch trees sway\n",
      "From the window or the door.\n",
      "I shall set forth for somewhere\n",
      "I shall make the reckless choice\n",
      "Some day when they are in voice\n",
      "And tossing so as to scare\n",
      "The white clouds over them on.\n",
      "I shall have less to say\n",
      "But I shall be gone.\n"
     ]
    },
    {
     "data": {
      "text/plain": [
       "(None, None)"
      ]
     },
     "execution_count": 26,
     "metadata": {},
     "output_type": "execute_result"
    }
   ],
   "source": [
    "import numpy as np\n",
    "title = np.random.choice(titles)\n",
    "print(title),print(poems_dict[title])\n"
   ]
  },
  {
   "cell_type": "code",
   "execution_count": null,
   "id": "e7aa399e-774b-4c03-87dd-9f4d6afe2930",
   "metadata": {},
   "outputs": [],
   "source": []
  }
 ],
 "metadata": {
  "kernelspec": {
   "display_name": "Python 3",
   "language": "python",
   "name": "python3"
  },
  "language_info": {
   "codemirror_mode": {
    "name": "ipython",
    "version": 3
   },
   "file_extension": ".py",
   "mimetype": "text/x-python",
   "name": "python",
   "nbconvert_exporter": "python",
   "pygments_lexer": "ipython3",
   "version": "3.9.1"
  }
 },
 "nbformat": 4,
 "nbformat_minor": 5
}
