{
 "cells": [
  {
   "cell_type": "code",
   "execution_count": 1,
   "id": "d1875133-6d21-4cea-b817-e8bf4b8dab41",
   "metadata": {},
   "outputs": [],
   "source": [
    "import regex as re"
   ]
  },
  {
   "cell_type": "code",
   "execution_count": 2,
   "id": "22ea1653-e183-4add-b2af-f502f0697830",
   "metadata": {},
   "outputs": [],
   "source": [
    "file_name = '/users/thomas/desktop/poetry/_raw/lowell_raw.txt'"
   ]
  },
  {
   "cell_type": "code",
   "execution_count": 3,
   "id": "5cdb34ad-8e42-417f-b9a2-e38163a2d794",
   "metadata": {},
   "outputs": [],
   "source": [
    "with open(file_name,'r+') as f:\n",
    "    text = f.read()"
   ]
  },
  {
   "cell_type": "code",
   "execution_count": 4,
   "id": "d5a84e3a-1b3c-4b47-ae41-52c00eae969f",
   "metadata": {},
   "outputs": [],
   "source": [
    "capture_title_expr = r'\\n(\\_[0-9][.,\\n]+\\_)'\n",
    "\n",
    "title_expr = r'\\n[A-Z, ]{2,}\\n'\n",
    "\n",
    "capture_title_expr = r'\\n([A-ZÀ-Ú,\\ ,\\',\\:,\\-,\\?,\\\"]{2,})\\.\\n'\n",
    "title_expr = r'\\n[A-ZÀ-Ú,\\ ,\\',\\:,\\-,\\?,\\\"]{2,}\\.\\n'\n",
    "\n",
    "front_matter, body = text.split('\\n###\\n')\n",
    "#body = re.sub(capture_title_expr,r'\\n\\1\\n',body)\n",
    "\n",
    "#body = re.sub('\\n(.)',r'\\n    \\1',body)"
   ]
  },
  {
   "cell_type": "code",
   "execution_count": 5,
   "id": "a98b5bab-b161-418a-996e-71f7e3d73a3c",
   "metadata": {},
   "outputs": [
    {
     "name": "stdout",
     "output_type": "stream",
     "text": [
      "\n",
      "WATER.\n",
      "\n",
      "It was a Maine lobster town—-\n",
      "each morning boatloads of hands\n",
      "pushed off for granite\n",
      "quarri\n"
     ]
    }
   ],
   "source": [
    "print(body[:100])"
   ]
  },
  {
   "cell_type": "code",
   "execution_count": 6,
   "id": "6d795ae2-cd72-4162-a181-0706f374b04c",
   "metadata": {},
   "outputs": [
    {
     "name": "stdout",
     "output_type": "stream",
     "text": [
      "11 11\n",
      "['WATER' 'AFTER THE SURPRISING CONVERSIONS' 'HOMECOMING'\n",
      " 'WAKING IN THE BLUE' 'THE DRUNKEN FISHERMAN' 'CHILDREN OF LIGHT'\n",
      " '\"TO SPEAK OF WOE THAT IS IN MARRIAGE\"' 'HISTORY' 'THE OLD FLAME'\n",
      " 'SKUNK HOUR' 'EPILOGUE']\n"
     ]
    }
   ],
   "source": [
    "import numpy as np\n",
    "\n",
    "titles = np.array([s.upper() for s in re.findall(capture_title_expr, body)])\n",
    "poems = re.split(title_expr,body)[1:] # the first one is an empty string\n",
    "\n",
    "\n",
    "print(len(titles), len(poems))\n",
    "\n",
    "print(titles)"
   ]
  },
  {
   "cell_type": "code",
   "execution_count": 7,
   "id": "1762959b-54b7-443d-aea0-8066274c765a",
   "metadata": {},
   "outputs": [],
   "source": [
    "for unique_title in np.unique(titles):\n",
    "    \n",
    "    title_index = np.where(titles==unique_title)[0]\n",
    "    \n",
    "    if unique_title.isdigit():\n",
    "        for ii,i in enumerate(title_index):\n",
    "            titles[i] += ' UNTITLED'\n",
    "            \n",
    "    title_index = np.where(titles==unique_title)[0]\n",
    "    \n",
    "    if len(title_index) > 1:\n",
    "        for ii,i in enumerate(title_index):\n",
    "            titles[i] += ' ' + f'_{ii+1}_'"
   ]
  },
  {
   "cell_type": "code",
   "execution_count": 11,
   "id": "71c39150-5cd5-4f5d-9620-fe606f8407e9",
   "metadata": {},
   "outputs": [],
   "source": [
    "\n",
    "final  = ''\n",
    "final += front_matter + '\\n###\\n\\n'\n",
    "\n",
    "poems_dict = {}\n",
    "\n",
    "for i, (title, poem) in enumerate(zip(titles,poems)):\n",
    "        \n",
    "    poem = poem.strip('\\n')\n",
    "    poems_dict[title.upper()] = poem\n",
    "    \n",
    "    if len(poem) < 100:\n",
    "        print(title)\n",
    "\n",
    "\n"
   ]
  },
  {
   "cell_type": "code",
   "execution_count": 13,
   "id": "6f0efbc8-8c30-41ba-890a-7717f73537a8",
   "metadata": {},
   "outputs": [
    {
     "name": "stdout",
     "output_type": "stream",
     "text": [
      "Robert Lowell (1917-1977) [https://en.wikipedia.org/wiki/Robert_Lowell]\n",
      "\n",
      "###\n",
      "\n",
      "~WATER~\n",
      "\n",
      "It was a Maine lobster town—-\n",
      "each morning boatloads of hands\n",
      "pushed off for granite\n",
      "quarries on the islands,\n",
      "\n",
      "and left dozens of bleak \n",
      "white frame houses stuck\n",
      "like oyster shells\n",
      "on a hill of rock,\n",
      "\n",
      "and below us, the sea lapped\n",
      "the raw little match-stick \n",
      "mazes of a weir,\n",
      "where the fish for bait were trapped.\n",
      "\n"
     ]
    }
   ],
   "source": [
    "text = ''\n",
    "\n",
    "text += 'Robert Lowell (1917-1977) [https://en.wikipedia.org/wiki/Robert_Lowell]'\n",
    "text += '\\n\\n###\\n\\n'\n",
    "\n",
    "for title in titles:\n",
    "    text += '~' + title + '~'\n",
    "    text += '\\n\\n'\n",
    "    text += poems_dict[title]\n",
    "    text += '\\n\\n\\n'\n",
    "        \n",
    "print(text[:400])"
   ]
  },
  {
   "cell_type": "code",
   "execution_count": 14,
   "id": "6bbaf36a-5ccb-4c88-82cc-bdf394edb3ff",
   "metadata": {},
   "outputs": [],
   "source": [
    "import json\n",
    "\n",
    "with open('../_text/lowell.txt','w+') as f:\n",
    "    f.write(text)"
   ]
  },
  {
   "cell_type": "code",
   "execution_count": 36,
   "id": "7113a03c-bbf3-4783-b3c1-5aeaa8993100",
   "metadata": {},
   "outputs": [],
   "source": [
    "poems_dict['poet_name']   = 'Robert Lowell'\n",
    "poems_dict['poet_birth']  = 1917\n",
    "poems_dict['poet_death']  = 1977\n",
    "poems_dict['poet_link']   = 'https://en.wikipedia.org/wiki/Robert_Lowell'"
   ]
  },
  {
   "cell_type": "code",
   "execution_count": 35,
   "id": "870b60d4-0695-4436-9c87-3d70e4d988bd",
   "metadata": {},
   "outputs": [
    {
     "name": "stdout",
     "output_type": "stream",
     "text": [
      "\"TO SPEAK OF WOE THAT IS IN MARRIAGE\"\n",
      "\n",
      "\n",
      "    \"It is the future generation that presses into being by means of\n",
      "    these exuberant feelings and supersensible soap bubbles of ours.\"\n",
      "    - _Schopenhauer_\n",
      "\n",
      "    \"The hot night makes us keep our bedroom windows open.\n",
      "    Our magnolia blossoms.  Life begins to happen.\n",
      "    My hopped up husband drops his home disputes,\n",
      "    and hits the streets to cruise for prostitutes,\n",
      "    free-lancing out along the razor's edge.\n",
      "    This screwball might kill his wife, then take the pledge.\n",
      "    Oh the monotonous meanness of his lust...\n",
      "    It's the injustice... he is so unjust—-\n",
      "    whiskey-blind, swaggering home at five.\n",
      "    My only thought is how to keep alive.\n",
      "    What makes him tick?  Each night now I tie\n",
      "    ten dollars and his car key to my thigh....\n",
      "    Gored by the climacteric of his want,\n",
      "    he stalls above me like an elephant.\"\n",
      "\n",
      "\n",
      "\n"
     ]
    },
    {
     "data": {
      "text/plain": [
       "(None, None)"
      ]
     },
     "execution_count": 35,
     "metadata": {},
     "output_type": "execute_result"
    }
   ],
   "source": [
    "import numpy as np\n",
    "title = np.random.choice(titles)\n",
    "print(title),print(poems_dict[title])\n"
   ]
  },
  {
   "cell_type": "code",
   "execution_count": 37,
   "id": "e4341cea-8079-45b3-a2ee-06d076e9006e",
   "metadata": {},
   "outputs": [],
   "source": [
    "import json\n",
    "\n",
    "with open('/users/thomas/desktop/poetry/poemsfromtom/poems/lowell.json', 'w+') as f:\n",
    "    json.dump(poems_dict, f)\n",
    "\n",
    "with open('/users/thomas/desktop/poetry/poets/lowell.txt','w+') as f:\n",
    "    f.write(final)"
   ]
  },
  {
   "cell_type": "code",
   "execution_count": null,
   "id": "492a0a22-c1a1-4cfc-bc97-47e12660390a",
   "metadata": {},
   "outputs": [],
   "source": []
  }
 ],
 "metadata": {
  "kernelspec": {
   "display_name": "Python 3",
   "language": "python",
   "name": "python3"
  },
  "language_info": {
   "codemirror_mode": {
    "name": "ipython",
    "version": 3
   },
   "file_extension": ".py",
   "mimetype": "text/x-python",
   "name": "python",
   "nbconvert_exporter": "python",
   "pygments_lexer": "ipython3",
   "version": "3.9.1"
  }
 },
 "nbformat": 4,
 "nbformat_minor": 5
}
