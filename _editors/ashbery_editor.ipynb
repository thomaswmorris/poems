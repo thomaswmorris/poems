{
 "cells": [
  {
   "cell_type": "code",
   "execution_count": 1,
   "id": "d1875133-6d21-4cea-b817-e8bf4b8dab41",
   "metadata": {},
   "outputs": [],
   "source": [
    "import regex as re"
   ]
  },
  {
   "cell_type": "code",
   "execution_count": 2,
   "id": "22ea1653-e183-4add-b2af-f502f0697830",
   "metadata": {},
   "outputs": [],
   "source": [
    "file_name = '/users/thomas/desktop/poetry/_raw/ashbery_raw.txt'"
   ]
  },
  {
   "cell_type": "code",
   "execution_count": 3,
   "id": "5cdb34ad-8e42-417f-b9a2-e38163a2d794",
   "metadata": {},
   "outputs": [],
   "source": [
    "with open(file_name,'r+') as f:\n",
    "    text = f.read()"
   ]
  },
  {
   "cell_type": "code",
   "execution_count": 4,
   "id": "d5a84e3a-1b3c-4b47-ae41-52c00eae969f",
   "metadata": {},
   "outputs": [],
   "source": [
    "capture_title_expr = r'\\n(\\_[0-9][.,\\n]+\\_)'\n",
    "\n",
    "title_expr = r'\\n[A-Z, ]{2,}\\n'\n",
    "\n",
    "capture_title_expr = r'\\n([A-Z,\\ ,\\',\\:,\\-]{2,})\\.\\n'\n",
    "title_expr = r'\\n[A-Z,\\ ,\\',\\:,\\-]{2,}\\.\\n'\n",
    "\n",
    "front_matter, body = text.split('\\n###\\n')\n",
    "#body = re.sub(capture_title_expr,r'\\n\\1\\n',body)\n",
    "\n",
    "#body = re.sub('\\n(.)',r'\\n    \\1',body)"
   ]
  },
  {
   "cell_type": "code",
   "execution_count": 5,
   "id": "a98b5bab-b161-418a-996e-71f7e3d73a3c",
   "metadata": {},
   "outputs": [
    {
     "name": "stdout",
     "output_type": "stream",
     "text": [
      "\n",
      "ELECTIVE INFINITIES.\n",
      "\n",
      "Thirsty? They race across ampersands,\n",
      "scrolling. He isn't sure it's his head.\n"
     ]
    }
   ],
   "source": [
    "print(body[:100])"
   ]
  },
  {
   "cell_type": "code",
   "execution_count": 6,
   "id": "6d795ae2-cd72-4162-a181-0706f374b04c",
   "metadata": {},
   "outputs": [
    {
     "name": "stdout",
     "output_type": "stream",
     "text": [
      "7 7\n",
      "['ELECTIVE INFINITIES' 'ALCOVE' 'INSTEAD OF LOSING' 'MOTTLED TUESDAY'\n",
      " 'MEANINGFUL LOVE' 'THE NEW HIGHER' 'HONESTLY,']\n"
     ]
    }
   ],
   "source": [
    "import numpy as np\n",
    "\n",
    "titles = np.array([s.upper() for s in re.findall(capture_title_expr, body)])\n",
    "poems = re.split(title_expr,body)[1:] # the first one is an empty string\n",
    "\n",
    "\n",
    "print(len(titles), len(poems))\n",
    "\n",
    "print(titles)"
   ]
  },
  {
   "cell_type": "code",
   "execution_count": 7,
   "id": "1762959b-54b7-443d-aea0-8066274c765a",
   "metadata": {},
   "outputs": [],
   "source": [
    "for unique_title in np.unique(titles):\n",
    "    \n",
    "    title_index = np.where(titles==unique_title)[0]\n",
    "    \n",
    "    if unique_title.isdigit():\n",
    "        for ii,i in enumerate(title_index):\n",
    "            titles[i] += ' UNTITLED'\n",
    "            \n",
    "    title_index = np.where(titles==unique_title)[0]\n",
    "    \n",
    "    if len(title_index) > 1:\n",
    "        for ii,i in enumerate(title_index):\n",
    "            titles[i] += ' ' + f'_{ii+1}_'"
   ]
  },
  {
   "cell_type": "code",
   "execution_count": 8,
   "id": "56a4a0f7-5b2d-4037-9230-5b298e62841c",
   "metadata": {},
   "outputs": [
    {
     "data": {
      "text/plain": [
       "<regex.Match object; span=(0, 2), match='71'>"
      ]
     },
     "execution_count": 8,
     "metadata": {},
     "output_type": "execute_result"
    }
   ],
   "source": [
    "re.match(r'[0-9]+','71')"
   ]
  },
  {
   "cell_type": "code",
   "execution_count": 9,
   "id": "c597eb6c-52f6-4916-95bf-17b9c6995482",
   "metadata": {},
   "outputs": [
    {
     "data": {
      "text/plain": [
       "'\\nThirsty? They race across ampersands,\\nscrolling. He isn\\'t sure it\\'s his head.\\nThere\\'s a delay right now. Smoke backed up.\\nLadies please remove hats.\\n\\nIt was all over by morning. The village idiot\\nwas surprised to see us. \"...thought you were in Normandy.\"\\nLike all pendulums we were surprised,\\nthen slightly miffed at what seemed to be happening\\nback in the bushes. Keep your ornaments,\\nif that\\'s what they are. Return to sender, arse.\\n\\nAt the intersection a statue of a policeman\\nwas directing traffic. It seemed like a vacation,\\nhalloween or something. Process \\nwas the only real thing that happened.\\nWe wove closer to the abyss, a maze of sunflowers.\\nThe dauphin said to take our time.\\n\\n\\n'"
      ]
     },
     "execution_count": 9,
     "metadata": {},
     "output_type": "execute_result"
    }
   ],
   "source": [
    "poems[0]"
   ]
  },
  {
   "cell_type": "code",
   "execution_count": 45,
   "id": "3fc6af65-676e-4478-ba6c-1bb70914dc32",
   "metadata": {},
   "outputs": [],
   "source": [
    "final  = ''\n",
    "final += front_matter + '\\n###\\n\\n'\n",
    "\n",
    "poems_dict = {}\n",
    "\n",
    "for i, (title, poem) in enumerate(zip(titles,poems)):\n",
    "        \n",
    "    poem = poem[::-1].rstrip()[::-1].rstrip()\n",
    "    #poem = re.sub('\\n(.)',r'\\n    \\1',poem)\n",
    "    poems_dict[title.upper()] = poem\n",
    "    \n",
    "    final += f'\\n{title.upper()}\\n'\n",
    "    final += re.sub(r'\\n{4,}','\\n\\n\\n',poem)[:-1]"
   ]
  },
  {
   "cell_type": "code",
   "execution_count": 46,
   "id": "0817114e-5d7d-4153-b5bb-2577420fa192",
   "metadata": {},
   "outputs": [
    {
     "data": {
      "text/plain": [
       "'we could send you out there\\nto join the cackle squad,\\nbut hey, that highly accomplished,\\nthinly regarded equestrian—well there was no way\\nhe was going to join the others’ field trip.\\nWouldn’t put his head on the table.\\nBut here’s the thing:\\n\\nThey had owned great dread,\\nknew of a way to get away from here\\nthrough ice and smoke\\nalways clutching her fingers, like it says\\nto do.\\n\\nOnce we were passionate about the police,\\nyawned in the teeth of pixels,\\nbut a far rumor blanked us out.\\nWe bathed in moonshine.\\nNow, experts disagree.\\nWere we unhappy or sublime?\\nWe’ll have to wait until the next time\\nan angel comes rapping at the door\\nto rejoice docently.\\n\\n(I know there’s a way to do this.)'"
      ]
     },
     "execution_count": 46,
     "metadata": {},
     "output_type": "execute_result"
    }
   ],
   "source": [
    "poems_dict[title]"
   ]
  },
  {
   "cell_type": "code",
   "execution_count": 47,
   "id": "7d2b0690-5396-4f76-9aa2-d1b12bd7b0cd",
   "metadata": {},
   "outputs": [],
   "source": [
    "#final"
   ]
  },
  {
   "cell_type": "code",
   "execution_count": 55,
   "id": "870b60d4-0695-4436-9c87-3d70e4d988bd",
   "metadata": {},
   "outputs": [
    {
     "name": "stdout",
     "output_type": "stream",
     "text": [
      "ALCOVE\n",
      "Is it possible that spring could be\n",
      "once more approaching? We forget each time\n",
      "what a mindless business it is, porous like sleep,\n",
      "adrift on the horizon, refusing to take sides, \"mugwump\n",
      "of the final hour,\" lest an agenda—horrors!—be imputed to it,\n",
      "and the whole point of its being spring collapse\n",
      "like a hole dug in sand. It's breathy, though,\n",
      "you have to say that for it.\n",
      "And should further seasons coagulate\n",
      "into years, like spilled, dried paint, why,\n",
      "who's to say we weren't provident? We indeed\n",
      "looked out for others as though they mattered, and they,\n",
      "catching the spirit, came home with us, spent the night\n",
      "in an alcove from which their breathing could be heard clearly.\n",
      "But it's not over yet. Terrible incidents happen\n",
      "daily. That's how we get around obstacles.\n"
     ]
    },
    {
     "data": {
      "text/plain": [
       "(None, None)"
      ]
     },
     "execution_count": 55,
     "metadata": {},
     "output_type": "execute_result"
    }
   ],
   "source": [
    "import numpy as np\n",
    "title = np.random.choice(titles)\n",
    "print(title),print(poems_dict[title])\n"
   ]
  },
  {
   "cell_type": "code",
   "execution_count": 57,
   "id": "fa3d867e-bb95-4b7b-9eb4-8a6c6987bdcf",
   "metadata": {},
   "outputs": [
    {
     "data": {
      "text/plain": [
       "'Is it possible that spring could be\\nonce more approaching? We forget each time\\nwhat a mindless business it is, porous like sleep,\\nadrift on the horizon, refusing to take sides, \"mugwump\\nof the final hour,\" lest an agenda—horrors!—be imputed to it,\\nand the whole point of its being spring collapse\\nlike a hole dug in sand. It\\'s breathy, though,\\nyou have to say that for it.\\nAnd should further seasons coagulate\\ninto years, like spilled, dried paint, why,\\nwho\\'s to say we weren\\'t provident? We indeed\\nlooked out for others as though they mattered, and they,\\ncatching the spirit, came home with us, spent the night\\nin an alcove from which their breathing could be heard clearly.\\nBut it\\'s not over yet. Terrible incidents happen\\ndaily. That\\'s how we get around obstacles.'"
      ]
     },
     "execution_count": 57,
     "metadata": {},
     "output_type": "execute_result"
    }
   ],
   "source": [
    "poem = poems_dict[title]\n",
    "poem"
   ]
  },
  {
   "cell_type": "code",
   "execution_count": 58,
   "id": "e7d84d03-3ab1-4ee3-92f4-5ddfdd434724",
   "metadata": {},
   "outputs": [
    {
     "data": {
      "text/plain": [
       "array(['ELECTIVE INFINITIES', 'ALCOVE', 'INSTEAD OF LOSING',\n",
       "       'MOTTLED TUESDAY', 'MEANINGFUL LOVE', 'THE NEW HIGHER',\n",
       "       'HONESTLY,'], dtype='<U19')"
      ]
     },
     "execution_count": 58,
     "metadata": {},
     "output_type": "execute_result"
    }
   ],
   "source": [
    "titles"
   ]
  },
  {
   "cell_type": "code",
   "execution_count": 72,
   "id": "86b14c5e-5be6-4090-99a3-7fbd6a3ef94a",
   "metadata": {},
   "outputs": [],
   "source": [
    "text = ''\n",
    "\n",
    "text += 'John Ashbery (1927-2017) [https://en.wikipedia.org/wiki/John_Ashbery]'\n",
    "text += '\\n\\n###\\n\\n'\n",
    "\n",
    "for title in titles:\n",
    "    text += '~' + title + '~'\n",
    "    text += '\\n\\n'\n",
    "    text += poems_dict[title]\n",
    "    text += '\\n\\n\\n'\n",
    "        \n",
    "#print(text)"
   ]
  },
  {
   "cell_type": "code",
   "execution_count": 77,
   "id": "e4341cea-8079-45b3-a2ee-06d076e9006e",
   "metadata": {},
   "outputs": [],
   "source": [
    "import json\n",
    "\n",
    "with open('../_json/ashbery.txt','w+') as f:\n",
    "    f.write(text)"
   ]
  }
 ],
 "metadata": {
  "kernelspec": {
   "display_name": "Python 3",
   "language": "python",
   "name": "python3"
  },
  "language_info": {
   "codemirror_mode": {
    "name": "ipython",
    "version": 3
   },
   "file_extension": ".py",
   "mimetype": "text/x-python",
   "name": "python",
   "nbconvert_exporter": "python",
   "pygments_lexer": "ipython3",
   "version": "3.9.1"
  }
 },
 "nbformat": 4,
 "nbformat_minor": 5
}
