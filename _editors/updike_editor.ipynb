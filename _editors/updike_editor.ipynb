{
 "cells": [
  {
   "cell_type": "code",
   "execution_count": 38,
   "id": "d1875133-6d21-4cea-b817-e8bf4b8dab41",
   "metadata": {},
   "outputs": [],
   "source": [
    "import regex as re"
   ]
  },
  {
   "cell_type": "code",
   "execution_count": 39,
   "id": "22ea1653-e183-4add-b2af-f502f0697830",
   "metadata": {},
   "outputs": [],
   "source": [
    "file_name = '/users/thomas/desktop/packages/poetry/_raw/updike_raw.txt'"
   ]
  },
  {
   "cell_type": "code",
   "execution_count": 40,
   "id": "5cdb34ad-8e42-417f-b9a2-e38163a2d794",
   "metadata": {},
   "outputs": [],
   "source": [
    "with open(file_name,'r+') as f:\n",
    "    text = f.read()"
   ]
  },
  {
   "cell_type": "code",
   "execution_count": 41,
   "id": "d5a84e3a-1b3c-4b47-ae41-52c00eae969f",
   "metadata": {},
   "outputs": [],
   "source": [
    "capture_title_expr = r'\\n(\\_[0-9][.,\\n]+\\_)'\n",
    "\n",
    "title_expr = r'\\n[A-Z, ]{2,}\\n'\n",
    "\n",
    "capture_title_expr = r'\\n([A-ZÀ-Ú,\\ ,\\',\\:,\\-,\\?,\\\"]{2,})\\.\\n'\n",
    "title_expr = r'\\n[A-ZÀ-Ú,\\ ,\\',\\:,\\-,\\?,\\\"]{2,}\\.\\n'\n",
    "\n",
    "capture_title_expr = r'\\n([A-Z][^a-z\\n]{2,})\\.\\n'\n",
    "title_expr = r'\\n[A-Z][^a-z\\n]{2,}\\.\\n'\n",
    "\n",
    "front_matter, body = text.split('\\n###\\n')\n",
    "#body = re.sub(capture_title_expr,r'\\n\\1\\n',body)\n",
    "\n",
    "#body = re.sub('\\n(.)',r'\\n    \\1',body)"
   ]
  },
  {
   "cell_type": "code",
   "execution_count": 42,
   "id": "a98b5bab-b161-418a-996e-71f7e3d73a3c",
   "metadata": {},
   "outputs": [
    {
     "name": "stdout",
     "output_type": "stream",
     "text": [
      "\n",
      "RETURNING NATIVE.\n",
      "\n",
      "What can you say about Pennsylvania \n",
      "in regard to New England except that \n",
      "it is\n"
     ]
    }
   ],
   "source": [
    "print(body[:100])"
   ]
  },
  {
   "cell_type": "code",
   "execution_count": 43,
   "id": "6d795ae2-cd72-4162-a181-0706f374b04c",
   "metadata": {},
   "outputs": [
    {
     "name": "stdout",
     "output_type": "stream",
     "text": [
      "17 17\n",
      "['RETURNING NATIVE' 'PERFECTION WASTED' 'SEVEN STANZAS AT EASTER'\n",
      " 'EVENING CONCERT, SAINTE-CHAPELLE' 'HOEING' 'IN EXTREMIS' 'PURA VIDA'\n",
      " 'FLIGHT TO LIMBO' 'RELATIVES' 'PENUMBRAE' 'BACK FROM VACATION'\n",
      " \"DOG'S DEATH\" 'SAYING GOODBYE TO VERY YOUNG CHILDREN' 'PLANTING TREES'\n",
      " 'ON THE ROAD' 'JANUARY' 'EX-BASKETBALL PLAYER']\n"
     ]
    }
   ],
   "source": [
    "import numpy as np\n",
    "\n",
    "titles = np.array([s.upper() for s in re.findall(capture_title_expr, body)])\n",
    "poems = re.split(title_expr,body)[1:] # the first one is an empty string\n",
    "\n",
    "\n",
    "print(len(titles), len(poems))\n",
    "\n",
    "print(titles)"
   ]
  },
  {
   "cell_type": "code",
   "execution_count": 44,
   "id": "1762959b-54b7-443d-aea0-8066274c765a",
   "metadata": {},
   "outputs": [],
   "source": [
    "for unique_title in np.unique(titles):\n",
    "    \n",
    "    title_index = np.where(titles==unique_title)[0]\n",
    "    \n",
    "    if unique_title.isdigit():\n",
    "        for ii,i in enumerate(title_index):\n",
    "            titles[i] += ' UNTITLED'\n",
    "            \n",
    "    title_index = np.where(titles==unique_title)[0]\n",
    "    \n",
    "    if len(title_index) > 1:\n",
    "        for ii,i in enumerate(title_index):\n",
    "            titles[i] += ' ' + f'_{ii+1}_'"
   ]
  },
  {
   "cell_type": "code",
   "execution_count": 45,
   "id": "56a4a0f7-5b2d-4037-9230-5b298e62841c",
   "metadata": {},
   "outputs": [
    {
     "data": {
      "text/plain": [
       "<regex.Match object; span=(0, 2), match='71'>"
      ]
     },
     "execution_count": 45,
     "metadata": {},
     "output_type": "execute_result"
    }
   ],
   "source": [
    "re.match(r'[0-9]+','71')"
   ]
  },
  {
   "cell_type": "code",
   "execution_count": 46,
   "id": "c597eb6c-52f6-4916-95bf-17b9c6995482",
   "metadata": {},
   "outputs": [
    {
     "data": {
      "text/plain": [
       "\"\\nWhat can you say about Pennsylvania \\nin regard to New England except that \\nit is slightly less cold, and less rocky, \\nor rather that the rocks are different? \\nRedder, and gritty, and piled up here and there, \\nwhether as glacial moraine or collapsed springhouse \\nis not easy to tell, so quickly \\nare human efforts bundled back into nature. \\n\\nIn fall, the trees turn yellower--\\nhard maple, hickory, and oak \\ngive way to tulip poplar, black walnut, \\nand locust. The woods are overgrown \\nwith wild-grape vines, and with greenbrier \\nspreading its low net of anxious small claws. \\nIn warm November, the mulching forest floor \\nsmells like a rotting animal. \\n\\nA genial pulpiness, in short: the sky \\nis soft with haze and paper-gray \\neven as the sun shines, and the rain \\nfalls soft on the shoulders of farmers \\nwhile the children keep on playing, \\ntheir heads of hair beaded like spider webs. \\nA deep-dyed blur softens the bleak cities \\nwhose people palaver in prolonged vowels. \\n\\nThere is a secret here, some death-defying joke \\nthe eyes, the knuckles, the bellies imply--\\na suet of consolation fetched straight \\nfrom the slaughterhouse and hung out \\nfor chickadees to peck in the lee of the spruce, \\nwhere the husks of sunflower seeds \\nand the peace-signs of bird feet crowd \\nthe snow that barely masks the still-green grass. \\n\\nI knew that secret once, and have forgotten. \\nThe death-defying secret—it rises \\ntoward me like a dog's gaze, loving \\nbut bewildered. When winter sits cold and black \\non Boston's granite hills, in Philly, \\nslumped between its two polluted rivers, \\nwarmth's shadow leans close to the wall \\nand gets the cement to deliver a kiss.\\n\\n\\n\\n\""
      ]
     },
     "execution_count": 46,
     "metadata": {},
     "output_type": "execute_result"
    }
   ],
   "source": [
    "poems[0]"
   ]
  },
  {
   "cell_type": "code",
   "execution_count": 47,
   "id": "3813d87f-3127-41c5-9886-4738a061024b",
   "metadata": {},
   "outputs": [],
   "source": [
    "final  = ''\n",
    "final += front_matter + '\\n###\\n\\n'\n",
    "\n",
    "poems_dict = {}\n",
    "\n",
    "for i, (title, poem) in enumerate(zip(titles,poems)):\n",
    "        \n",
    "    poem = poem.strip('\\n')\n",
    "    poems_dict[title.upper()] = poem\n",
    "    \n",
    "    if len(poem) < 100:\n",
    "        print(title,poem)"
   ]
  },
  {
   "cell_type": "code",
   "execution_count": 48,
   "id": "92ed283b-fdf3-46b9-890d-fed232596076",
   "metadata": {},
   "outputs": [],
   "source": [
    "#poems_dict"
   ]
  },
  {
   "cell_type": "code",
   "execution_count": 49,
   "id": "ed675497-19af-4543-9be9-f810987acedc",
   "metadata": {},
   "outputs": [
    {
     "name": "stdout",
     "output_type": "stream",
     "text": [
      "John Updike (1932-2009) [https://en.wikipedia.org/wiki/John_Updike]\n",
      "\n",
      "###\n",
      "\n",
      "~RETURNING NATIVE~\n",
      "\n",
      "What can you say about Pennsylvania \n",
      "in regard to New England except that \n",
      "it is slightly less cold, and less rocky, \n",
      "or rather that the rocks are different? \n",
      "Redder, and gritty, and piled up here and there, \n",
      "whether as glacial moraine or collapsed springhouse \n",
      "is not easy to tell, so quickly \n",
      "are human e\n"
     ]
    }
   ],
   "source": [
    "text = ''\n",
    "\n",
    "text += 'John Updike (1932-2009) [https://en.wikipedia.org/wiki/John_Updike]'\n",
    "text += '\\n\\n###\\n\\n'\n",
    "\n",
    "for title in titles:\n",
    "    text += '~' + title + '~'\n",
    "    text += '\\n\\n'\n",
    "    text += poems_dict[title]\n",
    "    text += '\\n\\n\\n'\n",
    "        \n",
    "print(text[:400])"
   ]
  },
  {
   "cell_type": "code",
   "execution_count": 50,
   "id": "7de0f14b-0088-4ffe-8ca8-593189c8eda2",
   "metadata": {},
   "outputs": [],
   "source": [
    "import json\n",
    "\n",
    "with open('../_text/updike.txt','w+') as f:\n",
    "    f.write(text)"
   ]
  },
  {
   "cell_type": "code",
   "execution_count": 51,
   "id": "7d2b0690-5396-4f76-9aa2-d1b12bd7b0cd",
   "metadata": {},
   "outputs": [
    {
     "data": {
      "text/plain": [
       "array(['RETURNING NATIVE', 'PERFECTION WASTED', 'SEVEN STANZAS AT EASTER',\n",
       "       'EVENING CONCERT, SAINTE-CHAPELLE', 'HOEING', 'IN EXTREMIS',\n",
       "       'PURA VIDA', 'FLIGHT TO LIMBO', 'RELATIVES', 'PENUMBRAE',\n",
       "       'BACK FROM VACATION', \"DOG'S DEATH\",\n",
       "       'SAYING GOODBYE TO VERY YOUNG CHILDREN', 'PLANTING TREES',\n",
       "       'ON THE ROAD', 'JANUARY', 'EX-BASKETBALL PLAYER'], dtype='<U37')"
      ]
     },
     "execution_count": 51,
     "metadata": {},
     "output_type": "execute_result"
    }
   ],
   "source": [
    "titles"
   ]
  },
  {
   "cell_type": "code",
   "execution_count": 36,
   "id": "870b60d4-0695-4436-9c87-3d70e4d988bd",
   "metadata": {},
   "outputs": [
    {
     "name": "stdout",
     "output_type": "stream",
     "text": [
      "FLIGHT TO LIMBO\n",
      "The line didn't move, though there were not \n",
      "many people in it. In a half-hearted light \n",
      "the lone agent dealt patiently, noiselessly, endlessly \n",
      "with a large dazed family ranging \n",
      "from twin toddlers in strollers to an old lady \n",
      "in a bent wheelchair. Their baggage \n",
      "was all in cardboard boxes. The plane was delayed, \n",
      "the rumor went through the line. We shrugged, \n",
      "in our hopeless overcoats. Aviation \n",
      "had never seemed a very natural idea. \n",
      "\n",
      "Bored children floated with faces drained of blood. \n",
      "The girls in the tax-free shops stood frozen \n",
      "amid promises of a beautiful life abroad. \n",
      "Louis Armstrong sang in some upper corner, \n",
      "a trickle of ignored joy. \n",
      "Outside, in an unintelligible darkness \n",
      "that stretched to include the rubies of strip malls, \n",
      "winged behemoths prowled looking for the gates \n",
      "where they could bury their koala-bear noses \n",
      "and suck our dimming dynamos dry. \n",
      "\n",
      "Boys in floppy sweatshirts and backward hats \n",
      "slapped their feet ostentatiously \n",
      "while security attendants giggled \n",
      "and the voice of a misplaced angel melodiously \n",
      "parroted FAA regulations. Women in saris \n",
      "and kimonos dragged, as their penance, behind them \n",
      "toddlers clutching Occidental teddy bears, \n",
      "and chair legs screeched in the food court \n",
      "while ill-paid wraiths mopped circles of night \n",
      "into the motionless floor.\n"
     ]
    },
    {
     "data": {
      "text/plain": [
       "(None, None)"
      ]
     },
     "execution_count": 36,
     "metadata": {},
     "output_type": "execute_result"
    }
   ],
   "source": [
    "import numpy as np\n",
    "title = np.random.choice(titles)\n",
    "print(title),print(poems_dict[title])\n"
   ]
  },
  {
   "cell_type": "code",
   "execution_count": null,
   "id": "492a0a22-c1a1-4cfc-bc97-47e12660390a",
   "metadata": {},
   "outputs": [],
   "source": []
  }
 ],
 "metadata": {
  "kernelspec": {
   "display_name": "Python 3",
   "language": "python",
   "name": "python3"
  },
  "language_info": {
   "codemirror_mode": {
    "name": "ipython",
    "version": 3
   },
   "file_extension": ".py",
   "mimetype": "text/x-python",
   "name": "python",
   "nbconvert_exporter": "python",
   "pygments_lexer": "ipython3",
   "version": "3.9.1"
  }
 },
 "nbformat": 4,
 "nbformat_minor": 5
}
