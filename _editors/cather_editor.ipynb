{
 "cells": [
  {
   "cell_type": "code",
   "execution_count": 1,
   "id": "d1875133-6d21-4cea-b817-e8bf4b8dab41",
   "metadata": {},
   "outputs": [],
   "source": [
    "import regex as re"
   ]
  },
  {
   "cell_type": "code",
   "execution_count": 4,
   "id": "22ea1653-e183-4add-b2af-f502f0697830",
   "metadata": {},
   "outputs": [],
   "source": [
    "file_name = '/users/thomas/desktop/packages/poetry/_raw/cather_raw.txt'\n",
    "with open(file_name,'r+') as f:\n",
    "    text = f.read()"
   ]
  },
  {
   "cell_type": "code",
   "execution_count": 5,
   "id": "d5a84e3a-1b3c-4b47-ae41-52c00eae969f",
   "metadata": {},
   "outputs": [],
   "source": [
    "capture_title_expr = r'\\n\\ *([^a-z\\n]{4,})\\n'\n",
    "\n",
    "title_expr = r'\\n\\ *[^a-z\\n]{4,}\\n'\n",
    "\n",
    "front_matter, body = text.split('\\n###\\n')\n",
    "body = re.sub(capture_title_expr,r'\\n\\1\\n',body)"
   ]
  },
  {
   "cell_type": "code",
   "execution_count": 6,
   "id": "ad6d5ac3-fd9f-4cdb-bf24-d163df6e08d5",
   "metadata": {},
   "outputs": [],
   "source": [
    "body = re.sub('\\[[0-9]+\\]','',body)"
   ]
  },
  {
   "cell_type": "code",
   "execution_count": 7,
   "id": "43d209e1-dc37-41dc-8c40-b635aeccb1f4",
   "metadata": {},
   "outputs": [
    {
     "data": {
      "text/plain": [
       "(36, 36)"
      ]
     },
     "execution_count": 7,
     "metadata": {},
     "output_type": "execute_result"
    }
   ],
   "source": [
    "import numpy as np\n",
    "\n",
    "titles = np.array([s.upper() for s in re.findall(capture_title_expr, body)])\n",
    "poems = re.split(title_expr,body)[1:] # the first one is an empty string\n",
    "\n",
    "len(titles), len(poems)"
   ]
  },
  {
   "cell_type": "code",
   "execution_count": 8,
   "id": "49d6d31a-833c-4fef-bb8d-7963a43c2e7b",
   "metadata": {},
   "outputs": [
    {
     "data": {
      "text/plain": [
       "['The thing']"
      ]
     },
     "execution_count": 8,
     "metadata": {},
     "output_type": "execute_result"
    }
   ],
   "source": [
    "re.findall('[0-9]*\\. (.*)','1919. The thing')"
   ]
  },
  {
   "cell_type": "code",
   "execution_count": 9,
   "id": "a98b5bab-b161-418a-996e-71f7e3d73a3c",
   "metadata": {},
   "outputs": [
    {
     "data": {
      "text/plain": [
       "'\\n\\n\\n\\n\\n“GRANDMITHER, THINK NOT I FORGET”\\n\\n\\n    Grandmither, think not I forget, when I come back to to'"
      ]
     },
     "execution_count": 9,
     "metadata": {},
     "output_type": "execute_result"
    }
   ],
   "source": [
    "body[:100]"
   ]
  },
  {
   "cell_type": "code",
   "execution_count": 10,
   "id": "13384232-079d-471e-b93e-ad961904ab57",
   "metadata": {},
   "outputs": [
    {
     "data": {
      "text/plain": [
       "array(['“GRANDMITHER, THINK NOT I FORGET”', 'FIDES, SPES', 'THE TAVERN',\n",
       "       'THE HAWTHORN TREE', 'THE POOR MINSTREL', 'ANTINOUS',\n",
       "       'LONDON ROSES', 'WINTER AT DELPHI', 'PARADOX', 'IN MEDIA VITA',\n",
       "       'EVENING SONG', 'LAMENT FOR MARSYAS',\n",
       "       '“I SOUGHT THE WOOD IN WINTER”', '“SLEEP, MINSTREL, SLEEP”',\n",
       "       'IN ROSE-TIME', 'POPPIES ON LUDLOW CASTLE', 'PRAIRIE DAWN',\n",
       "       'AFTERMATH', 'THOU ART THE PEARL', 'ARCADIAN WINTER',\n",
       "       'PROVENÇAL LEGEND', 'THE ENCORE', 'SONG', 'L’ENVOI',\n",
       "       'THE PALATINE', 'THE GAUL IN THE CAPITOL', 'A LIKENESS',\n",
       "       'THE SWEDISH MOTHER', 'SPANISH JOHNNY', 'AUTUMN MELODY',\n",
       "       'PRAIRIE SPRING', 'MACON PRAIRIE', 'STREET IN PACKINGTOWN',\n",
       "       'A SILVER CUP', 'RECOGNITION', 'GOING HOME'], dtype='<U33')"
      ]
     },
     "execution_count": 10,
     "metadata": {},
     "output_type": "execute_result"
    }
   ],
   "source": [
    "titles"
   ]
  },
  {
   "cell_type": "code",
   "execution_count": 11,
   "id": "83864c6d-2e63-405b-b5ec-0bb143e55bce",
   "metadata": {},
   "outputs": [],
   "source": [
    "#body = re.sub(r'[\\[.*\\]]','',body)"
   ]
  },
  {
   "cell_type": "code",
   "execution_count": 12,
   "id": "be95f36c-25c5-46d9-a15d-47d7582fbdfb",
   "metadata": {},
   "outputs": [],
   "source": [
    "#body = re.sub(r'\\nPoems.*\\n',r'',body)\n",
    "#body = re.sub(r'\\n\\ *\\(?[A-Z]*\\.\\ [0-9]*\\)?\\.\\n',r'',body)"
   ]
  },
  {
   "cell_type": "code",
   "execution_count": 13,
   "id": "1762959b-54b7-443d-aea0-8066274c765a",
   "metadata": {},
   "outputs": [],
   "source": [
    "for unique_title in np.unique(titles):\n",
    "    \n",
    "    title_index = np.where(titles==unique_title)[0]\n",
    "    \n",
    "    if not len(title_index) > 1:\n",
    "        continue\n",
    "        \n",
    "    print(unique_title)\n",
    "        \n",
    "    if len(title_index) > 1:\n",
    "        for ii,i in enumerate(title_index):\n",
    "            titles[i] += ' ' + f'_{ii+1}_'"
   ]
  },
  {
   "cell_type": "code",
   "execution_count": 14,
   "id": "771edba7-2527-44aa-9b57-2f93e3029fb2",
   "metadata": {},
   "outputs": [],
   "source": [
    "final  = ''\n",
    "final += front_matter + '\\n###\\n\\n'\n",
    "\n",
    "poems_dict = {}\n",
    "\n",
    "for i, (title, poem) in enumerate(zip(titles,poems)):\n",
    "        \n",
    "    poem = poem.strip('\\n')\n",
    "    poems_dict[title.upper()] = poem\n",
    "    \n",
    "    if len(poem) < 10:\n",
    "        print(title,poem)"
   ]
  },
  {
   "cell_type": "code",
   "execution_count": 15,
   "id": "df149d60-bcd8-46ec-aab9-700f584accf3",
   "metadata": {},
   "outputs": [
    {
     "name": "stdout",
     "output_type": "stream",
     "text": [
      "Willa Cather (1873-1947) [https://en.wikipedia.org/wiki/Willa_Cather]\n",
      "\n",
      "###\n",
      "\n",
      "~“GRANDMITHER, THINK NOT I FORGET”~\n",
      "\n",
      "    Grandmither, think not I forget, when I come back to town,\n",
      "    An’ wander the old ways again an’ tread them up an’ down.\n",
      "    I never smell the clover bloom, nor see the swallows pass,\n",
      "    Without I mind how good ye were unto a little lass.\n",
      "    I never hear the winter rain a-pelting \n"
     ]
    }
   ],
   "source": [
    "text = ''\n",
    "\n",
    "text += 'Willa Cather (1873-1947) [https://en.wikipedia.org/wiki/Willa_Cather]'\n",
    "text += '\\n\\n###\\n\\n'\n",
    "\n",
    "for title in titles:\n",
    "    text += '~' + title + '~'\n",
    "    text += '\\n\\n'\n",
    "    text += poems_dict[title]\n",
    "    text += '\\n\\n\\n'\n",
    "        \n",
    "print(text[:400])"
   ]
  },
  {
   "cell_type": "code",
   "execution_count": 16,
   "id": "66945cac-e0ed-4bc7-a62e-d77a1c6071f8",
   "metadata": {},
   "outputs": [],
   "source": [
    "import json\n",
    "\n",
    "with open('../_text/cather.txt','w+') as f:\n",
    "    f.write(text)"
   ]
  },
  {
   "cell_type": "code",
   "execution_count": null,
   "id": "32a9cc35-9377-42f0-b6e4-63d634a78244",
   "metadata": {},
   "outputs": [],
   "source": []
  },
  {
   "cell_type": "code",
   "execution_count": null,
   "id": "6bd33ab0-4ffb-404b-b155-6ce545188e74",
   "metadata": {},
   "outputs": [],
   "source": []
  }
 ],
 "metadata": {
  "kernelspec": {
   "display_name": "Python 3",
   "language": "python",
   "name": "python3"
  },
  "language_info": {
   "codemirror_mode": {
    "name": "ipython",
    "version": 3
   },
   "file_extension": ".py",
   "mimetype": "text/x-python",
   "name": "python",
   "nbconvert_exporter": "python",
   "pygments_lexer": "ipython3",
   "version": "3.9.1"
  }
 },
 "nbformat": 4,
 "nbformat_minor": 5
}
