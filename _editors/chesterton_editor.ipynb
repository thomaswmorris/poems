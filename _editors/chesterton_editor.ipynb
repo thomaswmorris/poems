{
 "cells": [
  {
   "cell_type": "code",
   "execution_count": 1,
   "id": "d1875133-6d21-4cea-b817-e8bf4b8dab41",
   "metadata": {},
   "outputs": [],
   "source": [
    "import regex as re"
   ]
  },
  {
   "cell_type": "code",
   "execution_count": 2,
   "id": "22ea1653-e183-4add-b2af-f502f0697830",
   "metadata": {},
   "outputs": [],
   "source": [
    "file_name = '/users/thomas/desktop/packages/poetry/_raw/chesterton_raw.txt'"
   ]
  },
  {
   "cell_type": "code",
   "execution_count": 3,
   "id": "5cdb34ad-8e42-417f-b9a2-e38163a2d794",
   "metadata": {},
   "outputs": [],
   "source": [
    "with open(file_name,'r+') as f:\n",
    "    text = f.read()"
   ]
  },
  {
   "cell_type": "code",
   "execution_count": 4,
   "id": "496c5b95-94b7-4d6a-a606-3388c6bd5daa",
   "metadata": {},
   "outputs": [],
   "source": [
    "#text"
   ]
  },
  {
   "cell_type": "code",
   "execution_count": 5,
   "id": "d5a84e3a-1b3c-4b47-ae41-52c00eae969f",
   "metadata": {},
   "outputs": [],
   "source": [
    "capture_title_expr = r'\\n\\ *([A-Z][A-ZÀ-Ú0-9,\\ ,\\-,\\:,\\_,\\.,\\']{4,})\\n'\n",
    "\n",
    "title_expr = r'\\n\\ *[A-Z][A-ZÀ-Ú0-9,\\ ,\\-,\\:,\\_,\\.,\\']{4,}\\n'\n",
    "\n",
    "front_matter, body = text.split('\\n###\\n')\n",
    "body = re.sub(capture_title_expr,r'\\n\\1\\n',body)"
   ]
  },
  {
   "cell_type": "code",
   "execution_count": 6,
   "id": "a98b5bab-b161-418a-996e-71f7e3d73a3c",
   "metadata": {},
   "outputs": [
    {
     "data": {
      "text/plain": [
       "'\\nTHE DONKEY\\n\\n\\tWhen fishes flew and forests walked\\n\\t   And figs grew upon thorn,\\n\\tSome moment when th'"
      ]
     },
     "execution_count": 6,
     "metadata": {},
     "output_type": "execute_result"
    }
   ],
   "source": [
    "body[:100]"
   ]
  },
  {
   "cell_type": "code",
   "execution_count": 7,
   "id": "83864c6d-2e63-405b-b5ec-0bb143e55bce",
   "metadata": {},
   "outputs": [],
   "source": [
    "body = re.sub(r'[\\[,\\]]','',body)"
   ]
  },
  {
   "cell_type": "code",
   "execution_count": 8,
   "id": "be95f36c-25c5-46d9-a15d-47d7582fbdfb",
   "metadata": {},
   "outputs": [],
   "source": [
    "body = re.sub(r'\\nPoems.*\\n',r'',body)\n",
    "body = re.sub(r'\\n\\ *\\(?[A-Z]*\\.\\ [0-9]*\\)?\\.\\n',r'',body)"
   ]
  },
  {
   "cell_type": "code",
   "execution_count": null,
   "id": "caaca143-258f-4454-9df4-b61eddd3b58e",
   "metadata": {},
   "outputs": [],
   "source": []
  },
  {
   "cell_type": "code",
   "execution_count": 9,
   "id": "6d795ae2-cd72-4162-a181-0706f374b04c",
   "metadata": {},
   "outputs": [
    {
     "data": {
      "text/plain": [
       "(60, 60)"
      ]
     },
     "execution_count": 9,
     "metadata": {},
     "output_type": "execute_result"
    }
   ],
   "source": [
    "import numpy as np\n",
    "\n",
    "titles = np.array([s.upper() for s in re.findall(capture_title_expr, body)])\n",
    "poems = re.split(title_expr,body)[1:] # the first one is an empty string\n",
    "\n",
    "len(titles), len(poems)"
   ]
  },
  {
   "cell_type": "code",
   "execution_count": 10,
   "id": "1762959b-54b7-443d-aea0-8066274c765a",
   "metadata": {},
   "outputs": [],
   "source": [
    "for unique_title in np.unique(titles):\n",
    "    \n",
    "    title_index = np.where(titles==unique_title)[0]\n",
    "    \n",
    "    if not len(title_index) > 1:\n",
    "        continue\n",
    "        \n",
    "    print(unique_title)\n",
    "        \n",
    "    if len(title_index) > 1:\n",
    "        for ii,i in enumerate(title_index):\n",
    "            titles[i] += ' ' + f'_{ii+1}_'"
   ]
  },
  {
   "cell_type": "code",
   "execution_count": 11,
   "id": "8639e150-aa29-4c3f-8b3e-b879c3141dbd",
   "metadata": {},
   "outputs": [
    {
     "data": {
      "text/plain": [
       "array(['THE DONKEY', 'THE CONVERT',\n",
       "       'TO EDMUND CLERIHEW BENTLEY: THE DEDICATION OF _THE MAN WHO WAS THURSDAY_',\n",
       "       'TO HILAIRE BELLOC: THE DEDICATION OF _THE NAPOLEON OF NOTTING HILL_',\n",
       "       'TO _M. E. W_.', 'LEPANTO', 'THE MARCH OF THE BLACK MOUNTAIN 1913',\n",
       "       'BLESSED ARE THE PEACEMAKERS', 'THE WIFE OF FLANDERS',\n",
       "       'THE CRUSADER RETURNS FROM CAPTIVITY', 'GLENCOE',\n",
       "       \"LOVE'S TRAPPIST\", 'CONFESSIONAL', 'MUSIC', 'THE DELUGE',\n",
       "       'THE STRANGE MUSIC', 'THE GREAT MINIMUM', 'THE MORTAL ANSWERS',\n",
       "       'A MARRIAGE SONG', 'BAY COMBE', 'THE WISE MEN',\n",
       "       'THE HOUSE OF CHRISTMAS', 'A SONG OF GIFTS TO GOD',\n",
       "       'THE KINGDOM OF HEAVEN', 'A HYMN FOR THE CHURCH MILITANT',\n",
       "       'THE BEATIFIC VISION', 'THE TRUCE OF CHRISTMAS', 'A HYMN',\n",
       "       'A CHRISTMAS SONG FOR THREE GUILDS', 'THE NATIVITY',\n",
       "       'A CHILD OF THE SNOWS', 'A WORD',\n",
       "       'ANTICHRIST OR THE REUNION OF CHRISTENDOM: AN ODE',\n",
       "       'THE REVOLUTIONIST: OR LINES TO A STATESMAN',\n",
       "       'THE SHAKESPEARE MEMORIAL', 'THE HORRIBLE HISTORY OF JONES',\n",
       "       'THE NEW FREETHINKER', 'IN MEMORIAM P.D.',\n",
       "       'SONNET WITH THE COMPLIMENTS OF THE SEASON', 'A SONG OF SWORDS',\n",
       "       'A SONG OF DEFEAT', 'SONNET', 'AFRICA', 'THE DEAD HERO',\n",
       "       'AN ELECTION ECHO 1906', 'THE SONG OF THE WHEELS.',\n",
       "       'THE SECRET PEOPLE', 'BALLAD OF THE SUN',\n",
       "       'TRANSLATION FROM DU BELLAY', 'THE HIGHER UNITY',\n",
       "       \"THE EARTH'S VIGIL\", 'ON RIGHTEOUS INDIGNATION',\n",
       "       'WHEN I CAME BACK TO FLEET STREET', 'A CIDER SONG',\n",
       "       'THE LAST HERO', \"BALLADE D'UNE GRANDE DAME\",\n",
       "       'A BALLADE OF AN ANTI-PURITAN', 'A BALLADE OF A BOOK-REVIEWER',\n",
       "       'A BALLADE OF SUICIDE', 'A BALLADE OF THE FIRST RAIN'],\n",
       "      dtype='<U72')"
      ]
     },
     "execution_count": 11,
     "metadata": {},
     "output_type": "execute_result"
    }
   ],
   "source": [
    "titles"
   ]
  },
  {
   "cell_type": "code",
   "execution_count": 12,
   "id": "3fc6af65-676e-4478-ba6c-1bb70914dc32",
   "metadata": {},
   "outputs": [],
   "source": [
    "\n",
    "final  = ''\n",
    "final += front_matter + '\\n###\\n\\n'\n",
    "\n",
    "poems_dict = {}\n",
    "\n",
    "for i, (title, poem) in enumerate(zip(titles,poems)):\n",
    "        \n",
    "    poem = poem.strip('\\n')\n",
    "    poems_dict[title.upper()] = poem\n",
    "    \n",
    "    if len(poem) < 100:\n",
    "        print(title)\n"
   ]
  },
  {
   "cell_type": "code",
   "execution_count": null,
   "id": "e06b007e-46e9-4ace-9ab1-eaf1b53ed321",
   "metadata": {},
   "outputs": [],
   "source": []
  },
  {
   "cell_type": "code",
   "execution_count": 13,
   "id": "58484428-ba58-4e0e-8c16-79461e11ed45",
   "metadata": {},
   "outputs": [],
   "source": [
    "#poems_dict['poet_short'] = 'G. K. Chesterton'\n",
    "#poems_dict['poet_long']  = 'G. K. Chesterton (1874-1936)'"
   ]
  },
  {
   "cell_type": "code",
   "execution_count": 14,
   "id": "f2606746-100d-4a9d-b925-f4294061e47d",
   "metadata": {},
   "outputs": [
    {
     "name": "stdout",
     "output_type": "stream",
     "text": [
      "G. K. Chesterton (1874-1936) [https://en.wikipedia.org/wiki/G._K._Chesterton]\n",
      "\n",
      "###\n",
      "\n",
      "~THE DONKEY~\n",
      "\n",
      "\tWhen fishes flew and forests walked\n",
      "\t   And figs grew upon thorn\n",
      "\tSome moment when the moon was blood\n"
     ]
    }
   ],
   "source": [
    "text = ''\n",
    "\n",
    "text += 'G. K. Chesterton (1874-1936) [https://en.wikipedia.org/wiki/G._K._Chesterton]'\n",
    "text += '\\n\\n###\\n\\n'\n",
    "\n",
    "for title in titles:\n",
    "    text += '~' + title + '~'\n",
    "    text += '\\n\\n'\n",
    "    text += poems_dict[title]\n",
    "    text += '\\n\\n\\n'\n",
    "        \n",
    "print(text[:200])"
   ]
  },
  {
   "cell_type": "code",
   "execution_count": 15,
   "id": "bc8b3105-89e2-4312-877a-9b6c3814dc86",
   "metadata": {},
   "outputs": [],
   "source": [
    "import json\n",
    "\n",
    "with open('../_text/chesterton.txt','w+') as f:\n",
    "    f.write(text)"
   ]
  },
  {
   "cell_type": "code",
   "execution_count": 18,
   "id": "870b60d4-0695-4436-9c87-3d70e4d988bd",
   "metadata": {},
   "outputs": [
    {
     "name": "stdout",
     "output_type": "stream",
     "text": [
      "THE MARCH OF THE BLACK MOUNTAIN 1913\n",
      "     What will there be to remember\n",
      "       Of us in the days to be?\n",
      "     Whose faith was a trodden ember\n",
      "       And even our doubt not free;\n",
      "     Parliaments built of paper\n",
      "       And the soft swords of gold\n",
      "     That twist like a waxen taper\n",
      "       In the weak aggressor's hold;\n",
      "     A hush around Hunger slaying\n",
      "       A city of serfs unfed;\n",
      "     What shall we leave for a saying\n",
      "       To praise us when we are dead?\n",
      "     But men shall remember the Mountain\n",
      "       That broke its forest chains\n",
      "     And men shall remember the Mountain\n",
      "       When it arches against the plains:\n",
      "     And christen their children from it\n",
      "       And season and ship and street\n",
      "     When the Mountain came to Mahomet\n",
      "       And looked small before his feet.\n",
      "\n",
      "     His head was as high as the crescent\n",
      "       Of the moon that seemed his crown\n",
      "     And on glory of past and present\n",
      "       The light of his eyes looked down;\n",
      "     One hand went out to the morning\n",
      "       Over Brahmin and Buddhist slain\n",
      "     And one to the West in scorning\n",
      "       To point at the scars of Spain;\n",
      "     One foot on the hills for warden\n",
      "       By the little Mountain trod;\n",
      "     And one was in a garden\n",
      "       And stood on the grave of God.\n",
      "     But men shall remember the Mountain\n",
      "       Though it fall down like a tree\n",
      "     They shall see the sign of the Mountain\n",
      "       Faith cast into the sea;\n",
      "     Though the crooked swords overcome it\n",
      "       And the Crooked Moon ride free\n",
      "     When the Mountain comes to Mahomet\n",
      "       It has more life than he.\n",
      "\n",
      "     But what will there be to remember\n",
      "       Or what will there be to see--\n",
      "     Though our towns through a long November\n",
      "       Abide to the end and be?\n",
      "     Strength of slave and mechanic\n",
      "       Whose iron is ruled by gold\n",
      "     Peace of immortal panic\n",
      "       Love that is hate grown cold--\n",
      "     Are these a bribe or a warning\n",
      "       That we turn not to the sun\n",
      "     Nor look on the lands of morning\n",
      "       Where deeds at last are done?\n",
      "     Where men shall remember the Mountain\n",
      "       When truth forgets the plain--\n",
      "     And walk in the way of the Mountain\n",
      "       That did not fail in vain;\n",
      "     Death and eclipse and comet\n",
      "       Thunder and seals that rend:\n",
      "     When the Mountain came to Mahomet;\n",
      "       Because it was the end.\n"
     ]
    },
    {
     "data": {
      "text/plain": [
       "(None, None)"
      ]
     },
     "execution_count": 18,
     "metadata": {},
     "output_type": "execute_result"
    }
   ],
   "source": [
    "import numpy as np\n",
    "title = np.random.choice(titles)\n",
    "print(title),print(poems_dict[title])\n"
   ]
  },
  {
   "cell_type": "code",
   "execution_count": 58,
   "id": "e4341cea-8079-45b3-a2ee-06d076e9006e",
   "metadata": {},
   "outputs": [],
   "source": [
    "import json\n",
    "\n",
    "with open('/users/thomas/desktop/poetry/poemsfromtom/poems/chesterton.json', 'w+') as f:\n",
    "    json.dump(poems_dict, f)\n",
    "\n",
    "with open('/users/thomas/desktop/poetry/chesterton.txt','w+') as f:\n",
    "    f.write(final)"
   ]
  },
  {
   "cell_type": "code",
   "execution_count": null,
   "id": "6c404b4b-0d26-4d44-890d-ae26b15c3f79",
   "metadata": {},
   "outputs": [],
   "source": []
  }
 ],
 "metadata": {
  "kernelspec": {
   "display_name": "Python 3",
   "language": "python",
   "name": "python3"
  },
  "language_info": {
   "codemirror_mode": {
    "name": "ipython",
    "version": 3
   },
   "file_extension": ".py",
   "mimetype": "text/x-python",
   "name": "python",
   "nbconvert_exporter": "python",
   "pygments_lexer": "ipython3",
   "version": "3.9.1"
  }
 },
 "nbformat": 4,
 "nbformat_minor": 5
}
