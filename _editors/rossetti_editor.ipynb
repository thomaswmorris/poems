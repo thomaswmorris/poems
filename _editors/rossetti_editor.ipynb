{
 "cells": [
  {
   "cell_type": "code",
   "execution_count": 1,
   "id": "d1875133-6d21-4cea-b817-e8bf4b8dab41",
   "metadata": {},
   "outputs": [],
   "source": [
    "import regex as re"
   ]
  },
  {
   "cell_type": "code",
   "execution_count": 2,
   "id": "22ea1653-e183-4add-b2af-f502f0697830",
   "metadata": {},
   "outputs": [],
   "source": [
    "file_name = '/users/thomas/desktop/packages/poetry/_raw/rossetti_raw.txt'"
   ]
  },
  {
   "cell_type": "code",
   "execution_count": 3,
   "id": "5cdb34ad-8e42-417f-b9a2-e38163a2d794",
   "metadata": {},
   "outputs": [],
   "source": [
    "with open(file_name,'r+') as f:\n",
    "    text = f.read()"
   ]
  },
  {
   "cell_type": "code",
   "execution_count": 4,
   "id": "496c5b95-94b7-4d6a-a606-3388c6bd5daa",
   "metadata": {},
   "outputs": [],
   "source": [
    "#text"
   ]
  },
  {
   "cell_type": "code",
   "execution_count": 5,
   "id": "d5a84e3a-1b3c-4b47-ae41-52c00eae969f",
   "metadata": {},
   "outputs": [],
   "source": [
    "capture_title_expr = r'\\n\\ {,5}([A-Z][A-ZÀ-Ú,0-9,\\(,\\),\\ ,\\-,\\',\\:,\\\",\\?]{3,})\\.*\\n'\n",
    "\n",
    "title_expr = r'\\n\\ {,5}[A-Z][A-ZÀ-Ú,0-9,\\(,\\),\\ ,\\-,\\',\\:,\\\",\\?]{3,}\\.*\\n'\n",
    "\n",
    "front_matter, body = text.split('\\n###\\n')\n",
    "body = re.sub(capture_title_expr,r'\\n\\1\\n',body)"
   ]
  },
  {
   "cell_type": "code",
   "execution_count": 6,
   "id": "a98b5bab-b161-418a-996e-71f7e3d73a3c",
   "metadata": {},
   "outputs": [
    {
     "data": {
      "text/plain": [
       "'\\n\\nDREAM-LAND\\n\\n\\n    Where sunless rivers weep\\n    Their waves into the deep,\\n    She sleeps a charmèd'"
      ]
     },
     "execution_count": 6,
     "metadata": {},
     "output_type": "execute_result"
    }
   ],
   "source": [
    "body[:100]"
   ]
  },
  {
   "cell_type": "code",
   "execution_count": 7,
   "id": "83864c6d-2e63-405b-b5ec-0bb143e55bce",
   "metadata": {},
   "outputs": [],
   "source": [
    "body = re.sub(r'[\\[,\\]]','',body)"
   ]
  },
  {
   "cell_type": "code",
   "execution_count": 8,
   "id": "be95f36c-25c5-46d9-a15d-47d7582fbdfb",
   "metadata": {},
   "outputs": [],
   "source": [
    "body = re.sub(r'\\nPoems.*\\n',r'',body)\n",
    "body = re.sub(r'\\n\\ *\\(?[A-Z]*\\.\\ [0-9]*\\)?\\.\\n',r'',body)"
   ]
  },
  {
   "cell_type": "code",
   "execution_count": 9,
   "id": "6d795ae2-cd72-4162-a181-0706f374b04c",
   "metadata": {},
   "outputs": [
    {
     "data": {
      "text/plain": [
       "(183, 183)"
      ]
     },
     "execution_count": 9,
     "metadata": {},
     "output_type": "execute_result"
    }
   ],
   "source": [
    "import numpy as np\n",
    "\n",
    "titles = np.array([s.upper() for s in re.findall(capture_title_expr, body)])\n",
    "poems = re.split(title_expr,body)[1:] # the first one is an empty string\n",
    "\n",
    "len(titles), len(poems)"
   ]
  },
  {
   "cell_type": "code",
   "execution_count": 10,
   "id": "1762959b-54b7-443d-aea0-8066274c765a",
   "metadata": {},
   "outputs": [
    {
     "name": "stdout",
     "output_type": "stream",
     "text": [
      "SONG\n"
     ]
    }
   ],
   "source": [
    "for unique_title in np.unique(titles):\n",
    "    \n",
    "    title_index = np.where(titles==unique_title)[0]\n",
    "    \n",
    "    if not len(title_index) > 1:\n",
    "        continue\n",
    "        \n",
    "    print(unique_title)\n",
    "        \n",
    "    if len(title_index) > 1:\n",
    "        for ii,i in enumerate(title_index):\n",
    "            titles[i] += ' ' + f'_{ii+1}_'"
   ]
  },
  {
   "cell_type": "code",
   "execution_count": null,
   "id": "c8eb5fb2-b5de-4875-a3be-ddc20758637a",
   "metadata": {},
   "outputs": [],
   "source": []
  },
  {
   "cell_type": "code",
   "execution_count": 11,
   "id": "8639e150-aa29-4c3f-8b3e-b879c3141dbd",
   "metadata": {},
   "outputs": [
    {
     "data": {
      "text/plain": [
       "array(['DREAM-LAND', 'AT HOME', 'FROM SUNSET TO STAR RISE',\n",
       "       'LOVE FROM THE NORTH', 'WINTER RAIN', 'A DIRGE', 'CONFLUENTS',\n",
       "       'NOBLE SISTERS', 'SPRING', 'THE LAMBS OF GRASMERE 1860',\n",
       "       'A BIRTHDAY', 'REMEMBER', 'AFTER DEATH', 'AN END', 'MY DREAM',\n",
       "       'SONG _1_', 'THE HOUR AND THE GHOST', 'A SUMMER WISH',\n",
       "       'AN APPLE GATHERING', 'SONG _2_', 'MAUDE CLARE', 'ECHO',\n",
       "       'WINTER: MY SECRET', 'ANOTHER SPRING', 'A PEAL OF BELLS',\n",
       "       'FATA MORGANA', 'A PAUSE OF THOUGHT', 'TWILIGHT CALM',\n",
       "       'WIFE TO HUSBAND', 'THREE SEASONS', 'MIRAGE', 'SHUT OUT',\n",
       "       'SOUND SLEEP', 'SONG _3_', 'SONG _4_', 'DEAD BEFORE DEATH',\n",
       "       'BITTER FOR SWEET', 'REST', 'THE FIRST SPRING DAY',\n",
       "       'THE CONVENT THRESHOLD', 'UP-HILL', 'A BETTER RESURRECTION',\n",
       "       'ADVENT', 'THE THREE ENEMIES', 'ONE CERTAINTY',\n",
       "       'CHRISTIAN AND JEW', 'SWEET DEATH', 'SYMBOLS', 'THE WORLD',\n",
       "       'A TESTIMONY', 'SLEEP AT SEA', 'FROM HOUSE TO HOME',\n",
       "       'OLD AND NEW YEAR DITTIES', 'AMEN', 'MOTHER COUNTRY',\n",
       "       \"THE PRINCE'S PROGRESS\", 'MAIDEN-SONG', 'JESSIE CAMERON',\n",
       "       'SPRING QUIET', 'THE POOR GHOST', 'A PORTRAIT', 'DREAM-LOVE',\n",
       "       'TWICE', 'SONGS IN A CORNFIELD', \"A YEAR'S WINDFALLS\",\n",
       "       'THE QUEEN OF HEARTS', 'ONE DAY', \"A BIRD'S-EYE VIEW\",\n",
       "       'THE GERMAN-FRENCH CAMPAIGN', 'ON THE WING', 'CONSIDER',\n",
       "       'BEAUTY IS VAIN', 'MAGGIE A LADY', 'WHAT WOULD I GIVE?',\n",
       "       'THE BOURNE', 'SUMMER', 'AUTUMN', \"THE GHOST'S PETITION\", 'MEMORY',\n",
       "       'A ROYAL PRINCESS', 'SHALL I FORGET?', 'VANITY OF VANITIES',\n",
       "       'LIFE AND DEATH', 'BIRD OR BEAST?', 'GROWN AND FLOWN',\n",
       "       'A FARM WALK', 'SOMEWHERE OR OTHER', 'A CHILL',\n",
       "       \"CHILD'S TALK IN APRIL\", 'GONE FOREVER', 'UNDER THE ROSE',\n",
       "       'SONG _5_', 'BY THE SEA', 'DAYS OF VANITY', 'ENRICA 1865',\n",
       "       'ONCE FOR ALL', 'AUTUMN VIOLETS', 'A GREEN CORNFIELD',\n",
       "       'A BRIDE SONG', 'THE LOWEST ROOM', 'DEAD HOPE',\n",
       "       'A DAUGHTER OF EVE', \"VENUS' LOOKING-GLASS\", 'LOVE LIES BLEEDING',\n",
       "       'BIRD RAPTURES', 'MY FRIEND', 'TWILIGHT NIGHT', 'A BIRD SONG',\n",
       "       'A SMILE AND A SIGH', 'AMOR MUNDI', 'A CHRISTMAS CAROL',\n",
       "       'BY THE WATERS OF BABYLON', 'PARADISE', 'SAINTS AND ANGELS',\n",
       "       'AFTER COMMUNION', 'A ROSE PLANT IN JERICHO',\n",
       "       'WHO SHALL DELIVER ME?', 'DESPISED AND REJECTED', 'LONG BARREN',\n",
       "       'IF ONLY', 'DOST THOU NOT CARE?', 'WEARY IN WELL-DOING',\n",
       "       \"MARTYRS' SONG\", 'AFTER THIS THE JUDGMENT', 'GOOD FRIDAY',\n",
       "       'THE LOWEST PLACE', 'SONNET', 'THE KEY-NOTE',\n",
       "       'THE MONTHS (A PAGEANT)', 'PASTIME', 'MIRRORS OF LIFE AND DEATH',\n",
       "       'A BALLAD OF BODING', 'YET A LITTLE WHILE', 'HE AND SHE',\n",
       "       'MONNA INNOMINATA', 'DE PROFUNDIS', 'TEMPUS FUGIT',\n",
       "       'GOLDEN GLORIES', 'JOHNNY', 'MAIDEN MAY', 'TILL TO-MORROW',\n",
       "       'DEATH-WATCHES', 'BRANDONS BOTH', \"A LIFE'S PARALLELS\", 'AT LAST',\n",
       "       'GOLDEN SILENCES', 'IN THE WILLOW SHADE', 'FLUTTERED WINGS',\n",
       "       'A FISHER-WIFE', \"WHAT'S IN A NAME?\", 'MARIANA', 'MEMENTO MORI',\n",
       "       'BUDS AND BABIES', 'BOY JOHNNY', 'FREAKS OF FASHION',\n",
       "       'AN OCTOBER GARDEN', 'PASSING AND GLASSING', 'A PRODIGAL SON',\n",
       "       'SOEUR LOUISE DE LA MISÉRICORDE', 'AN \"IMMURATA\" SISTER',\n",
       "       'THE THREAD OF LIFE', 'AN OLD-WORLD THICKET',\n",
       "       'A PROCESSIONAL OF CREATION', 'LATER LIFE', 'UNTIL THE DAY BREAK',\n",
       "       'THE DESCENT FROM THE CROSS', 'AN EASTER CAROL', 'ALL SAINTS',\n",
       "       'A MARTYR', 'WHY?', 'BIRCHINGTON CHURCHYARD', 'ONE SEA-SIDE GRAVE',\n",
       "       'BROTHER BRUIN', 'A SONG OF FLIGHT', 'A WINTRY SONNET', 'RESURGAM',\n",
       "       \"TO-DAY'S BURDEN\", 'EXULTATE DEO', 'A HOPE CAROL',\n",
       "       'CHRISTMAS CAROLS', 'A CANDLEMAS DIALOGUE',\n",
       "       'MARY MAGDALENE AND THE OTHER MARY', 'PATIENCE OF HOPE'],\n",
       "      dtype='<U33')"
      ]
     },
     "execution_count": 11,
     "metadata": {},
     "output_type": "execute_result"
    }
   ],
   "source": [
    "titles"
   ]
  },
  {
   "cell_type": "code",
   "execution_count": 12,
   "id": "771edba7-2527-44aa-9b57-2f93e3029fb2",
   "metadata": {},
   "outputs": [],
   "source": [
    "final  = ''\n",
    "final += front_matter + '\\n###\\n\\n'\n",
    "\n",
    "poems_dict = {}\n",
    "\n",
    "for i, (title, poem) in enumerate(zip(titles,poems)):\n",
    "        \n",
    "    poem = poem.strip('\\n')\n",
    "    poems_dict[title.upper()] = poem\n",
    "    \n",
    "    if len(poem) < 100:\n",
    "        print(title,poem)"
   ]
  },
  {
   "cell_type": "code",
   "execution_count": 15,
   "id": "df149d60-bcd8-46ec-aab9-700f584accf3",
   "metadata": {},
   "outputs": [
    {
     "name": "stdout",
     "output_type": "stream",
     "text": [
      "Christina Rossetti (1830-1894) [https://en.wikipedia.org/wiki/Christina_Rossetti]\n",
      "\n",
      "###\n",
      "\n",
      "~DREAM-LAND~\n",
      "\n",
      "    Where sunless rivers weep\n",
      "    Their waves into the deep\n",
      "    She sleeps a charmèd sleep:\n",
      "      Awake her not.\n",
      "    Led by a single star\n",
      "    She came from very far\n",
      "    To seek where shadows are\n",
      "      Her pleasant lot.\n",
      "\n",
      "    She left the rosy morn\n",
      "    She left the fields of corn\n",
      "    For twilight co\n"
     ]
    }
   ],
   "source": [
    "text = ''\n",
    "\n",
    "text += 'Christina Rossetti (1830-1894) [https://en.wikipedia.org/wiki/Christina_Rossetti]'\n",
    "text += '\\n\\n###\\n\\n'\n",
    "\n",
    "for title in titles:\n",
    "    text += '~' + title + '~'\n",
    "    text += '\\n\\n'\n",
    "    text += poems_dict[title]\n",
    "    text += '\\n\\n\\n'\n",
    "        \n",
    "print(text[:400])"
   ]
  },
  {
   "cell_type": "code",
   "execution_count": 16,
   "id": "66945cac-e0ed-4bc7-a62e-d77a1c6071f8",
   "metadata": {},
   "outputs": [],
   "source": [
    "import json\n",
    "\n",
    "with open('../_text/rossetti.txt','w+') as f:\n",
    "    f.write(text)"
   ]
  },
  {
   "cell_type": "code",
   "execution_count": null,
   "id": "32a9cc35-9377-42f0-b6e4-63d634a78244",
   "metadata": {},
   "outputs": [],
   "source": []
  },
  {
   "cell_type": "code",
   "execution_count": null,
   "id": "6bd33ab0-4ffb-404b-b155-6ce545188e74",
   "metadata": {},
   "outputs": [],
   "source": []
  }
 ],
 "metadata": {
  "kernelspec": {
   "display_name": "Python 3",
   "language": "python",
   "name": "python3"
  },
  "language_info": {
   "codemirror_mode": {
    "name": "ipython",
    "version": 3
   },
   "file_extension": ".py",
   "mimetype": "text/x-python",
   "name": "python",
   "nbconvert_exporter": "python",
   "pygments_lexer": "ipython3",
   "version": "3.9.1"
  }
 },
 "nbformat": 4,
 "nbformat_minor": 5
}
