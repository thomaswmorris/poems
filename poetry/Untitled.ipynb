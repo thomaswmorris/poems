{
 "cells": [
  {
   "cell_type": "code",
   "execution_count": 262,
   "id": "2f28f4c4-1024-4c07-9f6e-6c96f4a01bb9",
   "metadata": {},
   "outputs": [
    {
     "name": "stdout",
     "output_type": "stream",
     "text": [
      "chose poem THE GAFFE by williams-ck\n"
     ]
    }
   ],
   "source": [
    "import poetry\n",
    "import importlib\n",
    "importlib.reload(poetry)\n",
    "\n",
    "curator = poetry.Curator()\n",
    "\n",
    "poem = curator.load_poem(poet='williams-ck')"
   ]
  },
  {
   "cell_type": "code",
   "execution_count": 268,
   "id": "3e2c3ef6-bb54-4704-9d1b-f28e73b88c30",
   "metadata": {},
   "outputs": [
    {
     "data": {
      "text/plain": [
       "datetime.datetime(2022, 1, 1, 1, 1, 1, tzinfo=<UTC>)"
      ]
     },
     "execution_count": 268,
     "metadata": {},
     "output_type": "execute_result"
    }
   ],
   "source": [
    "from datetime import datetime\n",
    "import pytz\n",
    "datetime(2022,1,1,1,1,1,tzinfo=pytz.utc)"
   ]
  },
  {
   "cell_type": "code",
   "execution_count": 263,
   "id": "f6d42a49-f801-4c6b-b71b-53f2aa23ba99",
   "metadata": {},
   "outputs": [
    {
     "data": {
      "text/plain": [
       "'<p style=\"font-family:Baskerville; font-size: 18px; line-height: 1.5;\">\\n            <i>Friday November 25, 2022</i>\\n            <br>\\n            <span style=\"font-family:sans-serif; font-size: 24px;\"><b>The Gaffe</b></span>\\n            <i>by <a href=\"https://en.wikipedia.org/wiki/C._K._Williams\">C. K. Williams</a> (1936&#8212;2015)</i> &#127482&#127480</p>\\n            </p>\\n<blockquote>\\n        <div style=\"font-family:Baskerville; text-indent: -1em; padding-left:1em;\">\\n        <div style=\"text-align:left\" align=\"center\">\\n\\t1.\\n</div>\\n<div style=\"text-align:left\" align=\"center\">\\n\\t&nbsp;\\n</div>\\n<div style=\"text-align:left\" align=\"center\">\\n\\tIf that someone who’s me yet not me yet who judges me is always with me,   \\n</div>\\n<div style=\"text-align:left\" align=\"center\">\\n\\tas he is, shouldn’t he have been there when I said so long ago that thing I said?   \\n</div>\\n<div style=\"text-align:left\" align=\"center\">\\n\\t&nbsp;\\n</div>\\n<div style=\"text-align:left\" align=\"center\">\\n\\tIf he who rakes me with such not trivial shame for minor sins now were there then,   \\n</div>\\n<div style=\"text-align:left\" align=\"center\">\\n\\tshouldn’t he have warned me he’d even now devastate me for my unpardonable affront?   \\n</div>\\n<div style=\"text-align:left\" align=\"center\">\\n\\t&nbsp;\\n</div>\\n<div style=\"text-align:left\" align=\"center\">\\n\\tI’m a child then, yet already I’ve composed this conscience-beast, who harries me:   \\n</div>\\n<div style=\"text-align:left\" align=\"center\">\\n\\tis there anything else I can say with certainty about who I was, except that I, that he,   \\n</div>\\n<div style=\"text-align:left\" align=\"center\">\\n\\t&nbsp;\\n</div>\\n<div style=\"text-align:left\" align=\"center\">\\n\\tcould already draw from infinitesimal transgressions complex chords of remorse,   \\n</div>\\n<div style=\"text-align:left\" align=\"center\">\\n\\tand orchestrate ever undiminishing retribution from the hapless rest of myself?   \\n</div>\\n<div style=\"text-align:left\" align=\"center\">\\n\\t&nbsp;\\n</div>\\n<div style=\"text-align:left\" align=\"center\">\\n\\t&nbsp;\\n</div>\\n<div style=\"text-align:left\" align=\"center\">\\n\\t2.\\n</div>\\n<div style=\"text-align:left\" align=\"center\">\\n\\t&nbsp;\\n</div>\\n<div style=\"text-align:left\" align=\"center\">\\n\\tThe son of some friends of my parents has died, and my parents, paying their call,   \\n</div>\\n<div style=\"text-align:left\" align=\"center\">\\n\\ttake me along, and I’m sent out with the dead boy’s brother and some others to play.   \\n</div>\\n<div style=\"text-align:left\" align=\"center\">\\n\\t&nbsp;\\n</div>\\n<div style=\"text-align:left\" align=\"center\">\\n\\tWe’re joking around, and some words come to my mind, which to my amazement are said.   \\n</div>\\n<div style=\"text-align:left\" align=\"center\">\\n\\t<i>How do you know when you can laugh when somebody dies, your brother dies?</i>\\n</div>\\n<div style=\"text-align:left\" align=\"center\">\\n\\t&nbsp;\\n</div>\\n<div style=\"text-align:left\" align=\"center\">\\n\\tis what’s said, and the others go quiet, the backyard goes quiet, everyone stares,   \\n</div>\\n<div style=\"text-align:left\" align=\"center\">\\n\\tand I want to know now why that someone in me who’s me yet not me let me say it.   \\n</div>\\n<div style=\"text-align:left\" align=\"center\">\\n\\t&nbsp;\\n</div>\\n<div style=\"text-align:left\" align=\"center\">\\n\\tShouldn’t he have told me the contrition cycle would from then be ever upon me,   \\n</div>\\n<div style=\"text-align:left\" align=\"center\">\\n\\tit didn’t matter that I’d really only wanted to know how grief ends, and when?   \\n</div>\\n<div style=\"text-align:left\" align=\"center\">\\n\\t&nbsp;\\n</div>\\n<div style=\"text-align:left\" align=\"center\">\\n\\t&nbsp;\\n</div>\\n<div style=\"text-align:left\" align=\"center\">\\n\\t3.\\n</div>\\n<div style=\"text-align:left\" align=\"center\">\\n\\t&nbsp;\\n</div>\\n<div style=\"text-align:left\" align=\"center\">\\n\\tI could hear the boy’s mother sobbing inside, then stopping, sobbing then stopping.   \\n</div>\\n<div style=\"text-align:left\" align=\"center\">\\n\\tWas the end of her grief already there? Had her someone in her told her it would end?   \\n</div>\\n<div style=\"text-align:left\" align=\"center\">\\n\\t&nbsp;\\n</div>\\n<div style=\"text-align:left\" align=\"center\">\\n\\tWas her someone in her kinder to her, not tearing at her, as mine did, still does, me,   \\n</div>\\n<div style=\"text-align:left\" align=\"center\">\\n\\tfor guessing grief someday ends? Is that why her sobbing stopped sometimes?   \\n</div>\\n<div style=\"text-align:left\" align=\"center\">\\n\\t&nbsp;\\n</div>\\n<div style=\"text-align:left\" align=\"center\">\\n\\tShe didn’t laugh, though, or I never heard her. <i>How do you know when you can laugh?</i>\\n</div>\\n<div style=\"text-align:left\" align=\"center\">\\n\\tWhy couldn’t someone have been there in me not just to accuse me, but to explain?   \\n</div>\\n<div style=\"text-align:left\" align=\"center\">\\n\\t&nbsp;\\n</div>\\n<div style=\"text-align:left\" align=\"center\">\\n\\tThe kids were playing again, I was playing, I didn’t hear anything more from inside.   \\n</div>\\n<div style=\"text-align:left\" align=\"center\">\\n\\tThe way now sometimes what’s in me is silent, too, and sometimes, though never really, forgets.\\n</div>\\n        </div>\\n        </blockquote>'"
      ]
     },
     "execution_count": 263,
     "metadata": {},
     "output_type": "execute_result"
    }
   ],
   "source": [
    "poem.email_html"
   ]
  },
  {
   "cell_type": "code",
   "execution_count": 260,
   "id": "0f4f531e-e5d9-4730-ace8-698cccd40b7d",
   "metadata": {},
   "outputs": [],
   "source": [
    "#print(poem.body)"
   ]
  },
  {
   "cell_type": "code",
   "execution_count": 261,
   "id": "8132eb2b-6c6b-4f83-ab2d-a55574a2921f",
   "metadata": {},
   "outputs": [
    {
     "name": "stdout",
     "output_type": "stream",
     "text": [
      "\n"
     ]
    }
   ],
   "source": [
    "print()"
   ]
  },
  {
   "cell_type": "code",
   "execution_count": 223,
   "id": "25d89c3c-bd1a-4af3-9484-47eeaa8cf864",
   "metadata": {},
   "outputs": [
    {
     "data": {
      "text/plain": [
       "'<div style=\"font-family:Baskerville; text-indent: -1em; padding-left:1em;\">\\n{text_to_html(self.body)}\\n</div>'"
      ]
     },
     "execution_count": 223,
     "metadata": {},
     "output_type": "execute_result"
    }
   ],
   "source": [
    "poem.html_body"
   ]
  },
  {
   "cell_type": "code",
   "execution_count": 31,
   "id": "d2445ce5-b671-4ee7-a221-3ee1f69d15d4",
   "metadata": {},
   "outputs": [
    {
     "name": "stdout",
     "output_type": "stream",
     "text": [
      "I love the naked ages long ago \n",
      "When statues were gilded by Apollo, \n",
      "When men and women of agility \n",
      "Could play without lies and anxiety, \n",
      "And the sky lovingly caressed their spines, \n",
      "As it exercised its noble machine. \n",
      "Fertile Cybele, mother of nature, then, \n",
      "Would not place on her daughters a burden, \n",
      "But, she-wolf sharing her heart with the people, \n",
      "Would feed creation from her brown nipples. \n",
      "Men, elegant and strong, would have the right \n",
      "To be proud to have beauty named their king; \n",
      "Virgin fruit free of blemish and cracking, \n",
      "Whose flesh smooth and firm would summon a bite! \n",
      "The Poet today, when he would convey \n",
      "This native grandeur, would not be swept away \n",
      "By man free and woman natural, \n",
      "But would feel darkness envelop his soul \n",
      "Before this black tableau full of loathing. \n",
      "O malformed monsters crying for clothing! \n",
      "O ludicrous heads! Torsos needing disguise! \n",
      "O poor writhing bodies of every wrong size, \n",
      "Children that the god of the Useful swaths \n",
      "In the language of bronze and brass! \n",
      "And women, alas! You shadow your heredity, \n",
      "You gnaw nourishment from debauchery, \n",
      "A virgin holds maternal lechery \n",
      "And all the horrors of fecundity! \n",
      "\n",
      "We have, it is true, corrupt nations, \n",
      "Beauty unknown to the radiant ancients: \n",
      "Faces that gnaw through the heart’s cankers, \n",
      "And talk with the cool beauty of languor; \n",
      "But these inventions of our backward muses \n",
      "Are never hindered in their morbid uses \n",
      "Of the old for profound homage to youth, \n",
      "--To the young saint, the sweet air, the simple truth, \n",
      "To the eye as limpid as the water current, \n",
      "To spread out over all, insouciant \n",
      "Like the blue sky, the birds and the flowers, \n",
      "Its perfumes, its songs and its sweet fervors.\n"
     ]
    }
   ],
   "source": [
    "print(poem.body)"
   ]
  },
  {
   "cell_type": "code",
   "execution_count": 4,
   "id": "42c34944-f7ab-4d75-9a23-46db00b94868",
   "metadata": {},
   "outputs": [
    {
     "data": {
      "text/plain": [
       "'LIKE A SENTENCE'"
      ]
     },
     "execution_count": 4,
     "metadata": {},
     "output_type": "execute_result"
    }
   ],
   "source": [
    "poetizer.title"
   ]
  },
  {
   "cell_type": "code",
   "execution_count": null,
   "id": "f8774abb-f217-4fec-b48f-bf430ee9c9b8",
   "metadata": {},
   "outputs": [],
   "source": []
  }
 ],
 "metadata": {
  "kernelspec": {
   "display_name": "Python 3 (ipykernel)",
   "language": "python",
   "name": "python3"
  },
  "language_info": {
   "codemirror_mode": {
    "name": "ipython",
    "version": 3
   },
   "file_extension": ".py",
   "mimetype": "text/x-python",
   "name": "python",
   "nbconvert_exporter": "python",
   "pygments_lexer": "ipython3",
   "version": "3.9.12"
  }
 },
 "nbformat": 4,
 "nbformat_minor": 5
}
