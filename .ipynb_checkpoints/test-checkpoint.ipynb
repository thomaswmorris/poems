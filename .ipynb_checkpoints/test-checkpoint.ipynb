{
 "cells": [
  {
   "cell_type": "code",
   "execution_count": 37,
   "id": "bbe0dee2-c24f-47c4-ba03-fbbfe2bf5b16",
   "metadata": {},
   "outputs": [],
   "source": [
    "import numpy as np\n",
    "#import re\n",
    "#import github\n",
    "#from poetry import poetry"
   ]
  },
  {
   "cell_type": "code",
   "execution_count": 66,
   "id": "94a904f2-e616-4090-b7ce-c1a4b3349c4b",
   "metadata": {},
   "outputs": [],
   "source": [
    "poem = \"    Cross-firing behind the hills:\\n    Both camps watch theirs and ours;\\n    In front of Cossaks on the hill\\n    Dashes 'long brave Delibash\\n\\n    O Delibash not to the line come nigh\\n    Do have mercy on thy life;\\n    Quick 't is over with thy frolic bold\\n    Pierced thou by the spear shalt be\\n\\n    Hey Cossak not to battle rush\\n    The Delibash is swift as wind;\\n    Cut he will with crooked sabre\\n    From thy shoulders thy fearless head.\\n\\n    They rush with yell: are hand to hand;\\n    And behold now what each befalls:\\n    Already speared the Delibash is\\n    Already headless the Cossak is!\""
   ]
  },
  {
   "cell_type": "code",
   "execution_count": 60,
   "id": "8f6dbd59-abfd-4006-8b39-b843d2526e9a",
   "metadata": {},
   "outputs": [],
   "source": [
    "poem = '“I am playing my oldest tunes,” declared she,\\n      “All the old tunes I know,--\\nThose I learnt ever so long ago.”\\n--Why she should think just then she’d play them\\n       Silence cloaks like snow.\\n\\nWhen I returned from the town at nightfall\\n      Notes continued to pour\\nAs when I had left two hours before:\\n“It’s the very last time,” she said in closing;\\n       “From now I play no more.”\\n\\nA few morns onward found her fading,\\n      And, as her life outflew,\\nI thought of her playing her tunes right through;\\nAnd I felt she had known of what was coming,\\n      And wondered how she knew.'"
   ]
  },
  {
   "cell_type": "code",
   "execution_count": 67,
   "id": "ad9f3727-71c8-46e7-afae-bf014db3261f",
   "metadata": {},
   "outputs": [],
   "source": [
    "paddings = re.findall('\\n+( *)', poem)\n",
    "nmp = len(min(paddings, key=len))"
   ]
  },
  {
   "cell_type": "code",
   "execution_count": 76,
   "id": "323e6244-4fa3-4c94-9306-ec955cb1b1a9",
   "metadata": {},
   "outputs": [],
   "source": [
    "from datetime import datetime, timezone\n",
    "\n",
    "aware_local_now = datetime.now(timezone.utc).astimezone()"
   ]
  },
  {
   "cell_type": "code",
   "execution_count": 85,
   "id": "95e8c6cb-7697-4aa8-9d8e-fbd829589bc1",
   "metadata": {},
   "outputs": [],
   "source": [
    "import pytz\n",
    "\n",
    "now = datetime.now(tz=pytz.timezone('America/New_York'))"
   ]
  },
  {
   "cell_type": "code",
   "execution_count": 105,
   "id": "93fe1eca-c0fd-4ea8-8616-5959af2302f0",
   "metadata": {},
   "outputs": [
    {
     "data": {
      "text/plain": [
       "'Monday'"
      ]
     },
     "execution_count": 105,
     "metadata": {},
     "output_type": "execute_result"
    }
   ],
   "source": [
    "'monday'.capitalize()"
   ]
  },
  {
   "cell_type": "code",
   "execution_count": 88,
   "id": "52368cc4-e39e-4088-a868-75b8f34cbc95",
   "metadata": {},
   "outputs": [],
   "source": [
    "import calendar"
   ]
  },
  {
   "cell_type": "code",
   "execution_count": 109,
   "id": "33e27a65-e4d3-4256-a922-cbaa015cf118",
   "metadata": {},
   "outputs": [],
   "source": [
    "lomg = 'And, as, as if, as long as, at, but, by, even if, for, from, if, if only, in, into, like, near, now that, nor, of, off, on, on top of, once, onto, or, out of, over, past, so, so that, than, that, till, to, up, upon, with, when, yet.'"
   ]
  },
  {
   "cell_type": "code",
   "execution_count": 114,
   "id": "13e60a99-a6c1-4c3f-96f0-851a079fb2d4",
   "metadata": {},
   "outputs": [
    {
     "data": {
      "text/plain": [
       "array(['And', 'as', 'as if', 'as long as', 'at', 'but', 'by', 'even if',\n",
       "       'for', 'from', 'if', 'if only', 'in', 'into', 'like', 'near',\n",
       "       'now that', 'nor', 'of', 'off', 'on', 'on top of', 'once', 'onto',\n",
       "       'or', 'out of', 'over', 'past', 'so', 'so that', 'than', 'that',\n",
       "       'till', 'to', 'up', 'upon', 'with', 'when', 'yet.'], dtype='<U10')"
      ]
     },
     "execution_count": 114,
     "metadata": {},
     "output_type": "execute_result"
    }
   ],
   "source": [
    "np.array(lomg.split(', '))"
   ]
  },
  {
   "cell_type": "code",
   "execution_count": 104,
   "id": "320cd0d9-b083-4236-90a3-01af6486151b",
   "metadata": {},
   "outputs": [
    {
     "ename": "SyntaxError",
     "evalue": "f-string: empty expression not allowed (<ipython-input-104-de5f6d71f232>, line 1)",
     "output_type": "error",
     "traceback": [
      "\u001b[0;36m  File \u001b[0;32m\"<ipython-input-104-de5f6d71f232>\"\u001b[0;36m, line \u001b[0;32m1\u001b[0m\n\u001b[0;31m    f'{} {calendar.month_name[now.month]} {now.day}, {now.year}'\u001b[0m\n\u001b[0m                                                                ^\u001b[0m\n\u001b[0;31mSyntaxError\u001b[0m\u001b[0;31m:\u001b[0m f-string: empty expression not allowed\n"
     ]
    }
   ],
   "source": [
    "f'{} {calendar.month_name[now.month]} {now.day}, {now.year}'"
   ]
  },
  {
   "cell_type": "code",
   "execution_count": 102,
   "id": "c3991a4e-9552-4dd4-a47b-1f0df0baecdd",
   "metadata": {},
   "outputs": [
    {
     "data": {
      "text/plain": [
       "0"
      ]
     },
     "execution_count": 102,
     "metadata": {},
     "output_type": "execute_result"
    }
   ],
   "source": [
    "calendar.weekday(now.year,now.month,now.day)"
   ]
  },
  {
   "cell_type": "code",
   "execution_count": 103,
   "id": "5c5c1b8f-9699-48ab-8d2f-4ae92eeaabd1",
   "metadata": {},
   "outputs": [],
   "source": [
    "#dir(calendar)"
   ]
  },
  {
   "cell_type": "code",
   "execution_count": 97,
   "id": "2d8a5def-959a-447e-8d91-35a7b9e4ddcc",
   "metadata": {},
   "outputs": [
    {
     "data": {
      "text/plain": [
       "0"
      ]
     },
     "execution_count": 97,
     "metadata": {},
     "output_type": "execute_result"
    }
   ],
   "source": [
    "now.weekday()"
   ]
  },
  {
   "cell_type": "code",
   "execution_count": 95,
   "id": "c71d1f32-6278-4460-a7ba-7ae0d2bbe53e",
   "metadata": {},
   "outputs": [
    {
     "data": {
      "text/plain": [
       "['__add__',\n",
       " '__class__',\n",
       " '__delattr__',\n",
       " '__dir__',\n",
       " '__doc__',\n",
       " '__eq__',\n",
       " '__format__',\n",
       " '__ge__',\n",
       " '__getattribute__',\n",
       " '__gt__',\n",
       " '__hash__',\n",
       " '__init__',\n",
       " '__init_subclass__',\n",
       " '__le__',\n",
       " '__lt__',\n",
       " '__ne__',\n",
       " '__new__',\n",
       " '__radd__',\n",
       " '__reduce__',\n",
       " '__reduce_ex__',\n",
       " '__repr__',\n",
       " '__rsub__',\n",
       " '__setattr__',\n",
       " '__sizeof__',\n",
       " '__str__',\n",
       " '__sub__',\n",
       " '__subclasshook__',\n",
       " 'astimezone',\n",
       " 'combine',\n",
       " 'ctime',\n",
       " 'date',\n",
       " 'day',\n",
       " 'dst',\n",
       " 'fold',\n",
       " 'fromisocalendar',\n",
       " 'fromisoformat',\n",
       " 'fromordinal',\n",
       " 'fromtimestamp',\n",
       " 'hour',\n",
       " 'isocalendar',\n",
       " 'isoformat',\n",
       " 'isoweekday',\n",
       " 'max',\n",
       " 'microsecond',\n",
       " 'min',\n",
       " 'minute',\n",
       " 'month',\n",
       " 'now',\n",
       " 'replace',\n",
       " 'resolution',\n",
       " 'second',\n",
       " 'strftime',\n",
       " 'strptime',\n",
       " 'time',\n",
       " 'timestamp',\n",
       " 'timetuple',\n",
       " 'timetz',\n",
       " 'today',\n",
       " 'toordinal',\n",
       " 'tzinfo',\n",
       " 'tzname',\n",
       " 'utcfromtimestamp',\n",
       " 'utcnow',\n",
       " 'utcoffset',\n",
       " 'utctimetuple',\n",
       " 'weekday',\n",
       " 'year']"
      ]
     },
     "execution_count": 95,
     "metadata": {},
     "output_type": "execute_result"
    }
   ],
   "source": [
    "dir(now)"
   ]
  },
  {
   "cell_type": "code",
   "execution_count": 78,
   "id": "b9c2026d-a089-44ee-be7e-e3f8afead7e0",
   "metadata": {},
   "outputs": [
    {
     "data": {
      "text/plain": [
       "['__class__',\n",
       " '__delattr__',\n",
       " '__dir__',\n",
       " '__doc__',\n",
       " '__eq__',\n",
       " '__format__',\n",
       " '__ge__',\n",
       " '__getattribute__',\n",
       " '__getinitargs__',\n",
       " '__gt__',\n",
       " '__hash__',\n",
       " '__init__',\n",
       " '__init_subclass__',\n",
       " '__le__',\n",
       " '__lt__',\n",
       " '__ne__',\n",
       " '__new__',\n",
       " '__reduce__',\n",
       " '__reduce_ex__',\n",
       " '__repr__',\n",
       " '__setattr__',\n",
       " '__sizeof__',\n",
       " '__str__',\n",
       " '__subclasshook__',\n",
       " 'dst',\n",
       " 'fromutc',\n",
       " 'max',\n",
       " 'min',\n",
       " 'tzname',\n",
       " 'utc',\n",
       " 'utcoffset']"
      ]
     },
     "execution_count": 78,
     "metadata": {},
     "output_type": "execute_result"
    }
   ],
   "source": [
    "dir(timezone)"
   ]
  },
  {
   "cell_type": "code",
   "execution_count": 77,
   "id": "8af62a7d-6e8a-4525-b2a6-8a9f5d3ebf72",
   "metadata": {},
   "outputs": [
    {
     "data": {
      "text/plain": [
       "datetime.datetime(2022, 1, 24, 15, 15, 14, 826792, tzinfo=datetime.timezone(datetime.timedelta(days=-1, seconds=68400), 'EST'))"
      ]
     },
     "execution_count": 77,
     "metadata": {},
     "output_type": "execute_result"
    }
   ],
   "source": [
    "aware_local_now"
   ]
  },
  {
   "cell_type": "code",
   "execution_count": 69,
   "id": "bfb1992b-4451-4535-91c1-1a247c9cd877",
   "metadata": {},
   "outputs": [],
   "source": [
    "paddings = re.findall('\\n+( *)', poem)\n",
    "nmp = len(min(paddings, key=len))\n",
    "if nmp > 0:\n",
    "    for u in np.unique(paddings):\n",
    "        poem = re.sub(u,u[:-nmp],poem)"
   ]
  },
  {
   "cell_type": "code",
   "execution_count": 70,
   "id": "f24ebacb-d33a-40de-b446-acef9bb1adfd",
   "metadata": {},
   "outputs": [
    {
     "data": {
      "text/plain": [
       "array([0, 1, 2, 3, 4, 5, 6, 7, 8])"
      ]
     },
     "execution_count": 70,
     "metadata": {},
     "output_type": "execute_result"
    }
   ],
   "source": [
    "np.arange(10)[:-1]"
   ]
  },
  {
   "cell_type": "code",
   "execution_count": 72,
   "id": "6a81cd54-172e-46e1-a676-cf48a7a70ace",
   "metadata": {},
   "outputs": [],
   "source": []
  },
  {
   "cell_type": "code",
   "execution_count": 73,
   "id": "d3e43d74-9b3e-46c3-8cde-4ed9413f77cf",
   "metadata": {},
   "outputs": [
    {
     "data": {
      "text/plain": [
       "datetime.datetime(2022, 1, 24, 15, 13, 55, 669326)"
      ]
     },
     "execution_count": 73,
     "metadata": {},
     "output_type": "execute_result"
    }
   ],
   "source": [
    "datetime.today()"
   ]
  },
  {
   "cell_type": "code",
   "execution_count": 71,
   "id": "aed60e1e-f8bb-46d3-abe3-1cb4ac64fb54",
   "metadata": {},
   "outputs": [
    {
     "name": "stdout",
     "output_type": "stream",
     "text": [
      "Cross-firing behind the hills:\n",
      "Both camps watch theirs and ours;\n",
      "In front of Cossaks on the hill\n",
      "Dashes 'long brave Delibash\n",
      "\n",
      "O Delibash not to the line come nigh\n",
      "Do have mercy on thy life;\n",
      "Quick 't is over with thy frolic bold\n",
      "Pierced thou by the spear shalt be\n",
      "\n",
      "Hey Cossak not to battle rush\n",
      "The Delibash is swift as wind;\n",
      "Cut he will with crooked sabre\n",
      "From thy shoulders thy fearless head.\n",
      "\n",
      "They rush with yell: are hand to hand;\n",
      "And behold now what each befalls:\n",
      "Already speared the Delibash is\n",
      "Already headless the Cossak is!\n"
     ]
    }
   ],
   "source": [
    "print(poem)"
   ]
  },
  {
   "cell_type": "code",
   "execution_count": null,
   "id": "92080a6a-6d4d-42d0-8834-1d012a87d1b2",
   "metadata": {},
   "outputs": [],
   "source": []
  }
 ],
 "metadata": {
  "kernelspec": {
   "display_name": "Python 3",
   "language": "python",
   "name": "python3"
  },
  "language_info": {
   "codemirror_mode": {
    "name": "ipython",
    "version": 3
   },
   "file_extension": ".py",
   "mimetype": "text/x-python",
   "name": "python",
   "nbconvert_exporter": "python",
   "pygments_lexer": "ipython3",
   "version": "3.9.10"
  }
 },
 "nbformat": 4,
 "nbformat_minor": 5
}
