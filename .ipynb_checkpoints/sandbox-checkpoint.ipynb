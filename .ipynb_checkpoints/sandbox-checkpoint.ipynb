{
 "cells": [
  {
   "cell_type": "code",
   "execution_count": 102,
   "id": "57bf9085-3028-43de-a221-7c4813d63b5d",
   "metadata": {},
   "outputs": [],
   "source": [
    "from email.message import EmailMessage\n",
    "import smtplib\n",
    "import os\n",
    "import random\n",
    "import glob, os\n",
    "import json\n",
    "import time\n",
    "import calendar\n",
    "from datetime import datetime\n",
    "import numpy as np\n",
    "import smtplib\n",
    "import poetry\n",
    "import matplotlib.pyplot as plt"
   ]
  },
  {
   "cell_type": "code",
   "execution_count": 103,
   "id": "d3314a96-85aa-40c4-a22d-a677e8bd7de5",
   "metadata": {},
   "outputs": [],
   "source": [
    "import importlib\n",
    "importlib.reload(poetry)\n",
    "poetizer = poetry.Poetizer()"
   ]
  },
  {
   "cell_type": "code",
   "execution_count": 104,
   "id": "fe25ed92-29a8-4ded-a959-be1a1b0475d6",
   "metadata": {},
   "outputs": [
    {
     "data": {
      "image/png": "[encoded data removed]",
      "text/plain": [
       "<Figure size 432x288 with 1 Axes>"
      ]
     },
     "metadata": {
      "needs_background": "light"
     },
     "output_type": "display_data"
    }
   ],
   "source": [
    "ybins = np.linspace(1550,2000,32+1)\n",
    "\n",
    "plt.hist(poetizer.get_stats()['birth'].astype(int),bins=ybins,density=True,histtype='step')\n",
    "plt.hist(poetizer.stats.loc[poetizer.history['poet']]['birth'].astype(int),bins=ybins,density=True,histtype='step')\n",
    "plt.show()"
   ]
  },
  {
   "cell_type": "code",
   "execution_count": 133,
   "id": "61a01546-0085-4e1e-9720-083954afa284",
   "metadata": {},
   "outputs": [
    {
     "name": "stdout",
     "output_type": "stream",
     "text": [
      "keywords: ['winter', 'saturday', 'january', 'no holiday', 'epiphany']\n",
      "done likelihood\n",
      "poet \"milosz\" was sent too recently! (22.14 days ago)\n",
      "poet \"yeats\" was sent too recently! (11.13 days ago)\n",
      "chose poem PROVENÇAL LEGEND by Willa Cather\n"
     ]
    }
   ],
   "source": [
    "poetizer.load_poem(\n",
    "    contextual=True,\n",
    "    poet='random',\n",
    "                   verbose=True,\n",
    "                   #very_verbose=True,\n",
    "                   #when=datetime(2022,2,19,7,0,0).timestamp(),\n",
    "                   poet_latency=28,\n",
    "                   title_latency=400,\n",
    "                   read_historical=True,\n",
    "html_color='White',\n",
    ")"
   ]
  },
  {
   "cell_type": "code",
   "execution_count": 134,
   "id": "1f9d67bf-6e4d-4986-8777-59b9a6cab6c4",
   "metadata": {},
   "outputs": [
    {
     "data": {
      "text/html": [
       "\n",
       "        <html>\n",
       "        <h2 style=\"font-family:Garamond; color:White; font-size: 24px; margin-bottom:0; margin : 0; padding-top:0;\">Provençal Legend</h2>\n",
       "          <p style=\"font-family:Garamond; color:White; font-size: 18px; margin-bottom:0; margin : 0; padding-top:0;\"><i>by \n",
       "          <a href=\"https://en.wikipedia.org/wiki/Willa_Cather\">Willa Cather</a></i> (1873&#8211;1947)</p>\n",
       "          <hr>\n",
       "            <p style=\"font-family:Garamond; color:White; font-size: 18px; margin-bottom:0; margin : 0; padding-top:0\"><br>&nbsp;&nbsp;&nbsp;&nbsp;On&nbsp;his&nbsp;little&nbsp;grave&nbsp;and&nbsp;wild,<br>&nbsp;&nbsp;&nbsp;&nbsp;Faustinus,&nbsp;the&nbsp;martyr&nbsp;child,<br>&nbsp;&nbsp;&nbsp;&nbsp;&nbsp;&nbsp;Candytuft&nbsp;and&nbsp;mustards&nbsp;grow.<br>&nbsp;&nbsp;&nbsp;&nbsp;Ah,&nbsp;how&nbsp;many&nbsp;a&nbsp;June&nbsp;has&nbsp;smiled<br>&nbsp;&nbsp;&nbsp;&nbsp;&nbsp;&nbsp;On&nbsp;the&nbsp;turf&nbsp;he&nbsp;lies&nbsp;below.<br><br>&nbsp;&nbsp;&nbsp;&nbsp;Ages&nbsp;gone&nbsp;they&nbsp;laid&nbsp;him&nbsp;there,<br>&nbsp;&nbsp;&nbsp;&nbsp;Quit&nbsp;of&nbsp;sun&nbsp;and&nbsp;wholesome&nbsp;air,<br>&nbsp;&nbsp;&nbsp;&nbsp;&nbsp;&nbsp;Broken&nbsp;flesh&nbsp;and&nbsp;tortured&nbsp;limb;<br>&nbsp;&nbsp;&nbsp;&nbsp;Leaving&nbsp;all&nbsp;his&nbsp;faith&nbsp;the&nbsp;heir<br>&nbsp;&nbsp;&nbsp;&nbsp;&nbsp;&nbsp;Of&nbsp;his&nbsp;gentle&nbsp;hope&nbsp;and&nbsp;him.<br><br>&nbsp;&nbsp;&nbsp;&nbsp;Yonder,&nbsp;under&nbsp;pagan&nbsp;skies,<br>&nbsp;&nbsp;&nbsp;&nbsp;Bleached&nbsp;by&nbsp;rains,&nbsp;the&nbsp;circus&nbsp;lies,<br>&nbsp;&nbsp;&nbsp;&nbsp;&nbsp;&nbsp;Where&nbsp;they&nbsp;brought&nbsp;him&nbsp;from&nbsp;his&nbsp;play.<br>&nbsp;&nbsp;&nbsp;&nbsp;Comeliest&nbsp;his&nbsp;of&nbsp;sacrifice,<br>&nbsp;&nbsp;&nbsp;&nbsp;&nbsp;&nbsp;Youth&nbsp;and&nbsp;tender&nbsp;April&nbsp;day.<br><br>&nbsp;&nbsp;&nbsp;&nbsp;“Art&nbsp;thou&nbsp;not&nbsp;the&nbsp;shepherd’s&nbsp;son?&#8211;<br>&nbsp;&nbsp;&nbsp;&nbsp;There&nbsp;the&nbsp;hills&nbsp;thy&nbsp;lambkins&nbsp;run?&#8211;<br>&nbsp;&nbsp;&nbsp;&nbsp;&nbsp;&nbsp;These&nbsp;the&nbsp;fields&nbsp;thy&nbsp;brethren&nbsp;keep?”<br>&nbsp;&nbsp;&nbsp;&nbsp;“On&nbsp;a&nbsp;higher&nbsp;hill&nbsp;than&nbsp;yon<br>&nbsp;&nbsp;&nbsp;&nbsp;&nbsp;&nbsp;Doth&nbsp;my&nbsp;Father&nbsp;lead&nbsp;His&nbsp;sheep.”<br><br>&nbsp;&nbsp;&nbsp;&nbsp;“Bring&nbsp;thy&nbsp;ransom,&nbsp;then,”&nbsp;they&nbsp;say,<br>&nbsp;&nbsp;&nbsp;&nbsp;“Gold&nbsp;enough&nbsp;to&nbsp;pave&nbsp;the&nbsp;way<br>&nbsp;&nbsp;&nbsp;&nbsp;&nbsp;&nbsp;From&nbsp;the&nbsp;temple&nbsp;to&nbsp;the&nbsp;Rhone.”<br>&nbsp;&nbsp;&nbsp;&nbsp;When&nbsp;he&nbsp;came,&nbsp;upon&nbsp;his&nbsp;day,<br>&nbsp;&nbsp;&nbsp;&nbsp;&nbsp;&nbsp;Slender,&nbsp;tremulous,&nbsp;alone,<br><br>&nbsp;&nbsp;&nbsp;&nbsp;Mustard&nbsp;flowers&nbsp;like&nbsp;these&nbsp;he&nbsp;pressed,<br>&nbsp;&nbsp;&nbsp;&nbsp;Golden,&nbsp;flame-like,&nbsp;to&nbsp;his&nbsp;breast,<br>&nbsp;&nbsp;&nbsp;&nbsp;&nbsp;&nbsp;Blooms&nbsp;the&nbsp;early&nbsp;weanlings&nbsp;eat.<br>&nbsp;&nbsp;&nbsp;&nbsp;When&nbsp;his&nbsp;Triumph&nbsp;brought&nbsp;him&nbsp;rest,<br>&nbsp;&nbsp;&nbsp;&nbsp;&nbsp;&nbsp;Yellow&nbsp;bloom&nbsp;lay&nbsp;at&nbsp;his&nbsp;feet.<br><br>&nbsp;&nbsp;&nbsp;&nbsp;Golden&nbsp;play-days&nbsp;came:&nbsp;the&nbsp;air<br>&nbsp;&nbsp;&nbsp;&nbsp;Called&nbsp;him,&nbsp;weanlings&nbsp;bleated&nbsp;there,<br>&nbsp;&nbsp;&nbsp;&nbsp;&nbsp;&nbsp;Roman&nbsp;boys&nbsp;ran&nbsp;fleet&nbsp;with&nbsp;spring;<br>&nbsp;&nbsp;&nbsp;&nbsp;Shorn&nbsp;of&nbsp;youth&nbsp;and&nbsp;usage&nbsp;fair,<br>&nbsp;&nbsp;&nbsp;&nbsp;&nbsp;&nbsp;Hope&nbsp;nor&nbsp;hill-top&nbsp;days&nbsp;they&nbsp;bring.<br><br>&nbsp;&nbsp;&nbsp;&nbsp;But&nbsp;the&nbsp;shepherd&nbsp;children&nbsp;still<br>&nbsp;&nbsp;&nbsp;&nbsp;Come&nbsp;at&nbsp;Easter,&nbsp;warm&nbsp;or&nbsp;chill,<br>&nbsp;&nbsp;&nbsp;&nbsp;&nbsp;&nbsp;Come&nbsp;with&nbsp;violets&nbsp;gathered&nbsp;wild<br>&nbsp;&nbsp;&nbsp;&nbsp;From&nbsp;his&nbsp;sloping&nbsp;pasture&nbsp;hill,<br>&nbsp;&nbsp;&nbsp;&nbsp;Play-fellows&nbsp;who&nbsp;would&nbsp;fulfill<br>&nbsp;&nbsp;&nbsp;&nbsp;&nbsp;&nbsp;Play-time&nbsp;to&nbsp;that&nbsp;martyr&nbsp;child.\n",
       "            </p>\n",
       "        </html>\n",
       "        "
      ],
      "text/plain": [
       "<IPython.core.display.HTML object>"
      ]
     },
     "execution_count": 134,
     "metadata": {},
     "output_type": "execute_result"
    }
   ],
   "source": [
    "#from IPython.display import HTML\n",
    "HTML(poetizer.poem_html)"
   ]
  },
  {
   "cell_type": "code",
   "execution_count": 112,
   "id": "da94d1a4-e0eb-43b8-aeff-1bd742de0f2f",
   "metadata": {},
   "outputs": [],
   "source": [
    "#poetizer.poem_html"
   ]
  },
  {
   "cell_type": "code",
   "execution_count": 111,
   "id": "aa129e53-da59-4c0c-adc7-4fc4ab6d8c34",
   "metadata": {},
   "outputs": [
    {
     "data": {
      "text/html": [
       "\n",
       "&nbsp&nbsp&nbsp&nbsp&nbsp&nbsp&nbsp&nbsp<html>\n",
       "&nbsp&nbsp&nbsp&nbsp&nbsp&nbsp&nbsp&nbsp<h2&nbspstyle=\"font-family:Garamond;&nbspcolor:White;&nbspfont-size:&nbsp24px;&nbspmargin-bottom:0;&nbspmargin&nbsp:&nbsp0;&nbsppadding-top:0;\">With&nbspthe&nbspWorld&nbspin&nbspMy&nbspBloodstream</h2>\n",
       "&nbsp&nbsp&nbsp&nbsp&nbsp&nbsp&nbsp&nbsp&nbsp&nbsp<p&nbspstyle=\"font-family:Garamond;&nbspcolor:White;&nbspfont-size:&nbsp18px;&nbspmargin-bottom:0;&nbspmargin&nbsp:&nbsp0;&nbsppadding-top:0;\"><i>by&nbsp\n",
       "&nbsp&nbsp&nbsp&nbsp&nbsp&nbsp&nbsp&nbsp&nbsp&nbsp<a&nbsphref=\"https://en.wikipedia.org/wiki/Thomas_Merton\">Thomas&nbspMerton</a></i>&nbsp(1915&#8211;1968)</p>\n",
       "&nbsp&nbsp&nbsp&nbsp&nbsp&nbsp&nbsp&nbsp&nbsp&nbsp<hr>\n",
       "&nbsp&nbsp&nbsp&nbsp&nbsp&nbsp&nbsp&nbsp&nbsp&nbsp&nbsp&nbsp<p&nbspstyle=\"font-family:Garamond;&nbspcolor:White;&nbspfont-size:&nbsp18px;&nbspmargin-bottom:0;&nbspmargin&nbsp:&nbsp0;&nbsppadding-top:0\"><br>I&nbsp;lie&nbsp;on&nbsp;my&nbsp;hospital&nbsp;bed<br>Water&nbsp;runs&nbsp;inside&nbsp;the&nbsp;walls<br>And&nbsp;the&nbsp;musical&nbsp;machinery<br>All&nbsp;around&nbsp;overhead<br>Plays&nbsp;upon&nbsp;my&nbsp;metal&nbsp;system<br>My&nbsp;invented&nbsp;back&nbsp;bone<br>Lends&nbsp;to&nbsp;the&nbsp;universal&nbsp;tone<br>A&nbsp;flat&nbsp;impersonal&nbsp;song<br>All&nbsp;the&nbsp;planes&nbsp;in&nbsp;my&nbsp;mind<br>Sing&nbsp;to&nbsp;my&nbsp;worried&nbsp;blood<br>To&nbsp;my&nbsp;jet&nbsp;streams<br>I&nbsp;swim&nbsp;in&nbsp;the&nbsp;world’s&nbsp;genius<br>The&nbsp;spring’s&nbsp;plasm<br>I&nbsp;wonder&nbsp;who&nbsp;the&nbsp;hell&nbsp;I&nbsp;am.<br><br>The&nbsp;world’s&nbsp;machinery<br>Expands&nbsp;in&nbsp;the&nbsp;walls<br>Of&nbsp;the&nbsp;hot&nbsp;musical&nbsp;building<br>Made&nbsp;in&nbsp;maybe&nbsp;twenty-four<br>And&nbsp;my&nbsp;lost&nbsp;childhood&nbsp;remains<br>One&nbsp;of&nbsp;the&nbsp;city’s&nbsp;living&nbsp;cells<br>Thanks&nbsp;to&nbsp;this&nbsp;city<br>I&nbsp;am&nbsp;still&nbsp;living<br>But&nbsp;whose&nbsp;life&nbsp;lies&nbsp;here<br>And&nbsp;whose&nbsp;invented&nbsp;music&nbsp;sings?<br><br>All&nbsp;the&nbsp;freights&nbsp;in&nbsp;the&nbsp;night<br>Swing&nbsp;my&nbsp;dark&nbsp;technical&nbsp;bed<br>All&nbsp;around&nbsp;overhead<br>And&nbsp;wake&nbsp;the&nbsp;questions&nbsp;in&nbsp;my&nbsp;blood<br>My&nbsp;jet&nbsp;streams&nbsp;fly&nbsp;far&nbsp;above<br>But&nbsp;my&nbsp;low&nbsp;gash&nbsp;is&nbsp;no&nbsp;good<br>Here&nbsp;below&nbsp;earth&nbsp;and&nbsp;bone<br>Bleeding&nbsp;in&nbsp;a&nbsp;numbered&nbsp;bed<br>Though&nbsp;all&nbsp;my&nbsp;veins&nbsp;run<br>With&nbsp;Christ&nbsp;and&nbsp;with&nbsp;the&nbsp;stars’&nbsp;plasm.<br><br>Ancestors&nbsp;and&nbsp;Indians<br>Zen&nbsp;Masters&nbsp;and&nbsp;Saints<br>Parade&nbsp;in&nbsp;the&nbsp;incredible&nbsp;hotel<br>And&nbsp;dark-eyed&nbsp;Negro&nbsp;mercy&nbsp;bends<br>And&nbsp;uncertain&nbsp;fibers&nbsp;of&nbsp;the&nbsp;will<br>Toward&nbsp;recovery&nbsp;and&nbsp;home.<br>What&nbsp;recovery&nbsp;and&nbsp;what&nbsp;Home?<br>I&nbsp;have&nbsp;no&nbsp;more&nbsp;sweet&nbsp;home<br>I&nbsp;doubt&nbsp;the&nbsp;bed&nbsp;here&nbsp;and&nbsp;the&nbsp;road&nbsp;there<br>And&nbsp;WKLO&nbsp;I&nbsp;most&nbsp;abhor<br>My&nbsp;head&nbsp;is&nbsp;rotten&nbsp;with&nbsp;the&nbsp;town’s&nbsp;song.<br><br>Here&nbsp;below&nbsp;stars&nbsp;and&nbsp;light<br>And&nbsp;the&nbsp;Chicago&nbsp;plane<br>Slides&nbsp;up&nbsp;the&nbsp;rainy&nbsp;straits&nbsp;of&nbsp;night<br>While&nbsp;in&nbsp;my&nbsp;maze&nbsp;I&nbsp;walk&nbsp;and&nbsp;sweat<br>Wandering&nbsp;in&nbsp;the&nbsp;low&nbsp;bone&nbsp;system<br>Or&nbsp;searching&nbsp;the&nbsp;impossible&nbsp;ceiling<br>For&nbsp;the&nbsp;question&nbsp;and&nbsp;the&nbsp;meaning<br>Till&nbsp;the&nbsp;machine&nbsp;rolls&nbsp;in&nbsp;again<br>I&nbsp;grow&nbsp;hungry&nbsp;for&nbsp;invented&nbsp;air<br>And&nbsp;for&nbsp;the&nbsp;technical&nbsp;community&nbsp;of&nbsp;men<br>For&nbsp;my&nbsp;lost&nbsp;Zen&nbsp;breathing<br>For&nbsp;the&nbsp;unmarried&nbsp;fancy<br>And&nbsp;the&nbsp;wild&nbsp;gift&nbsp;I&nbsp;made&nbsp;in&nbsp;those&nbsp;days<br>For&nbsp;all&nbsp;the&nbsp;compromising&nbsp;answers<br>All&nbsp;the&nbsp;gambles&nbsp;and&nbsp;blue&nbsp;rhythms<br>Of&nbsp;individual&nbsp;despair.<br><br>So&nbsp;the&nbsp;world’s&nbsp;logic&nbsp;runs<br>Up&nbsp;and&nbsp;down&nbsp;the&nbsp;doubting&nbsp;walls<br>While&nbsp;the&nbsp;frights&nbsp;and&nbsp;the&nbsp;planes<br>Swing&nbsp;my&nbsp;sleep&nbsp;out&nbsp;the&nbsp;window<br>All&nbsp;around,&nbsp;overhead<br>In&nbsp;doubt&nbsp;and&nbsp;technical&nbsp;heat<br>In&nbsp;oxygen&nbsp;and&nbsp;jet&nbsp;streams<br>In&nbsp;the&nbsp;world’s&nbsp;enormous&nbsp;space<br>And&nbsp;in&nbsp;man’s&nbsp;enormous&nbsp;want<br>Until&nbsp;the&nbsp;want&nbsp;itself&nbsp;is&nbsp;gone<br>Nameless&nbsp;bloodless&nbsp;and&nbsp;alone<br>The&nbsp;Cross&nbsp;comes&nbsp;and&nbsp;Eckhart’s&nbsp;scandal<br>The&nbsp;Holy&nbsp;Supper&nbsp;and&nbsp;the&nbsp;precise&nbsp;wrong<br>And&nbsp;the&nbsp;accurate&nbsp;little&nbsp;spark<br>In&nbsp;emptiness&nbsp;in&nbsp;the&nbsp;jet&nbsp;stream<br>Only&nbsp;the&nbsp;spark&nbsp;can&nbsp;understand<br>All&nbsp;that&nbsp;burns&nbsp;flies&nbsp;upward<br>Where&nbsp;the&nbsp;rainy&nbsp;jets&nbsp;have&nbsp;gone<br>A&nbsp;sign&nbsp;of&nbsp;needs&nbsp;and&nbsp;possible&nbsp;homes<br>An&nbsp;invented&nbsp;back&nbsp;bone<br>A&nbsp;dull&nbsp;song&nbsp;of&nbsp;oxygen<br>A&nbsp;lost&nbsp;spark&nbsp;in&nbsp;Eckhart’s&nbsp;Castle.<br>World’s&nbsp;plasm&nbsp;and&nbsp;world’s&nbsp;cell<br>I&nbsp;bleed&nbsp;myself&nbsp;awake&nbsp;and&nbsp;well<br><br>Only&nbsp;the&nbsp;spark&nbsp;is&nbsp;now&nbsp;true<br>Dancing&nbsp;in&nbsp;the&nbsp;empty&nbsp;room<br>All&nbsp;around&nbsp;overhead<br>While&nbsp;the&nbsp;frail&nbsp;body&nbsp;of&nbsp;Christ<br>Sweats&nbsp;in&nbsp;a&nbsp;technical&nbsp;bed<br>I&nbsp;am&nbsp;Christ’s&nbsp;lost&nbsp;cell<br>His&nbsp;childhood&nbsp;and&nbsp;desert&nbsp;age<br>His&nbsp;descent&nbsp;into&nbsp;hell.<br>Love&nbsp;without&nbsp;need&nbsp;and&nbsp;without&nbsp;name<br>Bleeds&nbsp;in&nbsp;the&nbsp;empty&nbsp;problem<br>And&nbsp;the&nbsp;spark&nbsp;without&nbsp;identity<br>Circles&nbsp;the&nbsp;empty&nbsp;ceiling.\n",
       "&nbsp&nbsp&nbsp&nbsp&nbsp&nbsp&nbsp&nbsp&nbsp&nbsp&nbsp&nbsp</p>\n",
       "&nbsp&nbsp&nbsp&nbsp&nbsp&nbsp&nbsp&nbsp</html>\n",
       "&nbsp&nbsp&nbsp&nbsp&nbsp&nbsp&nbsp&nbsp"
      ],
      "text/plain": [
       "<IPython.core.display.HTML object>"
      ]
     },
     "execution_count": 111,
     "metadata": {},
     "output_type": "execute_result"
    }
   ],
   "source": [
    "import regex as re\n",
    "HTML(re.sub(r' ',r'&nbsp',poetizer.poem_html))\n",
    "#re.sub(r'<br> {4,})',r'<br>&emsp;',poetizer.poem_html)"
   ]
  },
  {
   "cell_type": "code",
   "execution_count": 83,
   "id": "6c122578-d225-421d-a4b8-6f4ca1493a08",
   "metadata": {},
   "outputs": [
    {
     "name": "stdout",
     "output_type": "stream",
     "text": [
      "93\n"
     ]
    },
    {
     "data": {
      "text/plain": [
       "'\\n        <html>\\n        <h2 style=\"font-family:Garamond; color:White; font-size: 24px; margin-bottom:0; margin : 0; padding-top:0;\">Streets</h2>\\n          <p style=\"font-family:Garamond; color:White; font-size: 18px; margin-bottom:0; margin : 0; padding-top:0;\"><i>by \\n          <a href=\"https://en.wikipedia.org/wiki/Paul_Verlaine\">Paul Verlaine</a></i> (1844&#8211;1896)</p>\\n          <hr>\\n            <p style=\"font-family:Garamond; color:White; font-size: 18px; margin-bottom:0; margin : 0; padding-top:0\"><br>            Let\\'s dance the jig!<br><br>     Above all else I loved her eyes,<br>     More clear than stars of cloudless skies,<br>     And arch and mischievous and wise.<br><br>            Let\\'s dance the jig!<br><br>     So skilfully would she proceed<br>     To make a lover\\'s bare heart bleed,<br>     That it was beautiful indeed!<br><br>            Let\\'s dance the jig!<br><br>     But keenlier have I relished<br>     The kisses of her mouth so red<br>     Since to my heart she has been dead.<br><br>            Let\\'s dance the jig!<br><br>     The circumstances great and small,&#8211;<br>     Words, moments... I recall, recall<br>     It is my treasure among all.<br><br>            Let\\'s dance the jig!\\n            </p>\\n        </html>\\n        '"
      ]
     },
     "execution_count": 83,
     "metadata": {},
     "output_type": "execute_result"
    }
   ],
   "source": [
    "print(len(poetizer.poem.split()))\n",
    "poetizer.poem_html"
   ]
  },
  {
   "cell_type": "code",
   "execution_count": 59,
   "id": "e89324f0-83c9-4df3-b1e8-4f89a6401399",
   "metadata": {},
   "outputs": [],
   "source": [
    "#list(poetizer.dict['rossetti'])"
   ]
  },
  {
   "cell_type": "code",
   "execution_count": 60,
   "id": "29b32f96-2508-42db-8d9d-a9bb834d1706",
   "metadata": {},
   "outputs": [
    {
     "name": "stdout",
     "output_type": "stream",
     "text": [
      "\n",
      "=========\n",
      "SEASONS\n",
      "=========\n",
      "\n",
      "winter (snow, frost, cold, midwinter)\n",
      "-----------+-----------\n",
      "berryman   | WINTER LANDSCAPE\n",
      "cather     | WINTER AT DELPHI\n",
      "cather     | “I SOUGHT THE WOOD IN WINTER”\n",
      "cather     | ARCADIAN WINTER\n",
      "dickinson  | THE SNOW\n",
      "heine      | WINTER\n",
      "lawrence   | WINTER IN THE BOULEVARD\n",
      "macneice   | SNOW\n",
      "pasternak  | WINTER NIGHT\n",
      "pasternak  | FIRST SNOW\n",
      "plath      | WINTER TREES\n",
      "plath      | WAKING IN WINTER\n",
      "pushkin    | WINTER MORNING\n",
      "pushkin    | WINTER EVENING\n",
      "pushkin    | THE WINTER-ROAD\n",
      "rossetti   | IN THE BLEAK MIDWINTER\n",
      "rossetti   | WINTER RAIN\n",
      "rossetti   | WINTER: MY SECRET\n",
      "whitman    | TO A LOCOMOTIVE IN WINTER\n",
      "whitman    | SOON SHALL THE WINTER’S FOIL BE HERE\n",
      "whitman    | SOUNDS OF THE WINTER\n",
      "whittier   | THE FROST SPIRIT\n",
      "whittier   | FLOWERS IN WINTER\n",
      "\n",
      "summer ()\n",
      "-----------+-----------\n",
      "dickinson  | SUMMER'S ARMIES\n",
      "dickinson  | SUMMER SHOWER\n",
      "dickinson  | INDIAN SUMMER\n",
      "dickinson  | SUMMER'S OBSEQUIES\n",
      "huxley     | SUMMER STILLNESS\n",
      "rossetti   | A SUMMER WISH\n",
      "rossetti   | SUMMER\n",
      "thomas     | I SEE THE BOYS OF SUMMER\n",
      "whittier   | A DREAM OF SUMMER\n",
      "whittier   | SUMMER BY THE LAKESIDE\n",
      "whittier   | A SUMMER PILGRIMAGE\n",
      "\n",
      "autumn (~fall, leaves)\n",
      "-----------+-----------\n",
      "auden      | THE FALL OF ROME\n",
      "bronte     | FALL, LEAVES, FALL\n",
      "cather     | AUTUMN MELODY\n",
      "dickinson  | AUTUMN\n",
      "hopkins    | SPRING AND FALL: TO A YOUNG CHILD\n",
      "hopkins    | SPELT FROM SIBYL'S LEAVES\n",
      "lawrence   | AUTUMN SUNSHINE\n",
      "millay     | THE DEATH OF AUTUMN\n",
      "pasternak  | AUTUMN\n",
      "rilke      | AUTUMN\n",
      "rossetti   | AUTUMN\n",
      "rossetti   | AUTUMN VIOLETS\n",
      "sassoon    | AUTUMN\n",
      "thompson   | A CORYMBUS FOR AUTUMN\n",
      "whitman    | ROOTS AND LEAVES THEMSELVES ALONE\n",
      "whitman    | HERE THE FRAILEST LEAVES OF ME\n",
      "whitman    | YOU LINGERING SPARSE LEAVES OF ME\n",
      "whittier   | AUTUMN THOUGHTS\n",
      "whittier   | THE LAST WALK IN AUTUMN\n",
      "yeats      | THE FALLING OF THE LEAVES\n",
      "\n",
      "spring (~flower, ~flowers, ~tulips)\n",
      "-----------+-----------\n",
      "blake      | SPRING\n",
      "cather     | PRAIRIE SPRING\n",
      "cummings   | SPRING OMNIPOTENT GODDESS\n",
      "dickinson  | WITH A FLOWER _1_\n",
      "dickinson  | MAY-FLOWER\n",
      "dickinson  | THE SLEEPING FLOWERS\n",
      "dickinson  | WITH FLOWERS _1_\n",
      "dickinson  | WITH FLOWERS _2_\n",
      "dickinson  | WITH A FLOWER _2_\n",
      "frost      | THE TUFT OF FLOWERS\n",
      "frost      | FLOWER-GATHERING\n",
      "heine      | THE WHITE FLOWER\n",
      "heine      | WALKING FLOWERS AT BERLIN\n",
      "heine      | CELEBRATION OF SPRING\n",
      "heine      | SPRING\n",
      "herbert    | THE FLOWER\n",
      "hopkins    | SPRING\n",
      "hopkins    | SPRING AND FALL: TO A YOUNG CHILD\n",
      "huxley     | THE FLOWERS\n",
      "kilmer     | TO A BLACKBIRD AND HIS MATE WHO DIED IN THE SPRING\n",
      "lawrence   | EVERLASTING FLOWERS\n",
      "millay     | SPRING\n",
      "owen       | SPRING OFFENSIVE\n",
      "pasternak  | SPRING\n",
      "pasternak  | SPRING SHOWER\n",
      "plath      | TULIPS\n",
      "rossetti   | SPRING\n",
      "rossetti   | ANOTHER SPRING\n",
      "rossetti   | THE FIRST SPRING DAY\n",
      "rossetti   | SPRING QUIET\n",
      "whitman    | THESE I SINGING IN SPRING\n",
      "whittier   | FLOWERS IN WINTER\n",
      "whittier   | THE FIRST FLOWERS\n",
      "whittier   | AN EASTER FLOWER GIFT\n",
      "\n",
      "=========\n",
      "WEEKDAYS\n",
      "=========\n",
      "\n",
      "monday ()\n",
      "-----------+-----------\n",
      "plath      | THE EVERLASTING MONDAY\n",
      "\n",
      "tuesday ()\n",
      "-----------+-----------\n",
      "ashbery    | MOTTLED TUESDAY\n",
      "\n",
      "wednesday ()\n",
      "-----------+-----------\n",
      "eliot      | ASH WEDNESDAY\n",
      "\n",
      "thursday ()\n",
      "-----------+-----------\n",
      "blake      | HOLY THURSDAY _1_\n",
      "blake      | HOLY THURSDAY _2_\n",
      "chesterton | TO EDMUND CLERIHEW BENTLEY: THE DEDICATION OF _THE MAN WHO WAS THURSDAY_\n",
      "millay     | THURSDAY\n",
      "\n",
      "friday ()\n",
      "-----------+-----------\n",
      "jennings   | FRIDAY\n",
      "rossetti   | GOOD FRIDAY\n",
      "\n",
      "saturday ()\n",
      "-----------+-----------\n",
      "dickinson  | SATURDAY AFTERNOON\n",
      "\n",
      "sunday ()\n",
      "-----------+-----------\n",
      "eliot      | MR. ELIOT'S SUNDAY MORNING SERVICE\n",
      "macneice   | SUNDAY MORNING\n",
      "\n",
      "=========\n",
      "MONTHS\n",
      "=========\n",
      "\n",
      "january ()\n",
      "-----------+-----------\n",
      "updike     | JANUARY\n",
      "wilbur     | ORCHARD TREES, JANUARY\n",
      "\n",
      "february ()\n",
      "-----------+-----------\n",
      "\n",
      "march ()\n",
      "-----------+-----------\n",
      "chesterton | THE MARCH OF THE BLACK MOUNTAIN 1913\n",
      "dickinson  | TO MARCH\n",
      "dickinson  | MARCH\n",
      "hardy      | MEN WHO MARCH AWAY\n",
      "hopkins    | AT THE WEDDING MARCH\n",
      "lawrence   | LETTER FROM TOWN: ON A GREY EVENING IN MARCH\n",
      "pasternak  | MARCH\n",
      "whitman    | AN ARMY CORPS ON THE MARCH\n",
      "whitman    | A MARCH IN THE RANKS HARD-PREST AND THE ROAD UNKNOWN\n",
      "\n",
      "april ()\n",
      "-----------+-----------\n",
      "dickinson  | APRIL\n",
      "millay     | SONG OF A SECOND APRIL\n",
      "pasternak  | FROM EARLY DAWN THE THIRTIETH OF APRIL\n",
      "rilke      | IN APRIL\n",
      "rossetti   | CHILD'S TALK IN APRIL\n",
      "whittier   | APRIL\n",
      "\n",
      "may ()\n",
      "-----------+-----------\n",
      "dickinson  | MAY-FLOWER\n",
      "heine      | IN MAY\n",
      "hopkins    | THE MAY MAGNIFICAT\n",
      "rossetti   | MAIDEN MAY\n",
      "whitman    | OTHERS MAY PRAISE WHAT THEY LIKE\n",
      "whitman    | OUT OF MAY’S SHOWS SELECTED\n",
      "\n",
      "june ()\n",
      "-----------+-----------\n",
      "\n",
      "july ()\n",
      "-----------+-----------\n",
      "pasternak  | JULY\n",
      "\n",
      "august ()\n",
      "-----------+-----------\n",
      "gioia      | CALIFORNIA HILLS IN AUGUST\n",
      "pasternak  | AUGUST\n",
      "\n",
      "september ()\n",
      "-----------+-----------\n",
      "hill       | SEPTEMBER SONG\n",
      "\n",
      "october ()\n",
      "-----------+-----------\n",
      "belloc     | OCTOBER\n",
      "frost      | OCTOBER\n",
      "heine      | IN OCTOBER 1849\n",
      "plath      | POPPIES IN OCTOBER\n",
      "rossetti   | AN OCTOBER GARDEN\n",
      "thomas     | ESPECIALLY WHEN THE OCTOBER WIND\n",
      "\n",
      "november ()\n",
      "-----------+-----------\n",
      "dickinson  | NOVEMBER\n",
      "frost      | MY NOVEMBER GUEST\n",
      "\n",
      "december ()\n",
      "-----------+-----------\n",
      "\n",
      "=========\n",
      "HOLIDAYS\n",
      "=========\n",
      "\n",
      "no holiday ()\n",
      "-----------+-----------\n",
      "\n",
      "new year ()\n",
      "-----------+-----------\n",
      "hardy      | A NEW YEAR'S EVE IN WAR TIME\n",
      "rossetti   | OLD AND NEW YEAR DITTIES\n",
      "\n",
      "valentine (valentine, ~to my)\n",
      "-----------+-----------\n",
      "carroll    | A VALENTINE\n",
      "heine      | TO MY MOTHER\n",
      "macdonald  | TO MY SISTER\n",
      "nash       | TO MY VALENTINE\n",
      "thompson   | TO MY GODCHILD\n",
      "whitman    | QUERIES TO MY SEVENTIETH YEAR\n",
      "whittier   | TO MY SISTER\n",
      "\n",
      "ash wednesday ()\n",
      "-----------+-----------\n",
      "eliot      | ASH WEDNESDAY\n",
      "\n",
      "spring (~flower, ~flowers, ~tulips)\n",
      "-----------+-----------\n",
      "blake      | SPRING\n",
      "cather     | PRAIRIE SPRING\n",
      "cummings   | SPRING OMNIPOTENT GODDESS\n",
      "dickinson  | WITH A FLOWER _1_\n",
      "dickinson  | MAY-FLOWER\n",
      "dickinson  | THE SLEEPING FLOWERS\n",
      "dickinson  | WITH FLOWERS _1_\n",
      "dickinson  | WITH FLOWERS _2_\n",
      "dickinson  | WITH A FLOWER _2_\n",
      "frost      | THE TUFT OF FLOWERS\n",
      "frost      | FLOWER-GATHERING\n",
      "heine      | THE WHITE FLOWER\n",
      "heine      | WALKING FLOWERS AT BERLIN\n",
      "heine      | CELEBRATION OF SPRING\n",
      "heine      | SPRING\n",
      "herbert    | THE FLOWER\n",
      "hopkins    | SPRING\n",
      "hopkins    | SPRING AND FALL: TO A YOUNG CHILD\n",
      "huxley     | THE FLOWERS\n",
      "kilmer     | TO A BLACKBIRD AND HIS MATE WHO DIED IN THE SPRING\n",
      "lawrence   | EVERLASTING FLOWERS\n",
      "millay     | SPRING\n",
      "owen       | SPRING OFFENSIVE\n",
      "pasternak  | SPRING\n",
      "pasternak  | SPRING SHOWER\n",
      "plath      | TULIPS\n",
      "rossetti   | SPRING\n",
      "rossetti   | ANOTHER SPRING\n",
      "rossetti   | THE FIRST SPRING DAY\n",
      "rossetti   | SPRING QUIET\n",
      "whitman    | THESE I SINGING IN SPRING\n",
      "whittier   | FLOWERS IN WINTER\n",
      "whittier   | THE FIRST FLOWERS\n",
      "whittier   | AN EASTER FLOWER GIFT\n",
      "\n",
      "palm sunday (~donkey)\n",
      "-----------+-----------\n",
      "chesterton | THE DONKEY\n",
      "\n",
      "holy thursday ()\n",
      "-----------+-----------\n",
      "blake      | HOLY THURSDAY _1_\n",
      "blake      | HOLY THURSDAY _2_\n",
      "\n",
      "good friday (~paschal, ~crucifixion)\n",
      "-----------+-----------\n",
      "rossetti   | GOOD FRIDAY\n",
      "whittier   | THE CRUCIFIXION\n",
      "\n",
      "easter vigil (~hell)\n",
      "-----------+-----------\n",
      "blake      | PROVERBS OF HELL\n",
      "\n",
      "easter ()\n",
      "-----------+-----------\n",
      "kilmer     | EASTER\n",
      "rossetti   | AN EASTER CAROL\n",
      "updike     | SEVEN STANZAS AT EASTER\n",
      "whittier   | AN EASTER FLOWER GIFT\n",
      "\n",
      "ascension ()\n",
      "-----------+-----------\n",
      "heine      | ASCENSION\n",
      "rossetti   | ASCENSION DAY\n",
      "\n",
      "pentacost (~holy spirit)\n",
      "-----------+-----------\n",
      "\n",
      "summer ()\n",
      "-----------+-----------\n",
      "dickinson  | SUMMER'S ARMIES\n",
      "dickinson  | SUMMER SHOWER\n",
      "dickinson  | INDIAN SUMMER\n",
      "dickinson  | SUMMER'S OBSEQUIES\n",
      "huxley     | SUMMER STILLNESS\n",
      "rossetti   | A SUMMER WISH\n",
      "rossetti   | SUMMER\n",
      "thomas     | I SEE THE BOYS OF SUMMER\n",
      "whittier   | A DREAM OF SUMMER\n",
      "whittier   | SUMMER BY THE LAKESIDE\n",
      "whittier   | A SUMMER PILGRIMAGE\n",
      "\n",
      "independence day (~america)\n",
      "-----------+-----------\n",
      "whitman    | I HEAR AMERICA SINGING\n",
      "whitman    | LONG TOO LONG AMERICA\n",
      "whitman    | AMERICA\n",
      "\n",
      "autumn (~fall, leaves)\n",
      "-----------+-----------\n",
      "auden      | THE FALL OF ROME\n",
      "bronte     | FALL, LEAVES, FALL\n",
      "cather     | AUTUMN MELODY\n",
      "dickinson  | AUTUMN\n",
      "hopkins    | SPRING AND FALL: TO A YOUNG CHILD\n",
      "hopkins    | SPELT FROM SIBYL'S LEAVES\n",
      "lawrence   | AUTUMN SUNSHINE\n",
      "millay     | THE DEATH OF AUTUMN\n",
      "pasternak  | AUTUMN\n",
      "rilke      | AUTUMN\n",
      "rossetti   | AUTUMN\n",
      "rossetti   | AUTUMN VIOLETS\n",
      "sassoon    | AUTUMN\n",
      "thompson   | A CORYMBUS FOR AUTUMN\n",
      "whitman    | ROOTS AND LEAVES THEMSELVES ALONE\n",
      "whitman    | HERE THE FRAILEST LEAVES OF ME\n",
      "whitman    | YOU LINGERING SPARSE LEAVES OF ME\n",
      "whittier   | AUTUMN THOUGHTS\n",
      "whittier   | THE LAST WALK IN AUTUMN\n",
      "yeats      | THE FALLING OF THE LEAVES\n",
      "\n",
      "halloween (goblin)\n",
      "-----------+-----------\n",
      "rossetti   | GOBLIN MARKET\n",
      "\n",
      "thanksgiving ()\n",
      "-----------+-----------\n",
      "dickinson  | THANKSGIVING DAY\n",
      "macdonald  | A THANKSGIVING\n",
      "\n",
      "winter (snow, frost, cold, midwinter)\n",
      "-----------+-----------\n",
      "berryman   | WINTER LANDSCAPE\n",
      "cather     | WINTER AT DELPHI\n",
      "cather     | “I SOUGHT THE WOOD IN WINTER”\n",
      "cather     | ARCADIAN WINTER\n",
      "dickinson  | THE SNOW\n",
      "heine      | WINTER\n",
      "lawrence   | WINTER IN THE BOULEVARD\n",
      "macneice   | SNOW\n",
      "pasternak  | WINTER NIGHT\n",
      "pasternak  | FIRST SNOW\n",
      "plath      | WINTER TREES\n",
      "plath      | WAKING IN WINTER\n",
      "pushkin    | WINTER MORNING\n",
      "pushkin    | WINTER EVENING\n",
      "pushkin    | THE WINTER-ROAD\n",
      "rossetti   | IN THE BLEAK MIDWINTER\n",
      "rossetti   | WINTER RAIN\n",
      "rossetti   | WINTER: MY SECRET\n",
      "whitman    | TO A LOCOMOTIVE IN WINTER\n",
      "whitman    | SOON SHALL THE WINTER’S FOIL BE HERE\n",
      "whitman    | SOUNDS OF THE WINTER\n",
      "whittier   | THE FROST SPIRIT\n",
      "whittier   | FLOWERS IN WINTER\n",
      "\n",
      "christmas eve (~christmas, ~nativity)\n",
      "-----------+-----------\n",
      "chesterton | THE HOUSE OF CHRISTMAS\n",
      "chesterton | THE TRUCE OF CHRISTMAS\n",
      "chesterton | A CHRISTMAS SONG FOR THREE GUILDS\n",
      "chesterton | THE NATIVITY\n",
      "rossetti   | A CHRISTMAS CAROL\n",
      "rossetti   | CHRISTMAS CAROLS\n",
      "whittier   | A CHRISTMAS CARMEN\n",
      "whittier   | THE MYSTIC'S CHRISTMAS\n",
      "\n",
      "christmas (~christmas, ~nativity)\n",
      "-----------+-----------\n",
      "chesterton | THE HOUSE OF CHRISTMAS\n",
      "chesterton | THE TRUCE OF CHRISTMAS\n",
      "chesterton | A CHRISTMAS SONG FOR THREE GUILDS\n",
      "chesterton | THE NATIVITY\n",
      "rossetti   | A CHRISTMAS CAROL\n",
      "rossetti   | CHRISTMAS CAROLS\n",
      "whittier   | A CHRISTMAS CARMEN\n",
      "whittier   | THE MYSTIC'S CHRISTMAS\n",
      "\n",
      "=========\n",
      "LITURGIES\n",
      "=========\n",
      "\n",
      "ordinary time ()\n",
      "-----------+-----------\n",
      "\n",
      "epiphany ()\n",
      "-----------+-----------\n",
      "\n",
      "lent (~sin, ~sorrow, ~sadness)\n",
      "-----------+-----------\n",
      "blake      | ON ANOTHER'S SORROW\n",
      "blake      | INFANT SORROW\n",
      "gibran     | AND WHEN MY SORROW WAS BORN\n",
      "herbert    | SIN\n",
      "millay     | SORROW\n",
      "millay     | KIN TO SORROW\n",
      "pushkin    | SORROW\n",
      "yeats      | THE SORROW OF LOVE\n",
      "\n",
      "easter ()\n",
      "-----------+-----------\n",
      "kilmer     | EASTER\n",
      "rossetti   | AN EASTER CAROL\n",
      "updike     | SEVEN STANZAS AT EASTER\n",
      "whittier   | AN EASTER FLOWER GIFT\n",
      "\n",
      "advent ()\n",
      "-----------+-----------\n",
      "rossetti   | ADVENT\n"
     ]
    }
   ],
   "source": [
    "poetizer.list_contextual()#exclude=[#'SEASONS',\n",
    "                                  #'WEEKDAYS',\n",
    "                                  #'MONTHS',\n",
    "                                 # 'HOLIDAYS'\n",
    "                                 #])"
   ]
  },
  {
   "cell_type": "code",
   "execution_count": 66,
   "id": "b9f95e39-75ce-490e-bf9f-1e199ed8ab33",
   "metadata": {},
   "outputs": [
    {
     "data": {
      "text/plain": [
       "['ordinary time', 'epiphany', 'lent', 'easter', 'advent']"
      ]
     },
     "execution_count": 66,
     "metadata": {},
     "output_type": "execute_result"
    }
   ],
   "source": [
    "poetizer.liturgies"
   ]
  },
  {
   "cell_type": "code",
   "execution_count": 385,
   "id": "d764476e-a9e8-4d47-863c-1bd70fa9885d",
   "metadata": {},
   "outputs": [
    {
     "data": {
      "text/plain": [
       "datetime.IsoCalendarDate(year=2022, week=1, weekday=7)"
      ]
     },
     "execution_count": 385,
     "metadata": {},
     "output_type": "execute_result"
    }
   ],
   "source": [
    "datetime(2022,1,9,8,0,0).isocalendar()"
   ]
  },
  {
   "cell_type": "code",
   "execution_count": 386,
   "id": "09ac3aef-ddaf-41bd-baaa-173a4de3a63f",
   "metadata": {},
   "outputs": [
    {
     "data": {
      "text/plain": [
       "'2022-01-01 18:45:14'"
      ]
     },
     "execution_count": 386,
     "metadata": {},
     "output_type": "execute_result"
    }
   ],
   "source": [
    "' '.join(datetime.fromtimestamp(time.time()).isoformat()[:19].split('T'))"
   ]
  },
  {
   "cell_type": "code",
   "execution_count": 387,
   "id": "4acb0c0c-b5ed-4e56-b4d4-adff1860d41f",
   "metadata": {},
   "outputs": [
    {
     "data": {
      "text/plain": [
       "2430"
      ]
     },
     "execution_count": 387,
     "metadata": {},
     "output_type": "execute_result"
    }
   ],
   "source": [
    "len(poetizer.pt_keys)"
   ]
  },
  {
   "cell_type": "code",
   "execution_count": 388,
   "id": "3aaf538c-3cb3-4e38-988a-00f07f1417e9",
   "metadata": {},
   "outputs": [
    {
     "name": "stdout",
     "output_type": "stream",
     "text": [
      "['winter', 'saturday', 'january', 'new year', 'ordinary time']\n",
      "Philip Larkin FAITH HEALING\n"
     ]
    }
   ],
   "source": [
    "poetizer.load_poem(contextual=True,\n",
    "                   verbose=True,\n",
    "                   poet='larkin',\n",
    "                   #when=datetime(2022,1,9,8,0,0).timestamp(),\n",
    "                   poet_latency=21,\n",
    "                   title_latency=365,\n",
    "                   read_historical=True)\n",
    "print(poetizer.name, poetizer.title)"
   ]
  },
  {
   "cell_type": "code",
   "execution_count": 390,
   "id": "79ea6bc3-a40b-42df-83ae-8703f640d16a",
   "metadata": {},
   "outputs": [
    {
     "name": "stdout",
     "output_type": "stream",
     "text": [
      "['winter', 'sunday', 'january', 'no holiday', 'ordinary time']\n",
      "wilde AT VERONA\n"
     ]
    }
   ],
   "source": [
    "poetizer.load_poem(contextual=True,\n",
    "                   verbose=True,\n",
    "                   when=datetime(2022,1,9,8,0,0).timestamp(),\n",
    "                   poet_latency=21,\n",
    "                   title_latency=365,\n",
    "                   read_historical=True)\n",
    "print(poetizer.poet, poetizer.title)"
   ]
  },
  {
   "cell_type": "code",
   "execution_count": 391,
   "id": "51a18832-1fe7-4001-87e7-b5c247179d1d",
   "metadata": {},
   "outputs": [
    {
     "data": {
      "text/plain": [
       "array([0.14285714, 0.14285714, 0.14285714, ..., 0.02777778, 0.02777778,\n",
       "       0.02777778])"
      ]
     },
     "execution_count": 391,
     "metadata": {},
     "output_type": "execute_result"
    }
   ],
   "source": [
    "poetizer.likelihood"
   ]
  },
  {
   "cell_type": "code",
   "execution_count": 392,
   "id": "376359a5-3cfc-4063-8004-517c7b6f39c4",
   "metadata": {},
   "outputs": [
    {
     "ename": "AttributeError",
     "evalue": "'Poetizer' object has no attribute 'has_all'",
     "output_type": "error",
     "traceback": [
      "\u001b[0;31m---------------------------------------------------------------------------\u001b[0m",
      "\u001b[0;31mAttributeError\u001b[0m                            Traceback (most recent call last)",
      "\u001b[0;32m<ipython-input-392-3d04f2cc1bb6>\u001b[0m in \u001b[0;36m<module>\u001b[0;34m\u001b[0m\n\u001b[0;32m----> 1\u001b[0;31m \u001b[0mpoetizer\u001b[0m\u001b[0;34m.\u001b[0m\u001b[0mhas_all\u001b[0m\u001b[0;34m(\u001b[0m\u001b[0;34m'ash wednesday'\u001b[0m\u001b[0;34m,\u001b[0m\u001b[0;34m'ASH WEDNESDAY'\u001b[0m\u001b[0;34m)\u001b[0m\u001b[0;34m\u001b[0m\u001b[0;34m\u001b[0m\u001b[0m\n\u001b[0m",
      "\u001b[0;31mAttributeError\u001b[0m: 'Poetizer' object has no attribute 'has_all'"
     ]
    }
   ],
   "source": [
    "poetizer.has_all('ash wednesday','ASH WEDNESDAY')"
   ]
  },
  {
   "cell_type": "code",
   "execution_count": 393,
   "id": "082ab4aa-50b8-49e4-adc8-4ed14b6420f5",
   "metadata": {},
   "outputs": [],
   "source": [
    "#plt.plot([datetime.fromtimestamp(t).hour for t in poetizer.history['timestamp']])"
   ]
  },
  {
   "cell_type": "code",
   "execution_count": 395,
   "id": "a68e12f4-59e8-4225-9c19-d94c1a016ba7",
   "metadata": {},
   "outputs": [],
   "source": [
    "#poetizer.history"
   ]
  },
  {
   "cell_type": "code",
   "execution_count": 396,
   "id": "609178c2-ed99-42ce-a34b-e4f0d5b44d07",
   "metadata": {},
   "outputs": [
    {
     "name": "stdout",
     "output_type": "stream",
     "text": [
      "   HOW steep the stairs within King’s houses are\n",
      "      For exile-wearied feet as mine to tread\n",
      "      And O how salt and bitter is the bread\n",
      "   Which falls from this Hound’s table—better far\n",
      "   That I had died in the red ways of war\n",
      "      Or that the gate of Florence bare my head\n",
      "      Than to live thus by all things comraded\n",
      "   Which seek the essence of my soul to mar.\n",
      "\n",
      "   ‘Curse God and die: what better hope than this?\n",
      "      He hath forgotten thee in all the bliss\n",
      "      Of his gold city and eternal day’—\n",
      "   Nay peace: behind my prison’s blinded bars\n",
      "      I do possess what none can take away\n",
      "      My love and all the glory of the stars.\n"
     ]
    }
   ],
   "source": [
    "print(poetizer.poem)"
   ]
  },
  {
   "cell_type": "code",
   "execution_count": 272,
   "id": "e5c29176-ca3d-4f25-833b-ca4ffe9967f4",
   "metadata": {},
   "outputs": [
    {
     "data": {
      "text/plain": [
       "('rossetti', 'GOOD FRIDAY')"
      ]
     },
     "execution_count": 272,
     "metadata": {},
     "output_type": "execute_result"
    }
   ],
   "source": [
    "poetizer.pt_keys[np.argmax(poetizer.likelihood)]"
   ]
  },
  {
   "cell_type": "code",
   "execution_count": 273,
   "id": "6270c4fa-d143-4fe1-9bd8-37502dccdd77",
   "metadata": {},
   "outputs": [
    {
     "data": {
      "text/plain": [
       "[<matplotlib.lines.Line2D at 0x11e0e80a0>]"
      ]
     },
     "execution_count": 273,
     "metadata": {},
     "output_type": "execute_result"
    },
    {
     "data": {
      "image/png": "[encoded data removed]",
      "text/plain": [
       "<Figure size 432x288 with 1 Axes>"
      ]
     },
     "metadata": {
      "needs_background": "light"
     },
     "output_type": "display_data"
    }
   ],
   "source": [
    "plt.plot(poetizer.likelihood / poetizer.likelihood.sum())"
   ]
  },
  {
   "cell_type": "code",
   "execution_count": 252,
   "id": "ab2f3d3d-390c-4129-83f4-6493af8733a4",
   "metadata": {},
   "outputs": [],
   "source": [
    "import matplotlib.pyplot as plt"
   ]
  },
  {
   "cell_type": "code",
   "execution_count": 253,
   "id": "76575c71-aee9-44bd-81f7-d23e9373712e",
   "metadata": {},
   "outputs": [
    {
     "data": {
      "text/plain": [
       "array(['THE COW', 'THE DUCK', 'CELERY', 'THE OCTOPUS', 'OLD MEN',\n",
       "       'TO MY VALENTINE', 'MORNING PRAYER', 'OH TO BE ODD!',\n",
       "       'A CAUTION FOR EVERYBODY',\n",
       "       'BANKERS ARE JUST LIKE ANYONE ELSE, EXCEPT RICHER'], dtype='<U77')"
      ]
     },
     "execution_count": 253,
     "metadata": {},
     "output_type": "execute_result"
    }
   ],
   "source": [
    "np.array(poetizer.titles)['nash'==np.array(poetizer.poets)]"
   ]
  },
  {
   "cell_type": "code",
   "execution_count": 42,
   "id": "fa4b49c2-caf2-4d2b-b1c1-b24a9846ccf8",
   "metadata": {},
   "outputs": [],
   "source": [
    "#for _poet in list(poetizer.dict):\n",
    "#    print(_poet, np.sum(_poet==np.array(poetizer.poets)))"
   ]
  },
  {
   "cell_type": "code",
   "execution_count": 39,
   "id": "6788d4ae-26cc-4281-96d7-3b14cae08683",
   "metadata": {},
   "outputs": [
    {
     "data": {
      "text/plain": [
       "(0.0, 10.0)"
      ]
     },
     "execution_count": 39,
     "metadata": {},
     "output_type": "execute_result"
    },
    {
     "data": {
      "image/png": "[encoded data removed]",
      "text/plain": [
       "<Figure size 432x288 with 1 Axes>"
      ]
     },
     "metadata": {
      "needs_background": "light"
     },
     "output_type": "display_data"
    }
   ],
   "source": [
    "plt.plot(1/poetizer.pt_likelihood)\n",
    "plt.ylim(0,10)"
   ]
  },
  {
   "cell_type": "code",
   "execution_count": null,
   "id": "69f0c2e1-cbfc-45fa-8f5e-b51d5088a89a",
   "metadata": {},
   "outputs": [],
   "source": []
  },
  {
   "cell_type": "code",
   "execution_count": 43,
   "id": "8755146f-96ed-4991-9cc2-5f9dba24d9d9",
   "metadata": {},
   "outputs": [],
   "source": [
    "months   = ['january', 'february', 'march', 'april', 'may', 'june', 'july', 'august', 'september', 'october', 'november', 'december']\n",
    "weekdays = ['monday', 'tuesday', 'wednesday', 'thursday', 'friday', 'saturday', 'sunday']\n",
    "holidays = ['christmas', 'easter', 'thanksgiving', 'halloween']\n",
    "seasons  = ['winter', 'summer', 'autumn', 'spring']"
   ]
  },
  {
   "cell_type": "code",
   "execution_count": 123,
   "id": "c0c7a353-ec3b-42eb-8e2a-bbd3a3e26bfd",
   "metadata": {},
   "outputs": [],
   "source": [
    "norm = np.ones(poetizer.n_pt)"
   ]
  },
  {
   "cell_type": "code",
   "execution_count": 191,
   "id": "95485a18-e6df-44da-9e90-acab50708244",
   "metadata": {},
   "outputs": [],
   "source": [
    "\n",
    "\n",
    "def get_holiday(t=time.time()):\n",
    "    dt = datetime.fromtimestamp(t)\n",
    "    if easter(dt.year)==dt.date(): return 'easter'\n",
    "    if dt.month==12 and dt.day==25: return 'christmas'\n",
    "    return None"
   ]
  },
  {
   "cell_type": "code",
   "execution_count": null,
   "id": "e4e44d9a-cc7f-4c8b-bd6f-c10e5279308b",
   "metadata": {},
   "outputs": [],
   "source": []
  },
  {
   "cell_type": "code",
   "execution_count": 145,
   "id": "10d9ebfd-2868-4fe2-857d-84b99b7fb92d",
   "metadata": {},
   "outputs": [
    {
     "data": {
      "text/plain": [
       "time.struct_time(tm_year=1969, tm_mon=12, tm_mday=31, tm_hour=19, tm_min=0, tm_sec=0, tm_wday=2, tm_yday=365, tm_isdst=-1)"
      ]
     },
     "execution_count": 145,
     "metadata": {},
     "output_type": "execute_result"
    }
   ],
   "source": [
    "t = 0\n",
    "\n",
    "datetime.fromtimestamp(t).timetuple().tm_mon"
   ]
  },
  {
   "cell_type": "code",
   "execution_count": null,
   "id": "4075fcff-c3ce-4ec8-9c11-fcecb898babd",
   "metadata": {},
   "outputs": [],
   "source": []
  },
  {
   "cell_type": "code",
   "execution_count": 125,
   "id": "a7c3e8e6-39f3-4f8f-b75e-1b6a6715e5b1",
   "metadata": {},
   "outputs": [
    {
     "data": {
      "text/plain": [
       "('winter', 'wednesday', 'december')"
      ]
     },
     "execution_count": 125,
     "metadata": {},
     "output_type": "execute_result"
    }
   ],
   "source": [
    "get_season(), get_weekday(), get_month()"
   ]
  },
  {
   "cell_type": "code",
   "execution_count": 133,
   "id": "d98c2e02-a05d-481d-927e-04dd283c760f",
   "metadata": {},
   "outputs": [],
   "source": [
    "\n",
    "for discriminator, current_kw in zip([seasons, weekdays, months],\n",
    "                                     [get_season(), get_weekday(), get_month(), get_holiday()]):\n",
    "    \n",
    "    for i,(_poet,_title) in enumerate(poetizer.pt_keys):\n",
    "        for kw in discriminator:\n",
    "            if kw in _title.lower().split(): \n",
    "                if kw == current_kw: norm[i] *= (len(discriminator) - 1)\n",
    "                else: norm[i] = 0\n",
    "    "
   ]
  },
  {
   "cell_type": "code",
   "execution_count": null,
   "id": "da3a452a-d6f6-4fb1-a789-e34452b7f89c",
   "metadata": {},
   "outputs": [],
   "source": []
  },
  {
   "cell_type": "code",
   "execution_count": 134,
   "id": "269b9272-5294-451e-b4cd-d75c22d9caf4",
   "metadata": {},
   "outputs": [
    {
     "data": {
      "text/plain": [
       "('cather', 'WINTER AT DELPHI')"
      ]
     },
     "execution_count": 134,
     "metadata": {},
     "output_type": "execute_result"
    }
   ],
   "source": [
    "poetizer.pt_keys[norm.argmax()]"
   ]
  },
  {
   "cell_type": "code",
   "execution_count": 135,
   "id": "d1d12ac6-57fe-4d8f-826e-c7e0d1397f97",
   "metadata": {},
   "outputs": [
    {
     "data": {
      "text/plain": [
       "'december'"
      ]
     },
     "execution_count": 135,
     "metadata": {},
     "output_type": "execute_result"
    }
   ],
   "source": [
    "kw"
   ]
  },
  {
   "cell_type": "code",
   "execution_count": 136,
   "id": "9cc97751-97de-4444-acbc-43b38eff6d65",
   "metadata": {},
   "outputs": [
    {
     "data": {
      "text/plain": [
       "[<matplotlib.lines.Line2D at 0x128b491f0>]"
      ]
     },
     "execution_count": 136,
     "metadata": {},
     "output_type": "execute_result"
    },
    {
     "data": {
      "image/png": "[encoded data removed]",
      "text/plain": [
       "<Figure size 432x288 with 1 Axes>"
      ]
     },
     "metadata": {
      "needs_background": "light"
     },
     "output_type": "display_data"
    }
   ],
   "source": [
    "plt.plot(norm)"
   ]
  },
  {
   "cell_type": "code",
   "execution_count": null,
   "id": "9c6c3896-4163-4a16-b7ec-371619ed6fbf",
   "metadata": {},
   "outputs": [],
   "source": []
  },
  {
   "cell_type": "code",
   "execution_count": 41,
   "id": "cf85ca79-7e95-4c0b-937f-cef015857723",
   "metadata": {},
   "outputs": [
    {
     "data": {
      "text/plain": [
       "'wednesday'"
      ]
     },
     "execution_count": 41,
     "metadata": {},
     "output_type": "execute_result"
    }
   ],
   "source": [
    "weekdays[datetime.today().weekday()]"
   ]
  },
  {
   "cell_type": "code",
   "execution_count": 80,
   "id": "848afbec-b92f-4df6-8941-1284c890f025",
   "metadata": {},
   "outputs": [],
   "source": []
  },
  {
   "cell_type": "code",
   "execution_count": null,
   "id": "1f23e2d7-e295-462f-87b2-b595bc8ebf2e",
   "metadata": {},
   "outputs": [],
   "source": []
  },
  {
   "cell_type": "code",
   "execution_count": 78,
   "id": "e0a50596-e049-4688-95b2-6d4a6f878c80",
   "metadata": {},
   "outputs": [
    {
     "data": {
      "text/plain": [
       "'wednesday'"
      ]
     },
     "execution_count": 78,
     "metadata": {},
     "output_type": "execute_result"
    }
   ],
   "source": [
    "get_day_of_week()"
   ]
  },
  {
   "cell_type": "code",
   "execution_count": null,
   "id": "576aeb2e-3a51-4f84-8536-68a0b8f1b0c4",
   "metadata": {},
   "outputs": [],
   "source": []
  },
  {
   "cell_type": "code",
   "execution_count": 67,
   "id": "8b34134d-f3f9-44ea-88cc-6bb203c345c0",
   "metadata": {},
   "outputs": [
    {
     "data": {
      "text/plain": [
       "6"
      ]
     },
     "execution_count": 67,
     "metadata": {},
     "output_type": "execute_result"
    }
   ],
   "source": [
    "datetime(2021,12,19).weekday()"
   ]
  },
  {
   "cell_type": "code",
   "execution_count": 65,
   "id": "1e0f0ce6-a37f-4fda-bc38-4e1a80d7da5f",
   "metadata": {},
   "outputs": [
    {
     "data": {
      "text/plain": [
       "'sunday'"
      ]
     },
     "execution_count": 65,
     "metadata": {},
     "output_type": "execute_result"
    }
   ],
   "source": [
    "weekdays[datetime(2021,12,19).weekday()]"
   ]
  },
  {
   "cell_type": "code",
   "execution_count": 131,
   "id": "de05ec75-002f-46c9-b274-a51375c96ecd",
   "metadata": {},
   "outputs": [
    {
     "name": "stdout",
     "output_type": "stream",
     "text": [
      "january updike JANUARY\n",
      "march chesterton THE MARCH OF THE BLACK MOUNTAIN 1913\n",
      "march dickinson TO MARCH\n",
      "march dickinson MARCH\n",
      "march hopkins THE LOSS OF THE EURYDICE  FOUNDERED MARCH 24. 1878\n",
      "march hopkins  AT THE WEDDING MARCH\n",
      "march lawrence LETTER FROM TOWN: ON A GREY EVENING IN MARCH\n",
      "march whitman AN ARMY CORPS ON THE MARCH\n",
      "march whitman A MARCH IN THE RANKS HARD-PREST AND THE ROAD UNKNOWN\n",
      "april dickinson APRIL\n",
      "april millay SONG OF A SECOND APRIL\n",
      "april rilke IN APRIL\n",
      "april rossetti CHILD'S TALK IN APRIL\n",
      "may heine IN MAY\n",
      "may hopkins THE MAY MAGNIFICAT\n",
      "may rossetti MAIDEN MAY\n",
      "may whitman OTHERS MAY PRAISE WHAT THEY LIKE\n",
      "october belloc OCTOBER\n",
      "october frost OCTOBER\n",
      "october heine IN OCTOBER 1849\n",
      "october rossetti AN OCTOBER GARDEN\n",
      "october thomas ESPECIALLY WHEN THE OCTOBER WIND\n",
      "november dickinson NOVEMBER\n",
      "november frost MY NOVEMBER GUEST\n",
      "tuesday ashbery MOTTLED TUESDAY\n",
      "thursday blake HOLY THURSDAY _1_\n",
      "thursday blake HOLY THURSDAY _2_\n",
      "thursday millay THURSDAY\n",
      "friday rossetti GOOD FRIDAY\n",
      "saturday dickinson SATURDAY AFTERNOON\n",
      "sunday eliot MR. ELIOT'S SUNDAY MORNING SERVICE\n",
      "sunday macneice SUNDAY MORNING\n",
      "christmas chesterton THE HOUSE OF CHRISTMAS\n",
      "christmas chesterton THE TRUCE OF CHRISTMAS\n",
      "christmas chesterton A CHRISTMAS SONG FOR THREE GUILDS\n",
      "christmas rossetti A CHRISTMAS CAROL\n",
      "christmas rossetti CHRISTMAS CAROLS\n",
      "christmas whitman A CHRISTMAS GREETING\n",
      "easter kilmer EASTER\n",
      "easter rossetti AN EASTER CAROL\n",
      "easter updike SEVEN STANZAS AT EASTER\n",
      "thanksgiving dickinson THANKSGIVING DAY\n",
      "thanksgiving macdonald A THANKSGIVING\n",
      "winter cather WINTER AT DELPHI\n",
      "winter cather ARCADIAN WINTER\n",
      "winter heine WINTER\n",
      "winter lawrence WINTER IN THE BOULEVARD\n",
      "winter pushkin WINTER MORNING\n",
      "winter pushkin WINTER EVENING\n",
      "winter rossetti WINTER RAIN\n",
      "winter whitman TO A LOCOMOTIVE IN WINTER\n",
      "winter whitman SOUNDS OF THE WINTER\n",
      "summer dickinson SUMMER SHOWER\n",
      "summer dickinson INDIAN SUMMER\n",
      "summer huxley SUMMER STILLNESS\n",
      "summer rossetti A SUMMER WISH\n",
      "summer rossetti SUMMER\n",
      "summer thomas I SEE THE BOYS OF SUMMER\n",
      "autumn cather AUTUMN MELODY\n",
      "autumn dickinson AUTUMN\n",
      "autumn lawrence AUTUMN SUNSHINE\n",
      "autumn millay THE DEATH OF AUTUMN\n",
      "autumn rilke AUTUMN\n",
      "autumn rossetti AUTUMN\n",
      "autumn rossetti AUTUMN VIOLETS\n",
      "autumn thompson A CORYMBUS FOR AUTUMN\n",
      "spring blake SPRING\n",
      "spring cather PRAIRIE SPRING\n",
      "spring cummings SPRING OMNIPOTENT GODDESS\n",
      "spring heine CELEBRATION OF SPRING\n",
      "spring heine SPRING\n",
      "spring hopkins SPRING\n",
      "spring hopkins SPRING AND FALL:  TO A YOUNG CHILD\n",
      "spring kilmer TO A BLACKBIRD AND HIS MATE WHO DIED IN THE SPRING\n",
      "spring millay SPRING\n",
      "spring owen SPRING OFFENSIVE\n",
      "spring rossetti SPRING\n",
      "spring rossetti ANOTHER SPRING\n",
      "spring rossetti THE FIRST SPRING DAY\n",
      "spring rossetti SPRING QUIET\n",
      "spring whitman THESE I SINGING IN SPRING\n"
     ]
    }
   ],
   "source": [
    "import re\n",
    "\n",
    "for kw in [*months,*weekdays,*holidays,*seasons]:\n",
    "    for poet,title in poetizer.pt_keys:\n",
    "        if kw in title.lower().split():\n",
    "            print(kw,poet,title)\n"
   ]
  },
  {
   "cell_type": "code",
   "execution_count": 10,
   "id": "94bbcb22-4509-443a-ac72-c798f747908e",
   "metadata": {},
   "outputs": [
    {
     "data": {
      "text/plain": [
       "<function dateutil.easter.easter(year, method=3)>"
      ]
     },
     "execution_count": 10,
     "metadata": {},
     "output_type": "execute_result"
    }
   ],
   "source": [
    "from dateutil.easter import *\n",
    "easter"
   ]
  },
  {
   "cell_type": "code",
   "execution_count": 22,
   "id": "97030342-e2ea-4ee3-891e-74298022c725",
   "metadata": {},
   "outputs": [
    {
     "data": {
      "text/plain": [
       "['ELECTIVE INFINITIES',\n",
       " 'ALCOVE',\n",
       " 'INSTEAD OF LOSING',\n",
       " 'MOTTLED TUESDAY',\n",
       " 'MEANINGFUL LOVE',\n",
       " 'THE NEW HIGHER',\n",
       " 'HONESTLY,',\n",
       " 'THE FALL OF ROME',\n",
       " 'MUSÉE DES BEAUX ARTS',\n",
       " 'STOP ALL THE CLOCKS, CUT OFF THE TELEPHONE',\n",
       " 'THE SHIELD OF ACHILLES',\n",
       " \"AFTER READING A CHILD'S GUIDE TO MODERN PHYSICS\",\n",
       " 'THE UNKNOWN CITIZEN',\n",
       " 'THE MORE LOVING ONE',\n",
       " 'THE BIRDS',\n",
       " 'REBECCA, WHO SLAMMED DOORS FOR FUN AND PERISHED MISERABLY',\n",
       " 'BECAUSE MY FALTERING FEET',\n",
       " 'HERETICS ALL',\n",
       " 'OCTOBER',\n",
       " 'THE DEATH AND LAST CONFESSION OF WANDERING PETER',\n",
       " 'ON THE GIFT OF A BOOK TO A CHILD',\n",
       " 'THE FROG',\n",
       " 'SARAH BYNG, WHO COULD NOT READ AND WAS TOSSED INTO A THORNY HEDGE BY A BULL',\n",
       " 'THE COUNTRY OF MARRIAGE',\n",
       " 'THE SILENCE',\n",
       " 'THE WISH TO BE GENEROUS',\n",
       " 'THE REAL WORK',\n",
       " 'A TIMBERED CHOIR',\n",
       " 'WHAT WE NEED IS HERE',\n",
       " 'THE PEACE OF WILD THINGS',\n",
       " 'A MEETING IN A PART',\n",
       " 'VISITS TO ST. ELIZABETHS',\n",
       " 'ARRIVAL AT SANTOS',\n",
       " 'IN THE WAITING ROOM',\n",
       " 'THE MOOSE',\n",
       " 'ONE ART',\n",
       " 'SESTINA',\n",
       " 'PARIS, 7 A.M.',\n",
       " 'THE MAP',\n",
       " 'SONGS OF INNOCENCE',\n",
       " 'THE SHEPHERD',\n",
       " 'THE ECHOING GREEN',\n",
       " 'THE LAMB',\n",
       " 'THE LITTLE BLACK BOY',\n",
       " 'THE CHIMNEY-SWEEPER',\n",
       " 'THE LITTLE BOY LOST',\n",
       " 'THE LITTLE BOY FOUND',\n",
       " 'LAUGHING SONG',\n",
       " 'A  SONG',\n",
       " 'DIVINE IMAGE',\n",
       " 'HOLY THURSDAY _1_',\n",
       " 'NIGHT',\n",
       " 'SPRING',\n",
       " \"NURSE'S SONG _1_\",\n",
       " 'A DREAM',\n",
       " \"ON ANOTHER'S SORROW\",\n",
       " 'SONGS OF EXPERIENCE',\n",
       " \"EARTH'S ANSWER\",\n",
       " 'THE CLOD AND THE PEBBLE',\n",
       " 'HOLY THURSDAY _2_',\n",
       " 'THE LITTLE GIRL LOST',\n",
       " 'THE LITTLE GIRL FOUND',\n",
       " 'THE CHIMNEY SWEEPER',\n",
       " \"NURSE'S SONG _2_\",\n",
       " 'THE FLY',\n",
       " 'THE ANGEL',\n",
       " 'THE TYGER',\n",
       " 'MY PRETTY ROSE TREE',\n",
       " 'THE GARDEN OF LOVE',\n",
       " 'THE LITTLE VAGABOND',\n",
       " 'LONDON',\n",
       " 'THE HUMAN ABSTRACT',\n",
       " 'A POISON TREE',\n",
       " 'A LITTLE BOY LOST',\n",
       " 'A LITTLE GIRL LOST',\n",
       " 'THE SCHOOLBOY',\n",
       " 'TO TIRZAH',\n",
       " 'THE VOICE OF THE ANCIENT BARD',\n",
       " 'THEL',\n",
       " 'THE ARGUMENT',\n",
       " 'THE VOICE OF THE DEVIL',\n",
       " 'A MEMORABLE FANCY _1_',\n",
       " 'PROVERBS OF HELL',\n",
       " 'A MEMORABLE FANCY _2_',\n",
       " 'A MEMORABLE FANCY _3_',\n",
       " 'A MEMORABLE FANCY _4_',\n",
       " 'A MEMORABLE FANCY _5_',\n",
       " 'A SONG OF LIBERTY',\n",
       " 'CHORUS',\n",
       " 'THE WALRUS AND THE CARPENTER',\n",
       " 'A BOAT BENEATH A SUNNY SKY',\n",
       " 'A SEA DIRGE',\n",
       " 'MELANCHOLETTA',\n",
       " 'A VALENTINE',\n",
       " 'ATALANTA IN CAMDEN-TOWN',\n",
       " 'JABBERWOCKY',\n",
       " '“GRANDMITHER, THINK NOT I FORGET”',\n",
       " 'FIDES, SPES',\n",
       " 'THE TAVERN',\n",
       " 'THE HAWTHORN TREE',\n",
       " 'THE POOR MINSTREL',\n",
       " 'ANTINOUS',\n",
       " 'LONDON ROSES',\n",
       " 'WINTER AT DELPHI',\n",
       " 'PARADOX',\n",
       " 'IN MEDIA VITA',\n",
       " 'EVENING SONG',\n",
       " 'LAMENT FOR MARSYAS',\n",
       " '“I SOUGHT THE WOOD IN WINTER”',\n",
       " '“SLEEP, MINSTREL, SLEEP”',\n",
       " 'IN ROSE-TIME',\n",
       " 'POPPIES ON LUDLOW CASTLE',\n",
       " 'PRAIRIE DAWN',\n",
       " 'AFTERMATH',\n",
       " 'THOU ART THE PEARL',\n",
       " 'ARCADIAN WINTER',\n",
       " 'PROVENÇAL LEGEND',\n",
       " 'THE ENCORE',\n",
       " 'SONG',\n",
       " 'L’ENVOI',\n",
       " 'THE PALATINE',\n",
       " 'THE GAUL IN THE CAPITOL',\n",
       " 'A LIKENESS',\n",
       " 'THE SWEDISH MOTHER',\n",
       " 'SPANISH JOHNNY',\n",
       " 'AUTUMN MELODY',\n",
       " 'PRAIRIE SPRING',\n",
       " 'MACON PRAIRIE',\n",
       " 'STREET IN PACKINGTOWN',\n",
       " 'A SILVER CUP',\n",
       " 'GOING HOME',\n",
       " 'TO EDMUND CLERIHEW BENTLEY: THE DEDICATION OF _THE MAN WHO WAS THURSDAY_',\n",
       " 'TO HILAIRE BELLOC: THE DEDICATION OF _THE NAPOLEON OF NOTTING HILL_',\n",
       " 'TO _M. E. W_.',\n",
       " 'LEPANTO',\n",
       " 'THE MARCH OF THE BLACK MOUNTAIN 1913',\n",
       " 'BLESSED ARE THE PEACEMAKERS',\n",
       " 'THE WIFE OF FLANDERS',\n",
       " 'THE CRUSADER RETURNS FROM CAPTIVITY',\n",
       " 'GLENCOE',\n",
       " \"LOVE'S TRAPPIST\",\n",
       " 'CONFESSIONAL',\n",
       " 'MUSIC',\n",
       " 'THE DELUGE',\n",
       " 'THE STRANGE MUSIC',\n",
       " 'THE GREAT MINIMUM',\n",
       " 'THE MORTAL ANSWERS',\n",
       " 'A MARRIAGE SONG',\n",
       " 'BAY COMBE',\n",
       " 'THE WISE MEN',\n",
       " 'THE HOUSE OF CHRISTMAS',\n",
       " 'A SONG OF GIFTS TO GOD',\n",
       " 'THE KINGDOM OF HEAVEN',\n",
       " 'A HYMN FOR THE CHURCH MILITANT',\n",
       " 'THE BEATIFIC VISION',\n",
       " 'THE TRUCE OF CHRISTMAS',\n",
       " 'A HYMN',\n",
       " 'A CHRISTMAS SONG FOR THREE GUILDS',\n",
       " 'THE NATIVITY',\n",
       " 'A CHILD OF THE SNOWS',\n",
       " 'A WORD',\n",
       " 'ANTICHRIST OR THE REUNION OF CHRISTENDOM: AN ODE',\n",
       " 'THE REVOLUTIONIST: OR LINES TO A STATESMAN',\n",
       " 'THE SHAKESPEARE MEMORIAL',\n",
       " 'THE HORRIBLE HISTORY OF JONES',\n",
       " 'THE NEW FREETHINKER',\n",
       " 'IN MEMORIAM P.D.',\n",
       " 'SONNET WITH THE COMPLIMENTS OF THE SEASON',\n",
       " 'A SONG OF SWORDS',\n",
       " 'A SONG OF DEFEAT',\n",
       " 'SONNET',\n",
       " 'AFRICA',\n",
       " 'THE DEAD HERO',\n",
       " 'AN ELECTION ECHO 1906',\n",
       " 'WRITTEN DURING A FRIDAY AND SATURDAY IN AUGUST 1911.',\n",
       " 'THE SECRET PEOPLE',\n",
       " 'BALLAD OF THE SUN',\n",
       " 'TRANSLATION FROM DU BELLAY',\n",
       " 'THE HIGHER UNITY',\n",
       " \"THE EARTH'S VIGIL\",\n",
       " 'ON RIGHTEOUS INDIGNATION',\n",
       " 'WHEN I CAME BACK TO FLEET STREET',\n",
       " 'A CIDER SONG',\n",
       " 'THE LAST HERO',\n",
       " \"BALLADE D'UNE GRANDE DAME\",\n",
       " 'A BALLADE OF AN ANTI-PURITAN',\n",
       " 'A BALLADE OF A BOOK-REVIEWER',\n",
       " 'A BALLADE OF SUICIDE',\n",
       " 'A BALLADE OF THE FIRST RAIN',\n",
       " 'YOU SHALL ABOVE ALL THINGS BE GLAD AND YOUNG',\n",
       " 'I CARRY YOUR HEART WITH ME',\n",
       " 'SPRING OMNIPOTENT GODDESS',\n",
       " 'ALL IN GREEN MY LOVE WENT RIDING',\n",
       " 'THE CAMBRIDGE LADIES WHO LIVE IN FURNISHED SOULS',\n",
       " 'NEXT TO OF COURSE GOD I',\n",
       " 'ANYONE LIVED IN A PRETTY HOW TOWN',\n",
       " 'NEWSREEL',\n",
       " 'TEMPT ME NO MORE',\n",
       " 'WALKING AWAY',\n",
       " 'TWO TRAVELLERS',\n",
       " 'THE CONFLICT',\n",
       " 'COME, LIVE WITH ME AND BE MY LOVE',\n",
       " 'THE ECSTATIC',\n",
       " 'SUCCESS',\n",
       " 'ROUGE GAGNE',\n",
       " 'UNTITLED _2_',\n",
       " 'UNTITLED _3_',\n",
       " 'UNTITLED _4_',\n",
       " 'IN A LIBRARY',\n",
       " 'EXCLUSION',\n",
       " 'THE LONELY HOUSE',\n",
       " 'UNTITLED _8_',\n",
       " 'THE BOOK OF MARTYRS',\n",
       " 'UNTITLED _9_',\n",
       " 'SURRENDER',\n",
       " 'UNTITLED _16_',\n",
       " 'UNTITLED _17_',\n",
       " 'TRANSPLANTED',\n",
       " 'IN VAIN',\n",
       " 'RENUNCIATION',\n",
       " \"LOVE'S BAPTISM\",\n",
       " 'RESURRECTION',\n",
       " 'APOCALYPSE',\n",
       " 'THE WIFE',\n",
       " 'MAY-FLOWER',\n",
       " 'UNTITLED _19_',\n",
       " 'UNTITLED _21_',\n",
       " \"SUMMER'S ARMIES\",\n",
       " 'THE GRASS',\n",
       " 'SUMMER SHOWER',\n",
       " 'PSALM OF THE DAY',\n",
       " 'PURPLE CLOVER',\n",
       " 'THE BEE',\n",
       " 'UNTITLED _27_',\n",
       " 'TWO WORLDS',\n",
       " 'UNTITLED _28_',\n",
       " 'THE WIND _1_',\n",
       " 'DEATH AND LIFE',\n",
       " 'INDIAN SUMMER',\n",
       " 'THE HEMLOCK',\n",
       " 'UNTITLED _30_',\n",
       " 'UNTITLED _31_',\n",
       " 'TOO LATE',\n",
       " 'UNTITLED _32_',\n",
       " 'UNTITLED _33_',\n",
       " 'FROM THE CHRYSALIS',\n",
       " 'UNTITLED _36_',\n",
       " 'UNTITLED _37_',\n",
       " 'UNTITLED _39_',\n",
       " 'UNTITLED _40_',\n",
       " 'THE FIRST LESSON',\n",
       " 'UNTITLED _43_',\n",
       " 'DYING _1_',\n",
       " 'THE CHARIOT',\n",
       " 'UNTITLED _46_',\n",
       " 'ALONG THE POTOMAC',\n",
       " 'UNTITLED _49_',\n",
       " 'EMANCIPATION',\n",
       " 'UNTITLED _51_',\n",
       " 'UNTITLED _52_',\n",
       " 'UNTITLED _53_',\n",
       " 'UNTITLED _54_',\n",
       " 'UNTITLED _55_',\n",
       " 'HOPE _1_',\n",
       " 'THE WHITE HEAT',\n",
       " 'TRIUMPHANT',\n",
       " 'THE TEST',\n",
       " 'THE MARTYRS',\n",
       " 'UNTITLED _58_',\n",
       " 'THE RAILWAY TRAIN',\n",
       " 'UNTITLED _63_',\n",
       " 'THE RETURN',\n",
       " 'UNTITLED _65_',\n",
       " 'TOO MUCH',\n",
       " 'SHIPWRECK',\n",
       " 'UNTITLED _66_',\n",
       " 'ENOUGH',\n",
       " 'UNTITLED _71_',\n",
       " 'THE GOAL',\n",
       " 'SIGHT',\n",
       " 'THE PREACHER',\n",
       " 'UNTITLED _73_',\n",
       " 'REMORSE',\n",
       " 'UNTITLED _76_',\n",
       " 'UNTITLED _78_',\n",
       " 'HUNGER',\n",
       " 'UNTITLED _80_',\n",
       " 'UNTITLED _81_',\n",
       " 'RETURNING',\n",
       " 'UNTITLED _82_',\n",
       " 'MELODIES UNHEARD',\n",
       " 'CALLED BACK',\n",
       " 'CHOICE',\n",
       " 'UNTITLED _84_',\n",
       " 'THE CONTRACT',\n",
       " 'THE LETTER',\n",
       " 'UNTITLED _85_',\n",
       " 'AT HOME',\n",
       " 'THE LOVERS',\n",
       " 'UNTITLED _89_',\n",
       " 'UNTITLED _90_',\n",
       " 'UNTITLED _91_',\n",
       " 'MOTHER NATURE',\n",
       " 'OUT OF THE MORNING',\n",
       " 'UNTITLED _92_',\n",
       " \"DAY'S PARLOR\",\n",
       " \"THE SUN'S WOOING\",\n",
       " 'THE ROBIN',\n",
       " \"THE BUTTERFLY'S DAY\",\n",
       " 'THE BLUEBIRD',\n",
       " 'APRIL',\n",
       " 'THE SLEEPING FLOWERS',\n",
       " 'MY ROSE',\n",
       " \"THE ORIOLE'S SECRET\",\n",
       " 'THE ORIOLE',\n",
       " 'IN SHADOW',\n",
       " 'SECRETS',\n",
       " 'TWO VOYAGERS',\n",
       " 'BY THE SEA',\n",
       " 'OLD-FASHIONED',\n",
       " 'UNTITLED _94_',\n",
       " 'IN THE GARDEN',\n",
       " 'THE SNAKE',\n",
       " 'THE MUSHROOM',\n",
       " 'THE STORM',\n",
       " 'UNTITLED _95_',\n",
       " 'UNTITLED _96_',\n",
       " \"THE WIND'S VISIT\",\n",
       " 'STORM',\n",
       " 'UNTITLED _98_',\n",
       " 'UNTITLED _99_',\n",
       " 'UNTITLED _100_',\n",
       " 'PROBLEMS',\n",
       " 'THE JUGGLER OF DAY',\n",
       " 'MY CRICKET',\n",
       " 'UNTITLED _102_',\n",
       " 'UNTITLED _103_',\n",
       " \"SUMMER'S OBSEQUIES\",\n",
       " 'FRINGED GENTIAN',\n",
       " 'NOVEMBER',\n",
       " 'THE SNOW',\n",
       " 'THE BLUE JAY',\n",
       " 'UNTITLED _105_',\n",
       " 'UNTITLED _107_',\n",
       " 'UNTITLED _109_',\n",
       " 'UNTITLED _110_',\n",
       " 'UNTITLED _111_',\n",
       " 'UNTITLED _112_',\n",
       " 'MEMORIALS',\n",
       " 'UNTITLED _114_',\n",
       " 'UNTITLED _115_',\n",
       " 'TRIUMPH',\n",
       " 'FOLLOWING',\n",
       " 'UNTITLED _119_',\n",
       " 'THE JOURNEY',\n",
       " 'GOING',\n",
       " 'UNTITLED _123_',\n",
       " 'AT LENGTH',\n",
       " 'GHOSTS',\n",
       " 'PRECEDENCE',\n",
       " 'GONE',\n",
       " 'REQUIEM',\n",
       " 'UNTITLED _125_',\n",
       " 'TILL THE END',\n",
       " 'UNTITLED _126_',\n",
       " 'UNTITLED _127_',\n",
       " 'FORBIDDEN FRUIT',\n",
       " 'UNTITLED _131_',\n",
       " 'UNTITLED _133_',\n",
       " 'THE INEVITABLE',\n",
       " 'UNTITLED _138_',\n",
       " 'RETICENCE',\n",
       " 'UNTITLED _141_',\n",
       " 'UNTITLED _143_',\n",
       " 'GRIEFS',\n",
       " 'UNTITLED _144_',\n",
       " 'THE BRAIN',\n",
       " 'UNTITLED _148_',\n",
       " 'UNTITLED _152_',\n",
       " 'THANKSGIVING DAY',\n",
       " \"LOVE'S HUMILITY\",\n",
       " 'SATISFIED',\n",
       " 'LOYALTY',\n",
       " 'UNTITLED _153_',\n",
       " 'FORGOTTEN',\n",
       " 'THE MASTER',\n",
       " 'UNTITLED _157_',\n",
       " 'UNTITLED _158_',\n",
       " 'NUMEN LUMEN',\n",
       " 'LONGING',\n",
       " \"NATURE'S CHANGES\",\n",
       " 'UNTITLED _159_',\n",
       " 'THE WAKING YEAR',\n",
       " 'TO MARCH',\n",
       " 'MARCH',\n",
       " 'UNTITLED _160_',\n",
       " 'UNTITLED _164_',\n",
       " 'UNTITLED _165_',\n",
       " 'UNTITLED _167_',\n",
       " 'UNTITLED _169_',\n",
       " 'THE MOON',\n",
       " 'THE BAT',\n",
       " 'THE BALLOON',\n",
       " 'EVENING',\n",
       " 'AURORA',\n",
       " 'THE COMING OF NIGHT',\n",
       " 'UNTITLED _170_',\n",
       " 'UNTITLED _173_',\n",
       " 'UNTITLED _179_',\n",
       " 'DEATH',\n",
       " 'UNWARNED',\n",
       " 'ASLEEP',\n",
       " 'THE SPIRIT',\n",
       " 'TRYING TO FORGET',\n",
       " 'UNTITLED _190_',\n",
       " 'UNTITLED _191_',\n",
       " 'UNTITLED _193_',\n",
       " 'FAREWELL',\n",
       " 'DEAD',\n",
       " 'UNTITLED _197_',\n",
       " 'UNTITLED _200_',\n",
       " 'UNTITLED _201_',\n",
       " 'DYING _2_',\n",
       " 'UNTITLED _202_',\n",
       " 'UNTITLED _203_',\n",
       " \"THE SOUL'S STORM\",\n",
       " 'UNTITLED _206_',\n",
       " \"CHARLOTTE BRONTË'S GRAVE\",\n",
       " 'RETROSPECT',\n",
       " 'LAST THOUGHTS ON WOODY GUTHRIE',\n",
       " 'DESOLATION ROW',\n",
       " \"MAMA, YOU'VE BEEN ON MY MIND\",\n",
       " 'TANGLED UP IN BLUE',\n",
       " \"IT'S ALRIGHT MA, I'M ONLY BLEEDING\",\n",
       " 'WATERED DOWN LOVE',\n",
       " 'LOVE IS JUST A FOUR-LETTER WORD',\n",
       " 'CHANGING OF THE GUARD',\n",
       " 'VISIONS OF JOHANNA',\n",
       " 'TOMORROW IS A LONG TIME',\n",
       " \"IT'S ALL OVER NOW, BABY BLUE\",\n",
       " 'MOST OF THE TIME',\n",
       " 'NOT DARK YET',\n",
       " 'THE BURIAL OF THE DEAD',\n",
       " 'A GAME OF CHESS',\n",
       " 'THE FIRE SERMON',\n",
       " 'DEATH BY WATER',\n",
       " 'WHAT THE THUNDER SAID',\n",
       " 'THE HOLLOW MEN _1_',\n",
       " 'THE HOLLOW MEN _2_',\n",
       " 'THE HOLLOW MEN _3_',\n",
       " 'THE HOLLOW MEN _4_',\n",
       " 'THE HOLLOW MEN _5_',\n",
       " 'GERONTION',\n",
       " 'BURBANK WITH A BAEDEKER: BLEISTEIN WITH A CIGAR',\n",
       " 'SWEENEY ERECT',\n",
       " 'A COOKING EGG',\n",
       " 'LE DIRECTEUR',\n",
       " 'MÉLANGE ADULTÈRE DE TOUT',\n",
       " 'LUNE DE MIEL',\n",
       " 'THE HIPPOPOTAMUS',\n",
       " 'DANS LE RESTAURANT',\n",
       " 'WHISPERS OF IMMORTALITY',\n",
       " \"MR. ELIOT'S SUNDAY MORNING SERVICE\",\n",
       " 'SWEENEY AMONG THE NIGHTINGALES',\n",
       " 'THE LOVE SONG OF J. ALFRED PRUFROCK',\n",
       " 'PORTRAIT OF A LADY',\n",
       " 'PRELUDES',\n",
       " 'RHAPSODY ON A WINDY NIGHT',\n",
       " 'MORNING AT THE WINDOW',\n",
       " 'THE BOSTON EVENING TRANSCRIPT',\n",
       " 'AUNT HELEN',\n",
       " 'COUSIN NANCY',\n",
       " 'MR. APOLLINAX',\n",
       " 'HYSTERIA',\n",
       " 'CONVERSATION GALANTE',\n",
       " 'LA FIGLIA CHE PIANGE',\n",
       " 'THE PASTURE',\n",
       " 'THE COW IN APPLE-TIME',\n",
       " 'THE RUNAWAY',\n",
       " 'HOME BURIAL',\n",
       " 'THE DEATH OF THE HIRED MAN',\n",
       " 'A SERVANT TO SERVANTS',\n",
       " 'THE SELF-SEEKER',\n",
       " 'THE HILL WIFE',\n",
       " 'HOUSE FEAR',\n",
       " 'THE SMILE',\n",
       " 'THE OFT-REPEATED DREAM',\n",
       " 'THE IMPULSE',\n",
       " 'PUTTING IN THE SEED',\n",
       " 'GOING FOR WATER',\n",
       " 'MOWING',\n",
       " 'AFTER APPLE-PICKING',\n",
       " 'BIRCHES',\n",
       " 'THE GUM-GATHERER',\n",
       " 'THE MOUNTAIN',\n",
       " 'THE TUFT OF FLOWERS',\n",
       " 'MENDING WALL',\n",
       " 'AN ENCOUNTER',\n",
       " 'THE WOOD-PILE',\n",
       " 'IN THE HOME STRETCH',\n",
       " 'THE ROAD NOT TAKEN',\n",
       " 'THE OVEN BIRD',\n",
       " 'A VANTAGE POINT',\n",
       " 'THE SOUND OF TREES',\n",
       " 'HYLA BROOK',\n",
       " 'MY NOVEMBER GUEST',\n",
       " 'RANGE-FINDING',\n",
       " 'OCTOBER',\n",
       " 'TO THE THAWING WIND',\n",
       " 'A TIME TO TALK',\n",
       " 'THE CODE',\n",
       " 'A HUNDRED COLLARS',\n",
       " 'BLUEBERRIES',\n",
       " 'REVELATION',\n",
       " 'STORM-FEAR',\n",
       " 'BOND AND FREE',\n",
       " 'FLOWER-GATHERING',\n",
       " 'RELUCTANCE',\n",
       " 'INTO MY OWN',\n",
       " 'ON LAWS',\n",
       " 'ON TEACHING',\n",
       " 'AND WHEN MY SORROW WAS BORN',\n",
       " 'DEFEAT',\n",
       " 'THE GREAT LONGING',\n",
       " 'THE POMEGRANATE',\n",
       " 'ON PLEASURE',\n",
       " 'ON FREEDOM',\n",
       " 'ON BEAUTY',\n",
       " 'GOD',\n",
       " 'ON LOVE',\n",
       " 'LOVE’S SALUTATION',\n",
       " 'LOVE’S LAMENT',\n",
       " 'YEARNING',\n",
       " 'DREAM',\n",
       " 'THE CONSECRATION',\n",
       " 'THE MOOR’S SERENADE',\n",
       " 'DREAM AND LIFE',\n",
       " 'THE LESSON',\n",
       " 'A PROLOGUE TO THE HARTZ-JOURNEY',\n",
       " 'DEFEND NOT',\n",
       " 'A PARODY',\n",
       " 'WALKING FLOWERS AT BERLIN',\n",
       " 'EVENING SONGS',\n",
       " 'TO HER',\n",
       " 'DRESDEN POETRY',\n",
       " 'BREADLESS ART',\n",
       " 'VISION _1_',\n",
       " 'VISION _2_',\n",
       " 'VISION _3_',\n",
       " 'VISION _4_',\n",
       " 'VISION _5_',\n",
       " 'VISION _6_',\n",
       " 'VISION _7_',\n",
       " 'VISION _8_',\n",
       " 'VISION _9_',\n",
       " 'VISION _10_',\n",
       " 'SONGS',\n",
       " 'THE MOURNFUL ONE',\n",
       " 'THE MOUNTAIN ECHO',\n",
       " 'THE TWO BROTHERS',\n",
       " 'POOR PETER',\n",
       " 'THE PRISONER’S SONG',\n",
       " 'THE MESSAGE',\n",
       " 'TAKING THE BRIDE HOME',\n",
       " 'DON RAMIRO',\n",
       " 'BELSHAZZAR',\n",
       " 'THE MINNESINGERS',\n",
       " 'LOOKING FROM THE WINDOW',\n",
       " 'THE WOUNDED KNIGHT',\n",
       " 'THE SEA-VOYAGE',\n",
       " 'THE SONG OF REPENTANCE',\n",
       " 'TO A SINGER, ON HER SINGING AN OLD ROMANCE',\n",
       " 'THE SONG OF THE DUCATS',\n",
       " 'DIALOGUE ON PADERBORN HEATH',\n",
       " 'QUITE TRUE',\n",
       " 'TO A. W. VON SCHLEGEL',\n",
       " 'TO MY MOTHER',\n",
       " 'THE GODS’ TWILIGHT',\n",
       " 'RATCLIFF',\n",
       " 'DONNA CLARA',\n",
       " 'ALMANSOR',\n",
       " 'THE DREAM',\n",
       " 'ABROAD',\n",
       " 'THE TANNHAUSER',\n",
       " 'A WOMAN',\n",
       " 'CELEBRATION OF SPRING',\n",
       " 'CHILDE HAROLD',\n",
       " 'THE EXORCISM',\n",
       " 'EXTRACT FROM A LETTER',\n",
       " 'THE EVIL STAR',\n",
       " 'ANNO 1829',\n",
       " 'ANNO 1839',\n",
       " 'AT DAWN',\n",
       " 'SIR OLAVE',\n",
       " 'THE WATER NYMPHS',\n",
       " 'BERTRAND DE BORN',\n",
       " 'SPRING',\n",
       " 'ALI BEY',\n",
       " 'PSYCHE',\n",
       " 'THE UNKNOWN ONE',\n",
       " 'THE CHANGE',\n",
       " 'FORTUNE',\n",
       " 'LAMENTATION OF AN OLD-GERMAN YOUTH',\n",
       " 'MADAM METTE',\n",
       " 'THE MEETING',\n",
       " 'KING HAROLD HARFAGAR',\n",
       " 'THE LOWER WORLD',\n",
       " 'MULEDOM',\n",
       " 'THE SYMBOL OF MADNESS',\n",
       " 'PRIDE',\n",
       " 'AWAY!',\n",
       " 'WINTER',\n",
       " 'THE OLD CHIMNEYPIECE',\n",
       " 'LONGING',\n",
       " 'HELENA',\n",
       " 'THE WISE STARS',\n",
       " 'THE ANGELS',\n",
       " 'SOUND DOCTRINE',\n",
       " 'ADAM THE FIRST',\n",
       " 'WARNING',\n",
       " 'TO A QUONDAM FOLLOWER OF GOETHE',\n",
       " 'THE SECRET',\n",
       " 'ON THE WATCHMAN’S ARRIVAL IN PARIS',\n",
       " 'THE DRUM-MAJOR',\n",
       " 'DEGENERACY',\n",
       " 'HENRY',\n",
       " 'LIFE’S JOURNEY',\n",
       " 'THE NEW JEWISH HOSPITAL AT HAMBURG',\n",
       " 'GEORGE HERWEGH',\n",
       " 'THE TENDENCY',\n",
       " 'THE CHILD',\n",
       " 'THE PROMISE',\n",
       " 'THE CHANGELING',\n",
       " 'THE EMPEROR OF CHINA',\n",
       " 'CHURCH-COUNSELLOR PROMETHEUS',\n",
       " 'TO THE WATCHMAN',\n",
       " 'CONSOLING THOUGHTS',\n",
       " 'THE WORLD TURNED UPSIDE DOWN',\n",
       " 'ENLIGHTENMENT',\n",
       " 'WAIT AWHILE!',\n",
       " 'NIGHT THOUGHTS',\n",
       " 'EVENING TWILIGHT',\n",
       " 'SUNSET _1_',\n",
       " 'THE NIGHT ON THE STRAND',\n",
       " 'POSEIDON',\n",
       " 'HOMAGE',\n",
       " 'DECLARATION',\n",
       " 'IN THE CABIN AT NIGHT',\n",
       " 'STORM',\n",
       " 'CALM AT SEA',\n",
       " 'THE OCEAN SPECTRE',\n",
       " 'PURIFICATION',\n",
       " 'PEACE',\n",
       " 'SEA SALUTATION',\n",
       " 'THUNDERSTORM',\n",
       " 'THE SHIPWRECKED ONE',\n",
       " 'SUNSET _2_',\n",
       " 'THE SONG OF THE OCEANIDES',\n",
       " 'THE GODS OF GREECE',\n",
       " 'QUESTIONS',\n",
       " 'THE PHŒNIX',\n",
       " 'ECHO',\n",
       " 'SEA-SICKNESS',\n",
       " 'IN HARBOUR',\n",
       " 'EPILOGUE _1_',\n",
       " 'MONOLOGUE',\n",
       " 'RHAMPSENITUS',\n",
       " 'THE WHITE ELEPHANT',\n",
       " 'KNAVE OF BERGEN',\n",
       " 'THE VALKYRES',\n",
       " 'HASTINGS BATTLE-FIELD',\n",
       " 'CHARLES I',\n",
       " 'MARIE ANTOINETTE',\n",
       " 'THE SILESIAN WEAVERS',\n",
       " 'POMARE',\n",
       " 'THE APOLLO GOD',\n",
       " 'HYMN TO KING LOUIS',\n",
       " 'TWO KNIGHTS',\n",
       " 'OUR MARINE',\n",
       " 'THE GOLDEN CALF',\n",
       " 'KING DAVID',\n",
       " 'KING RICHARD',\n",
       " 'THE ASRA',\n",
       " 'THE NUNS',\n",
       " 'PALSGRAVINE JUTTA',\n",
       " 'THE MOORISH KING',\n",
       " 'GEOFFRY RUDÈL AND MELISANDA OF TRIPOLI',\n",
       " 'THE POET FERDUSI',\n",
       " '   2',\n",
       " 'VOYAGE BY NIGHT',\n",
       " 'THE PRELUDE',\n",
       " 'VITZLIPUTZLI',\n",
       " 'WOOD SOLITUDE',\n",
       " 'SPANISH LYRICS',\n",
       " 'THE EX-LIVING ONE',\n",
       " 'THE EX-WATCHMAN',\n",
       " 'MYTHOLOGY',\n",
       " 'IN MATILDA’S ALBUM',\n",
       " 'TO THE YOUNG',\n",
       " 'THE UNBELIEVER',\n",
       " 'AN OLD SONG',\n",
       " 'READY MONEY',\n",
       " 'THE OLD ROSE',\n",
       " 'AUTO-DA-FÉ',\n",
       " 'RETROSPECT _1_',\n",
       " 'RESURRECTION',\n",
       " 'THE DYING ONE',\n",
       " 'RASCALITY',\n",
       " 'RETROSPECT _2_',\n",
       " 'IMPERFECTION',\n",
       " 'PIOUS WARNING',\n",
       " 'THE COOLED-DOWN ONE',\n",
       " 'SOLOMON',\n",
       " 'LOST WISHES',\n",
       " 'THE ANNIVERSARY',\n",
       " 'MEETING AGAIN',\n",
       " 'MRS. CARE',\n",
       " 'TO THE ANGELS',\n",
       " 'IN OCTOBER 1849',\n",
       " 'EVIL DREAMS',\n",
       " 'IT GOES OUT',\n",
       " 'THE WILL',\n",
       " 'ENFANT PERDU',\n",
       " 'PRINCESS SABBATH',\n",
       " 'A FRAGMENT',\n",
       " 'DISPUTATION',\n",
       " 'PEACE-YEARNING',\n",
       " 'IN MAY',\n",
       " 'BODY AND SOUL',\n",
       " 'RED SLIPPERS',\n",
       " 'BABYLONIAN SORROWS',\n",
       " 'THE SLAVE SHIP',\n",
       " 'AFFRONTENBURG',\n",
       " 'THE DRAGONFLY _1_',\n",
       " 'ASCENSION',\n",
       " 'THE AFFIANCED ONES',\n",
       " 'THE PHILANTHROPIST',\n",
       " 'THE WHIMS OF THE AMOROUS',\n",
       " 'MIMI',\n",
       " 'GOOD ADVICE',\n",
       " 'REMINISCENCES OF HAMMONIA',\n",
       " 'THE ROBBERS',\n",
       " 'HANS LACK-LAND',\n",
       " 'RECOLLECTIONS FROM KRÄHWINKEL’S DAYS OF TERROR',\n",
       " 'THE AUDIENCE',\n",
       " 'KOBES I',\n",
       " 'EPILOGUE _2_',\n",
       " 'THE SONG OF SONGS',\n",
       " 'THE SUTTLER’S SONG',\n",
       " 'HORSE AND ASS',\n",
       " 'THE ASS-ELECTION',\n",
       " 'BERTHA',\n",
       " 'IN THE CATHEDRAL',\n",
       " 'THE DRAGONFLY _2_',\n",
       " 'OLD SCENTS',\n",
       " 'MISERERE',\n",
       " 'TO MATILDA',\n",
       " 'OKLAHOMA',\n",
       " 'ROOSEVELT',\n",
       " 'RIPARTO D’ASSALTO',\n",
       " 'MONTPARNASSE',\n",
       " 'ALONG WITH YOUTH',\n",
       " 'FOR A PICTURE OF ST. DOROTHEA',\n",
       " 'THE HABIT OF PERFECTION',\n",
       " 'THE WRECK OF THE DEUTSCHLAND',\n",
       " 'PENMAEN POOL',\n",
       " 'THE SILVER JUBILEE',\n",
       " \"GOD'S GRANDEUR\",\n",
       " 'THE STARLIGHT NIGHT',\n",
       " 'SPRING',\n",
       " 'THE LANTERN OUT OF DOORS',\n",
       " 'THE SEA AND THE SKYLARK',\n",
       " 'THE WINDHOVER:  TO CHRIST OUR LORD',\n",
       " 'PIED BEAUTY',\n",
       " 'HURRAHING IN HARVEST',\n",
       " 'CAGED SKYLARK',\n",
       " 'IN THE VALLEY OF THE ELWY',\n",
       " 'THE LOSS OF THE EURYDICE  FOUNDERED MARCH 24. 1878',\n",
       " 'THE MAY MAGNIFICAT',\n",
       " 'BINSEY POPLARS  FELLED 1879',\n",
       " \"DUNS SCOTUS'S OXFORD\",\n",
       " 'HENRY PURCELL',\n",
       " 'PEACE',\n",
       " \"THE BUGLER'S FIRST COMMUNION\",\n",
       " 'MORNING MIDDAY AND EVENING SACRIFICE',\n",
       " 'ANDROMEDA',\n",
       " 'THE CANDLE INDOORS',\n",
       " 'THE HANDSOME HEART:  AT A GRACIOUS ANSWER',\n",
       " ' AT THE WEDDING MARCH',\n",
       " 'FELIX RANDAL',\n",
       " 'BROTHERS',\n",
       " 'SPRING AND FALL:  TO A YOUNG CHILD',\n",
       " \"SPELT FROM SIBYL'S LEAVES\",\n",
       " 'INVERSNAID',\n",
       " 'UNTITLED _1_',\n",
       " 'RIBBLESDALE',\n",
       " \"THE LEADEN ECHO AND THE GOLDEN ECHO  (MAIDENS' SONG FROM ST. WINEFRED'S WELL)\",\n",
       " 'THE BLESSED VIRGIN COMPARED TO THE AIR WE BREATHE',\n",
       " 'TO WHAT SERVES MORTAL BEAUTY?',\n",
       " 'THE SOLDIER',\n",
       " 'CARRION COMFORT',\n",
       " 'UNTITLED _2_',\n",
       " \"TOM'S GARLAND;  UPON THE UNEMPLOYED\",\n",
       " 'HARRY PLOUGHMAN',\n",
       " 'UNTITLED _3_',\n",
       " 'UNTITLED _4_',\n",
       " 'UNTITLED _5_',\n",
       " 'UNTITLED _6_',\n",
       " 'THAT NATURE IS A HERACLITEAN FIRE AND OF THE COMFORT OF THE RESURRECTION',\n",
       " 'IN HONOUR OF ST. ALPHONSUS RODRIGUEZ LAYBROTHER OF THE SOCIETY OF JESUS',\n",
       " 'UNTITLED _7_',\n",
       " 'TO R. B.',\n",
       " 'UNTITLED _8_',\n",
       " 'ON THE PORTRAIT OF TWO BEAUTIFUL YOUNG PEOPLE  A BROTHER AND SISTER',\n",
       " '(ASH-BOUGHS)',\n",
       " 'UNTITLED _10_',\n",
       " \"ST. WINEFRED'S WELL\",\n",
       " 'UNTITLED _11_',\n",
       " 'UNTITLED _12_',\n",
       " 'CHEERY BEGGAR',\n",
       " 'UNTITLED _13_',\n",
       " 'UNTITLED _14_',\n",
       " 'THE WOODLARK',\n",
       " 'MOONRISE',\n",
       " 'UNTITLED _16_',\n",
       " 'UNTITLED _17_',\n",
       " 'TO HIS WATCH',\n",
       " 'EPITHALAMION',\n",
       " 'MOSES ON THE NILE',\n",
       " 'ENVY AND AVARICE',\n",
       " 'KING LOUIS XVII',\n",
       " 'TO YE KINGS',\n",
       " 'GENIUS',\n",
       " 'THE GIRL OF OTAHEITE',\n",
       " \"NERO'S INCENDIARY SONG\",\n",
       " 'REGRET',\n",
       " 'THE MORNING OF LIFE',\n",
       " 'BELOVED NAME',\n",
       " 'THE PORTRAIT OF A CHILD',\n",
       " 'THE GRANDMOTHER',\n",
       " 'THE GIANT IN GLEE',\n",
       " \"THE CYMBALEER'S BRIDE\",\n",
       " 'BATTLE OF THE NORSEMEN AND THE GAELS',\n",
       " 'MADELAINE',\n",
       " 'THE FAY AND THE PERI',\n",
       " 'THE SCOURGE OF HEAVEN',\n",
       " \"PIRATES' SONG\",\n",
       " 'THE TURKISH CAPTIVE',\n",
       " 'MOONLIGHT ON THE BOSPHORUS',\n",
       " 'THE VEIL',\n",
       " 'THE FAVORITE SULTANA',\n",
       " 'THE PASHA AND THE DERVISH',\n",
       " 'THE LOST BATTLE',\n",
       " 'THE GREEK BOY',\n",
       " 'EXPECTATION',\n",
       " \"THE LOVER'S WISH\",\n",
       " 'THE SACKING OF THE CITY',\n",
       " 'NOORMAHAL THE FAIR',\n",
       " 'THE DJINNS',\n",
       " 'THE OBDURATE BEAUTY',\n",
       " 'DON RODRIGO',\n",
       " 'CORNFLOWERS',\n",
       " 'MAZEPPA',\n",
       " 'THE DANUBE IN WRATH',\n",
       " 'OLD OCEAN',\n",
       " 'MY NAPOLEON',\n",
       " 'THE PATIENCE OF THE PEOPLE',\n",
       " 'DICTATED BEFORE THE RHONE GLACIER',\n",
       " \"THE POET'S LOVE FOR LIVELINESS\",\n",
       " 'INFANTILE INFLUENCE',\n",
       " 'THE WATCHING ANGEL',\n",
       " 'SUNSET',\n",
       " 'THE UNIVERSAL PRAYER',\n",
       " 'PRELUDE TO \"THE SONGS OF TWILIGHT\"',\n",
       " 'THE LAND OF FABLE',\n",
       " 'THE THREE GLORIOUS DAYS',\n",
       " 'TRIBUTE TO THE VANQUISHED',\n",
       " 'ANGEL OR DEMON',\n",
       " 'THE ERUPTION OF VESUVIUS',\n",
       " 'MARRIAGE AND FEASTS',\n",
       " 'THE MORROW OF GRANDEUR',\n",
       " 'THE EAGLET MOURNED',\n",
       " 'INVOCATION',\n",
       " 'OUTSIDE THE BALL-ROOM',\n",
       " 'PRAYER FOR FRANCE',\n",
       " 'TO CANARIS, THE GREEK PATRIOT',\n",
       " 'POLAND',\n",
       " 'INSULT NOT THE FALLEN',\n",
       " 'MORNING',\n",
       " 'SONG OF LOVE',\n",
       " 'SWEET CHARMER',\n",
       " 'MORE STRONG THAN TIME',\n",
       " 'ROSES AND BUTTERFLIES',\n",
       " 'THE POET TO HIS WIFE',\n",
       " 'THE BLINDED BOURBONS',\n",
       " 'TO HIS MUSE',\n",
       " 'THE COW',\n",
       " 'MOTHERS',\n",
       " 'TO SOME BIRDS FLOWN AWAY',\n",
       " 'MY THOUGHTS OF YE',\n",
       " 'THE BEACON IN THE STORM',\n",
       " \"LOVE'S TREACHEROUS POOL\",\n",
       " 'THE ROSE AND THE GRAVE',\n",
       " 'THE HUMBLE HOME',\n",
       " 'THE EIGHTEENTH CENTURY',\n",
       " 'STILL BE A CHILD',\n",
       " 'THE POOL AND THE SOUL',\n",
       " 'YE MARINERS WHO SPREAD YOUR SAILS',\n",
       " 'ON A FLEMISH WINDOW-PANE',\n",
       " 'THE PRECEPTOR',\n",
       " 'GASTIBELZA',\n",
       " 'GUITAR SONG',\n",
       " 'COME WHEN I SLEEP',\n",
       " 'EARLY LOVE REVISITED',\n",
       " 'SWEET MEMORY OF LOVE',\n",
       " 'THE MARBLE FAUN',\n",
       " 'A LOVE FOR WINGED THINGS',\n",
       " \"BABY'S SEASIDE GRAVE\",\n",
       " 'IMPERIAL REVELS',\n",
       " 'POOR LITTLE CHILDREN',\n",
       " 'APOSTROPHE TO NATURE',\n",
       " 'NAPOLEON \"THE LITTLE\"',\n",
       " 'FACT OR FABLE?',\n",
       " 'A LAMENT',\n",
       " 'NO ASSASSINATION',\n",
       " 'THE DESPATCH OF THE DOOM',\n",
       " \"THE SEAMAN'S SONG\",\n",
       " 'THE RETREAT FROM MOSCOW',\n",
       " \"THE OCEAN'S SONG\",\n",
       " 'THE TRUMPETS OF THE MIND',\n",
       " \"AFTER THE COUP D'ÊTAT\",\n",
       " 'PATRIA',\n",
       " 'THE UNIVERSAL REPUBLIC',\n",
       " 'THE VALE TO YOU, TO ME THE HEIGHTS',\n",
       " 'CHILDHOOD',\n",
       " 'SATIRE ON THE EARTH',\n",
       " 'HOW BUTTERFLIES ARE BORN',\n",
       " 'HAVE YOU NOTHING TO SAY FOR YOURSELF?',\n",
       " 'DEATH, IN LIFE',\n",
       " 'THE DYING CHILD TO ITS MOTHER',\n",
       " 'EPITAPH',\n",
       " \"THE POET'S SIMPLE FAITH\",\n",
       " 'I AM CONTENT',\n",
       " 'BOAZ ASLEEP',\n",
       " 'SONG OF THE GERMAN LANZKNECHT',\n",
       " 'KING CANUTE',\n",
       " \"THE BOY-KING'S PRAYER\",\n",
       " 'EVIRADNUS',\n",
       " 'THE SOUDAN, THE SPHINXES, THE CUP, THE LAMP',\n",
       " 'A QUEEN FIVE SUMMERS OLD',\n",
       " \"SEA-ADVENTURERS' SONG\",\n",
       " 'THE SWISS MERCENARIES',\n",
       " 'THE CUP ON THE BATTLE-FIELD',\n",
       " 'HOW GOOD ARE THE POOR',\n",
       " 'LOVE OF THE WOODLAND',\n",
       " 'SHOOTING STARS',\n",
       " 'TO LITTLE JEANNE',\n",
       " 'TO A SICK CHILD DURING THE SIEGE OF PARIS',\n",
       " 'THE CARRIER PIGEON',\n",
       " 'TOYS AND TRAGEDY',\n",
       " 'MOURNING',\n",
       " 'THE LESSON OF THE PATRIOT DEAD',\n",
       " 'THE BOY ON THE BARRICADE',\n",
       " 'TO HIS ORPHAN GRANDCHILDREN',\n",
       " 'THE CHILDREN OF THE POOR',\n",
       " 'THE EPIC OF THE LION',\n",
       " 'ON HEARING THE PRINCESS ROYAL SING',\n",
       " 'MY HAPPIEST DREAM',\n",
       " 'AN OLD-TIME LAY',\n",
       " 'JERSEY',\n",
       " 'THEN, MOST, I SMILE',\n",
       " \"THE EXILE'S DESIRE\",\n",
       " 'TO THE NAPOLEON COLUMN',\n",
       " 'CHARITY',\n",
       " 'SWEET SISTER',\n",
       " 'THE SOWER',\n",
       " 'SERENADE',\n",
       " 'TO CRUEL OCEAN',\n",
       " 'ESMERALDA IN PRISON',\n",
       " \"LOVER'S SONG\",\n",
       " \"LORD ROCHESTER'S SONG\",\n",
       " 'THE QUIET RURAL CHURCH',\n",
       " \"THE FATHER'S CURSE\",\n",
       " 'PATERNAL LOVE',\n",
       " 'THE DEGENERATE GALLANTS',\n",
       " 'THE OLD AND THE YOUNG BRIDEGROOM',\n",
       " \"THE SPANISH LADY'S LOVE\",\n",
       " \"THE LOVER'S SACRIFICE\",\n",
       " \"THE OLD MAN'S LOVE\",\n",
       " 'THE ROLL OF THE DE SILVA RACE',\n",
       " \"THE LOVERS' COLLOQUY\",\n",
       " 'CROMWELL AND THE CROWN',\n",
       " \"MILTON'S APPEAL TO CROMWELL\",\n",
       " 'FIRST LOVE',\n",
       " 'THE FIRST BLACK FLAG',\n",
       " 'THE SON IN OLD AGE',\n",
       " \"THE EMPEROR'S RETURN\",\n",
       " 'SONG OF POPLARS',\n",
       " 'THE REEF',\n",
       " 'THE FLOWERS',\n",
       " ...]"
      ]
     },
     "execution_count": 22,
     "metadata": {},
     "output_type": "execute_result"
    }
   ],
   "source": [
    "poetizer.titles\n"
   ]
  },
  {
   "cell_type": "code",
   "execution_count": 3,
   "id": "4c33c242-d8cd-4cde-9a32-18e7ab3fd503",
   "metadata": {},
   "outputs": [
    {
     "name": "stdout",
     "output_type": "stream",
     "text": [
      "heine THE ROBBERS\n",
      "\n",
      "    “I’m no modest city creature\n",
      "      “By the hearth demurely spinning,\n",
      "    “But a free cat on the roof,\n",
      "      “In the air, with manners winning.\n",
      "\n",
      "    “When in summer nights I’m musing\n",
      "      “On the roof, in grateful coolness,\n",
      "    “Music in me purrs, I sing\n",
      "      “From my heart’s o’erpowering fulness.”\n",
      "\n",
      "    Thus she speaks, and from her bosom\n",
      "      Wild and wedding-songs stream thickly,\n",
      "    And the melody allures\n",
      "      All the cats unmarried quickly.\n",
      "\n",
      "    Purring, mewing, thither hasten\n",
      "      All the young cats, plain or brindled,\n",
      "    And with Mimi join in chorus,\n",
      "      Full of love, with passion kindled.\n",
      "\n",
      "    They are no mere virtuosos\n",
      "      Who profane, for sordid wages,\n",
      "    Music, but of harmony\n",
      "      Are apostles true, and sages.\n",
      "\n",
      "    They no instruments use ever,\n",
      "      Each is his own flute and viol;\n",
      "    All their noses trumpets are,\n",
      "      Bellies, drums, and no denial.\n",
      "\n",
      "    They in chorus raise their voices,\n",
      "      In one general intermezzo,\n",
      "    Playing fugues, as if by Bach,\n",
      "      Or by Guido of Arezzo.\n",
      "\n",
      "    Wild the symphonies they’re singing\n",
      "      Like capriccios of Beethoven,\n",
      "    Or of Berlioz, who’s excell’d\n",
      "      By their strains so interwoven.\n",
      "\n",
      "    Wonderful their music’s might is!\n",
      "      Magic notes without an equal!\n",
      "    E’en the heavens they shake, the stars\n",
      "      All turn pallid in the sequel.\n",
      "\n",
      "    When the magic notes she heareth,\n",
      "      And the wondrous tones delightful,\n",
      "    Then Selene hides her face\n",
      "      With a veil of clouds so frightful.\n",
      "\n",
      "    But the nightingale with envy--\n",
      "      Scandalous old prima donna--\n",
      "    Turns her nose up, snuffs, and scorns\n",
      "      Mimi’s voice, to her dishonour.\n",
      "\n",
      "    Never mind! She’ll go on singing\n",
      "      Spite the envy of Signora,\n",
      "    Till on the horizon’s seen,\n",
      "      Smiling rosily, Aurora.\n"
     ]
    }
   ],
   "source": [
    "poetizer.load_poem(poet='heine', title='random', min_length=10, poet_latency=30, title_latency=90, read_historical=True, write_historical=False)\n",
    "#poetizer.send_daily_poem('poemsfromtom@gmail.com')\n",
    "print(poetizer.poet, poetizer.title)\n",
    "print()\n",
    "print(poetizer.poem)"
   ]
  },
  {
   "cell_type": "code",
   "execution_count": 30,
   "id": "2784aa98-1f14-4a9f-b2b5-210c5bbcb758",
   "metadata": {},
   "outputs": [
    {
     "data": {
      "text/plain": [
       "0          yeats\n",
       "1          dylan\n",
       "2     chesterton\n",
       "3         bishop\n",
       "4      dickinson\n",
       "5        pushkin\n",
       "6         thomas\n",
       "7        ashbery\n",
       "8     chesterton\n",
       "9          rilke\n",
       "10         eliot\n",
       "Name: poet, dtype: object"
      ]
     },
     "execution_count": 30,
     "metadata": {},
     "output_type": "execute_result"
    }
   ],
   "source": [
    "poetizer.history['poet']"
   ]
  },
  {
   "cell_type": "code",
   "execution_count": null,
   "id": "46f6cdde",
   "metadata": {},
   "outputs": [],
   "source": []
  },
  {
   "cell_type": "code",
   "execution_count": 13,
   "id": "44f7413f-3f56-4a50-9834-7e256406c0e1",
   "metadata": {},
   "outputs": [],
   "source": [
    "import regex as re"
   ]
  },
  {
   "cell_type": "code",
   "execution_count": 27,
   "id": "ca6c8554-2b9d-450e-9323-63b2e6a5f25f",
   "metadata": {},
   "outputs": [],
   "source": [
    "for i in range(10):\n",
    "\n",
    "    poetizer.load_poem(poet='random', title='random', min_length=10, poet_latency=0)\n",
    "    if not re.findall('\\n[^a-z]+\\n',poetizer.poem) == []:\n",
    "        break"
   ]
  },
  {
   "cell_type": "code",
   "execution_count": 45,
   "id": "a0b19fab-5b28-4fd2-8fa0-ce4e45e86a8e",
   "metadata": {},
   "outputs": [
    {
     "data": {
      "text/plain": [
       "14"
      ]
     },
     "execution_count": 45,
     "metadata": {},
     "output_type": "execute_result"
    }
   ],
   "source": [
    "i_pt"
   ]
  },
  {
   "cell_type": "code",
   "execution_count": 46,
   "id": "ef31e5e4-7d59-4c7f-a59c-2c0078089273",
   "metadata": {},
   "outputs": [
    {
     "data": {
      "text/plain": [
       "\"I.\\n\\nI dream of you walking at night along the streams \\nof the country of my birth, warm blooms and the nightsongs \\nof birds opening around you as you walk. \\nYou are holding in your body the dark seed of my sleep. \\n\\n\\tII.\\n\\nThis comes after silence. Was it something I said \\nthat bound me to you, some mere promise \\nor, worse, the fear of loneliness and death? \\nA man lost in the woods in the dark, I stood \\nstill and said nothing. And then there rose in me, \\nlike the earth's empowering brew rising \\nin root and branch, the words of a dream of you \\nI did not know I had dreamed. I was a wanderer \\nwho feels the solace of his native land \\nunder his feet again and moving in his blood. \\nI went on, blind and faithful. Where I stepped \\nmy track was there to steady me. It was no abyss \\nthat lay before me, but only the level ground. \\n\\n\\tIII.\\n\\nSometimes our life reminds me \\nof a forest in which there is a graceful clearing \\nand in that opening a house, \\nan orchard and garden, \\ncomfortable shades, and flowers \\nred and yellow in the sun, a pattern \\nmade in the light for the light to return to. \\nThe forest is mostly dark, its ways \\nto be made anew day after day, the dark \\nricher than the light and more blessed, \\nprovided we stay brave \\nenough to keep on going in. \\n\\n\\tIV.\\n\\nHow many times have I come to you out of my head \\nwith joy, if ever a man was, \\nfor to approach you I have given up the light \\nand all directions. I come to you \\nlost, wholly trusting as a man who goes \\ninto the forest unarmed. It is as though I descend \\nslowly earthward out of the air. I rest in peace \\nin you, when I arrive at last. \\n\\n\\tV.\\n\\nOur bond is no little economy based on the exchange \\nof my love and work for yours, so much for so much \\nof an expendable fund. We don't know what its limits are-- \\nthat puts us in the dark. We are more together \\nthan we know, how else could we keep on discovering \\nwe are more together than we thought? \\nYou are the known way leading always to the unknown, \\nand you are the known place to which the unknown is always \\nleading me back. More blessed in you than I know, \\nI possess nothing worthy to give you, nothing \\nnot belittled by my saying that I possess it. \\nEven an hour of love is a moral predicament, a blessing \\na man may be hard up to be worthy of. He can only \\naccept it, as a plant accepts from all the bounty of the light \\nenough to live, and then accepts the dark, \\npassing unencumbered back to the earth, as I \\nhave fallen tine and again from the great strength \\nof my desire, helpless, into your arms. \\n\\n\\tVI.\\n\\nWhat I am learning to give you is my death \\nto set you free of me, and me from myself \\ninto the dark and the new light. Like the water \\nof a deep stream, love is always too much. We \\ndid not make it. Though we drink till we burst \\nwe cannot have it all, or want it all. \\nIn its abundance it survives our thirst. \\nIn the evening we come down to the shore \\nto drink our fill, and sleep, while it \\nflows through the regions of the dark. \\nIt does not hold us, except we keep returning \\nto its rich waters thirsty. We enter, \\nwilling to die, into the commonwealth of its joy. \\n\\n\\tVII.\\n\\nI give you what is unbounded, passing from dark to dark, \\ncontaining darkness: a night of rain, an early morning. \\nI give you the life I have let live for the love of you: \\na clump of orange-blooming weeds beside the road, \\nthe young orchard waiting in the snow, our own life \\nthat we have planted in the ground, as I \\nhave planted mine in you. I give you my love for all \\nbeautiful and honest women that you gather to yourself \\nagain and again, and satisfy--and this poem, \\nno more mine than any man's who has loved a woman.\""
      ]
     },
     "execution_count": 46,
     "metadata": {},
     "output_type": "execute_result"
    }
   ],
   "source": [
    "poem"
   ]
  },
  {
   "cell_type": "code",
   "execution_count": 40,
   "id": "36f53e75-ba33-48bb-a32a-10dbe1ec3474",
   "metadata": {},
   "outputs": [
    {
     "name": "stdout",
     "output_type": "stream",
     "text": [
      "Thirsty? They race across ampersands,\n",
      "scrolling. He isn't sure it's his head.\n",
      "There's a delay right now. Smoke backed up.\n",
      "Ladies please remove hats.\n",
      "\n",
      "It was all over by morning. The village idiot\n",
      "was surprised to see us. \"...thought you were in Normandy.\"\n",
      "Like all pendulums we were surprised,\n",
      "then slightly miffed at what seemed to be happening\n",
      "back in the bushes. Keep your ornaments,\n",
      "if that's what they are. Return to sender, arse.\n",
      "\n",
      "At the intersection a statue of a policeman\n",
      "was directing traffic. It seemed like a vacation,\n",
      "halloween or something. Process \n",
      "was the only real thing that happened.\n",
      "We wove closer to the abyss, a maze of sunflowers.\n",
      "The dauphin said to take our time.\n"
     ]
    }
   ],
   "source": [
    "print(poem)"
   ]
  },
  {
   "cell_type": "code",
   "execution_count": 19,
   "id": "0433dd77-8acf-49b5-86c5-3fc565a331dc",
   "metadata": {},
   "outputs": [
    {
     "data": {
      "text/plain": [
       "[<matplotlib.lines.Line2D at 0x12890a460>]"
      ]
     },
     "execution_count": 19,
     "metadata": {},
     "output_type": "execute_result"
    },
    {
     "data": {
      "image/png": "[encoded data removed]",
      "text/plain": [
       "<Figure size 288x576 with 1 Axes>"
      ]
     },
     "metadata": {
      "needs_background": "light"
     },
     "output_type": "display_data"
    }
   ],
   "source": [
    "import matplotlib.pyplot as plt\n",
    "plt.figure(figsize=(4,8))\n",
    "plt.plot([tot_poets.count(_poet)/n for _poet in np.unique(tot_poets)],np.unique(tot_poets))\n",
    "#plt.plot([L_dict[_poet] for _poet in list(L_dict)])\n",
    "\n",
    "#plt.yscale('log')"
   ]
  },
  {
   "cell_type": "code",
   "execution_count": 25,
   "id": "1c6e89f5-773d-4d1e-8cce-72f6d481651b",
   "metadata": {},
   "outputs": [
    {
     "name": "stdout",
     "output_type": "stream",
     "text": [
      "\n",
      "        <html>\n",
      "        <h2 style=\"font-family:Garamond; color:Black; font-size: 24px; margin-bottom:0; margin : 0; padding-top:0;\">Nature's Changes</h2>\n",
      "          <p style=\"font-family:Garamond; color:Black; font-size: 18px; margin-bottom:0; margin : 0; padding-top:0;\"><i>by \n",
      "          <a href=\"https://en.wikipedia.org/wiki/Emily_Dickinson\">Emily Dickinson</a></i> (1830&#8211;1886)</p>\n",
      "          <hr>\n",
      "            <p style=\"font-family:Garamond; color:Black; font-size: 18px; margin-bottom:0; margin : 0; padding-top:0\"><br>The springtime's pallid landscape<br>  Will glow like bright bouquet<br>Though drifted deep in parian<br>  The village lies to-day.<br><br>The lilacs bending many a year<br>  With purple load will hang;<br>The bees will not forget the tune<br>  Their old forefathers sang.<br><br>The rose will redden in the bog<br>  The aster on the hill<br>Her everlasting fashion set<br>  And covenant gentians frill<br><br>Till summer folds her miracle<br>  As women do their gown<br>Or priests adjust the symbols<br>  When sacrament is done.\n",
      "            </p>\n",
      "        </html>\n",
      "        \n"
     ]
    }
   ],
   "source": [
    "print(poetizer.poem_html)"
   ]
  },
  {
   "cell_type": "code",
   "execution_count": null,
   "id": "fdf41872-2b16-4c47-9770-1868fa67f45f",
   "metadata": {},
   "outputs": [],
   "source": []
  },
  {
   "cell_type": "code",
   "execution_count": 5,
   "id": "7e544772-38a4-4398-bd08-1be092902947",
   "metadata": {},
   "outputs": [],
   "source": [
    "import pandas as pd\n",
    "import time\n",
    "\n",
    "df = pd.DataFrame(columns=['poet','title','timestamp'])"
   ]
  },
  {
   "cell_type": "code",
   "execution_count": 6,
   "id": "def149e5-9f8f-4405-b09c-9d7a865fef3b",
   "metadata": {},
   "outputs": [],
   "source": [
    "df.loc[len(df)] = 'yeats','THE DEATH OF CUCHULAIN', time.time()"
   ]
  },
  {
   "cell_type": "code",
   "execution_count": null,
   "id": "1d9cb30c-aa32-48b2-b137-8078d92543fa",
   "metadata": {},
   "outputs": [],
   "source": []
  },
  {
   "cell_type": "code",
   "execution_count": null,
   "id": "5a4e5db5-fff1-4f40-a2b7-424bffe45e59",
   "metadata": {},
   "outputs": [],
   "source": []
  },
  {
   "cell_type": "code",
   "execution_count": 7,
   "id": "1c5706f8-4e98-4304-aff5-6eda41c71e27",
   "metadata": {},
   "outputs": [],
   "source": [
    "#df = pd.read_csv('history.csv',index_col=0)\n",
    "df = df[:1]\n",
    "df.to_csv('history.csv')"
   ]
  },
  {
   "cell_type": "code",
   "execution_count": 26,
   "id": "40ff0205-d732-402b-895d-a30d7d2e8085",
   "metadata": {},
   "outputs": [
    {
     "data": {
      "text/html": [
       "\n",
       "        <html>\n",
       "        <h2 style=\"font-family:Garamond; color:Black; font-size: 24px; margin-bottom:0; margin : 0; padding-top:0;\">Nature's Changes</h2>\n",
       "          <p style=\"font-family:Garamond; color:Black; font-size: 18px; margin-bottom:0; margin : 0; padding-top:0;\"><i>by \n",
       "          <a href=\"https://en.wikipedia.org/wiki/Emily_Dickinson\">Emily Dickinson</a></i> (1830&#8211;1886)</p>\n",
       "          <hr>\n",
       "            <p style=\"font-family:Garamond; color:Black; font-size: 18px; margin-bottom:0; margin : 0; padding-top:0\"><br>The springtime's pallid landscape<br>  Will glow like bright bouquet<br>Though drifted deep in parian<br>  The village lies to-day.<br><br>The lilacs bending many a year<br>  With purple load will hang;<br>The bees will not forget the tune<br>  Their old forefathers sang.<br><br>The rose will redden in the bog<br>  The aster on the hill<br>Her everlasting fashion set<br>  And covenant gentians frill<br><br>Till summer folds her miracle<br>  As women do their gown<br>Or priests adjust the symbols<br>  When sacrament is done.\n",
       "            </p>\n",
       "        </html>\n",
       "        "
      ],
      "text/plain": [
       "<IPython.core.display.HTML object>"
      ]
     },
     "metadata": {},
     "output_type": "display_data"
    }
   ],
   "source": [
    "                                   \n",
    "#html\n",
    "#html_part  = MIMEText(html, 'html')\n",
    "\n",
    "#msg.attach(html_part)\n",
    "    \n",
    "#    return subject, msg\n",
    "\n",
    "from IPython.core.display import display, HTML\n",
    "display(HTML(poetizer.poem_html))"
   ]
  },
  {
   "cell_type": "code",
   "execution_count": 27,
   "id": "abbc9c7a-eb93-4e50-b1c2-a61b20cc07e3",
   "metadata": {},
   "outputs": [
    {
     "data": {
      "text/plain": [
       "\"NATURE'S CHANGES\""
      ]
     },
     "execution_count": 27,
     "metadata": {},
     "output_type": "execute_result"
    }
   ],
   "source": [
    "poetizer.title"
   ]
  },
  {
   "cell_type": "code",
   "execution_count": 111,
   "id": "6b4f76a0-639d-468c-b996-e27e4cf72cb7",
   "metadata": {},
   "outputs": [],
   "source": [
    "\n",
    "\n",
    "GMAIL_USER='poemsfromtom@gmail.com'\n",
    "GMAIL_PASSWORD='notdarkyet'\n",
    "\n",
    "def send_email(recipient, subject, msg):\n",
    "\n",
    "    msg['Subject'] = subject\n",
    "    msg['From'] = GMAIL_USER\n",
    "    msg['To'] = recipient\n",
    "    server = smtplib.SMTP_SSL('smtp.gmail.com', 465)\n",
    "    server.login(GMAIL_USER, GMAIL_PASSWORD)\n",
    "    server.send_message(msg)\n",
    "    server.quit()"
   ]
  },
  {
   "cell_type": "code",
   "execution_count": 112,
   "id": "60fe9106-31a7-478d-9975-edd899700ff2",
   "metadata": {},
   "outputs": [],
   "source": [
    "string = '\"TO SPEAK OF THE WOE THAT IS IN MARRIAGE\"'\n",
    "\n"
   ]
  },
  {
   "cell_type": "code",
   "execution_count": 158,
   "id": "22023984-e7cd-48a8-8e59-1a22045038e9",
   "metadata": {},
   "outputs": [
    {
     "name": "stdout",
     "output_type": "stream",
     "text": [
      "Tomorrow is a Long Time\n",
      "The Ballad of Father O'Hart\n",
      "Fast and Furious: Tokyo Drift\n",
      "\"To Speak of the Woe that is in Marriage\"\n",
      "\"It's Alright Ma, I'm Only Bleeding\"\n"
     ]
    }
   ],
   "source": [
    "import regex as re\n",
    "\n",
    "def titleize(string):\n",
    "\n",
    "    words_to_not_capitalize = ['a','an','and','the','with','about','among','for',\n",
    "                           'in','on','of','by','to','from','but','is','that','than']\n",
    "    delims = [': ','o\\'',' ']\n",
    "    string = re.sub(r'\\ \\_[0-9]+\\_','',string).lower()\n",
    "    for delim in delims:  \n",
    "        words = string.split(delim)\n",
    "        for i,s in enumerate(words):\n",
    "            if (i in [0,len(words)-1]) or not (s in words_to_not_capitalize): \n",
    "                i_cap = list(re.finditer('[^\\\"]',s))[0].start()\n",
    "                #print(delim,s)\n",
    "                words[i] = words[i][:i_cap] + words[i][i_cap].upper() + words[i][i_cap+1:]\n",
    "            else:   \n",
    "                words[i] = words[i]\n",
    "        string = delim.join(words)\n",
    "\n",
    "    string = re.sub(r'\\'S ','\\'s ',string)\n",
    "    return string\n",
    "    \n",
    "\n",
    "print(titleize('TOMORROW IS A LONG TIME'))\n",
    "print(titleize('THE BALLAD OF FATHER O\\'HART'))\n",
    "print(titleize('FAST AND FURIOUS: TOKYO DRIFT'))\n",
    "print(titleize('\"TO SPEAK OF THE WOE THAT IS IN MARRIAGE\"'))\n",
    "print(titleize('\"IT\\'S ALRIGHT MA, I\\'M ONLY BLEEDING\"'))\n",
    "\n"
   ]
  }
 ],
 "metadata": {
  "kernelspec": {
   "display_name": "Python 3",
   "language": "python",
   "name": "python3"
  },
  "language_info": {
   "codemirror_mode": {
    "name": "ipython",
    "version": 3
   },
   "file_extension": ".py",
   "mimetype": "text/x-python",
   "name": "python",
   "nbconvert_exporter": "python",
   "pygments_lexer": "ipython3",
   "version": "3.9.1"
  }
 },
 "nbformat": 4,
 "nbformat_minor": 5
}
