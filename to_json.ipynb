{
 "cells": [
  {
   "cell_type": "code",
   "execution_count": 1,
   "id": "57bf9085-3028-43de-a221-7c4813d63b5d",
   "metadata": {},
   "outputs": [],
   "source": [
    "import random\n",
    "import numpy as np\n",
    "import regex as re\n",
    "import glob, os\n",
    "import json\n",
    "import time\n",
    "import calendar\n",
    "\n",
    "from datetime import datetime"
   ]
  },
  {
   "cell_type": "code",
   "execution_count": 2,
   "id": "4c93f4a4-3304-4eef-ba5f-7f29bef8f4a7",
   "metadata": {},
   "outputs": [],
   "source": [
    "def read_poem_text(fn):\n",
    "    \n",
    "    with open(fn,'r+') as f:\n",
    "        header, body = f.read().split('###')\n",
    "\n",
    "    cap_title_expr  = r'\\n\\n\\~(.+)\\~\\n\\n'\n",
    "    title_expr = r'\\n\\n~.+~\\n\\n'\n",
    "\n",
    "    titles = np.array([s.upper() for s in re.findall(cap_title_expr, body)])\n",
    "    poems  = [poem.strip('\\n') for poem in re.split(title_expr,body)[1:]]\n",
    "\n",
    "    name = header.split(' (')[0]\n",
    "    link = re.findall('\\[(.+)\\]', header)[0]\n",
    "    birth, death = re.findall('\\((.+)\\)', header)[0].split('-')\n",
    "    \n",
    "    _dict = {}\n",
    "    for poem, title in zip(poems,titles):\n",
    "        if len(poem.split()) > 10:\n",
    "            _dict[title.strip('\"')] = poem\n",
    "        else:\n",
    "            print(name,title)\n",
    "        \n",
    "    tag = fn.split('/')[-1][:-4]\n",
    "    nbd = f'{name:} ({birth}--{death})'\n",
    "    print(f'{tag:>12} | n = {len(list(_dict)):>3} | {link}')\n",
    "    _dict['metadata'] = '|'.join([tag, name, birth, death, link])\n",
    "\n",
    "    return _dict"
   ]
  },
  {
   "cell_type": "code",
   "execution_count": 7,
   "id": "b9ca4001-a189-46aa-94a1-92b7473ac5c5",
   "metadata": {},
   "outputs": [
    {
     "data": {
      "text/plain": [
       "1641625200.0"
      ]
     },
     "execution_count": 7,
     "metadata": {},
     "output_type": "execute_result"
    }
   ],
   "source": [
    "datetime(2022,1,8,2).timestamp()"
   ]
  },
  {
   "cell_type": "code",
   "execution_count": 5,
   "id": "a7d2da1d-3329-4d6c-b0d0-75591abe9932",
   "metadata": {},
   "outputs": [
    {
     "name": "stdout",
     "output_type": "stream",
     "text": [
      "66\n",
      "     ashbery | n =   7 | https://en.wikipedia.org/wiki/John_Ashbery\n",
      "       auden | n =   7 | https://en.wikipedia.org/wiki/W._H._Auden\n",
      "      belloc | n =  11 | https://en.wikipedia.org/wiki/Hilaire_Belloc\n",
      "       berry | n =   8 | https://en.wikipedia.org/wiki/Wendell_Berry\n",
      "    berryman | n =   4 | https://en.wikipedia.org/wiki/John_Berryman\n",
      "      bishop | n =   8 | https://en.wikipedia.org/wiki/Elizabeth_Bishop\n",
      "       blake | n =  54 | https://en.wikipedia.org/wiki/William_Blake\n",
      "      bronte | n =   6 | https://en.wikipedia.org/wiki/Emily_Brontë\n",
      "     carroll | n =   7 | https://en.wikipedia.org/wiki/Lewis_Carroll\n",
      "      cather | n =  36 | https://en.wikipedia.org/wiki/Willa_Cather\n",
      "  chesterton | n =  60 | https://en.wikipedia.org/wiki/G._K._Chesterton\n",
      "     crashaw | n =   5 | https://en.wikipedia.org/wiki/Richard_Crashaw\n",
      "    cummings | n =   8 | https://en.wikipedia.org/wiki/E._E._Cummings\n",
      "   day-lewis | n =   9 | https://en.wikipedia.org/wiki/Cecil_Day-Lewis\n",
      "   dickinson | n = 435 | https://en.wikipedia.org/wiki/Emily_Dickinson\n",
      "       donne | n =  11 | https://en.wikipedia.org/wiki/John_Donne\n",
      "       dylan | n =  12 | https://en.wikipedia.org/wiki/Bob_Dylan\n",
      "       eliot | n =  27 | https://en.wikipedia.org/wiki/T._S._Eliot\n",
      "       frost | n =  43 | https://en.wikipedia.org/wiki/Robert_Frost\n",
      "      gibran | n =  12 | https://en.wikipedia.org/wiki/Kahlil_Gibran\n",
      "       gioia | n =   1 | https://en.wikipedia.org/wiki/Dana_Gioia\n",
      "       hardy | n =  12 | https://en.wikipedia.org/wiki/Thomas_Hardy\n",
      "       heine | n = 238 | https://en.wikipedia.org/wiki/Heinrich_Heine\n",
      "   hemingway | n =  10 | https://en.wikipedia.org/wiki/Ernest_Hemingway\n",
      "     herbert | n =   8 | https://en.wikipedia.org/wiki/George_Herbert\n",
      "        hill | n =   5 | https://en.wikipedia.org/wiki/Geoffrey_Hill\n",
      "     hopkins | n =  71 | https://en.wikipedia.org/wiki/Gerard_Manley_Hopkins\n",
      "        hugo | n = 179 | https://en.wikipedia.org/wiki/Victor_Hugo\n",
      "      huxley | n =  39 | https://en.wikipedia.org/wiki/Aldous_Huxley\n",
      "    jennings | n =   8 | https://en.wikipedia.org/wiki/Elizabeth_Jennings\n",
      "      kilmer | n =  31 | https://en.wikipedia.org/wiki/Joyce_Kilmer\n",
      "      larkin | n =   7 | https://en.wikipedia.org/wiki/Philip_Larkin\n",
      "    lawrence | n =  41 | https://en.wikipedia.org/wiki/D._H._Lawrence\n",
      "       lewis | n =   7 | https://en.wikipedia.org/wiki/C._S._Lewis\n",
      "      lowell | n =  11 | https://en.wikipedia.org/wiki/Robert_Lowell\n",
      "   macdonald | n =  92 | https://en.wikipedia.org/wiki/George_MacDonald\n",
      "    macneice | n =   7 | https://en.wikipedia.org/wiki/Louis_MacNeice\n",
      "      mccrae | n =  28 | https://en.wikipedia.org/wiki/John_McCrae\n",
      "      merton | n =  12 | https://en.wikipedia.org/wiki/Thomas_Merton\n",
      "      millay | n =  84 | https://en.wikipedia.org/wiki/Edna_St._Vincent_Millay\n",
      "      milosz | n =  10 | https://en.wikipedia.org/wiki/Czesław_Miłosz\n",
      "      milton | n =   6 | https://en.wikipedia.org/wiki/John_Milton\n",
      "       moore | n =  10 | https://en.wikipedia.org/wiki/Marianne_Moore\n",
      "        nash | n =  10 | https://en.wikipedia.org/wiki/Ogden_Nash\n",
      "      newman | n =   4 | https://en.wikipedia.org/wiki/John_Henry_Newman\n",
      "       noyes | n =  10 | https://en.wikipedia.org/wiki/Alfred_Noyes\n",
      "        owen | n =  24 | https://en.wikipedia.org/wiki/Wilfred_Owen\n",
      "   pasternak | n =  16 | https://en.wikipedia.org/wiki/Boris_Pasternak\n",
      "       peguy | n =   3 | https://en.wikipedia.org/wiki/Charles_Péguy\n",
      "       plath | n =  13 | https://en.wikipedia.org/wiki/Sylvia_Plath\n",
      "     pushkin | n =  67 | https://en.wikipedia.org/wiki/Alexander_Pushkin\n",
      "       rilke | n =  41 | https://en.wikipedia.org/wiki/Rainer_Maria_Rilke\n",
      "    rossetti | n = 183 | https://en.wikipedia.org/wiki/Christina_Rossetti\n",
      "     sassoon | n =  38 | https://en.wikipedia.org/wiki/Siegfried_Sassoon\n",
      " shakespeare | n = 154 | https://en.wikipedia.org/wiki/William_Shakespeare\n",
      "     shelley | n =  10 | https://en.wikipedia.org/wiki/Percy_Bysshe_Shelley\n",
      "    tennyson | n =  11 | https://en.wikipedia.org/wiki/Alfred,_Lord_Tennyson\n",
      "      thomas | n =   8 | https://en.wikipedia.org/wiki/Dylan_Thomas\n",
      "    thompson | n =  12 | https://en.wikipedia.org/wiki/Francis_Thompson\n",
      "      updike | n =  17 | https://en.wikipedia.org/wiki/John_Updike\n",
      "    verlaine | n =  10 | https://en.wikipedia.org/wiki/Paul_Verlaine\n",
      "     whitman | n = 377 | https://en.wikipedia.org/wiki/Walt_Whitman\n",
      "    whittier | n = 133 | https://en.wikipedia.org/wiki/John_Greenleaf_Whittier\n",
      "      wilbur | n =   7 | https://en.wikipedia.org/wiki/Richard_Wilbur\n",
      "       wilde | n =  23 | https://en.wikipedia.org/wiki/Oscar_Wilde\n",
      "       yeats | n =  36 | https://en.wikipedia.org/wiki/W._B._Yeats\n"
     ]
    }
   ],
   "source": [
    "files = np.sort([file for file in glob.glob('/users/thomas/desktop/repos/poetry/_text/*.txt')])\n",
    "print(len(files))\n",
    "tot_dict = {}; tot_n = 0\n",
    "for fn in files:\n",
    "    _dict = read_poem_text(fn)\n",
    "    tot_n += len(list(_dict))-1\n",
    "    tag = _dict['metadata'].split('|')[0]\n",
    "    tot_dict[tag] = _dict\n",
    "    with open(f'/users/thomas/desktop/repos/poetry/_json/{tag}.json', 'w+') as f:\n",
    "        json.dump(_dict, f)"
   ]
  },
  {
   "cell_type": "code",
   "execution_count": 163,
   "id": "60601a12-d25c-4d49-9e79-4863d0ce99f5",
   "metadata": {},
   "outputs": [
    {
     "data": {
      "text/plain": [
       "'jennings'"
      ]
     },
     "execution_count": 163,
     "metadata": {},
     "output_type": "execute_result"
    }
   ],
   "source": [
    "author = np.random.choice(list(tot_dict))\n",
    "author"
   ]
  },
  {
   "cell_type": "code",
   "execution_count": 7,
   "id": "072b599d-1b94-4b9e-902e-7b7b18facebe",
   "metadata": {},
   "outputs": [],
   "source": [
    "#list(tot_dict)"
   ]
  },
  {
   "cell_type": "code",
   "execution_count": 38,
   "id": "b5b56310-2871-48e7-825e-c24be0fb8272",
   "metadata": {},
   "outputs": [
    {
     "ename": "NameError",
     "evalue": "name 'header' is not defined",
     "output_type": "error",
     "traceback": [
      "\u001b[0;31m---------------------------------------------------------------------------\u001b[0m",
      "\u001b[0;31mNameError\u001b[0m                                 Traceback (most recent call last)",
      "\u001b[0;32m<ipython-input-38-b5b3bb037439>\u001b[0m in \u001b[0;36m<module>\u001b[0;34m\u001b[0m\n\u001b[0;32m----> 1\u001b[0;31m \u001b[0mheader\u001b[0m\u001b[0;34m.\u001b[0m\u001b[0msplit\u001b[0m\u001b[0;34m(\u001b[0m\u001b[0;34m)\u001b[0m\u001b[0;34m\u001b[0m\u001b[0;34m\u001b[0m\u001b[0m\n\u001b[0m",
      "\u001b[0;31mNameError\u001b[0m: name 'header' is not defined"
     ]
    }
   ],
   "source": [
    "header.split()"
   ]
  },
  {
   "cell_type": "code",
   "execution_count": 70,
   "id": "f00a9d45-3262-462a-a618-a2ff55151fb2",
   "metadata": {},
   "outputs": [
    {
     "data": {
      "text/plain": [
       "'https://en.wikipedia.org/wiki/John_Ashbery'"
      ]
     },
     "execution_count": 70,
     "metadata": {},
     "output_type": "execute_result"
    }
   ],
   "source": []
  },
  {
   "cell_type": "code",
   "execution_count": 71,
   "id": "22c09acb-bc84-4d23-b4bb-d65f012d1af3",
   "metadata": {},
   "outputs": [],
   "source": []
  },
  {
   "cell_type": "code",
   "execution_count": 22,
   "id": "db5344cc-5690-4913-8226-e44b47d98adb",
   "metadata": {},
   "outputs": [
    {
     "name": "stdout",
     "output_type": "stream",
     "text": [
      "W. B. Yeats 36\n",
      "W. H. Auden 6\n",
      "Christina Rossetti 171\n",
      "Emily Dickinson 434\n",
      "Aldous Huxley 38\n",
      "D. H. Lawrence 41\n",
      "William Blake 58\n",
      "John McCrae 28\n",
      "Wendell Berry 8\n",
      "Thomas Merton 12\n",
      "Walt Whitman 273\n",
      "Bob Dylan 13\n",
      "Robert Frost 43\n",
      "Edna St. Vincent Millay 84\n",
      "Marianne Moore 10\n",
      "E. E. Cummings 8\n",
      "T. S. Eliot 34\n",
      "Elizabeth Bishop 8\n",
      "John Ashbery 7\n",
      "Rainer Maria Rilke 41\n",
      "Dylan Thomas 5\n",
      "Czesław Miłosz 10\n",
      "Alexander Pushkin 68\n",
      "Oscar Wilde 24\n",
      "Gerard Manley Hopkins 72\n",
      "G. K. Chesterton 56\n",
      "Wilfred Owen 23\n"
     ]
    }
   ],
   "source": [
    "\n",
    "\n",
    "import pandas as pd\n",
    "df = pd.DataFrame(columns=['prompt','completion'])  \n",
    "\n",
    "\n",
    "for file in files:\n",
    "    \n",
    "    with open(file) as f:\n",
    "        \n",
    "        poet_dict = json.load(f)\n",
    "        \n",
    "    print(poet_dict['poet_name'],len(poet_dict)-4)\n",
    "    \n",
    "    for title in list(poet_dict):\n",
    "    \n",
    "        if title in ['poet_name','poet_birth','poet_death','poet_link']:\n",
    "            \n",
    "            continue\n",
    "            \n",
    "        #total_dict[title] = poet_dict[title]\n",
    "        \n",
    "        df.loc[len(df)] = [title, poet_dict[title]]\n",
    "            \n",
    "df.to_csv('/users/thomas/desktop/poetry/poemsfromtom/poems/all.csv')"
   ]
  },
  {
   "cell_type": "code",
   "execution_count": 21,
   "id": "885c1a18-96d7-4ba4-9352-9718b642bb91",
   "metadata": {},
   "outputs": [
    {
     "data": {
      "text/plain": [
       "'poemsfromtom/poems/all.json'"
      ]
     },
     "execution_count": 21,
     "metadata": {},
     "output_type": "execute_result"
    }
   ],
   "source": [
    "file"
   ]
  },
  {
   "cell_type": "code",
   "execution_count": 24,
   "id": "72170841-6019-4dcf-8600-dfd2bcc179a5",
   "metadata": {},
   "outputs": [
    {
     "data": {
      "text/html": [
       "<div>\n",
       "<style scoped>\n",
       "    .dataframe tbody tr th:only-of-type {\n",
       "        vertical-align: middle;\n",
       "    }\n",
       "\n",
       "    .dataframe tbody tr th {\n",
       "        vertical-align: top;\n",
       "    }\n",
       "\n",
       "    .dataframe thead th {\n",
       "        text-align: right;\n",
       "    }\n",
       "</style>\n",
       "<table border=\"1\" class=\"dataframe\">\n",
       "  <thead>\n",
       "    <tr style=\"text-align: right;\">\n",
       "      <th></th>\n",
       "      <th>prompt</th>\n",
       "      <th>completion</th>\n",
       "    </tr>\n",
       "  </thead>\n",
       "  <tbody>\n",
       "    <tr>\n",
       "      <th>0</th>\n",
       "      <td>TO THE ROSE UPON THE ROOD OF TIME</td>\n",
       "      <td>\\n\\t  _Red Rose proud Rose sad Rose of all my ...</td>\n",
       "    </tr>\n",
       "    <tr>\n",
       "      <th>1</th>\n",
       "      <td>FERGUS AND THE DRUID</td>\n",
       "      <td>\\n\\t  FERGUS\\n\\n\\t  The whole day have I follo...</td>\n",
       "    </tr>\n",
       "    <tr>\n",
       "      <th>2</th>\n",
       "      <td>THE DEATH OF CUCHULAIN</td>\n",
       "      <td>\\n\\t  A man came slowly from the setting sun\\n...</td>\n",
       "    </tr>\n",
       "    <tr>\n",
       "      <th>3</th>\n",
       "      <td>THE ROSE OF THE WORLD</td>\n",
       "      <td>\\n\\t  Who dreamed that beauty passes like a dr...</td>\n",
       "    </tr>\n",
       "    <tr>\n",
       "      <th>4</th>\n",
       "      <td>THE ROSE OF PEACE</td>\n",
       "      <td>\\n\\t  If Michael leader of God's host\\n\\t  Whe...</td>\n",
       "    </tr>\n",
       "    <tr>\n",
       "      <th>...</th>\n",
       "      <td>...</td>\n",
       "      <td>...</td>\n",
       "    </tr>\n",
       "    <tr>\n",
       "      <th>1606</th>\n",
       "      <td>CONSCIOUS</td>\n",
       "      <td>\\n     His fingers wake and flutter up the bed...</td>\n",
       "    </tr>\n",
       "    <tr>\n",
       "      <th>1607</th>\n",
       "      <td>A TERRE</td>\n",
       "      <td>\\n         (Being the philosophy of many Soldi...</td>\n",
       "    </tr>\n",
       "    <tr>\n",
       "      <th>1608</th>\n",
       "      <td>WILD WITH ALL REGRETS</td>\n",
       "      <td>\\n         (Another version of \"A Terre\".)\\n\\n...</td>\n",
       "    </tr>\n",
       "    <tr>\n",
       "      <th>1609</th>\n",
       "      <td>DISABLED</td>\n",
       "      <td>\\n     He sat in a wheeled chair waiting for d...</td>\n",
       "    </tr>\n",
       "    <tr>\n",
       "      <th>1610</th>\n",
       "      <td>THE END</td>\n",
       "      <td>\\n     After the blast of lightning from the e...</td>\n",
       "    </tr>\n",
       "  </tbody>\n",
       "</table>\n",
       "<p>1611 rows × 2 columns</p>\n",
       "</div>"
      ],
      "text/plain": [
       "                                 prompt  \\\n",
       "0     TO THE ROSE UPON THE ROOD OF TIME   \n",
       "1                  FERGUS AND THE DRUID   \n",
       "2                THE DEATH OF CUCHULAIN   \n",
       "3                 THE ROSE OF THE WORLD   \n",
       "4                     THE ROSE OF PEACE   \n",
       "...                                 ...   \n",
       "1606                          CONSCIOUS   \n",
       "1607                            A TERRE   \n",
       "1608              WILD WITH ALL REGRETS   \n",
       "1609                           DISABLED   \n",
       "1610                            THE END   \n",
       "\n",
       "                                             completion  \n",
       "0     \\n\\t  _Red Rose proud Rose sad Rose of all my ...  \n",
       "1     \\n\\t  FERGUS\\n\\n\\t  The whole day have I follo...  \n",
       "2     \\n\\t  A man came slowly from the setting sun\\n...  \n",
       "3     \\n\\t  Who dreamed that beauty passes like a dr...  \n",
       "4     \\n\\t  If Michael leader of God's host\\n\\t  Whe...  \n",
       "...                                                 ...  \n",
       "1606  \\n     His fingers wake and flutter up the bed...  \n",
       "1607  \\n         (Being the philosophy of many Soldi...  \n",
       "1608  \\n         (Another version of \"A Terre\".)\\n\\n...  \n",
       "1609  \\n     He sat in a wheeled chair waiting for d...  \n",
       "1610  \\n     After the blast of lightning from the e...  \n",
       "\n",
       "[1611 rows x 2 columns]"
      ]
     },
     "execution_count": 24,
     "metadata": {},
     "output_type": "execute_result"
    }
   ],
   "source": [
    "df"
   ]
  },
  {
   "cell_type": "code",
   "execution_count": 15,
   "id": "ce8b357e-c4d5-490c-abd7-588a0815c36f",
   "metadata": {},
   "outputs": [],
   "source": [
    "import json\n",
    "\n",
    "with open('/users/thomas/desktop/poetry/poemsfromtom/poems/all.json', 'w+') as f:\n",
    "    json.dump(total_dict, f)"
   ]
  },
  {
   "cell_type": "code",
   "execution_count": 14,
   "id": "b5448236-61b0-4ec5-89c6-56f1f186d847",
   "metadata": {},
   "outputs": [
    {
     "data": {
      "text/plain": [
       "1563"
      ]
     },
     "execution_count": 14,
     "metadata": {},
     "output_type": "execute_result"
    }
   ],
   "source": [
    "len(list(total_dict))"
   ]
  },
  {
   "cell_type": "code",
   "execution_count": 6,
   "id": "22023984-e7cd-48a8-8e59-1a22045038e9",
   "metadata": {},
   "outputs": [],
   "source": [
    "import regex as re\n",
    "\n",
    "def titleize(string):\n",
    "    \n",
    "    string \n",
    "    \n",
    "    words_to_not_capitalize = ['a','in','of']\n",
    "    strings = re.sub(r'\\ \\_[0-9]+\\_','',string).split(' ')\n",
    "    title   = strings[0].capitalize()\n",
    "    for s in strings[1:]:\n",
    "        if s in words_to_not_capitalize:\n",
    "            title += ' ' + s\n",
    "        else:\n",
    "            title += ' ' + s.capitalize()\n",
    "    return title\n",
    "    \n",
    "#print(titleize('star trek into darkness _8_'))"
   ]
  },
  {
   "cell_type": "code",
   "execution_count": 7,
   "id": "8cef9b5f-ca57-4f5f-b10b-24f7b0fb7918",
   "metadata": {},
   "outputs": [],
   "source": [
    "def make_poem_message(poet='random',title='random'):\n",
    "    \n",
    "    title, poet_dict, poem = get_poem(poet,title)\n",
    "    html_body = poem.replace('\\n', '<br>')\n",
    "\n",
    "    poet_short = poet_dict['poet_short']\n",
    "    poet_long  = poet_dict['poet_long']\n",
    "    \n",
    "    subject = f'Poem of the Day: \\\"{titleize(title)}\\\" by {poet_short}'\n",
    "    \n",
    "    msg = MIMEMultipart('alternative')\n",
    "\n",
    "    html = f\"\"\"\\\n",
    "    <html>\n",
    "    <h2 style=\"font-family:Garamond; color:Black; font-size: 30px;\"><b>{titleize(title)}</b><br>\n",
    "      <i>by {poet_long}</i></h2>\n",
    "        <p style=\"font-family:Garamond; color:Black; font-size: 20px;\">{html_body}\n",
    "        </p>\n",
    "    </html>\n",
    "    \"\"\"\n",
    "\n",
    "    html_part  = MIMEText(html, 'html')\n",
    "\n",
    "    msg.attach(html_part)\n",
    "    \n",
    "    return subject, msg"
   ]
  },
  {
   "cell_type": "code",
   "execution_count": 95,
   "id": "cdc2041a-3ca5-42fa-8bf3-0de5d3028750",
   "metadata": {},
   "outputs": [],
   "source": [
    "#while '_' in html_body:\n",
    "    \n",
    "first_match = list(re.finditer('\\_',html_body))[0]\n",
    "\n",
    "s, e = first_match.start(), first_match.end()"
   ]
  },
  {
   "cell_type": "code",
   "execution_count": null,
   "id": "2b09afe9-d8e5-402e-9097-15962d995ab5",
   "metadata": {},
   "outputs": [],
   "source": []
  },
  {
   "cell_type": "code",
   "execution_count": 96,
   "id": "dd4d6817-a330-4923-a16b-9e973af13e3d",
   "metadata": {},
   "outputs": [
    {
     "data": {
      "text/plain": [
       "'_'"
      ]
     },
     "execution_count": 96,
     "metadata": {},
     "output_type": "execute_result"
    }
   ],
   "source": [
    "html_body[s:e]"
   ]
  },
  {
   "cell_type": "code",
   "execution_count": 90,
   "id": "ab5dd7e8-9788-4c73-ac9e-3fedc23225fb",
   "metadata": {},
   "outputs": [
    {
     "ename": "TypeError",
     "evalue": "'str' object does not support item assignment",
     "output_type": "error",
     "traceback": [
      "\u001b[0;31m---------------------------------------------------------------------------\u001b[0m",
      "\u001b[0;31mTypeError\u001b[0m                                 Traceback (most recent call last)",
      "\u001b[0;32m<ipython-input-90-9e64c7a7c39e>\u001b[0m in \u001b[0;36m<module>\u001b[0;34m\u001b[0m\n\u001b[1;32m      1\u001b[0m \u001b[0ms\u001b[0m \u001b[0;34m=\u001b[0m \u001b[0;34m'asdasdasd'\u001b[0m\u001b[0;34m\u001b[0m\u001b[0;34m\u001b[0m\u001b[0m\n\u001b[1;32m      2\u001b[0m \u001b[0;34m\u001b[0m\u001b[0m\n\u001b[0;32m----> 3\u001b[0;31m \u001b[0ms\u001b[0m\u001b[0;34m[\u001b[0m\u001b[0;36m2\u001b[0m\u001b[0;34m:\u001b[0m\u001b[0;36m5\u001b[0m\u001b[0;34m]\u001b[0m \u001b[0;34m=\u001b[0m \u001b[0;34m'defdefdef'\u001b[0m\u001b[0;34m\u001b[0m\u001b[0;34m\u001b[0m\u001b[0m\n\u001b[0m",
      "\u001b[0;31mTypeError\u001b[0m: 'str' object does not support item assignment"
     ]
    }
   ],
   "source": [
    "s = 'asdasdasd'\n",
    "\n",
    "s[2:5] = 'defdefdef'"
   ]
  },
  {
   "cell_type": "code",
   "execution_count": 84,
   "id": "49085aba-7df8-49a8-8451-f47ab3c6f072",
   "metadata": {},
   "outputs": [
    {
     "ename": "NameError",
     "evalue": "name 'start' is not defined",
     "output_type": "error",
     "traceback": [
      "\u001b[0;31m---------------------------------------------------------------------------\u001b[0m",
      "\u001b[0;31mNameError\u001b[0m                                 Traceback (most recent call last)",
      "\u001b[0;32m<ipython-input-84-85ba4973bfbb>\u001b[0m in \u001b[0;36m<module>\u001b[0;34m\u001b[0m\n\u001b[0;32m----> 1\u001b[0;31m \u001b[0mstart\u001b[0m\u001b[0;34m(\u001b[0m\u001b[0;34m)\u001b[0m\u001b[0;34m\u001b[0m\u001b[0;34m\u001b[0m\u001b[0m\n\u001b[0m",
      "\u001b[0;31mNameError\u001b[0m: name 'start' is not defined"
     ]
    }
   ],
   "source": [
    "start()"
   ]
  },
  {
   "cell_type": "code",
   "execution_count": 116,
   "id": "26c7d403-e1b5-404a-9805-f8cc2f3da508",
   "metadata": {},
   "outputs": [],
   "source": [
    "title, poet_dict, poem = get_poem(poet='mccrae',title='THE CAPTAIN')\n",
    "\n",
    "html_body = poem.replace('\\n', '<br>')\n",
    "while '_' in html_body:\n",
    "\n",
    "    s,e = [match.start() for match in re.finditer('\\_',html_body)][:2]\n",
    "    html_body = html_body[:s]   + '<i>' + html_body[s+1:]\n",
    "    html_body = html_body[:e+2] + '</i>' + html_body[e+1+2:]"
   ]
  },
  {
   "cell_type": "code",
   "execution_count": 117,
   "id": "da22a2c7-f4bc-49f4-a64d-22ae1fcb2d0a",
   "metadata": {},
   "outputs": [],
   "source": [
    "\n",
    "\n",
    "\n",
    "\n",
    "#for s,e in list(zip(*(iter([match.start() for match in re.finditer('\\_',html_body)]),) * 2)):\n",
    "\n"
   ]
  },
  {
   "cell_type": "code",
   "execution_count": 139,
   "id": "4d1f5a0b-eafc-4bb1-99a5-a7fc592ac0e0",
   "metadata": {},
   "outputs": [
    {
     "data": {
      "text/plain": [
       "'<br>          1797<br>               <i>Here all the day she swings from tide to tide<br>                Here all night long she tugs a rusted chain<br>               A masterless hulk that was a ship of pride<br>                Yet unashamed:  her memories remain.</i><br><br>          It was Nelson in the \\'Captain\\' Cape St. Vincent far alee<br>           With the \\'Vanguard\\' leading s\\'uth\\'ard in the haze --<br>          Little Jervis and the Spaniards and the fight that was to be<br>          Twenty-seven Spanish battleships great bullies of the sea<br>           And the \\'Captain\\' there to find her day of days.<br><br>          Right into them the \\'Vanguard\\' leads but with a sudden tack<br>           The Spaniards double swiftly on their trail;<br>          Now Jervis overshoots his mark like some too eager pack<br>          He will not overtake them haste he e\\'er so greatly back<br>           But Nelson and the \\'Captain\\' will not fail.<br><br>          Like a tigress on her quarry leaps the \\'Captain\\' from her place<br>           To lie across the fleeing squadron\\'s way:<br>          Heavy odds and heavy onslaught gun to gun and face to face<br>          Win the ship a name of glory win the men a death of grace<br>           For a little hold the Spanish fleet in play.<br><br>          Ended now the \"Captain\"\\'s battle stricken sore she falls aside<br>           Holding still her foemen beaten to the knee:<br>          As the \\'Vanguard\\' drifted past her \"Well done \\'Captain\\'\" Jervis cried<br>          Rang the cheers of men that conquered ran the blood of men that died<br>           And the ship had won her immortality.<br><br>               <i>Lo! here her progeny of steel and steam<br>                A funnelled monster at her mooring swings:<br>               Still in our hearts we see her pennant stream<br>                And \"Well done \\'Captain\\'\" like a trumpet rings.</i><br>'"
      ]
     },
     "execution_count": 139,
     "metadata": {},
     "output_type": "execute_result"
    }
   ],
   "source": [
    "html_body"
   ]
  },
  {
   "cell_type": "code",
   "execution_count": 161,
   "id": "ff5f4c3d-03ec-4e63-ad6b-567b48569759",
   "metadata": {},
   "outputs": [],
   "source": [
    "html = f\"\"\"\n",
    "    <html>\n",
    "    <h2 style=\"font-family:Garamond; color:Black; font-size: 36px; margin-bottom:0;\"><b>{titleize(title)}</b><br>\n",
    "      <i style=\"font-size: 20px; margin-bottom:0;\">by poet_long</i></h2>\n",
    "        <p style=\"margin : 0; padding-top:0; font-family:Garamond; color:Black; font-size: 20px;\">{html_body}\n",
    "        </p>\n",
    "    </html>\n",
    "    \"\"\""
   ]
  },
  {
   "cell_type": "code",
   "execution_count": 162,
   "id": "065ccbe1-f2fa-4103-8049-0f7a2654a6c9",
   "metadata": {},
   "outputs": [
    {
     "data": {
      "text/html": [
       "\n",
       "    <html>\n",
       "    <h2 style=\"font-family:Garamond; color:Black; font-size: 36px; margin-bottom:0;\"><b>The Captain</b><br>\n",
       "      <i style=\"font-size: 20px; margin-bottom:0;\">by poet_long</i></h2>\n",
       "        <p style=\"margin : 0; padding-top:0; font-family:Garamond; color:Black; font-size: 20px;\"><br>          1797<br>               <i>Here all the day she swings from tide to tide<br>                Here all night long she tugs a rusted chain<br>               A masterless hulk that was a ship of pride<br>                Yet unashamed:  her memories remain.</i><br><br>          It was Nelson in the 'Captain' Cape St. Vincent far alee<br>           With the 'Vanguard' leading s'uth'ard in the haze --<br>          Little Jervis and the Spaniards and the fight that was to be<br>          Twenty-seven Spanish battleships great bullies of the sea<br>           And the 'Captain' there to find her day of days.<br><br>          Right into them the 'Vanguard' leads but with a sudden tack<br>           The Spaniards double swiftly on their trail;<br>          Now Jervis overshoots his mark like some too eager pack<br>          He will not overtake them haste he e'er so greatly back<br>           But Nelson and the 'Captain' will not fail.<br><br>          Like a tigress on her quarry leaps the 'Captain' from her place<br>           To lie across the fleeing squadron's way:<br>          Heavy odds and heavy onslaught gun to gun and face to face<br>          Win the ship a name of glory win the men a death of grace<br>           For a little hold the Spanish fleet in play.<br><br>          Ended now the \"Captain\"'s battle stricken sore she falls aside<br>           Holding still her foemen beaten to the knee:<br>          As the 'Vanguard' drifted past her \"Well done 'Captain'\" Jervis cried<br>          Rang the cheers of men that conquered ran the blood of men that died<br>           And the ship had won her immortality.<br><br>               <i>Lo! here her progeny of steel and steam<br>                A funnelled monster at her mooring swings:<br>               Still in our hearts we see her pennant stream<br>                And \"Well done 'Captain'\" like a trumpet rings.</i><br>\n",
       "        </p>\n",
       "    </html>\n",
       "    "
      ],
      "text/plain": [
       "<IPython.core.display.HTML object>"
      ]
     },
     "metadata": {},
     "output_type": "display_data"
    }
   ],
   "source": [
    "from IPython.core.display import display, HTML\n",
    "display(HTML(html))"
   ]
  },
  {
   "cell_type": "code",
   "execution_count": null,
   "id": "b364bf94-aa8a-450f-b43d-cb29a57534eb",
   "metadata": {},
   "outputs": [],
   "source": []
  },
  {
   "cell_type": "code",
   "execution_count": 10,
   "id": "fe27b564-71db-4a10-abef-3d05ca1d9459",
   "metadata": {},
   "outputs": [],
   "source": [
    "#for i in range(1):\n",
    "\n",
    "#    subject, msg = make_poem_message(poet='random')\n",
    "#    send_email('poemsfromtom@gmail.com', subject=subject, msg=msg)"
   ]
  },
  {
   "cell_type": "code",
   "execution_count": null,
   "id": "559a39a0-5b5c-494a-a9a4-b593249dc49c",
   "metadata": {},
   "outputs": [],
   "source": []
  },
  {
   "cell_type": "code",
   "execution_count": 11,
   "id": "43e33239-0099-46f8-8716-61152b6bfa4c",
   "metadata": {},
   "outputs": [
    {
     "name": "stdout",
     "output_type": "stream",
     "text": [
      "Poems from Tom     |         poemsfromtom @ gmail.com           \n",
      "Thomas Morris      |        tomwillmorris @ gmail.com           \n",
      "Thomas Morris      |         thomasmorris @ princeton.edu       \n",
      "Christian Schmidt  |  Schmidt.e.christian @ gmail.com           \n",
      "Zach Bampton       |      zachary.bampton @ gmail.com           \n"
     ]
    }
   ],
   "source": [
    "subject, msg = make_poem_message()\n",
    "\n",
    "with open('listserv.txt','r+') as f:\n",
    "    listserv = f.read()\n",
    "\n",
    "entries = [entry for entry in listserv.split('\\n') if len(entry) > 0]\n",
    "emails  = []\n",
    "for entry in entries:\n",
    "    \n",
    "    name, email = entry.split(' : ')\n",
    "    emails.append(email)\n",
    "    a,b = email.split('@')\n",
    "    \n",
    "    print(f'{name:<18} | {a:>20} @ {b:<20}')\n",
    "    \n",
    "#send_email(', '.join(emails), subject=subject, msg=msg)"
   ]
  },
  {
   "cell_type": "code",
   "execution_count": 226,
   "id": "c3466dde-f7a8-4eb4-800c-06c3c4d08b83",
   "metadata": {},
   "outputs": [
    {
     "name": "stdout",
     "output_type": "stream",
     "text": [
      "      Poems from Tom |       poemsfromtom @ gmail.com         \n",
      "       Thomas Morris |      tomwillmorris @ gmail.com         \n",
      "       Thomas Morris |       thomasmorris @ princeton.edu     \n",
      "   Christian Schmidt | Schmidt.e.christian @ gmail.com         \n"
     ]
    }
   ],
   "source": [
    "entries = [entry for entry in listserv.split('\\n') if len(entry) > 0]\n",
    "emails  = []\n",
    "for entry in entries:\n",
    "    \n",
    "    name, email = entry.split(' : ')\n",
    "    emails.append(email)\n",
    "    a,b = email.split('@')\n",
    "    \n",
    "    print(f'{name:>20} | {a:>18} @ {b:<18}')\n",
    "    \n",
    "#send_email(', '.join(emails), subject=subject, msg=msg)"
   ]
  },
  {
   "cell_type": "code",
   "execution_count": 220,
   "id": "3a889441-4400-4911-a64e-95920aa91341",
   "metadata": {},
   "outputs": [],
   "source": [
    "send_email(', '.join(emails), subject=subject, msg=msg)"
   ]
  },
  {
   "cell_type": "code",
   "execution_count": 47,
   "id": "619f374c-1bd7-4d89-a5cd-65bfcb7edb80",
   "metadata": {},
   "outputs": [],
   "source": [
    "#poem_dict"
   ]
  },
  {
   "cell_type": "code",
   "execution_count": null,
   "id": "e818079c-aa4c-4447-919b-443fb29988ab",
   "metadata": {},
   "outputs": [],
   "source": [
    "def choose_poem():\n",
    "    \n",
    "    \n",
    "    files = for file in glob.glob('poems/*.json'):\n",
    "        print(file)\n",
    "        \n",
    "    return "
   ]
  },
  {
   "cell_type": "code",
   "execution_count": 12,
   "id": "b92dbe21-991a-4ff5-bc15-4afa3ff2ccf3",
   "metadata": {},
   "outputs": [
    {
     "name": "stdout",
     "output_type": "stream",
     "text": [
      "poems/blake.json\n",
      "poems/dylan.json\n",
      "poems/eliot.json\n",
      "poems/pushkin.json\n",
      "poems/hopkins.json\n"
     ]
    }
   ],
   "source": []
  },
  {
   "cell_type": "code",
   "execution_count": 11,
   "id": "b423a059-c9d4-40fb-ab1d-7c0cc7f7d112",
   "metadata": {},
   "outputs": [
    {
     "ename": "NameError",
     "evalue": "name 'file' is not defined",
     "output_type": "error",
     "traceback": [
      "\u001b[0;31m---------------------------------------------------------------------------\u001b[0m",
      "\u001b[0;31mNameError\u001b[0m                                 Traceback (most recent call last)",
      "\u001b[0;32m<ipython-input-11-046c168df224>\u001b[0m in \u001b[0;36m<module>\u001b[0;34m\u001b[0m\n\u001b[0;32m----> 1\u001b[0;31m \u001b[0mfile\u001b[0m\u001b[0;34m\u001b[0m\u001b[0;34m\u001b[0m\u001b[0m\n\u001b[0m",
      "\u001b[0;31mNameError\u001b[0m: name 'file' is not defined"
     ]
    }
   ],
   "source": [
    "file"
   ]
  },
  {
   "cell_type": "code",
   "execution_count": null,
   "id": "9589ff18-c597-4b30-bc8a-fcd118eac2c0",
   "metadata": {},
   "outputs": [],
   "source": []
  }
 ],
 "metadata": {
  "kernelspec": {
   "display_name": "Python 3",
   "language": "python",
   "name": "python3"
  },
  "language_info": {
   "codemirror_mode": {
    "name": "ipython",
    "version": 3
   },
   "file_extension": ".py",
   "mimetype": "text/x-python",
   "name": "python",
   "nbconvert_exporter": "python",
   "pygments_lexer": "ipython3",
   "version": "3.9.1"
  }
 },
 "nbformat": 4,
 "nbformat_minor": 5
}
